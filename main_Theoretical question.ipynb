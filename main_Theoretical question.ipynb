{
  "nbformat": 4,
  "nbformat_minor": 0,
  "metadata": {
    "colab": {
      "provenance": [],
      "include_colab_link": true
    },
    "kernelspec": {
      "name": "python3",
      "display_name": "Python 3"
    },
    "language_info": {
      "name": "python"
    }
  },
  "cells": [
    {
      "cell_type": "markdown",
      "metadata": {
        "id": "view-in-github",
        "colab_type": "text"
      },
      "source": [
        "<a href=\"https://colab.research.google.com/github/albachiarabellaroba/HW3---Group-16/blob/main/main_Theoretical%20question.ipynb\" target=\"_parent\"><img src=\"https://colab.research.google.com/assets/colab-badge.svg\" alt=\"Open In Colab\"/></a>"
      ]
    },
    {
      "cell_type": "markdown",
      "source": [
        "#**Homework 3 - Places of the world**"
      ],
      "metadata": {
        "id": "RYt2rNxiJCnM"
      }
    },
    {
      "cell_type": "code",
      "source": [
        "from bs4 import BeautifulSoup as bs\n",
        "from sklearn.feature_extraction.text import TfidfVectorizer\n",
        "from numpy.linalg import norm \n",
        "from datetime import datetime\n",
        "from functools import reduce\n",
        "from tqdm import tqdm\n",
        "import random as rdm\n",
        "import pandas as pd\n",
        "import numpy as np\n",
        "import bs4\n",
        "import requests\n",
        "import os\n",
        "import os.path\n",
        "import lxml\n",
        "import re\n",
        "import codecs\n",
        "import csv\n",
        "import time\n",
        "import pickle\n",
        "import nltk"
      ],
      "metadata": {
        "id": "Jl1MRtWrJN8M"
      },
      "execution_count": 1,
      "outputs": []
    },
    {
      "cell_type": "code",
      "source": [
        "from google.colab import drive\n",
        "drive.mount('/content/drive/') "
      ],
      "metadata": {
        "id": "ecIen976hOA6",
        "outputId": "343b3ea5-bd46-49c4-c8a6-0c503ae47231",
        "colab": {
          "base_uri": "https://localhost:8080/"
        }
      },
      "execution_count": 2,
      "outputs": [
        {
          "output_type": "stream",
          "name": "stdout",
          "text": [
            "Mounted at /content/drive/\n"
          ]
        }
      ]
    },
    {
      "cell_type": "markdown",
      "source": [
        "## 1. Data collection"
      ],
      "metadata": {
        "id": "OlhC_Da0JO-1"
      }
    },
    {
      "cell_type": "markdown",
      "source": [
        "### 1.1. Get the list of places"
      ],
      "metadata": {
        "id": "DKEKM1gSJSez"
      }
    },
    {
      "cell_type": "code",
      "source": [
        "linklist = open('/content/drive/MyDrive/ADM_HW3/linklist.txt', 'w')\n",
        "\n",
        "for i in tqdm(range(1, 401)):\n",
        "    link = 'https://www.atlasobscura.com/places?page='+str(i)+'&sort=likes_count'\n",
        "    cont = requests.get(link)\n",
        "    soup = BeautifulSoup(cont.content, features='lxml')\n",
        "    for a in soup.find_all('a', class_='col-md-3 nav-card'):\n",
        "        linklist.write(a.get('href')+'\\n')\n",
        "        \n",
        "linklist.close()"
      ],
      "metadata": {
        "id": "3SQcCegJJX6c",
        "outputId": "591fe37e-c7be-4401-e1cf-71ac29c3fe08",
        "colab": {
          "base_uri": "https://localhost:8080/"
        }
      },
      "execution_count": null,
      "outputs": [
        {
          "output_type": "stream",
          "name": "stderr",
          "text": [
            "100%|██████████| 400/400 [04:17<00:00,  1.55it/s]\n"
          ]
        }
      ]
    },
    {
      "cell_type": "markdown",
      "source": [
        "### 1.2. Crawl places"
      ],
      "metadata": {
        "id": "NcdSFQLRJaGS"
      }
    },
    {
      "cell_type": "code",
      "source": [
        "for i in tqdm(range(1, 401)):\n",
        "    cart = '/content/drive/MyDrive/ADM_HW3/Html_page/page_{}'.format(i)\n",
        "    os.makedirs(cart)\n",
        "    \n",
        "    f = open('/content/drive/MyDrive/ADM_HW3/linklist.txt', 'r', encoding='utf8')\n",
        "    l = f.readlines()[(i-1)*18:(i)*18]\n",
        "    l = [k.rstrip() for k in l]\n",
        "    f.close\n",
        "\n",
        "    m = 1+18*(i-1)\n",
        "\n",
        "    for link in l:\n",
        "      link = 'https://www.atlasobscura.com' + link\n",
        "      html = requests.get(link)\n",
        "\n",
        "      name = '{}/{}.html'.format(cart, m)\n",
        "      text = open(name, 'w', encoding='utf8')\n",
        "      text.write(html.text)\n",
        "      text.close\n",
        "\n",
        "      m=m+1\n"
      ],
      "metadata": {
        "id": "Yj8pzW-eJeT-",
        "outputId": "a074698c-fb44-47c7-8dd1-96ae42a829da",
        "colab": {
          "base_uri": "https://localhost:8080/"
        }
      },
      "execution_count": null,
      "outputs": [
        {
          "output_type": "stream",
          "name": "stderr",
          "text": [
            "100%|██████████| 400/400 [29:55<00:00,  4.49s/it]\n"
          ]
        }
      ]
    },
    {
      "cell_type": "markdown",
      "source": [
        "### 1.3 Parse downloaded pages"
      ],
      "metadata": {
        "id": "QLS9gAGtJgQ2"
      }
    },
    {
      "cell_type": "code",
      "source": [],
      "metadata": {
        "id": "UkZqFGAJJli4"
      },
      "execution_count": null,
      "outputs": []
    },
    {
      "cell_type": "markdown",
      "source": [
        "## 2. Search Engine"
      ],
      "metadata": {
        "id": "Yv8T-SFkJltX"
      }
    },
    {
      "cell_type": "code",
      "source": [],
      "metadata": {
        "id": "0wjOsQ-gJoU6"
      },
      "execution_count": null,
      "outputs": []
    },
    {
      "cell_type": "markdown",
      "source": [
        "### 2.1.1 Create your index!"
      ],
      "metadata": {
        "id": "2xsBARBUJoeC"
      }
    },
    {
      "cell_type": "code",
      "source": [],
      "metadata": {
        "id": "3ntzFHr7JrRJ"
      },
      "execution_count": null,
      "outputs": []
    },
    {
      "cell_type": "markdown",
      "source": [
        "### 2.1.2 Execute the query"
      ],
      "metadata": {
        "id": "PnzEemrYJrbD"
      }
    },
    {
      "cell_type": "code",
      "source": [],
      "metadata": {
        "id": "3Dj8H7MJJuYF"
      },
      "execution_count": null,
      "outputs": []
    },
    {
      "cell_type": "markdown",
      "source": [
        "### 2.2 Conjunctive query & Ranking score"
      ],
      "metadata": {
        "id": "4sUYm1BvJuf4"
      }
    },
    {
      "cell_type": "code",
      "source": [],
      "metadata": {
        "id": "Skf6iJ7hJw2t"
      },
      "execution_count": null,
      "outputs": []
    },
    {
      "cell_type": "markdown",
      "source": [
        "### 2.2.1 Inverted index"
      ],
      "metadata": {
        "id": "JnJqLICZJxFB"
      }
    },
    {
      "cell_type": "code",
      "source": [],
      "metadata": {
        "id": "pSNTyrLvJzvT"
      },
      "execution_count": null,
      "outputs": []
    },
    {
      "cell_type": "markdown",
      "source": [
        "### 2.2.2 Execute the query"
      ],
      "metadata": {
        "id": "sRNXsyLNJz4K"
      }
    },
    {
      "cell_type": "code",
      "source": [],
      "metadata": {
        "id": "yOOV24BAJ2ex"
      },
      "execution_count": null,
      "outputs": []
    },
    {
      "cell_type": "markdown",
      "source": [
        "## 3. Define a new score!"
      ],
      "metadata": {
        "id": "NtdfZTIKJ2qf"
      }
    },
    {
      "cell_type": "code",
      "source": [],
      "metadata": {
        "id": "zGKEAK8ZJ7Dh"
      },
      "execution_count": null,
      "outputs": []
    },
    {
      "cell_type": "markdown",
      "source": [
        "## 4. Visualizing the most relevant places"
      ],
      "metadata": {
        "id": "yNNOCxL3J7K2"
      }
    },
    {
      "cell_type": "code",
      "source": [],
      "metadata": {
        "id": "e9M2ekJCJ9mt"
      },
      "execution_count": null,
      "outputs": []
    },
    {
      "cell_type": "markdown",
      "source": [
        "## 5. BONUS: More complex search engine"
      ],
      "metadata": {
        "id": "KK8ODKfZJ9v0"
      }
    },
    {
      "cell_type": "code",
      "source": [],
      "metadata": {
        "id": "2ZpfE-0QKAMG"
      },
      "execution_count": null,
      "outputs": []
    },
    {
      "cell_type": "markdown",
      "source": [
        "## 6. Command line question"
      ],
      "metadata": {
        "id": "HPuc4PmUKAWu"
      }
    },
    {
      "cell_type": "code",
      "source": [],
      "metadata": {
        "id": "kMtRVgc7KEwN"
      },
      "execution_count": null,
      "outputs": []
    },
    {
      "cell_type": "markdown",
      "source": [
        "## 7. Theoretical question"
      ],
      "metadata": {
        "id": "ks1Z654JKE--"
      }
    },
    {
      "cell_type": "markdown",
      "source": [
        "1.Try solving the problem mentioned above using three different sorting algorithms (do not use any MapReduce algorithm). (Note: Built-in Python functions (like .mean, .sort, etc.) are not allowed to be used. You must implement the algorithms from scratch)."
      ],
      "metadata": {
        "id": "jy1q-EUWAgxB"
      }
    },
    {
      "cell_type": "code",
      "source": [
        "with open('ApplicantsInfo.txt', 'x') as f:\n",
        "    url = f'https://adm2022.s3.amazonaws.com/ApplicantsInfo.txt'\n",
        "    result = requests.get(url)\n",
        "    soup = bs(result.text)\n",
        "    s = soup.find_all('body')\n",
        "    print(s)\n",
        "    f.write(str(s))"
      ],
      "metadata": {
        "id": "8vRwj8kPKHWg",
        "outputId": "90049295-dbe9-4a6c-df96-356acd7a0630",
        "colab": {
          "base_uri": "https://localhost:8080/"
        }
      },
      "execution_count": 3,
      "outputs": [
        {
          "output_type": "stream",
          "name": "stderr",
          "text": [
            "IOPub data rate exceeded.\n",
            "The notebook server will temporarily stop sending output\n",
            "to the client in order to avoid crashing it.\n",
            "To change this limit, set the config variable\n",
            "`--NotebookApp.iopub_data_rate_limit`.\n",
            "\n",
            "Current values:\n",
            "NotebookApp.iopub_data_rate_limit=1000000.0 (bytes/sec)\n",
            "NotebookApp.rate_limit_window=3.0 (secs)\n",
            "\n"
          ]
        }
      ]
    },
    {
      "cell_type": "code",
      "source": [
        "Application = pd.read_csv('ApplicantsInfo.txt', header=None)"
      ],
      "metadata": {
        "id": "sTlqVRwdBW_v"
      },
      "execution_count": 4,
      "outputs": []
    },
    {
      "cell_type": "code",
      "source": [
        "n =Application.iloc[0]\n",
        "Application.drop(0, inplace=True)\n",
        "N= int(n[0][10:15])\n",
        "M= int(n[0][16:20])"
      ],
      "metadata": {
        "id": "DfbHr3UDBbI4"
      },
      "execution_count": 5,
      "outputs": []
    },
    {
      "cell_type": "code",
      "source": [
        "df_average = pd.DataFrame(columns=('names','surnames','averages'))\n",
        "for i in range(N):\n",
        "    name = Application.iloc[i][0].split(' ')[0]\n",
        "    surname = Application.iloc[i][0].split(' ')[1]\n",
        "    all_points = Application.iloc[i][0].split(' ')[2:]\n",
        "    count = 0\n",
        "    for i in all_points:\n",
        "        s = int(i)\n",
        "        count += s\n",
        "    average = round(count/M,2)\n",
        "    df_average.loc[i]=[name, surname, average]\n",
        "  "
      ],
      "metadata": {
        "id": "p0jMSzZdBdgu"
      },
      "execution_count": 8,
      "outputs": []
    },
    {
      "cell_type": "code",
      "source": [
        "lista = []\n",
        "for i in tqdm(range(N)):\n",
        "    name = Application.iloc[i][0].split(' ')[0]\n",
        "    surname = Application.iloc[i][0].split(' ')[1]\n",
        "    all_points = Application.iloc[i][0].split(' ')[2:]\n",
        "    count = 0\n",
        "    for i in all_points:\n",
        "        s = int(i)\n",
        "        count += s\n",
        "    average = round(count/M,2)\n",
        "    lista.append((name, surname, average))"
      ],
      "metadata": {
        "id": "Tn8wJ6aEBggO",
        "outputId": "6e2e1f67-fbea-4fc0-88f6-ed68b5e3d790",
        "colab": {
          "base_uri": "https://localhost:8080/"
        }
      },
      "execution_count": 7,
      "outputs": [
        {
          "output_type": "stream",
          "name": "stderr",
          "text": [
            "100%|██████████| 50000/50000 [00:35<00:00, 1401.21it/s]\n"
          ]
        }
      ]
    },
    {
      "cell_type": "markdown",
      "source": [
        "bubbleSort( )"
      ],
      "metadata": {
        "id": "kt04SKHBBjKb"
      }
    },
    {
      "cell_type": "code",
      "source": [
        "def BubbleSort(lista):\n",
        "    for i in tqdm(range(N)):  #N\n",
        "        for j in range(i):  #i\n",
        "            if lista[j][2] >= lista[j+1][2]:  #1\n",
        "                if lista[j][2] == lista[j+1][2]:  #1\n",
        "                    if lista[j][0] >= lista[j+1][0]:  #1\n",
        "                        if lista[j][0] == lista[j+1][0]:  #1\n",
        "                            if lista[j][1] > lista[j+1][1]: #1 \n",
        "                                lista[j],lista[j+1]=lista[j+1],lista[j]  #1\n",
        "                        else:\n",
        "                            lista[j],lista[j+1]=lista[j+1],lista[j]  #1\n",
        "                else:\n",
        "                    lista[j],lista[j+1]=lista[j+1],lista[j]  #1\n",
        "    return lista"
      ],
      "metadata": {
        "id": "Cq33KSI-Blnm"
      },
      "execution_count": 9,
      "outputs": []
    },
    {
      "cell_type": "code",
      "source": [
        "BubbleSort(lista)"
      ],
      "metadata": {
        "id": "ozaENE07CFgH",
        "outputId": "818f739d-9515-42b2-8bad-f03d310aa38c",
        "colab": {
          "base_uri": "https://localhost:8080/"
        }
      },
      "execution_count": 10,
      "outputs": [
        {
          "output_type": "stream",
          "name": "stderr",
          "text": [
            "100%|██████████| 50000/50000 [16:48<00:00, 49.58it/s]\n"
          ]
        },
        {
          "output_type": "execute_result",
          "data": {
            "text/plain": [
              "[('Bruce', 'Murphy', 23.54),\n",
              " ('Anna', 'Martin', 23.55),\n",
              " ('Kenneth', 'Marquez', 23.56),\n",
              " ('Ruth', 'Watts', 23.56),\n",
              " ('Nathan', 'Berenguer', 23.59),\n",
              " ('Philip', 'Barker', 23.6),\n",
              " ('Lorna', 'Young', 23.61),\n",
              " ('Adam', 'Desilva', 23.62),\n",
              " ('Anthony', 'Rosenthal', 23.62),\n",
              " ('Bernice', 'Williams', 23.62),\n",
              " ('Clara', 'Jackson', 23.62),\n",
              " ('Gayla', 'Ward', 23.62),\n",
              " ('Heather', 'Brown', 23.62),\n",
              " ('Irving', 'Maccarone', 23.62),\n",
              " ('Valeria', 'Lewin', 23.62),\n",
              " ('Eric', 'Buffington', 23.63),\n",
              " ('Eric', 'Mccrudden', 23.63),\n",
              " ('Ernest', 'Mcfadden', 23.63),\n",
              " ('Gerald', 'Worthey', 23.63),\n",
              " ('Jimmy', 'Strickland', 23.63),\n",
              " ('Jordon', 'Mclarney', 23.63),\n",
              " ('Joyce', 'Chang', 23.63),\n",
              " ('Lamar', 'Cuevas', 23.63),\n",
              " ('Lori', 'Slaughter', 23.63),\n",
              " ('Richard', 'Peters', 23.63),\n",
              " ('Stacey', 'Mays', 23.63),\n",
              " ('Willie', 'Goyette', 23.63),\n",
              " ('Charles', 'Dunbar', 23.64),\n",
              " ('Christine', 'Ward', 23.64),\n",
              " ('Daniel', 'Brown', 23.64),\n",
              " ('Josephine', 'Oden', 23.64),\n",
              " ('Linnea', 'Mathias', 23.64),\n",
              " ('Agnes', 'Johnson', 23.65),\n",
              " ('Alice', 'Conover', 23.65),\n",
              " ('Allison', 'Velazquez', 23.65),\n",
              " ('Carmen', 'Pavlick', 23.65),\n",
              " ('Charles', 'Reynolds', 23.65),\n",
              " ('Curtis', 'Nicholson', 23.65),\n",
              " ('David', 'Hagen', 23.65),\n",
              " ('Jean', 'Smith', 23.65),\n",
              " ('Laura', 'Zellinger', 23.65),\n",
              " ('Lorraine', 'Bastarache', 23.65),\n",
              " ('Shirley', 'Fernandez', 23.65),\n",
              " ('Ben', 'Carreon', 23.66),\n",
              " ('Carl', 'Harmon', 23.66),\n",
              " ('Charles', 'Sorum', 23.66),\n",
              " ('David', 'Parker', 23.66),\n",
              " ('Deborah', 'Koehn', 23.66),\n",
              " ('John', 'Fisher', 23.66),\n",
              " ('John', 'Morse', 23.66),\n",
              " ('Lee', 'Manners', 23.66),\n",
              " ('Mai', 'Masuda', 23.66),\n",
              " ('Roberto', 'Tierney', 23.66),\n",
              " ('Salina', 'Meraz', 23.66),\n",
              " ('Andrew', 'Boom', 23.67),\n",
              " ('Bryan', 'Chandler', 23.67),\n",
              " ('David', 'Gunn', 23.67),\n",
              " ('Derek', 'Lang', 23.67),\n",
              " ('Heather', 'Powell', 23.67),\n",
              " ('James', 'White', 23.67),\n",
              " ('Kimberly', 'White', 23.67),\n",
              " ('Martin', 'Stillson', 23.67),\n",
              " ('Patricia', 'Sanchez', 23.67),\n",
              " ('Rosemary', 'Johnson', 23.67),\n",
              " ('Susan', 'Lawson', 23.67),\n",
              " ('Tien', 'Boyle', 23.67),\n",
              " ('Walter', 'Olivares', 23.67),\n",
              " ('Christoper', 'Lee', 23.68),\n",
              " ('Earl', 'Granger', 23.68),\n",
              " ('Frederick', 'Tracy', 23.68),\n",
              " ('Jesse', 'Aguilar', 23.68),\n",
              " ('John', 'Leppert', 23.68),\n",
              " ('Juan', 'York', 23.68),\n",
              " ('Kathryn', 'Garcia', 23.68),\n",
              " ('Kathy', 'Smith', 23.68),\n",
              " ('Kristopher', 'Depaul', 23.68),\n",
              " ('Larry', 'Roberts', 23.68),\n",
              " ('Lee', 'Mortimer', 23.68),\n",
              " ('Lorinda', 'Curry', 23.68),\n",
              " ('Michele', 'Bizzell', 23.68),\n",
              " ('Patricia', 'Tanner', 23.68),\n",
              " ('Ricardo', 'Schmidt', 23.68),\n",
              " ('Rose', 'Anderson', 23.68),\n",
              " ('Sheri', 'Grimes', 23.68),\n",
              " ('Willis', 'Terry', 23.68),\n",
              " ('Andrew', 'Johnson', 23.69),\n",
              " ('Andrew', 'Levesque', 23.69),\n",
              " ('Bradley', 'Owens', 23.69),\n",
              " ('Debra', 'Cassiano', 23.69),\n",
              " ('Gilbert', 'Boldt', 23.69),\n",
              " ('James', 'Jackson', 23.69),\n",
              " ('James', 'Morgan', 23.69),\n",
              " ('James', 'Welch', 23.69),\n",
              " ('Jared', 'Garcia', 23.69),\n",
              " ('Jason', 'Zuehlke', 23.69),\n",
              " ('Jonathan', 'Feather', 23.69),\n",
              " ('Kathryn', 'Brooks', 23.69),\n",
              " ('Lloyd', 'Cutshall', 23.69),\n",
              " ('Manuel', 'Hunter', 23.69),\n",
              " ('Marie', 'Anderson', 23.69),\n",
              " ('Sandy', 'Wade', 23.69),\n",
              " ('Sara', 'Keys', 23.69),\n",
              " ('Susan', 'Shade', 23.69),\n",
              " ('Terrance', 'Aponte', 23.69),\n",
              " ('Timothy', 'Jones', 23.69),\n",
              " ('Willie', 'Alejandre', 23.69),\n",
              " ('Amelia', 'Biggs', 23.7),\n",
              " ('Anthony', 'Ryan', 23.7),\n",
              " ('Bonnie', 'Gray', 23.7),\n",
              " ('Candida', 'Lambert', 23.7),\n",
              " ('Charles', 'Blanchette', 23.7),\n",
              " ('Charles', 'Hinton', 23.7),\n",
              " ('Charles', 'Isaacs', 23.7),\n",
              " ('Charles', 'Sellers', 23.7),\n",
              " ('Delores', 'Murphy', 23.7),\n",
              " ('Dennis', 'Killinger', 23.7),\n",
              " ('Dorothy', 'Halloran', 23.7),\n",
              " ('Edgardo', 'Smith', 23.7),\n",
              " ('Glenda', 'Caballero', 23.7),\n",
              " ('Glenn', 'Martin', 23.7),\n",
              " ('Horacio', 'Wright', 23.7),\n",
              " ('Jeffrey', 'Watson', 23.7),\n",
              " ('John', 'Allen', 23.7),\n",
              " ('Kelly', 'Hatch', 23.7),\n",
              " ('Kristi', 'Posey', 23.7),\n",
              " ('Lillian', 'Carbo', 23.7),\n",
              " ('Lonnie', 'Ratliff', 23.7),\n",
              " ('Lucas', 'Ladner', 23.7),\n",
              " ('Marsha', 'Magnall', 23.7),\n",
              " ('Minerva', 'Sherman', 23.7),\n",
              " ('Natalie', 'Gamboa', 23.7),\n",
              " ('Richard', 'Tyson', 23.7),\n",
              " ('Robert', 'Fenn', 23.7),\n",
              " ('Ronald', 'Henry', 23.7),\n",
              " ('Tonya', 'Seligman', 23.7),\n",
              " ('Troy', 'Fahey', 23.7),\n",
              " ('William', 'Young', 23.7),\n",
              " ('Yvonne', 'Hill', 23.7),\n",
              " ('Anthony', 'Vallien', 23.71),\n",
              " ('Catherine', 'Gauthier', 23.71),\n",
              " ('Christopher', 'Buckman', 23.71),\n",
              " ('Cira', 'Evans', 23.71),\n",
              " ('Clinton', 'Okwuona', 23.71),\n",
              " ('Elizabeth', 'Lusby', 23.71),\n",
              " ('Fredrick', 'Bratton', 23.71),\n",
              " ('Harry', 'Harpole', 23.71),\n",
              " ('Hortensia', 'Duncan', 23.71),\n",
              " ('James', 'Barnhart', 23.71),\n",
              " ('Joann', 'Northcraft', 23.71),\n",
              " ('John', 'Decook', 23.71),\n",
              " ('John', 'Soders', 23.71),\n",
              " ('Joseph', 'Paulsen', 23.71),\n",
              " ('Judy', 'Fuller', 23.71),\n",
              " ('Karen', 'Chase', 23.71),\n",
              " ('Latanya', 'Fraley', 23.71),\n",
              " ('Lester', 'Tipton', 23.71),\n",
              " ('Maggie', 'Conteh', 23.71),\n",
              " ('Maria', 'Stallsworth', 23.71),\n",
              " ('Michael', 'Lewis', 23.71),\n",
              " ('Michael', 'Martinez', 23.71),\n",
              " ('Michael', 'Roth', 23.71),\n",
              " ('Patricia', 'Smith', 23.71),\n",
              " ('Renee', 'Hunter', 23.71),\n",
              " ('Ronald', 'Belcher', 23.71),\n",
              " ('Scott', 'Micale', 23.71),\n",
              " ('Stephanie', 'Bush', 23.71),\n",
              " ('Tim', 'Cardenas', 23.71),\n",
              " ('Tina', 'Brown', 23.71),\n",
              " ('Tony', 'Izaguirre', 23.71),\n",
              " ('William', 'Guest', 23.71),\n",
              " ('Winnifred', 'Sellers', 23.71),\n",
              " ('Amy', 'Stanley', 23.72),\n",
              " ('Anita', 'Haden', 23.72),\n",
              " ('Ann', 'Mcroy', 23.72),\n",
              " ('Caleb', 'Jessup', 23.72),\n",
              " ('Candace', 'Palmer', 23.72),\n",
              " ('Carl', 'Barbosa', 23.72),\n",
              " ('Carolyn', 'Silva', 23.72),\n",
              " ('Christopher', 'Briggs', 23.72),\n",
              " ('Daina', 'Kay', 23.72),\n",
              " ('David', 'Stewart', 23.72),\n",
              " ('Donald', 'Rogers', 23.72),\n",
              " ('Donna', 'Mcdaniel', 23.72),\n",
              " ('Fred', 'Beighley', 23.72),\n",
              " ('Frederick', 'Oneil', 23.72),\n",
              " ('Gerald', 'Wilde', 23.72),\n",
              " ('Gwendolyn', 'Williams', 23.72),\n",
              " ('Helen', 'Moore', 23.72),\n",
              " ('James', 'Dannis', 23.72),\n",
              " ('James', 'Miller', 23.72),\n",
              " ('Jennifer', 'Cardenas', 23.72),\n",
              " ('Jo', 'Mcirvin', 23.72),\n",
              " ('Joanna', 'Weyers', 23.72),\n",
              " ('Josephine', 'Gleason', 23.72),\n",
              " ('Joyce', 'Buddenhagen', 23.72),\n",
              " ('Juan', 'Ledwell', 23.72),\n",
              " ('Judith', 'Key', 23.72),\n",
              " ('Kathleen', 'Fuller', 23.72),\n",
              " ('Kathleen', 'Westley', 23.72),\n",
              " ('Kenneth', 'Gonzales', 23.72),\n",
              " ('Kenneth', 'Griffen', 23.72),\n",
              " ('Krista', 'Williams', 23.72),\n",
              " ('Kristen', 'Linarez', 23.72),\n",
              " ('Larry', 'Sokol', 23.72),\n",
              " ('Louisa', 'Rider', 23.72),\n",
              " ('Margaret', 'Davidson', 23.72),\n",
              " ('Maria', 'Campbell', 23.72),\n",
              " ('Mario', 'Baccam', 23.72),\n",
              " ('Mary', 'Moore', 23.72),\n",
              " ('Mary', 'Weeks', 23.72),\n",
              " ('Matt', 'Ramirez', 23.72),\n",
              " ('Michelle', 'Close', 23.72),\n",
              " ('Nathan', 'Dimmick', 23.72),\n",
              " ('Nathan', 'Rivera', 23.72),\n",
              " ('Peggy', 'Acker', 23.72),\n",
              " ('Ralph', 'Newhouse', 23.72),\n",
              " ('Raquel', 'Rickel', 23.72),\n",
              " ('Richard', 'Burgos', 23.72),\n",
              " ('Richard', 'Cardone', 23.72),\n",
              " ('Robert', 'Harbin', 23.72),\n",
              " ('Robyn', 'Joyner', 23.72),\n",
              " ('Rosa', 'Strawser', 23.72),\n",
              " ('Steven', 'Maier', 23.72),\n",
              " ('William', 'Lawrence', 23.72),\n",
              " ('Amie', 'Corzo', 23.73),\n",
              " ('Anette', 'Hausmann', 23.73),\n",
              " ('Ashley', 'Bates', 23.66),\n",
              " ('Anita', 'Leary', 23.73),\n",
              " ('Armida', 'Mohler', 23.73),\n",
              " ('Augustine', 'Gomez', 23.73),\n",
              " ('Beatrice', 'Conn', 23.73),\n",
              " ('Bonnie', 'Rice', 23.73),\n",
              " ('Bradley', 'Dancy', 23.73),\n",
              " ('Brian', 'Wegener', 23.73),\n",
              " ('Brittany', 'Garrett', 23.73),\n",
              " ('Carol', 'Preston', 23.73),\n",
              " ('Charles', 'Lerma', 23.73),\n",
              " ('Charles', 'Meadows', 23.73),\n",
              " ('Cory', 'Herd', 23.73),\n",
              " ('Courtney', 'Seymore', 23.73),\n",
              " ('Craig', 'Williams', 23.73),\n",
              " ('Darla', 'Druetta', 23.73),\n",
              " ('Darlene', 'Carter', 23.73),\n",
              " ('Donna', 'Jenkins', 23.73),\n",
              " ('Dorothy', 'Bradford', 23.73),\n",
              " ('Douglas', 'Eichenlaub', 23.73),\n",
              " ('Edward', 'Gustovich', 23.73),\n",
              " ('Elizabeth', 'Bennett', 23.73),\n",
              " ('Ella', 'Wagaman', 23.73),\n",
              " ('Emilie', 'Wexler', 23.73),\n",
              " ('Ethel', 'Hammons', 23.73),\n",
              " ('Frances', 'Ostby', 23.73),\n",
              " ('Frank', 'Smith', 23.73),\n",
              " ('Freda', 'Wolfe', 23.73),\n",
              " ('George', 'Mcclish', 23.73),\n",
              " ('Grace', 'Mata', 23.73),\n",
              " ('Greg', 'Hodge', 23.73),\n",
              " ('Greg', 'Hoyt', 23.73),\n",
              " ('Gwendolyn', 'Burdick', 23.73),\n",
              " ('Hazel', 'Day', 23.73),\n",
              " ('Homer', 'Raper', 23.73),\n",
              " ('James', 'Forest', 23.73),\n",
              " ('Jason', 'Carreon', 23.73),\n",
              " ('Jeffrey', 'Williams', 23.73),\n",
              " ('Jennifer', 'Chandler', 23.73),\n",
              " ('Joe', 'Bonnell', 23.73),\n",
              " ('John', 'Bank', 23.73),\n",
              " ('John', 'Shapiro', 23.73),\n",
              " ('John', 'Walsh', 23.73),\n",
              " ('Joyce', 'Kronenberg', 23.73),\n",
              " ('Justin', 'Otsuka', 23.73),\n",
              " ('Kelly', 'Cunningham', 23.73),\n",
              " ('Kenneth', 'Clack', 23.73),\n",
              " ('Liz', 'Summy', 23.73),\n",
              " ('Louise', 'Davis', 23.73),\n",
              " ('Marc', 'Pumphrey', 23.73),\n",
              " ('Margaret', 'Boyd', 23.73),\n",
              " ('Martha', 'Stone', 23.73),\n",
              " ('Mary', 'Worsham', 23.73),\n",
              " ('Maxine', 'Draper', 23.73),\n",
              " ('Melanie', 'Bila', 23.73),\n",
              " ('Melissa', 'Mitchell', 23.73),\n",
              " ('Patricia', 'Crowell', 23.73),\n",
              " ('Randall', 'Bennett', 23.73),\n",
              " ('Rashad', 'Fernandez', 23.73),\n",
              " ('Ray', 'Giliberto', 23.73),\n",
              " ('Reba', 'Hemmer', 23.73),\n",
              " ('Richard', 'Perkins', 23.73),\n",
              " ('Roberto', 'Oropesa', 23.73),\n",
              " ('Rose', 'Colston', 23.73),\n",
              " ('Roy', 'Baker', 23.73),\n",
              " ('Sharon', 'Barton', 23.73),\n",
              " ('Stacy', 'Jackson', 23.73),\n",
              " ('Stephanie', 'Alvidrez', 23.73),\n",
              " ('Steven', 'Wright', 23.73),\n",
              " ('Tony', 'Bays', 23.73),\n",
              " ('Tonya', 'Almond', 23.73),\n",
              " ('Vera', 'Scott', 23.73),\n",
              " ('Warren', 'Hamrick', 23.73),\n",
              " ('Albert', 'Donaldson', 23.74),\n",
              " ('Alexander', 'Spring', 23.74),\n",
              " ('Alfredo', 'Dietrick', 23.74),\n",
              " ('Alice', 'Wilson', 23.74),\n",
              " ('Alicia', 'Carroll', 23.74),\n",
              " ('Alicia', 'Lane', 23.74),\n",
              " ('Allen', 'Richardson', 23.74),\n",
              " ('Andrea', 'Jackson', 23.74),\n",
              " ('Aubrey', 'Lewis', 23.74),\n",
              " ('Barbara', 'Boynton', 23.74),\n",
              " ('Beverly', 'Ward', 23.74),\n",
              " ('Brittani', 'Huie', 23.74),\n",
              " ('Catherine', 'Perry', 23.74),\n",
              " ('Christopher', 'Allee', 23.74),\n",
              " ('Colin', 'Lopez', 23.74),\n",
              " ('Crystal', 'Field', 23.74),\n",
              " ('Curt', 'Lowers', 23.74),\n",
              " ('David', 'Brady', 23.74),\n",
              " ('Dorothy', 'Wood', 23.74),\n",
              " ('Earnest', 'Copeland', 23.74),\n",
              " ('Elizabeth', 'Maxwell', 23.74),\n",
              " ('Erik', 'Flores', 23.74),\n",
              " ('Eula', 'Thomas', 23.74),\n",
              " ('Evelin', 'Lenhart', 23.74),\n",
              " ('Floyd', 'Googe', 23.74),\n",
              " ('Gertrude', 'Parker', 23.74),\n",
              " ('Jacquelyn', 'Mead', 23.74),\n",
              " ('James', 'Wilson', 23.74),\n",
              " ('Jeffrey', 'Goodman', 23.74),\n",
              " ('Jeremy', 'Ford', 23.74),\n",
              " ('Jillian', 'Lopez', 23.74),\n",
              " ('John', 'Porterfield', 23.74),\n",
              " ('Jorge', 'Miller', 23.74),\n",
              " ('Jose', 'Crews', 23.74),\n",
              " ('Jose', 'Duncan', 23.74),\n",
              " ('Jose', 'Tavares', 23.74),\n",
              " ('Joyce', 'Kim', 23.74),\n",
              " ('Juan', 'Warnock', 23.74),\n",
              " ('Kenneth', 'Diamond', 23.74),\n",
              " ('Kevin', 'Gavin', 23.74),\n",
              " ('Laura', 'Brown', 23.74),\n",
              " ('Leah', 'Fabian', 23.74),\n",
              " ('Lee', 'Weatherly', 23.74),\n",
              " ('Manuel', 'Averill', 23.74),\n",
              " ('Mary', 'Pasculli', 23.74),\n",
              " ('Michael', 'May', 23.74),\n",
              " ('Mike', 'Preuss', 23.74),\n",
              " ('Mildred', 'Rincon', 23.74),\n",
              " ('Mireille', 'Lade', 23.74),\n",
              " ('Nancy', 'Devers', 23.74),\n",
              " ('Pamela', 'Killen', 23.74),\n",
              " ('Peggy', 'Rodriguez', 23.74),\n",
              " ('Richard', 'Brinks', 23.74),\n",
              " ('Richard', 'Brown', 23.74),\n",
              " ('Richard', 'Gomez', 23.74),\n",
              " ('Richard', 'Jackson', 23.74),\n",
              " ('Robert', 'Bruce', 23.74),\n",
              " ('Robert', 'Saetern', 23.74),\n",
              " ('Russell', 'Lane', 23.74),\n",
              " ('Ryan', 'Johnson', 23.74),\n",
              " ('Samuel', 'Lovelock', 23.74),\n",
              " ('Samuel', 'Stone', 23.74),\n",
              " ('Shakira', 'Coates', 23.74),\n",
              " ('Shannon', 'Mcmullen', 23.74),\n",
              " ('Sharda', 'Camacho', 23.74),\n",
              " ('Sharon', 'Henderson', 23.74),\n",
              " ('Sherry', 'Peterson', 23.74),\n",
              " ('William', 'Lawerence', 23.73),\n",
              " ('Sophie', 'Kunka', 23.74),\n",
              " ('Terry', 'Vermillion', 23.74),\n",
              " ('Tracy', 'Sykes', 23.74),\n",
              " ('Albert', 'Hansen', 23.75),\n",
              " ('Albert', 'Obrien', 23.75),\n",
              " ('Amanda', 'Benway', 23.75),\n",
              " ('Andrea', 'Loving', 23.75),\n",
              " ('Ann', 'Hale', 23.75),\n",
              " ('Anna', 'Peeler', 23.75),\n",
              " ('Anthony', 'Rivera', 23.75),\n",
              " ('Ashley', 'Savage', 23.75),\n",
              " ('Ashli', 'Jones', 23.75),\n",
              " ('Barbara', 'York', 23.75),\n",
              " ('Brenda', 'Samons', 23.65),\n",
              " ('Booker', 'Colucci', 23.75),\n",
              " ('Brenda', 'Kimes', 23.75),\n",
              " ('Buffy', 'Shelton', 23.75),\n",
              " ('Catherine', 'Adams', 23.75),\n",
              " ('Chrystal', 'Jahnke', 23.75),\n",
              " ('Colleen', 'Sammer', 23.75),\n",
              " ('Cynthia', 'Campbell', 23.75),\n",
              " ('Deborah', 'Herriott', 23.75),\n",
              " ('Debra', 'May', 23.75),\n",
              " ('Dewey', 'Shrader', 23.75),\n",
              " ('Donald', 'Moseley', 23.75),\n",
              " ('Edna', 'Bobo', 23.75),\n",
              " ('Fairy', 'Craven', 23.75),\n",
              " ('Ann', 'Wright', 23.62),\n",
              " ('Franklin', 'Houston', 23.75),\n",
              " ('Gary', 'Richardson', 23.75),\n",
              " ('Glenna', 'Shelton', 23.75),\n",
              " ('Derek', 'Mcbride', 23.75),\n",
              " ('Gordon', 'Harrison', 23.75),\n",
              " ('Greg', 'Rodarte', 23.75),\n",
              " ('Harold', 'Strickland', 23.75),\n",
              " ('Henrietta', 'Robinson', 23.75),\n",
              " ('Howard', 'Stefani', 23.75),\n",
              " ('Inez', 'Sims', 23.75),\n",
              " ('James', 'Contreras', 23.75),\n",
              " ('James', 'Froman', 23.75),\n",
              " ('James', 'Wick', 23.75),\n",
              " ('Janet', 'Bautista', 23.75),\n",
              " ('Jenelle', 'Dick', 23.75),\n",
              " ('Jessie', 'Eubanks', 23.75),\n",
              " ('Joanne', 'Julian', 23.75),\n",
              " ('Joe', 'Rose', 23.75),\n",
              " ('John', 'Elliott', 23.75),\n",
              " ('John', 'Jackson', 23.75),\n",
              " ('John', 'Jones', 23.75),\n",
              " ('Josephine', 'Massenburg', 23.75),\n",
              " ('Katherine', 'Bennett', 23.75),\n",
              " ('Katherine', 'Estrada', 23.75),\n",
              " ('Kathy', 'Riley', 23.75),\n",
              " ('Kevin', 'Jarvis', 23.75),\n",
              " ('Leah', 'Rau', 23.75),\n",
              " ('Levi', 'Wills', 23.75),\n",
              " ('Lillian', 'Crawford', 23.75),\n",
              " ('Linda', 'Coleman', 23.75),\n",
              " ('Lori', 'Archey', 23.75),\n",
              " ('Margaret', 'Williamson', 23.75),\n",
              " ('Marian', 'Thomas', 23.75),\n",
              " ('Marion', 'Bretthauer', 23.75),\n",
              " ('Mark', 'Jarvis', 23.75),\n",
              " ('Matthew', 'Cooper', 23.75),\n",
              " ('Melissa', 'Gorman', 23.75),\n",
              " ('Michael', 'Button', 23.75),\n",
              " ('Michael', 'Caro', 23.75),\n",
              " ('Michael', 'Redden', 23.75),\n",
              " ('Michael', 'Sanders', 23.75),\n",
              " ('Nichole', 'Carter', 23.75),\n",
              " ('Norman', 'Hanner', 23.75),\n",
              " ('Patricia', 'Ashe', 23.75),\n",
              " ('Philip', 'Sams', 23.75),\n",
              " ('Randy', 'Adams', 23.75),\n",
              " ('Ranee', 'Baldwin', 23.75),\n",
              " ('Raymond', 'Drummond', 23.75),\n",
              " ('Ronald', 'Murphy', 23.75),\n",
              " ('Roy', 'Joseph', 23.75),\n",
              " ('Roy', 'Landrum', 23.75),\n",
              " ('Ruben', 'Mueller', 23.75),\n",
              " ('Ruby', 'Galarza', 23.75),\n",
              " ('Ryan', 'Stewart', 23.75),\n",
              " ('Sam', 'Hibler', 23.75),\n",
              " ('Sandra', 'Gulick', 23.75),\n",
              " ('Scott', 'Burke', 23.75),\n",
              " ('Stephanie', 'Morton', 23.75),\n",
              " ('Stephen', 'Vasquez', 23.75),\n",
              " ('Tamera', 'Eaton', 23.75),\n",
              " ('Tracy', 'Franco', 23.75),\n",
              " ('Vernon', 'Frazier', 23.75),\n",
              " ('Wallace', 'Scott', 23.75),\n",
              " ('William', 'Aguilar', 23.75),\n",
              " ('William', 'Baldwin', 23.75),\n",
              " ('William', 'Hodges', 23.75),\n",
              " ('William', 'Michels', 23.75),\n",
              " ('Williams', 'Wolf', 23.75),\n",
              " ('Willie', 'Rodriques', 23.75),\n",
              " ('Zachary', 'Wilson', 23.75),\n",
              " ('Zachary', 'Ziegler', 23.75),\n",
              " ('Alice', 'Lee', 23.76),\n",
              " ('Amy', 'Perez', 23.76),\n",
              " ('Andrew', 'Hoke', 23.76),\n",
              " ('Ann', 'Daley', 23.76),\n",
              " ('Ann', 'Norton', 23.76),\n",
              " ('Anne', 'Guardado', 23.76),\n",
              " ('Annie', 'Young', 23.76),\n",
              " ('Aron', 'Daugherty', 23.76),\n",
              " ('Betty', 'Vaughn', 23.76),\n",
              " ('Bobby', 'Hudson', 23.76),\n",
              " ('Brooks', 'Prichard', 23.76),\n",
              " ('Carla', 'Carver', 23.76),\n",
              " ('Carlos', 'Cox', 23.76),\n",
              " ('Charles', 'Fletcher', 23.76),\n",
              " ('Christine', 'Anschutz', 23.76),\n",
              " ('Christine', 'Mccann', 23.76),\n",
              " ('Christopher', 'Hamilton', 23.76),\n",
              " ('Christopher', 'Worrell', 23.76),\n",
              " ('Clyde', 'Alonzo', 23.76),\n",
              " ('David', 'Boddie', 23.76),\n",
              " ('David', 'Cruz', 23.76),\n",
              " ('Diane', 'Hippler', 23.76),\n",
              " ('Donald', 'Mcginnis', 23.76),\n",
              " ('Dorothy', 'Kelley', 23.76),\n",
              " ('Douglas', 'Lee', 23.76),\n",
              " ('Drew', 'Bowers', 23.76),\n",
              " ('Duane', 'Watkins', 23.76),\n",
              " ('Edward', 'Elrod', 23.76),\n",
              " ('Eldon', 'Johnson', 23.76),\n",
              " ('Eleanor', 'Lau', 23.76),\n",
              " ('Elizabeth', 'Curtis', 23.76),\n",
              " ('Erma', 'Crank', 23.76),\n",
              " ('Ernest', 'Sadler', 23.76),\n",
              " ('Eula', 'Rivera', 23.76),\n",
              " ('Cornelia', 'Dale', 23.65),\n",
              " ('Floyd', 'Smithers', 23.76),\n",
              " ('George', 'Stride', 23.76),\n",
              " ('Gerald', 'Garber', 23.76),\n",
              " ('Gloria', 'Steward', 23.76),\n",
              " ('Grace', 'Cox', 23.76),\n",
              " ('Henry', 'Dawkins', 23.76),\n",
              " ('Herman', 'Adrian', 23.76),\n",
              " ('Hope', 'Fletcher', 23.76),\n",
              " ('Isaac', 'Wood', 23.76),\n",
              " ('James', 'Morrow', 23.76),\n",
              " ('Jerry', 'Szabo', 23.76),\n",
              " ('Jillian', 'Wicks', 23.76),\n",
              " ('John', 'Mead', 23.76),\n",
              " ('Josefina', 'Curtis', 23.76),\n",
              " ('Joseph', 'Sorrentino', 23.76),\n",
              " ('Karen', 'Cook', 23.76),\n",
              " ('Kathleen', 'Golding', 23.76),\n",
              " ('Kathryn', 'Rowe', 23.76),\n",
              " ('Kaye', 'Kelly', 23.76),\n",
              " ('Kellie', 'Frederick', 23.76),\n",
              " ('Kelly', 'Jacques', 23.76),\n",
              " ('Kelly', 'Marrero', 23.76),\n",
              " ('Kenneth', 'Long', 23.76),\n",
              " ('Kenneth', 'Walsh', 23.76),\n",
              " ('Kimberly', 'Harris', 23.76),\n",
              " ('Kimberly', 'Robinson', 23.76),\n",
              " ('Laura', 'Jennings', 23.76),\n",
              " ('Layla', 'Abbott', 23.76),\n",
              " ('Leonora', 'Bells', 23.76),\n",
              " ('Leslie', 'Cameron', 23.76),\n",
              " ('Linda', 'Moses', 23.76),\n",
              " ('Linda', 'Williamson', 23.76),\n",
              " ('Lisa', 'Walden', 23.76),\n",
              " ('Lorenzo', 'Larick', 23.76),\n",
              " ('Marianne', 'Wessel', 23.76),\n",
              " ('Marion', 'Benton', 23.76),\n",
              " ('Melissa', 'Ochs', 23.76),\n",
              " ('Molly', 'Holder', 23.76),\n",
              " ('Morris', 'Harrison', 23.76),\n",
              " ('Pat', 'Patton', 23.76),\n",
              " ('Patrick', 'Mosier', 23.76),\n",
              " ('Peggy', 'Delong', 23.76),\n",
              " ('Reba', 'Jackson', 23.76),\n",
              " ('Richard', 'Vanburen', 23.76),\n",
              " ('Ruth', 'Boswell', 23.76),\n",
              " ('Sam', 'Bravo', 23.76),\n",
              " ('Sam', 'Brewer', 23.76),\n",
              " ('Sandra', 'Collin', 23.76),\n",
              " ('Seymour', 'Workman', 23.76),\n",
              " ('Shawn', 'Jeffers', 23.76),\n",
              " ('Steven', 'Greer', 23.76),\n",
              " ('Suzanne', 'Polson', 23.76),\n",
              " ('Tamara', 'Martin', 23.76),\n",
              " ('Terry', 'Reynolds', 23.76),\n",
              " ('Thelma', 'Lemons', 23.76),\n",
              " ('Tim', 'Anthony', 23.76),\n",
              " ('Tyler', 'Jacques', 23.76),\n",
              " ('Violet', 'Dick', 23.76),\n",
              " ('Virginia', 'Klein', 23.76),\n",
              " ('Warner', 'Calaf', 23.76),\n",
              " ('William', 'Durham', 23.76),\n",
              " ('Alexis', 'Hill', 23.77),\n",
              " ('Allen', 'Conklin', 23.77),\n",
              " ('Allyson', 'Singer', 23.77),\n",
              " ('Angela', 'Shellhammer', 23.77),\n",
              " ('Antonia', 'Owen', 23.77),\n",
              " ('Armand', 'Spring', 23.77),\n",
              " ('Arthur', 'Richardson', 23.77),\n",
              " ('Arthur', 'Shaddix', 23.77),\n",
              " ('Bethany', 'Harmon', 23.77),\n",
              " ('Brenda', 'Cruz', 23.77),\n",
              " ('Brenda', 'Hernandez', 23.77),\n",
              " ('Brenda', 'Higgins', 23.77),\n",
              " ('Brian', 'Bemis', 23.77),\n",
              " ('Brianne', 'Weaver', 23.77),\n",
              " ('Bryan', 'Andersen', 23.77),\n",
              " ('Candace', 'Stiggers', 23.77),\n",
              " ('Carla', 'Davis', 23.77),\n",
              " ('Carol', 'Lotz', 23.77),\n",
              " ('Caroline', 'Porter', 23.77),\n",
              " ('Celeste', 'Goldberg', 23.77),\n",
              " ('Charles', 'Paul', 23.77),\n",
              " ('Charles', 'Wickman', 23.77),\n",
              " ('Cheri', 'Schall', 23.77),\n",
              " ('Christie', 'Moore', 23.77),\n",
              " ('Christopher', 'Guerra', 23.77),\n",
              " ('Clara', 'Cummings', 23.77),\n",
              " ('Cory', 'Day', 23.77),\n",
              " ('Crystal', 'Grogan', 23.77),\n",
              " ('Dahlia', 'Richard', 23.77),\n",
              " ('Daniel', 'Porter', 23.77),\n",
              " ('David', 'Level', 23.77),\n",
              " ('David', 'Link', 23.77),\n",
              " ('Larry', 'Barton', 23.74),\n",
              " ('David', 'Powers', 23.77),\n",
              " ('David', 'Velazquez', 23.77),\n",
              " ('Dean', 'Davis', 23.77),\n",
              " ('Dorothy', 'Brown', 23.77),\n",
              " ('Dorothy', 'Cupples', 23.77),\n",
              " ('Earl', 'Keene', 23.77),\n",
              " ('Earl', 'Wiggins', 23.77),\n",
              " ('Edna', 'Shea', 23.77),\n",
              " ('Edward', 'Jewell', 23.77),\n",
              " ('Edward', 'Walker', 23.77),\n",
              " ('Elise', 'Machen', 23.77),\n",
              " ('Eva', 'Carter', 23.77),\n",
              " ('Forrest', 'Rich', 23.77),\n",
              " ('Frank', 'Moses', 23.77),\n",
              " ('Frederick', 'Carter', 23.77),\n",
              " ('George', 'Stringer', 23.77),\n",
              " ('Gilbert', 'Benedict', 23.77),\n",
              " ('Gilda', 'Paiva', 23.77),\n",
              " ('Gina', 'Preston', 23.77),\n",
              " ('Gregory', 'Rogers', 23.77),\n",
              " ('Guy', 'Braziel', 23.77),\n",
              " ('Hanna', 'Brown', 23.77),\n",
              " ('Harold', 'Foley', 23.77),\n",
              " ('Ian', 'Garrick', 23.77),\n",
              " ('Jame', 'Gonzales', 23.77),\n",
              " ('James', 'Parker', 23.77),\n",
              " ('James', 'Varden', 23.77),\n",
              " ('Janice', 'Reed', 23.77),\n",
              " ('Jayne', 'Neal', 23.77),\n",
              " ('Jeanne', 'Scott', 23.77),\n",
              " ('Jenny', 'Mclendon', 23.77),\n",
              " ('Jeremy', 'Lee', 23.77),\n",
              " ('Jim', 'Lee', 23.77),\n",
              " ('John', 'Williams', 23.77),\n",
              " ('Jonathon', 'Williams', 23.77),\n",
              " ('Jose', 'Rubel', 23.77),\n",
              " ('Joyce', 'Summerlin', 23.77),\n",
              " ('Juan', 'Barrett', 23.77),\n",
              " ('Katie', 'Taylor', 23.77),\n",
              " ('Kellie', 'Connolly', 23.77),\n",
              " ('Kevin', 'Welch', 23.77),\n",
              " ('Kirsten', 'Farr', 23.77),\n",
              " ('Larry', 'Burkhardt', 23.77),\n",
              " ('Larry', 'Kim', 23.77),\n",
              " ('Larry', 'Meyers', 23.77),\n",
              " ('Larry', 'Shyne', 23.77),\n",
              " ('Larry', 'Snider', 23.77),\n",
              " ('Lauren', 'Ciraulo', 23.77),\n",
              " ('Lawrence', 'Tucker', 23.77),\n",
              " ('Leonard', 'Middleton', 23.77),\n",
              " ('Lester', 'Legace', 23.77),\n",
              " ('Linda', 'Rowe', 23.77),\n",
              " ('Luther', 'Lamey', 23.77),\n",
              " ('Lynn', 'Crenshaw', 23.77),\n",
              " ('Lynn', 'Steely', 23.77),\n",
              " ('Mabel', 'Hicks', 23.77),\n",
              " ('Maria', 'Baker', 23.77),\n",
              " ('Maria', 'Davis', 23.77),\n",
              " ('Maria', 'Jansons', 23.77),\n",
              " ('Maria', 'Paulk', 23.77),\n",
              " ('Maria', 'Uttley', 23.77),\n",
              " ('Marie', 'Fulk', 23.77),\n",
              " ('Martha', 'Crawford', 23.77),\n",
              " ('Marvin', 'Martinez', 23.77),\n",
              " ('Mary', 'Lessard', 23.77),\n",
              " ('Mary', 'Riel', 23.77),\n",
              " ('Melody', 'Rawlins', 23.77),\n",
              " ('Michael', 'Gonzalez', 23.77),\n",
              " ('Michael', 'Williams', 23.77),\n",
              " ('Mitchell', 'Schaefer', 23.77),\n",
              " ('Monica', 'Bernard', 23.77),\n",
              " ('Patricia', 'Jones', 23.77),\n",
              " ('Patricia', 'Moore', 23.77),\n",
              " ('Paul', 'Pollard', 23.77),\n",
              " ('Pauline', 'Lee', 23.77),\n",
              " ('Philip', 'Huggins', 23.77),\n",
              " ('Philip', 'Williams', 23.77),\n",
              " ('Randy', 'Wetherbee', 23.77),\n",
              " ('Raul', 'Reynolds', 23.77),\n",
              " ('Ray', 'Johnson', 23.77),\n",
              " ('Richard', 'Putnam', 23.77),\n",
              " ('Richard', 'Ruggles', 23.77),\n",
              " ('Robert', 'Brown', 23.77),\n",
              " ('Robert', 'Reber', 23.77),\n",
              " ('Robert', 'Roberson', 23.77),\n",
              " ('Robin', 'Sewell', 23.77),\n",
              " ('Rocco', 'Schuh', 23.77),\n",
              " ('Ronald', 'Padula', 23.77),\n",
              " ('Ronnie', 'Polk', 23.77),\n",
              " ('Rosalind', 'Townsend', 23.77),\n",
              " ('Scott', 'Merten', 23.77),\n",
              " ('Sergio', 'Mccarthy', 23.77),\n",
              " ('Sharon', 'Honeycutt', 23.77),\n",
              " ('Stanley', 'Murray', 23.77),\n",
              " ('Stanley', 'Reid', 23.77),\n",
              " ('Stephen', 'Pratt', 23.77),\n",
              " ('Stephen', 'Simone', 23.77),\n",
              " ('Steven', 'Sloan', 23.77),\n",
              " ('Susan', 'Gouge', 23.77),\n",
              " ('Dennis', 'Holder', 23.7),\n",
              " ('Sydney', 'Smoot', 23.77),\n",
              " ('Tami', 'Hernandez', 23.77),\n",
              " ('Teena', 'Wilson', 23.77),\n",
              " ('Terry', 'Collins', 23.77),\n",
              " ('Thomas', 'Holliday', 23.77),\n",
              " ('Thomas', 'Moore', 23.77),\n",
              " ('Thomas', 'Perla', 23.77),\n",
              " ('Valeria', 'Byker', 23.77),\n",
              " ('Vivian', 'Ferris', 23.77),\n",
              " ('William', 'Athan', 23.77),\n",
              " ('William', 'Ayala', 23.77),\n",
              " ('William', 'Cowan', 23.77),\n",
              " ('William', 'Kesner', 23.77),\n",
              " ('William', 'Loop', 23.77),\n",
              " ('William', 'Ramirez', 23.77),\n",
              " ('Wilma', 'Russell', 23.77),\n",
              " ('Yvette', 'Ezell', 23.77),\n",
              " ('Yvonne', 'Campbell', 23.77),\n",
              " ('Zachary', 'Royston', 23.77),\n",
              " ('Agnes', 'Taylor', 23.78),\n",
              " ('Alexander', 'Matz', 23.78),\n",
              " ('Amanda', 'Penna', 23.78),\n",
              " ('Amy', 'Lacy', 23.78),\n",
              " ('Andrea', 'Flores', 23.78),\n",
              " ('Andrea', 'Hermans', 23.78),\n",
              " ('Ann', 'Schultz', 23.78),\n",
              " ('Ashley', 'Garza', 23.78),\n",
              " ('Barry', 'Bennett', 23.78),\n",
              " ('Belle', 'Zabinski', 23.78),\n",
              " ('Benjamin', 'Sandoval', 23.78),\n",
              " ('Betty', 'Allen', 23.78),\n",
              " ('Beverly', 'Shade', 23.78),\n",
              " ('Bonita', 'Bowden', 23.78),\n",
              " ('Brandy', 'Pigue', 23.78),\n",
              " ('Brendan', 'Hurst', 23.78),\n",
              " ('Brittney', 'Murray', 23.78),\n",
              " ('Buster', 'Williamson', 23.78),\n",
              " ('Carlos', 'Phillips', 23.78),\n",
              " ('Catherine', 'Gearhart', 23.78),\n",
              " ('Catherine', 'Orgill', 23.78),\n",
              " ('Charles', 'Beck', 23.78),\n",
              " ('Charlie', 'Doyle', 23.78),\n",
              " ('Chris', 'Acosta', 23.78),\n",
              " ('Chris', 'Tackett', 23.78),\n",
              " ('Christopher', 'Delong', 23.78),\n",
              " ('Clair', 'Yazzie', 23.78),\n",
              " ('Clarice', 'Hokanson', 23.78),\n",
              " ('Connie', 'Janas', 23.78),\n",
              " ('Cora', 'Delagarza', 23.78),\n",
              " ('Corey', 'Castillo', 23.78),\n",
              " ('Craig', 'Williams', 23.78),\n",
              " ('Curtis', 'Leymeister', 23.78),\n",
              " ('Daniel', 'Cunningham', 23.78),\n",
              " ('Darlene', 'Marrara', 23.78),\n",
              " ('David', 'Cruz', 23.78),\n",
              " ('David', 'Parker', 23.78),\n",
              " ('Doris', 'Baydal', 23.78),\n",
              " ('Dorothy', 'Baker', 23.78),\n",
              " ('Eddy', 'Garcia', 23.78),\n",
              " ('Edith', 'Stoddard', 23.78),\n",
              " ('Edna', 'Barnhill', 23.78),\n",
              " ('Edward', 'Laughlin', 23.78),\n",
              " ('Edward', 'Stracke', 23.78),\n",
              " ('Elizabeth', 'Kantrowitz', 23.78),\n",
              " ('Emma', 'Bell', 23.78),\n",
              " ('Eric', 'Fisher', 23.78),\n",
              " ('Erin', 'Osgood', 23.78),\n",
              " ('Evelyn', 'Davis', 23.78),\n",
              " ('Frances', 'Martinez', 23.78),\n",
              " ('Frances', 'Turbacuski', 23.78),\n",
              " ('Frank', 'Scott', 23.78),\n",
              " ('Fred', 'Zeigler', 23.78),\n",
              " ('Frederick', 'Trapp', 23.78),\n",
              " ('Gary', 'Mcdermott', 23.78),\n",
              " ('Gerard', 'Mckinney', 23.78),\n",
              " ('Haley', 'Demarco', 23.78),\n",
              " ('Harry', 'Ashley', 23.78),\n",
              " ('Harvey', 'Lee', 23.78),\n",
              " ('Henry', 'Lipsey', 23.78),\n",
              " ('Henry', 'Walker', 23.78),\n",
              " ('Howard', 'Mathews', 23.78),\n",
              " ('Inez', 'Robinson', 23.78),\n",
              " ('Isabel', 'Soliz', 23.78),\n",
              " ('James', 'Mark', 23.78),\n",
              " ('James', 'Solis', 23.78),\n",
              " ('Jeff', 'Orcutt', 23.78),\n",
              " ('Jennifer', 'Dobrinin', 23.78),\n",
              " ('Jerilyn', 'Price', 23.78),\n",
              " ('Jerome', 'Ward', 23.78),\n",
              " ('Jerry', 'Feldman', 23.78),\n",
              " ('Jerry', 'Pope', 23.78),\n",
              " ('Jessie', 'Fournier', 23.78),\n",
              " ('John', 'Reynolds', 23.78),\n",
              " ('John', 'Sturman', 23.78),\n",
              " ('Jose', 'Day', 23.78),\n",
              " ('Jose', 'Nelson', 23.78),\n",
              " ('Joseph', 'Miller', 23.78),\n",
              " ('Joseph', 'Moreau', 23.78),\n",
              " ('Juan', 'Stockman', 23.78),\n",
              " ('Katharyn', 'Smith', 23.78),\n",
              " ('Kathleen', 'Langford', 23.78),\n",
              " ('Kelly', 'Figueroa', 23.78),\n",
              " ('Kenneth', 'Iverson', 23.78),\n",
              " ('Kristen', 'Hunt', 23.78),\n",
              " ('Kyle', 'Jeffrey', 23.78),\n",
              " ('Larry', 'Mosley', 23.78),\n",
              " ('Larry', 'Rhem', 23.78),\n",
              " ('Laura', 'Hensley', 23.78),\n",
              " ('Lawanda', 'Barnes', 23.78),\n",
              " ('Linda', 'Pettis', 23.78),\n",
              " ('Linda', 'White', 23.78),\n",
              " ('Lisa', 'Johnson', 23.78),\n",
              " ('Lois', 'Reasor', 23.78),\n",
              " ('Lori', 'Dean', 23.78),\n",
              " ('Louise', 'Godina', 23.78),\n",
              " ('Maria', 'Matthews', 23.78),\n",
              " ('Maria', 'Walker', 23.78),\n",
              " ('Laura', 'Toler', 23.74),\n",
              " ('Marissa', 'Williams', 23.78),\n",
              " ('Mark', 'Box', 23.78),\n",
              " ('Marlene', 'Leedom', 23.78),\n",
              " ('Martha', 'Bolstad', 23.78),\n",
              " ('Martin', 'Settle', 23.78),\n",
              " ('Marvin', 'Wade', 23.78),\n",
              " ('Mary', 'Rios', 23.78),\n",
              " ('Mary', 'Simms', 23.78),\n",
              " ('Maryann', 'Deason', 23.78),\n",
              " ('Mattie', 'Spruill', 23.78),\n",
              " ('Melissa', 'Watson', 23.78),\n",
              " ('Michael', 'Sanders', 23.78),\n",
              " ('Michelle', 'Rozier', 23.78),\n",
              " ('Nikia', 'Amari', 23.78),\n",
              " ('Oscar', 'Hebert', 23.78),\n",
              " ('Paul', 'Earles', 23.78),\n",
              " ('Priscilla', 'Maldonado', 23.78),\n",
              " ('Ralph', 'Nickson', 23.78),\n",
              " ('Raul', 'Torres', 23.78),\n",
              " ('Raymond', 'Pugh', 23.78),\n",
              " ('Rhonda', 'Carrillo', 23.78),\n",
              " ('Rhonda', 'Taylor', 23.78),\n",
              " ('Richard', 'Gaskins', 23.78),\n",
              " ('Richard', 'Hammer', 23.78),\n",
              " ('Robert', 'Kolesnik', 23.78),\n",
              " ('Robert', 'Ward', 23.78),\n",
              " ('Ronald', 'Chicoine', 23.78),\n",
              " ('Ronald', 'Cieslinski', 23.78),\n",
              " ('Roni', 'Callaghan', 23.78),\n",
              " ('Ronnie', 'Herring', 23.78),\n",
              " ('Ruth', 'Ortega', 23.78),\n",
              " ('Sara', 'Trowell', 23.78),\n",
              " ('Sharon', 'Rachal', 23.78),\n",
              " ('Sherry', 'Gorman', 23.78),\n",
              " ('Shirley', 'Allred', 23.78),\n",
              " ('Shirley', 'Hertel', 23.78),\n",
              " ('Stephanie', 'Hays', 23.78),\n",
              " ('Sue', 'Ransom', 23.78),\n",
              " ('Susan', 'Graham', 23.78),\n",
              " ('Teresa', 'Montgomery', 23.78),\n",
              " ('Thelma', 'Gales', 23.78),\n",
              " ('Thomas', 'Francis', 23.78),\n",
              " ('Thomas', 'Hinton', 23.78),\n",
              " ('Thomas', 'Mccray', 23.78),\n",
              " ('Trevor', 'Wolf', 23.78),\n",
              " ('Vera', 'Gifford', 23.78),\n",
              " ('Vickie', 'Burbank', 23.78),\n",
              " ('Vicky', 'Wilkins', 23.78),\n",
              " ('Vivian', 'Holt', 23.78),\n",
              " ('Vivienne', 'Collett', 23.78),\n",
              " ('Wayne', 'King', 23.78),\n",
              " ('Wiley', 'Bright', 23.78),\n",
              " ('William', 'Austin', 23.78),\n",
              " ('William', 'Gordon', 23.78),\n",
              " ('Winfred', 'Kintzel', 23.78),\n",
              " ('Yvette', 'Green', 23.78),\n",
              " ('Abby', 'Neiman', 23.79),\n",
              " ('Adrian', 'Snyder', 23.79),\n",
              " ('Al', 'Mercuri', 23.79),\n",
              " ('Alan', 'Talley', 23.79),\n",
              " ('Alissa', 'Calandra', 23.79),\n",
              " ('Allen', 'Kunde', 23.79),\n",
              " ('Amanda', 'Johnson', 23.79),\n",
              " ('Amy', 'Coe', 23.79),\n",
              " ('Amy', 'Johnson', 23.79),\n",
              " ('Angel', 'Corder', 23.79),\n",
              " ('Anita', 'Campas', 23.79),\n",
              " ('Anthony', 'Thomas', 23.79),\n",
              " ('Ashlee', 'Bolton', 23.79),\n",
              " ('Barbara', 'Bryant', 23.79),\n",
              " ('Barbara', 'Taylor', 23.79),\n",
              " ('Benjamin', 'Parsons', 23.79),\n",
              " ('Bernice', 'Rasberry', 23.79),\n",
              " ('Bernita', 'Brown', 23.79),\n",
              " ('Beth', 'Rogers', 23.79),\n",
              " ('Betty', 'Miles', 23.79),\n",
              " ('Beulah', 'Fields', 23.79),\n",
              " ('Beverly', 'Mccullar', 23.79),\n",
              " ('Billie', 'Wisner', 23.79),\n",
              " ('Bryan', 'Rivera', 23.79),\n",
              " ('Carl', 'Anderson', 23.79),\n",
              " ('Carl', 'Noyer', 23.79),\n",
              " ('Celia', 'Graham', 23.79),\n",
              " ('Charles', 'Ivory', 23.79),\n",
              " ('Christopher', 'Figueroa', 23.79),\n",
              " ('Christopher', 'Hanners', 23.79),\n",
              " ('Christopher', 'Williams', 23.79),\n",
              " ('Christy', 'Buckmaster', 23.79),\n",
              " ('Clifton', 'Garcia', 23.79),\n",
              " ('Cody', 'Silva', 23.79),\n",
              " ('Cory', 'Harrison', 23.79),\n",
              " ('Cynthia', 'Thomas', 23.79),\n",
              " ('Daniel', 'Cruz', 23.79),\n",
              " ('Daren', 'Chisholm', 23.79),\n",
              " ('David', 'Anyan', 23.79),\n",
              " ('David', 'Buroker', 23.79),\n",
              " ('David', 'Carter', 23.79),\n",
              " ('David', 'Heming', 23.79),\n",
              " ('David', 'Leaf', 23.79),\n",
              " ('David', 'Rios', 23.79),\n",
              " ('David', 'Roberts', 23.79),\n",
              " ('David', 'Wyatt', 23.79),\n",
              " ('Demarcus', 'Bessler', 23.79),\n",
              " ('Derrick', 'Williams', 23.79),\n",
              " ('Diana', 'Smith', 23.79),\n",
              " ('Dixie', 'Lacoss', 23.79),\n",
              " ('Donald', 'Anderson', 23.79),\n",
              " ('Douglas', 'Harris', 23.79),\n",
              " ('Doyle', 'Ritter', 23.79),\n",
              " ('Earl', 'Jordan', 23.79),\n",
              " ('Edna', 'Hoff', 23.79),\n",
              " ('Edward', 'Valasquez', 23.79),\n",
              " ('Edward', 'Yoon', 23.79),\n",
              " ('Elizabeth', 'Klopfer', 23.79),\n",
              " ('Elizabeth', 'Torres', 23.79),\n",
              " ('Eric', 'Simpson', 23.79),\n",
              " ('Etha', 'Chase', 23.79),\n",
              " ('Filomena', 'Khan', 23.79),\n",
              " ('Florence', 'Olson', 23.79),\n",
              " ('Gabrielle', 'Day', 23.79),\n",
              " ('Garry', 'Kightlinger', 23.79),\n",
              " ('Gary', 'Bernal', 23.79),\n",
              " ('Gary', 'Feenstra', 23.79),\n",
              " ('Gary', 'Wade', 23.79),\n",
              " ('George', 'Beamer', 23.79),\n",
              " ('George', 'Daly', 23.79),\n",
              " ('George', 'Tackitt', 23.79),\n",
              " ('Gladys', 'Lennon', 23.79),\n",
              " ('Gregory', 'Hickson', 23.79),\n",
              " ('Herbert', 'James', 23.79),\n",
              " ('Isa', 'Doughty', 23.79),\n",
              " ('Jacob', 'Rushing', 23.79),\n",
              " ('Jacqueline', 'King', 23.79),\n",
              " ('James', 'Jefferson', 23.79),\n",
              " ('Jarvis', 'Kingsley', 23.79),\n",
              " ('Jean', 'Hall', 23.79),\n",
              " ('Jennifer', 'Self', 23.79),\n",
              " ('Jennifer', 'Smith', 23.79),\n",
              " ('Jennifer', 'White', 23.79),\n",
              " ('Jimmie', 'Moore', 23.79),\n",
              " ('John', 'Conley', 23.79),\n",
              " ('John', 'Stubblefield', 23.79),\n",
              " ('Johnny', 'Beasley', 23.79),\n",
              " ('Jon', 'Jacobs', 23.79),\n",
              " ('Jose', 'Pinto', 23.79),\n",
              " ('Josh', 'Stanley', 23.79),\n",
              " ('Joshua', 'Evans', 23.79),\n",
              " ('Joycelyn', 'Gebauer', 23.79),\n",
              " ('Juan', 'Hunt', 23.79),\n",
              " ('Julia', 'Goffinet', 23.79),\n",
              " ('Julie', 'Sanders', 23.79),\n",
              " ('Karen', 'Eisman', 23.79),\n",
              " ('Karl', 'Rider', 23.79),\n",
              " ('Kathleen', 'Phillips', 23.79),\n",
              " ('Kathryn', 'Dvorak', 23.79),\n",
              " ('Kendra', 'Galvan', 23.79),\n",
              " ('Kenneth', 'Mcdaniel', 23.79),\n",
              " ('Krystal', 'Thigpen', 23.79),\n",
              " ('Larry', 'Hunt', 23.79),\n",
              " ('Lauren', 'Rosselle', 23.79),\n",
              " ('Lenore', 'Chaney', 23.79),\n",
              " ('Linda', 'Chisley', 23.79),\n",
              " ('Linda', 'Lawson', 23.79),\n",
              " ('Lisa', 'Howard', 23.79),\n",
              " ('Lisa', 'Mcfall', 23.79),\n",
              " ('Lloyd', 'Rodriguez', 23.79),\n",
              " ('Lois', 'Grady', 23.79),\n",
              " ('Lois', 'Harman', 23.79),\n",
              " ('Lois', 'Mcgovern', 23.79),\n",
              " ('Lorrie', 'Burns', 23.79),\n",
              " ('Louis', 'Gonzalez', 23.79),\n",
              " ('Louis', 'Vasquez', 23.79),\n",
              " ('Mabel', 'Cabaniss', 23.79),\n",
              " ('Mabel', 'Fudge', 23.79),\n",
              " ('Madelene', 'Velez', 23.79),\n",
              " ('Margaret', 'Barnes', 23.79),\n",
              " ('Margaret', 'Lewis', 23.79),\n",
              " ('Margaret', 'Prosser', 23.79),\n",
              " ('Maria', 'Sheroan', 23.79),\n",
              " ('Marleen', 'Adams', 23.79),\n",
              " ('Martha', 'Piercy', 23.79),\n",
              " ('Mary', 'Bagnoli', 23.79),\n",
              " ('Mary', 'Hayes', 23.79),\n",
              " ('Maryann', 'Dunn', 23.79),\n",
              " ('Melissa', 'Hernandez', 23.79),\n",
              " ('Michael', 'Horr', 23.79),\n",
              " ('Michael', 'Johnson', 23.79),\n",
              " ...]"
            ]
          },
          "metadata": {},
          "execution_count": 10
        }
      ]
    },
    {
      "cell_type": "markdown",
      "source": [
        "MergeSort( )"
      ],
      "metadata": {
        "id": "rvhka9ZZBoha"
      }
    },
    {
      "cell_type": "code",
      "source": [
        "def Merge(l1,l2):\n",
        "    n=len(l1)\n",
        "    m=len(l2)\n",
        "    lista=[]\n",
        "    i=0\n",
        "    j=0\n",
        "    while i < n and j < m:\n",
        "        if l1[i][2] <= l2[j][2]:\n",
        "            if l1[i][2] == l2[j][2]:\n",
        "                if l1[i][0] <= l2[j][0]:\n",
        "                    if l1[i][0] == l2[j][0]:\n",
        "                        if l1[i][1] < l2[j][1]:\n",
        "                            lista.append(l1[i])\n",
        "                            i+=1\n",
        "                        else:\n",
        "                            lista.append(l2[j])\n",
        "                            j+=1\n",
        "                    else:\n",
        "                        lista.append(l1[i])\n",
        "                        i+=1\n",
        "                else:\n",
        "                    lista.append(l2[j])\n",
        "                    j+=1\n",
        "            else:\n",
        "                lista.append(l1[i])\n",
        "                i+=1\n",
        "                \n",
        "        else:\n",
        "            lista.append(l2[j])\n",
        "            j+=1\n",
        "\n",
        "    while i < n:\n",
        "            lista.append(l1[i])\n",
        "            i += 1\n",
        "    while j < m:\n",
        "            lista.append(l2[j])\n",
        "            j += 1\n",
        "    return lista"
      ],
      "metadata": {
        "id": "AHu0eCyfBtIP"
      },
      "execution_count": 11,
      "outputs": []
    },
    {
      "cell_type": "code",
      "source": [
        "def MergeSort(lista):\n",
        "    if len(lista) == 1:\n",
        "        return lista\n",
        "    else:\n",
        "        lista1=lista[:len(lista)//2]\n",
        "        lista2=lista[len(lista)//2:]\n",
        "        l1=MergeSort(lista1)\n",
        "        l2=MergeSort(lista2)\n",
        "        return Merge(l1,l2)"
      ],
      "metadata": {
        "id": "K8aHQYaJCJiS"
      },
      "execution_count": 12,
      "outputs": []
    },
    {
      "cell_type": "code",
      "source": [
        "MergeSort(lista)"
      ],
      "metadata": {
        "id": "2XryXlglCMkZ"
      },
      "execution_count": null,
      "outputs": []
    },
    {
      "cell_type": "markdown",
      "source": [
        "QuickSort( )"
      ],
      "metadata": {
        "id": "pKB5BUdxBpJw"
      }
    },
    {
      "cell_type": "code",
      "source": [
        "def QuickSort(lista):\n",
        "    if len(lista) <= 1:\n",
        "        return lista\n",
        "    else:\n",
        "        pivot = rdm.choice(lista)\n",
        "        lista.remove(pivot)\n",
        "        l1=[]\n",
        "        l2=[]\n",
        "        for x in lista:\n",
        "            if x[2] <= pivot[2]:\n",
        "                if x[2] == pivot[2]:\n",
        "                    if x[0] <= pivot[0]:\n",
        "                        if x[0] == pivot[0]:\n",
        "                            if x[1] < pivot[1]:\n",
        "                                l1.append(x)\n",
        "                            else:\n",
        "                                l2.append(x)\n",
        "                        else:\n",
        "                            l1.append(x)\n",
        "                    else:\n",
        "                        l2.append(x)\n",
        "                else:\n",
        "                    l1.append(x)\n",
        "            else:\n",
        "                l2.append(x)\n",
        "        l= QuickSort(l1)+[pivot]+ QuickSort(l2)\n",
        "        return l"
      ],
      "metadata": {
        "id": "YGQEyuovBtvg"
      },
      "execution_count": 13,
      "outputs": []
    },
    {
      "cell_type": "code",
      "source": [
        "QuickSort(lista)"
      ],
      "metadata": {
        "id": "CTOnw2QnCRkz"
      },
      "execution_count": null,
      "outputs": []
    },
    {
      "cell_type": "markdown",
      "source": [
        "2.What is the time complexity of each algorithm you have used?"
      ],
      "metadata": {
        "id": "c-xbmf_rCeEq"
      }
    },
    {
      "cell_type": "markdown",
      "source": [
        "BubbleSort"
      ],
      "metadata": {
        "id": "QD_bxKJ_Cfqm"
      }
    },
    {
      "cell_type": "markdown",
      "source": [
        "Bubble sort has a total of (n-1) cycles, and each cycle requires the current n-1 comparisons, so the total number of comparisons is:\n",
        "(n-1) + (n-2) + (n-3) + … + 1 = n*(n-1)/2;\n",
        "So the time complexity of bubble sort is O(n2)"
      ],
      "metadata": {
        "id": "cSdFi5mICs27"
      }
    },
    {
      "cell_type": "markdown",
      "source": [
        "MergeSort"
      ],
      "metadata": {
        "id": "_u4OtcIwCyN8"
      }
    },
    {
      "cell_type": "markdown",
      "source": [
        "Merge sort on n elements can be seen as merge sort on two sets of n/2 elements and call the Merge function once, so:\n",
        "\n",
        "T(n)=2T(n/2)+an=4T(n/4)+2an=…=2kT(n/2k)+k\n",
        "\n",
        "until n/2k=1\n",
        "\n",
        "Then T(n)=2kT(1)+k=n+a*(log2n)n\n",
        "\n",
        "The time complexity is O(nlogn)"
      ],
      "metadata": {
        "id": "Qoq1CHoZCz-1"
      }
    },
    {
      "cell_type": "markdown",
      "source": [
        "QuickSort"
      ],
      "metadata": {
        "id": "g02NBTa2C0WD"
      }
    },
    {
      "cell_type": "markdown",
      "source": [
        "in the best case\n",
        "\n",
        "Partition is divided evenly every time. If n keywords are sorted, the depth of the recursive tree is log ⁡ 2 ( 2 n + 1 ) , the number of nodes is n \\log_2(2n+1), and the number of nodes is nlog2(2n+1), the number of nodes is n\n",
        "\n",
        "For example 2 nodes with a depth of 2.\n",
        "\n",
        "The first Partiation should be to scan the entire array and do n comparisons.\n",
        "\n",
        "The obtained pivot divides the array into two, then each requires T(n/2) time (note that it is the best case, so the two halves are equally divided) into 2 pieces: T ( n ) ≤ 2 T ( n / 2 ) + n , T ( 1 ) = 0 , where n = ( log ⁡ 2 2 ) × n is divided into 2 blocks: T(n) ≤ 2T(n/2) +n, T(1)=0, where n= (\\log_22)\\times n\n",
        "Divided into 2 blocks: T(n)≤2T(n/2)+n, T(1)=0, where\n",
        "n=(log2/2)×n\n",
        "\n",
        "Continuing to divide, we have the following inequality inference\n",
        "Divide into 4 pieces: T ( n ) ≤ 2 ( 2 T ( n / 4 ) + n / 2 ) + n = 4 T ( n / 4 ) + 2 n , where 2 n = ( log ⁡ 2 4 ) × n divide 4 blocks: T(n)≤2(2T(n/4)+n/2) +n=4T(n/4)+2n, where 2n=(\\log_24)\\times n\n",
        "Divided into 4 blocks: T(n)≤2(2T(n/4)+n/2)+n=4T(n/4)+2n,\n",
        "where 2n=(log2/4)×n\n",
        "\n",
        "Divided into 8 pieces: T(n) ≤ 4 ( 2 T(n/8) + n/4) + 2 n = 8 T(n/8) + 3 n... Divided into 8 pieces: T(n) ≤ 4( 2T(n/8)+n/4)+2n=8T(n/8)+3n  …\n",
        "Divided into 8 blocks: T(n)≤4(2T(n/8)+n/4)+2n=8T(n/8)+3n…\n",
        "\n",
        "Divide into n pieces: T ( n ) ≤ n T ( 1 ) + ( log ⁡ 2 n ) × n = O ( n log ⁡ 2 n ) Divide into n pieces: T(n)≤nT(1)+(\\log_2n) ×n= O(n\\log_2n)\n",
        "Divided into n blocks: T(n)≤nT(1)+(log\n",
        "2\n",
        "​\n",
        " n)×n=O(nlog\n",
        "2\n",
        "​\n",
        " n)\n",
        "\n",
        "That is to say, in the optimal case, the time complexity of the quicksort algorithm is O(nlogn)."
      ],
      "metadata": {
        "id": "3uzjOI4aHLw0"
      }
    },
    {
      "cell_type": "markdown",
      "source": [
        "The sequence to be sorted is in positive or reverse order. Each division only gets a subsequence with one record less than the previous division. Note that the other is empty. If the recursion tree is drawn, it is a sloping tree.\n",
        "\n",
        "At this time, n-1 recursive calls need to be performed, and the i-th division requires n-i keyword comparisons to find the i-th record, which is the position of the pivot, so the number of comparisons is\n",
        "![image.png](data:image/png;base64,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)\n",
        "The time complexity is O(n^2)."
      ],
      "metadata": {
        "id": "fzVkuQQ3HNk5"
      }
    },
    {
      "cell_type": "markdown",
      "source": [],
      "metadata": {
        "id": "cizA8FaEC0lX"
      }
    },
    {
      "cell_type": "markdown",
      "source": [
        "3.Evaluate the time taken for each of your implementations to answer the query stored in the ApplicantsInfo.txt file and visualize them."
      ],
      "metadata": {
        "id": "fY8Z2vkUDlt2"
      }
    },
    {
      "cell_type": "markdown",
      "source": [
        "4.What is the most optimal algorithm, in your opinion, and why?"
      ],
      "metadata": {
        "id": "fUz-J3lAE4zS"
      }
    },
    {
      "cell_type": "markdown",
      "source": [
        "QuickSort"
      ],
      "metadata": {
        "id": "BCM250apIBU9"
      }
    },
    {
      "cell_type": "markdown",
      "source": [
        "5.Implement a sorting algorithm using MapReduce and compare it against the three algorithms previously implemented using the ApplicantsInfo.txt file."
      ],
      "metadata": {
        "id": "TAE8ePswE8FA"
      }
    }
  ]
}