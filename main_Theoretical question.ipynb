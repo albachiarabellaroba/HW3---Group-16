{
  "nbformat": 4,
  "nbformat_minor": 0,
  "metadata": {
    "colab": {
      "provenance": [],
      "include_colab_link": true
    },
    "kernelspec": {
      "name": "python3",
      "display_name": "Python 3"
    },
    "language_info": {
      "name": "python"
    }
  },
  "cells": [
    {
      "cell_type": "markdown",
      "metadata": {
        "id": "view-in-github",
        "colab_type": "text"
      },
      "source": [
        "<a href=\"https://colab.research.google.com/github/albachiarabellaroba/HW3---Group-16/blob/main/main_Theoretical%20question.ipynb\" target=\"_parent\"><img src=\"https://colab.research.google.com/assets/colab-badge.svg\" alt=\"Open In Colab\"/></a>"
      ]
    },
    {
      "cell_type": "markdown",
      "source": [
        "#**Homework 3 - Places of the world**"
      ],
      "metadata": {
        "id": "RYt2rNxiJCnM"
      }
    },
    {
      "cell_type": "code",
      "source": [
        "from bs4 import BeautifulSoup as bs\n",
        "from sklearn.feature_extraction.text import TfidfVectorizer\n",
        "from numpy.linalg import norm \n",
        "from datetime import datetime\n",
        "from functools import reduce\n",
        "from tqdm import tqdm\n",
        "import random as rdm\n",
        "import pandas as pd\n",
        "import numpy as np\n",
        "import bs4\n",
        "import requests\n",
        "import os\n",
        "import os.path\n",
        "import lxml\n",
        "import re\n",
        "import codecs\n",
        "import csv\n",
        "import time\n",
        "import pickle\n",
        "import nltk"
      ],
      "metadata": {
        "id": "Jl1MRtWrJN8M"
      },
      "execution_count": 1,
      "outputs": []
    },
    {
      "cell_type": "code",
      "source": [
        "from google.colab import drive\n",
        "drive.mount('/content/drive/') "
      ],
      "metadata": {
        "id": "ecIen976hOA6",
        "outputId": "199ec69f-0820-4dea-adab-7506c1aa29d6",
        "colab": {
          "base_uri": "https://localhost:8080/"
        }
      },
      "execution_count": 2,
      "outputs": [
        {
          "output_type": "stream",
          "name": "stdout",
          "text": [
            "Mounted at /content/drive/\n"
          ]
        }
      ]
    },
    {
      "cell_type": "markdown",
      "source": [
        "## 1. Data collection"
      ],
      "metadata": {
        "id": "OlhC_Da0JO-1"
      }
    },
    {
      "cell_type": "markdown",
      "source": [
        "### 1.1. Get the list of places"
      ],
      "metadata": {
        "id": "DKEKM1gSJSez"
      }
    },
    {
      "cell_type": "code",
      "source": [
        "linklist = open('/content/drive/MyDrive/ADM_HW3/linklist.txt', 'w')\n",
        "\n",
        "for i in tqdm(range(1, 401)):\n",
        "    link = 'https://www.atlasobscura.com/places?page='+str(i)+'&sort=likes_count'\n",
        "    cont = requests.get(link)\n",
        "    soup = BeautifulSoup(cont.content, features='lxml')\n",
        "    for a in soup.find_all('a', class_='col-md-3 nav-card'):\n",
        "        linklist.write(a.get('href')+'\\n')\n",
        "        \n",
        "linklist.close()"
      ],
      "metadata": {
        "id": "3SQcCegJJX6c",
        "outputId": "591fe37e-c7be-4401-e1cf-71ac29c3fe08",
        "colab": {
          "base_uri": "https://localhost:8080/"
        }
      },
      "execution_count": null,
      "outputs": [
        {
          "output_type": "stream",
          "name": "stderr",
          "text": [
            "100%|██████████| 400/400 [04:17<00:00,  1.55it/s]\n"
          ]
        }
      ]
    },
    {
      "cell_type": "markdown",
      "source": [
        "### 1.2. Crawl places"
      ],
      "metadata": {
        "id": "NcdSFQLRJaGS"
      }
    },
    {
      "cell_type": "code",
      "source": [
        "for i in tqdm(range(1, 401)):\n",
        "    cart = '/content/drive/MyDrive/ADM_HW3/Html_page/page_{}'.format(i)\n",
        "    os.makedirs(cart)\n",
        "    \n",
        "    f = open('/content/drive/MyDrive/ADM_HW3/linklist.txt', 'r', encoding='utf8')\n",
        "    l = f.readlines()[(i-1)*18:(i)*18]\n",
        "    l = [k.rstrip() for k in l]\n",
        "    f.close\n",
        "\n",
        "    m = 1+18*(i-1)\n",
        "\n",
        "    for link in l:\n",
        "      link = 'https://www.atlasobscura.com' + link\n",
        "      html = requests.get(link)\n",
        "\n",
        "      name = '{}/{}.html'.format(cart, m)\n",
        "      text = open(name, 'w', encoding='utf8')\n",
        "      text.write(html.text)\n",
        "      text.close\n",
        "\n",
        "      m=m+1\n"
      ],
      "metadata": {
        "id": "Yj8pzW-eJeT-",
        "outputId": "a074698c-fb44-47c7-8dd1-96ae42a829da",
        "colab": {
          "base_uri": "https://localhost:8080/"
        }
      },
      "execution_count": null,
      "outputs": [
        {
          "output_type": "stream",
          "name": "stderr",
          "text": [
            "100%|██████████| 400/400 [29:55<00:00,  4.49s/it]\n"
          ]
        }
      ]
    },
    {
      "cell_type": "markdown",
      "source": [
        "### 1.3 Parse downloaded pages"
      ],
      "metadata": {
        "id": "QLS9gAGtJgQ2"
      }
    },
    {
      "cell_type": "code",
      "source": [],
      "metadata": {
        "id": "UkZqFGAJJli4"
      },
      "execution_count": null,
      "outputs": []
    },
    {
      "cell_type": "markdown",
      "source": [
        "## 2. Search Engine"
      ],
      "metadata": {
        "id": "Yv8T-SFkJltX"
      }
    },
    {
      "cell_type": "code",
      "source": [],
      "metadata": {
        "id": "0wjOsQ-gJoU6"
      },
      "execution_count": null,
      "outputs": []
    },
    {
      "cell_type": "markdown",
      "source": [
        "### 2.1.1 Create your index!"
      ],
      "metadata": {
        "id": "2xsBARBUJoeC"
      }
    },
    {
      "cell_type": "code",
      "source": [],
      "metadata": {
        "id": "3ntzFHr7JrRJ"
      },
      "execution_count": null,
      "outputs": []
    },
    {
      "cell_type": "markdown",
      "source": [
        "### 2.1.2 Execute the query"
      ],
      "metadata": {
        "id": "PnzEemrYJrbD"
      }
    },
    {
      "cell_type": "code",
      "source": [],
      "metadata": {
        "id": "3Dj8H7MJJuYF"
      },
      "execution_count": null,
      "outputs": []
    },
    {
      "cell_type": "markdown",
      "source": [
        "### 2.2 Conjunctive query & Ranking score"
      ],
      "metadata": {
        "id": "4sUYm1BvJuf4"
      }
    },
    {
      "cell_type": "code",
      "source": [],
      "metadata": {
        "id": "Skf6iJ7hJw2t"
      },
      "execution_count": null,
      "outputs": []
    },
    {
      "cell_type": "markdown",
      "source": [
        "### 2.2.1 Inverted index"
      ],
      "metadata": {
        "id": "JnJqLICZJxFB"
      }
    },
    {
      "cell_type": "code",
      "source": [],
      "metadata": {
        "id": "pSNTyrLvJzvT"
      },
      "execution_count": null,
      "outputs": []
    },
    {
      "cell_type": "markdown",
      "source": [
        "### 2.2.2 Execute the query"
      ],
      "metadata": {
        "id": "sRNXsyLNJz4K"
      }
    },
    {
      "cell_type": "code",
      "source": [],
      "metadata": {
        "id": "yOOV24BAJ2ex"
      },
      "execution_count": null,
      "outputs": []
    },
    {
      "cell_type": "markdown",
      "source": [
        "## 3. Define a new score!"
      ],
      "metadata": {
        "id": "NtdfZTIKJ2qf"
      }
    },
    {
      "cell_type": "code",
      "source": [],
      "metadata": {
        "id": "zGKEAK8ZJ7Dh"
      },
      "execution_count": null,
      "outputs": []
    },
    {
      "cell_type": "markdown",
      "source": [
        "## 4. Visualizing the most relevant places"
      ],
      "metadata": {
        "id": "yNNOCxL3J7K2"
      }
    },
    {
      "cell_type": "code",
      "source": [],
      "metadata": {
        "id": "e9M2ekJCJ9mt"
      },
      "execution_count": null,
      "outputs": []
    },
    {
      "cell_type": "markdown",
      "source": [
        "## 5. BONUS: More complex search engine"
      ],
      "metadata": {
        "id": "KK8ODKfZJ9v0"
      }
    },
    {
      "cell_type": "code",
      "source": [],
      "metadata": {
        "id": "2ZpfE-0QKAMG"
      },
      "execution_count": null,
      "outputs": []
    },
    {
      "cell_type": "markdown",
      "source": [
        "## 6. Command line question"
      ],
      "metadata": {
        "id": "HPuc4PmUKAWu"
      }
    },
    {
      "cell_type": "code",
      "source": [],
      "metadata": {
        "id": "kMtRVgc7KEwN"
      },
      "execution_count": null,
      "outputs": []
    },
    {
      "cell_type": "markdown",
      "source": [
        "## 7. Theoretical question"
      ],
      "metadata": {
        "id": "ks1Z654JKE--"
      }
    },
    {
      "cell_type": "markdown",
      "source": [
        "1.Try solving the problem mentioned above using three different sorting algorithms (do not use any MapReduce algorithm). (Note: Built-in Python functions (like .mean, .sort, etc.) are not allowed to be used. You must implement the algorithms from scratch)."
      ],
      "metadata": {
        "id": "jy1q-EUWAgxB"
      }
    },
    {
      "cell_type": "code",
      "source": [
        "with open('ApplicantsInfo.txt', 'x') as f:\n",
        "    url = f'https://adm2022.s3.amazonaws.com/ApplicantsInfo.txt'\n",
        "    result = requests.get(url)\n",
        "    soup = bs(result.text)\n",
        "    s = soup.find_all('body')\n",
        "    f.write(str(s))"
      ],
      "metadata": {
        "id": "8vRwj8kPKHWg"
      },
      "execution_count": 3,
      "outputs": []
    },
    {
      "cell_type": "code",
      "source": [
        "Application = pd.read_csv('ApplicantsInfo.txt', header=None)"
      ],
      "metadata": {
        "id": "sTlqVRwdBW_v"
      },
      "execution_count": 4,
      "outputs": []
    },
    {
      "cell_type": "code",
      "source": [
        "n =Application.iloc[0]\n",
        "Application.drop(0, inplace=True)\n",
        "N= int(n[0][10:15])\n",
        "M= int(n[0][16:20])"
      ],
      "metadata": {
        "id": "DfbHr3UDBbI4"
      },
      "execution_count": 5,
      "outputs": []
    },
    {
      "cell_type": "code",
      "source": [
        "newlist = []\n",
        "students = []\n",
        "average = []\n",
        "for i in tqdm(range(N)):\n",
        "    name = Application.iloc[i][0].split(' ')[0]\n",
        "    surname = Application.iloc[i][0].split(' ')[1]\n",
        "    grades = Application.iloc[i][0].split(' ')[2:]\n",
        "    totalgrades = 0\n",
        "    for i in grades:\n",
        "        s = int(i)\n",
        "        totalgrades += s\n",
        "    avg = round(totalgrades/M,2)\n",
        "    newlist.append((name, surname, avg))\n",
        "    students.append((name, surname))\n",
        "    average.append(avg)"
      ],
      "metadata": {
        "id": "Tn8wJ6aEBggO",
        "outputId": "38842375-dce5-4df9-8229-9cc9eaa92941",
        "colab": {
          "base_uri": "https://localhost:8080/"
        }
      },
      "execution_count": 25,
      "outputs": [
        {
          "output_type": "stream",
          "name": "stderr",
          "text": [
            "100%|██████████| 50000/50000 [00:31<00:00, 1580.69it/s]\n"
          ]
        }
      ]
    },
    {
      "cell_type": "code",
      "source": [
        "newlist[1]"
      ],
      "metadata": {
        "colab": {
          "base_uri": "https://localhost:8080/"
        },
        "id": "jVZuTCC6oAwf",
        "outputId": "2dcb35cd-403b-4761-9862-e422efba2b89"
      },
      "execution_count": 17,
      "outputs": [
        {
          "output_type": "execute_result",
          "data": {
            "text/plain": [
              "('Paula', 'Ahmadi', 24.02)"
            ]
          },
          "metadata": {},
          "execution_count": 17
        }
      ]
    },
    {
      "cell_type": "code",
      "source": [
        "students[1]"
      ],
      "metadata": {
        "colab": {
          "base_uri": "https://localhost:8080/"
        },
        "id": "kIFBvfzyoE97",
        "outputId": "64e8d1fc-1959-4e92-f19a-e0ff5e96b525"
      },
      "execution_count": 18,
      "outputs": [
        {
          "output_type": "execute_result",
          "data": {
            "text/plain": [
              "('Paula', 'Ahmadi')"
            ]
          },
          "metadata": {},
          "execution_count": 18
        }
      ]
    },
    {
      "cell_type": "code",
      "source": [
        "average[1]"
      ],
      "metadata": {
        "colab": {
          "base_uri": "https://localhost:8080/"
        },
        "id": "gjhHqE_FpCLK",
        "outputId": "b8dee74b-cc6e-4049-d5ba-88d7ec3b31c0"
      },
      "execution_count": 19,
      "outputs": [
        {
          "output_type": "execute_result",
          "data": {
            "text/plain": [
              "24.02"
            ]
          },
          "metadata": {},
          "execution_count": 19
        }
      ]
    },
    {
      "cell_type": "markdown",
      "source": [
        "bubbleSort( )"
      ],
      "metadata": {
        "id": "kt04SKHBBjKb"
      }
    },
    {
      "cell_type": "code",
      "source": [
        "def bubbleSort1(average, students):\n",
        "    n = len(average)\n",
        "\n",
        "    swap = False\n",
        "    \n",
        "    for i in range(N):\n",
        "        \n",
        "        for j in range(0, n-i-1):\n",
        " \n",
        "            if average[j] > average[j + 1]:\n",
        "                swap = True\n",
        "                average[j], average[j + 1] = average[j + 1], average[j]\n",
        "                students[j], students[j + 1] = students[j + 1], students[j]\n",
        "         \n",
        "        if not swap: \n",
        "\n",
        "            return"
      ],
      "metadata": {
        "id": "gDUwmbKTkQq-"
      },
      "execution_count": 20,
      "outputs": []
    },
    {
      "cell_type": "code",
      "source": [
        "bubbleSort1(average, students)"
      ],
      "metadata": {
        "id": "N_2dkrh-qBuz"
      },
      "execution_count": 21,
      "outputs": []
    },
    {
      "cell_type": "markdown",
      "source": [
        "421.474s"
      ],
      "metadata": {
        "id": "Db7q-fiNwjg7"
      }
    },
    {
      "cell_type": "code",
      "source": [
        "students[1]"
      ],
      "metadata": {
        "colab": {
          "base_uri": "https://localhost:8080/"
        },
        "outputId": "4a0b8d46-9d38-41c0-b4b5-249ac6620b0c",
        "id": "0iH1BSgBAGA5"
      },
      "execution_count": 22,
      "outputs": [
        {
          "output_type": "execute_result",
          "data": {
            "text/plain": [
              "('Bruce', 'Murphy')"
            ]
          },
          "metadata": {},
          "execution_count": 22
        }
      ]
    },
    {
      "cell_type": "code",
      "source": [
        "average[1]"
      ],
      "metadata": {
        "colab": {
          "base_uri": "https://localhost:8080/"
        },
        "outputId": "2bc95515-b2fc-4bcc-bdc3-3c5c1590d02a",
        "id": "rkn3kIHAAGA6"
      },
      "execution_count": 23,
      "outputs": [
        {
          "output_type": "execute_result",
          "data": {
            "text/plain": [
              "23.54"
            ]
          },
          "metadata": {},
          "execution_count": 23
        }
      ]
    },
    {
      "cell_type": "code",
      "source": [
        "def bubbleSort2(newlist, average):\n",
        "  n = len(average)\n",
        "  \n",
        "  swap = False\n",
        "  \n",
        "  for i in tqdm(range(n)):\n",
        "    for j in range(0, n-i-1):\n",
        "      if average[j] > average[j+1]:\n",
        "        swap = True\n",
        "        newlist[j], newlist[j+1] = newlist[j+1], newlist[j]\n",
        "\n",
        "    if not swap: \n",
        "      \n",
        "      return"
      ],
      "metadata": {
        "id": "Cq33KSI-Blnm"
      },
      "execution_count": 12,
      "outputs": []
    },
    {
      "cell_type": "code",
      "source": [
        "bubbleSort2(newlist, average)"
      ],
      "metadata": {
        "colab": {
          "base_uri": "https://localhost:8080/"
        },
        "id": "X-l2S9eni9yS",
        "outputId": "f452cc66-9206-472e-e8ef-d0e4af3aeea9"
      },
      "execution_count": 13,
      "outputs": [
        {
          "output_type": "stream",
          "name": "stderr",
          "text": [
            "100%|██████████| 50000/50000 [06:33<00:00, 127.21it/s] \n"
          ]
        }
      ]
    },
    {
      "cell_type": "code",
      "source": [
        "newlist[1]"
      ],
      "metadata": {
        "colab": {
          "base_uri": "https://localhost:8080/"
        },
        "outputId": "c57d4893-277f-4d1f-ae53-98676c9dc868",
        "id": "sbVNfQRV_wHQ"
      },
      "execution_count": 14,
      "outputs": [
        {
          "output_type": "execute_result",
          "data": {
            "text/plain": [
              "('Paula', 'Ahmadi', 24.02)"
            ]
          },
          "metadata": {},
          "execution_count": 14
        }
      ]
    },
    {
      "cell_type": "code",
      "source": [
        "average[1]"
      ],
      "metadata": {
        "colab": {
          "base_uri": "https://localhost:8080/"
        },
        "outputId": "205d4061-3b84-42c8-98ff-7296731e007f",
        "id": "n44YfZyO_wHR"
      },
      "execution_count": 15,
      "outputs": [
        {
          "output_type": "execute_result",
          "data": {
            "text/plain": [
              "24.02"
            ]
          },
          "metadata": {},
          "execution_count": 15
        }
      ]
    },
    {
      "cell_type": "markdown",
      "source": [
        "393.41s"
      ],
      "metadata": {
        "id": "i6Pow-F8xYY7"
      }
    },
    {
      "cell_type": "markdown",
      "source": [
        "MergeSort( )"
      ],
      "metadata": {
        "id": "rvhka9ZZBoha"
      }
    },
    {
      "cell_type": "code",
      "source": [
        "newlist[1]"
      ],
      "metadata": {
        "colab": {
          "base_uri": "https://localhost:8080/"
        },
        "id": "6u9OmEkMyonA",
        "outputId": "3e617dd4-3015-4cc2-a299-f8da568b3457"
      },
      "execution_count": 7,
      "outputs": [
        {
          "output_type": "execute_result",
          "data": {
            "text/plain": [
              "('Paula', 'Ahmadi', 24.02)"
            ]
          },
          "metadata": {},
          "execution_count": 7
        }
      ]
    },
    {
      "cell_type": "code",
      "source": [
        "students[1]"
      ],
      "metadata": {
        "id": "kod48efWyqXw"
      },
      "execution_count": null,
      "outputs": []
    },
    {
      "cell_type": "code",
      "source": [
        "average[1]"
      ],
      "metadata": {
        "colab": {
          "base_uri": "https://localhost:8080/"
        },
        "id": "WynKtysXyg2V",
        "outputId": "ffe1b37c-2ef1-4c5c-8d83-b99084074837"
      },
      "execution_count": 9,
      "outputs": [
        {
          "output_type": "execute_result",
          "data": {
            "text/plain": [
              "24.02"
            ]
          },
          "metadata": {},
          "execution_count": 9
        }
      ]
    },
    {
      "cell_type": "code",
      "source": [
        "def merge(nam, arr, l, m, r): \n",
        "    n1 = m - l + 1\n",
        "    n2 = r- m \n",
        "  \n",
        "    L1 = L2 = [0] * (n1)\n",
        "    R1 = R2 = [0] * (n2)\n",
        "  \n",
        "    for i in range(0 , n1): \n",
        "        L1[i] = arr[l + i] \n",
        "        L2[i] = nam[l + i] \n",
        "  \n",
        "    for j in range(0 , n2): \n",
        "        R1[j] = arr[m + 1 + j] \n",
        "        R2[j] = nam[m + 1 + j] \n",
        "  \n",
        "    i = 0\n",
        "    j = 0\n",
        "    k = l\n",
        "  \n",
        "    while i < n1 and j < n2 : \n",
        "        if L1[i] <= R1[j]: \n",
        "            arr[k] = L1[i]\n",
        "            nam[k] = L2[i]  \n",
        "            i += 1\n",
        "        else: \n",
        "            arr[k] = R1[j]\n",
        "            nam[k] = R2[j] \n",
        "            j += 1\n",
        "        k += 1\n",
        "  \n",
        "    while i < n1: \n",
        "        arr[k] = L1[i]\n",
        "        nam[k] = L2[i] \n",
        "        i += 1\n",
        "        k += 1\n",
        "  \n",
        "    while j < n2: \n",
        "        arr[k] = R1[j]\n",
        "        nam[k] = R2[j] \n",
        "        j += 1\n",
        "        k += 1\n",
        "\n",
        "        return"
      ],
      "metadata": {
        "id": "TwiDzQSKP_Dd"
      },
      "execution_count": 67,
      "outputs": []
    },
    {
      "cell_type": "code",
      "source": [
        "def MergeSort1(nam, arr,l,r): \n",
        "    if l < r: \n",
        "\n",
        "        m = int((l+(r-1))/2)\n",
        "\n",
        "        MergeSort1(nam, arr, l, m) \n",
        "        MergeSort1(nam, arr, m+1, r) \n",
        "        merge(nam, arr, l, m, r)\n",
        "        \n",
        "        return"
      ],
      "metadata": {
        "id": "p8hp4ItrQLrD"
      },
      "execution_count": 68,
      "outputs": []
    },
    {
      "cell_type": "code",
      "source": [
        "n = len(average)\n",
        "\n",
        "MergeSort1(students, average, 0, n-1)"
      ],
      "metadata": {
        "id": "TzuPwZZ5RlOI"
      },
      "execution_count": 57,
      "outputs": []
    },
    {
      "cell_type": "code",
      "source": [
        "students[1]"
      ],
      "metadata": {
        "id": "J-qDWakiR9FN",
        "outputId": "923df28a-c93c-4a23-8ea9-4438b9ba790b",
        "colab": {
          "base_uri": "https://localhost:8080/"
        }
      },
      "execution_count": 58,
      "outputs": [
        {
          "output_type": "execute_result",
          "data": {
            "text/plain": [
              "('Aaron', 'Aste')"
            ]
          },
          "metadata": {},
          "execution_count": 58
        }
      ]
    },
    {
      "cell_type": "code",
      "source": [
        "average[1]"
      ],
      "metadata": {
        "id": "K-rzi8ecR_T5",
        "outputId": "541a4fa4-5264-4c46-b6dd-19cd11c0da62",
        "colab": {
          "base_uri": "https://localhost:8080/"
        }
      },
      "execution_count": 66,
      "outputs": [
        {
          "output_type": "execute_result",
          "data": {
            "text/plain": [
              "23.63"
            ]
          },
          "metadata": {},
          "execution_count": 66
        }
      ]
    },
    {
      "cell_type": "code",
      "source": [
        "def MergeSort2(newlist, average):\n",
        "    if len(average) > 1:\n",
        " \n",
        "        mid = len(average)//2\n",
        " \n",
        "        left_avg = average[:mid]\n",
        "        left_list = newlist[:mid]\n",
        " \n",
        "        right_avg = average[mid:]\n",
        "        right_list = newlist[mid:]\n",
        " \n",
        "        MergeSort2(left_avg, left_list)\n",
        " \n",
        "        MergeSort2(right_avg, right_list)\n",
        " \n",
        "        i = j = k = 0\n",
        " \n",
        "        while i < len(left_avg) and j < len(right_avg):\n",
        "            if left_avg[i] <= right_avg[j]:\n",
        "                average[k] = left_avg[i]\n",
        "                newlist[k] = left_list[i]\n",
        "                i += 1\n",
        "            else:\n",
        "                average[k] = right_avg[j]\n",
        "                newlist[k] = right_list[j]\n",
        "                j += 1\n",
        "            k += 1\n",
        " \n",
        "        while i < len(left_avg):\n",
        "            average[k] = left_avg[i]\n",
        "            newlist[k] = left_list[i]\n",
        "            i += 1\n",
        "            k += 1\n",
        " \n",
        "        while j < len(right_avg):\n",
        "            average[k] = right_avg[j]\n",
        "            \n",
        "            newlist[k] = right_list[j]\n",
        "            j += 1\n",
        "            k += 1\n",
        "\n",
        "            return"
      ],
      "metadata": {
        "id": "H3IqqpvPgZH0"
      },
      "execution_count": 64,
      "outputs": []
    },
    {
      "cell_type": "code",
      "source": [
        "MergeSort2(newlist, average)"
      ],
      "metadata": {
        "id": "2XryXlglCMkZ"
      },
      "execution_count": 65,
      "outputs": []
    },
    {
      "cell_type": "code",
      "source": [
        "from heapq import merge"
      ],
      "metadata": {
        "id": "OdXYxELgS3Mx"
      },
      "execution_count": 73,
      "outputs": []
    },
    {
      "cell_type": "code",
      "source": [
        "def mergesort(arr1, arr2):\n",
        "    if len(arr2) > 1:\n",
        "        mid = len(arr2)//2\n",
        "\n",
        "        leftarr1 = arr1[:mid]\n",
        "        leftarr2 = arr2[:mid]\n",
        "\n",
        "        rightarr1 = arr1[mid:]\n",
        "        rightarr2 = arr2[mid:]\n",
        "\n",
        "        mergesort(leftarr1, leftarr2)\n",
        "        mergesort(rightarr1, rightarr2)\n",
        "        \n",
        "        i = 0\n",
        "        k = 0\n",
        "        j = 0\n",
        "        while i < len(leftarr2) and j < len(rightarr2):\n",
        "            if leftarr2[i] <= rightarr2[j]:\n",
        "                arr2[k] = leftarr2[i]\n",
        "                arr1[k] = leftarr1[i]\n",
        "                i += 1\n",
        "            else:\n",
        "                arr2[k] = rightarr2[j]\n",
        "                arr1[k] = rightarr1[j]\n",
        "                j+=1\n",
        "            k += 1\n",
        "        \n",
        "        while i < len(leftarr2):\n",
        "            arr2[k] = leftarr2[i]\n",
        "            arr1[k] = leftarr1[i]\n",
        "            i += 1\n",
        "            k += 1\n",
        "        \n",
        "        while j < len(rightarr2):\n",
        "            arr2[k] = rightarr2[j]\n",
        "            arr1[k] = rightarr1[j]\n",
        "            \n",
        "            j += 1\n",
        "            k += 1\n",
        "        \n",
        "    return"
      ],
      "metadata": {
        "id": "GN1kEf7vS3KU"
      },
      "execution_count": 10,
      "outputs": []
    },
    {
      "cell_type": "code",
      "source": [
        "mergesort(students, average)"
      ],
      "metadata": {
        "id": "djlvf-t0S3H8"
      },
      "execution_count": 11,
      "outputs": []
    },
    {
      "cell_type": "code",
      "source": [
        "students[1]"
      ],
      "metadata": {
        "id": "ucjwAmGqWt62",
        "outputId": "fa1120ec-3d37-4146-f98c-c2c32f7d16e3",
        "colab": {
          "base_uri": "https://localhost:8080/"
        }
      },
      "execution_count": 12,
      "outputs": [
        {
          "output_type": "execute_result",
          "data": {
            "text/plain": [
              "('Bruce', 'Murphy')"
            ]
          },
          "metadata": {},
          "execution_count": 12
        }
      ]
    },
    {
      "cell_type": "code",
      "source": [
        "average[1]"
      ],
      "metadata": {
        "id": "GBRUG0g8S3Fa",
        "outputId": "8b04a2ac-7ce8-4b56-8dd7-104cb5f520c5",
        "colab": {
          "base_uri": "https://localhost:8080/"
        }
      },
      "execution_count": 13,
      "outputs": [
        {
          "output_type": "execute_result",
          "data": {
            "text/plain": [
              "23.54"
            ]
          },
          "metadata": {},
          "execution_count": 13
        }
      ]
    },
    {
      "cell_type": "code",
      "source": [],
      "metadata": {
        "id": "Ook_HvbSS3Ci"
      },
      "execution_count": null,
      "outputs": []
    },
    {
      "cell_type": "code",
      "source": [],
      "metadata": {
        "id": "J8woVdGDS2_l"
      },
      "execution_count": null,
      "outputs": []
    },
    {
      "cell_type": "code",
      "source": [],
      "metadata": {
        "id": "yNKgHxG0S24f"
      },
      "execution_count": null,
      "outputs": []
    },
    {
      "cell_type": "markdown",
      "source": [
        "QuickSort( )"
      ],
      "metadata": {
        "id": "pKB5BUdxBpJw"
      }
    },
    {
      "cell_type": "code",
      "source": [
        "newlist[1]"
      ],
      "metadata": {
        "colab": {
          "base_uri": "https://localhost:8080/"
        },
        "id": "leRG7Nvl8WGf",
        "outputId": "4e972321-f20d-44b1-9775-8d350991c0df"
      },
      "execution_count": 27,
      "outputs": [
        {
          "output_type": "execute_result",
          "data": {
            "text/plain": [
              "('Paula', 'Ahmadi', 24.02)"
            ]
          },
          "metadata": {},
          "execution_count": 27
        }
      ]
    },
    {
      "cell_type": "code",
      "source": [
        "students[1]"
      ],
      "metadata": {
        "id": "5KAiDCCYOEA7",
        "outputId": "be0f946b-63d6-4caf-dcf0-3656d94d27fc",
        "colab": {
          "base_uri": "https://localhost:8080/"
        }
      },
      "execution_count": 28,
      "outputs": [
        {
          "output_type": "execute_result",
          "data": {
            "text/plain": [
              "('Paula', 'Ahmadi')"
            ]
          },
          "metadata": {},
          "execution_count": 28
        }
      ]
    },
    {
      "cell_type": "code",
      "source": [
        "average[1]"
      ],
      "metadata": {
        "colab": {
          "base_uri": "https://localhost:8080/"
        },
        "id": "nwRGyJEP8V72",
        "outputId": "5935cc10-509b-43f1-c42d-a6c40ccfa2c2"
      },
      "execution_count": 29,
      "outputs": [
        {
          "output_type": "execute_result",
          "data": {
            "text/plain": [
              "24.02"
            ]
          },
          "metadata": {},
          "execution_count": 29
        }
      ]
    },
    {
      "cell_type": "code",
      "source": [
        "def QuickSort1(newlist, students, average, start, end):\n",
        "    if start >= end:\n",
        "        return\n",
        "    mid = average[start]\n",
        "    left = start\n",
        "    right = end\n",
        "    while left < right:\n",
        "        while left < right and average[right] >= mid:\n",
        "            right -= 1\n",
        "        average[left] = average[right]\n",
        "        newlist[left] = newlist[right]\n",
        "\n",
        "        while left < right and average[left] < mid:\n",
        "            left += 1\n",
        "\n",
        "        average[right] = average[left]\n",
        "        newlist[left] = newlist[right]\n",
        "\n",
        "    average[left] = mid\n",
        "\n",
        "    QuickSort1(average, start, left-1)\n",
        "\n",
        "    QuickSort1(average, left+1, end)"
      ],
      "metadata": {
        "id": "4inNcRfI31QO"
      },
      "execution_count": 21,
      "outputs": []
    },
    {
      "cell_type": "code",
      "source": [
        "def partition(arr,li,left,right):  \n",
        "    tmp = li[left]\n",
        "    while left < right:\n",
        "        while left < right and li[right] >= tmp:\n",
        "            right -= 1\n",
        "        li[left] = li[right]\n",
        "        arr[left] = arr[right]\n",
        "        \n",
        "        while left < right and li[left] <= tmp:\n",
        "            left += 1\n",
        "        li[right] = li[left]\n",
        "        arr[left] = arr[right]\n",
        "\n",
        "    li[left] = tmp\n",
        "    return  left"
      ],
      "metadata": {
        "id": "xRynvk7r5aXT"
      },
      "execution_count": 30,
      "outputs": []
    },
    {
      "cell_type": "code",
      "source": [
        "def QuickSort2(arr,li,left,right):  \n",
        "    if left < right :\n",
        "        mid = partition(arr,li,left,right)\n",
        "        QuickSort2(arr,li,left,mid-1)\n",
        "        QuickSort2(arr,li,mid+1,right)"
      ],
      "metadata": {
        "id": "z4MOehBe6Gff"
      },
      "execution_count": 31,
      "outputs": []
    },
    {
      "cell_type": "code",
      "source": [
        "import sys\n",
        "sys.setrecursionlimit(1000000)\n"
      ],
      "metadata": {
        "id": "mjs3Ko9T6l8N"
      },
      "execution_count": 32,
      "outputs": []
    },
    {
      "cell_type": "code",
      "source": [
        "sys.getrecursionlimit()"
      ],
      "metadata": {
        "colab": {
          "base_uri": "https://localhost:8080/"
        },
        "id": "kvWBwlkk6zdq",
        "outputId": "401fbcbd-0a46-461e-e6d5-80e33b313d9a"
      },
      "execution_count": 33,
      "outputs": [
        {
          "output_type": "execute_result",
          "data": {
            "text/plain": [
              "1000000"
            ]
          },
          "metadata": {},
          "execution_count": 33
        }
      ]
    },
    {
      "cell_type": "code",
      "source": [
        "QuickSort2(students,average,0,len(average)-1)"
      ],
      "metadata": {
        "id": "afJBHTYv6KCq"
      },
      "execution_count": 34,
      "outputs": []
    },
    {
      "cell_type": "code",
      "source": [
        "students[1]"
      ],
      "metadata": {
        "id": "kg2suL6nPAcc",
        "outputId": "5462cce9-cc09-433c-a83f-ece61b492c75",
        "colab": {
          "base_uri": "https://localhost:8080/"
        }
      },
      "execution_count": 35,
      "outputs": [
        {
          "output_type": "execute_result",
          "data": {
            "text/plain": [
              "('Mary', 'Thompson')"
            ]
          },
          "metadata": {},
          "execution_count": 35
        }
      ]
    },
    {
      "cell_type": "code",
      "source": [
        "average[1]"
      ],
      "metadata": {
        "id": "RLElY-wHPDFF",
        "outputId": "785b99a3-d4e4-4171-f216-77fc2028e474",
        "colab": {
          "base_uri": "https://localhost:8080/"
        }
      },
      "execution_count": 36,
      "outputs": [
        {
          "output_type": "execute_result",
          "data": {
            "text/plain": [
              "23.54"
            ]
          },
          "metadata": {},
          "execution_count": 36
        }
      ]
    },
    {
      "cell_type": "markdown",
      "source": [
        "2.What is the time complexity of each algorithm you have used?"
      ],
      "metadata": {
        "id": "c-xbmf_rCeEq"
      }
    },
    {
      "cell_type": "markdown",
      "source": [
        "BubbleSort"
      ],
      "metadata": {
        "id": "QD_bxKJ_Cfqm"
      }
    },
    {
      "cell_type": "markdown",
      "source": [
        "Bubble sort has a total of (n-1) cycles, and each cycle requires the current n-1 comparisons, so the total number of comparisons is:\n",
        "(n-1) + (n-2) + (n-3) + … + 1 = n*(n-1)/2;\n",
        "So the time complexity of bubble sort is O(n2)"
      ],
      "metadata": {
        "id": "cSdFi5mICs27"
      }
    },
    {
      "cell_type": "markdown",
      "source": [
        "MergeSort"
      ],
      "metadata": {
        "id": "_u4OtcIwCyN8"
      }
    },
    {
      "cell_type": "markdown",
      "source": [
        "Merge sort on n elements can be seen as merge sort on two sets of n/2 elements and call the Merge function once, so:\n",
        "\n",
        "T(n)=2T(n/2)+an=4T(n/4)+2an=…=2kT(n/2k)+k\n",
        "\n",
        "until n/2k=1\n",
        "\n",
        "Then T(n)=2kT(1)+k=n+a*(log2n)n\n",
        "\n",
        "The time complexity is O(nlogn)"
      ],
      "metadata": {
        "id": "Qoq1CHoZCz-1"
      }
    },
    {
      "cell_type": "markdown",
      "source": [
        "QuickSort"
      ],
      "metadata": {
        "id": "g02NBTa2C0WD"
      }
    },
    {
      "cell_type": "markdown",
      "source": [
        "in the best case\n",
        "\n",
        "Partition is divided evenly every time. If n keywords are sorted, the depth of the recursive tree is log ⁡ 2 ( 2 n + 1 ) , the number of nodes is n \\log_2(2n+1), and the number of nodes is nlog2(2n+1), the number of nodes is n\n",
        "\n",
        "For example 2 nodes with a depth of 2.\n",
        "\n",
        "The first Partiation should be to scan the entire array and do n comparisons.\n",
        "\n",
        "The obtained pivot divides the array into two, then each requires T(n/2) time (note that it is the best case, so the two halves are equally divided) into 2 pieces: T ( n ) ≤ 2 T ( n / 2 ) + n , T ( 1 ) = 0 , where n = ( log ⁡ 2 2 ) × n is divided into 2 blocks: T(n) ≤ 2T(n/2) +n, T(1)=0, where n= (\\log_22)\\times n\n",
        "Divided into 2 blocks: T(n)≤2T(n/2)+n, T(1)=0, where\n",
        "n=(log2/2)×n\n",
        "\n",
        "Continuing to divide, we have the following inequality inference\n",
        "Divide into 4 pieces: T ( n ) ≤ 2 ( 2 T ( n / 4 ) + n / 2 ) + n = 4 T ( n / 4 ) + 2 n , where 2 n = ( log ⁡ 2 4 ) × n divide 4 blocks: T(n)≤2(2T(n/4)+n/2) +n=4T(n/4)+2n, where 2n=(\\log_24)\\times n\n",
        "Divided into 4 blocks: T(n)≤2(2T(n/4)+n/2)+n=4T(n/4)+2n,\n",
        "where 2n=(log2/4)×n\n",
        "\n",
        "Divided into 8 pieces: T(n) ≤ 4 ( 2 T(n/8) + n/4) + 2 n = 8 T(n/8) + 3 n... Divided into 8 pieces: T(n) ≤ 4( 2T(n/8)+n/4)+2n=8T(n/8)+3n  …\n",
        "Divided into 8 blocks: T(n)≤4(2T(n/8)+n/4)+2n=8T(n/8)+3n…\n",
        "\n",
        "Divide into n pieces: T ( n ) ≤ n T ( 1 ) + ( log ⁡ 2 n ) × n = O ( n log ⁡ 2 n ) Divide into n pieces: T(n)≤nT(1)+(\\log_2n) ×n= O(n\\log_2n)\n",
        "Divided into n blocks: T(n)≤nT(1)+(log\n",
        "2\n",
        "​\n",
        " n)×n=O(nlog\n",
        "2\n",
        "​\n",
        " n)\n",
        "\n",
        "That is to say, in the optimal case, the time complexity of the quicksort algorithm is O(nlogn)."
      ],
      "metadata": {
        "id": "3uzjOI4aHLw0"
      }
    },
    {
      "cell_type": "markdown",
      "source": [
        "The sequence to be sorted is in positive or reverse order. Each division only gets a subsequence with one record less than the previous division. Note that the other is empty. If the recursion tree is drawn, it is a sloping tree.\n",
        "\n",
        "At this time, n-1 recursive calls need to be performed, and the i-th division requires n-i keyword comparisons to find the i-th record, which is the position of the pivot, so the number of comparisons is\n",
        "![image.png](data:image/png;base64,iVBORw0KGgoAAAANSUhEUgAAASsAAAA2CAIAAAAQ+SgSAAAgAElEQVR4nO29ebxlRXUv/l2rqvY+997uZp4RZGomRUUBBYUYZ8UhAUTUvDhHf04PEY0+Nc7GGH1qBo0jEvWhwWBEBCdEUMCBmW7mBhq6gaa76e577zl7V9Va6/dH7XPuuU2DYBLzfr/c72f37XP2qV27dtVatarWtMnEVGEMsDpI0giuGewgKmAEAHAZSEANAGoGI/IATFUQ4SzDBaucAgo4GLcKONRQgLGABfxhYIAABDgFAHALsCAAYBNQUniGpwwAyTeGXIGAKktwDgRNKQVfm4EIQAY8UMgaIBZwIWeysbuSlm8CMzAAZ0QEMkABAqDQBFdLAge0pIrBpNYwBjFDwQ6OwWCFea5gbGpqxs6BAEMzaAEPIKcEZCJWgyiI2DsPsAMNW/Of380LWMBDQpn+O4okMoIzmBV2IRAcg0QUIOcAIMYYQpCO/QAwSMcqfEBhQoCalgsYRIScJEUFALPcNOAAwHkIkC1VqEZMzKqptHbQ7xu40Zzb7Mkx+ZxzzgKHXm8KFgD4wICc829nPfPZx22YtjYKAAcwHJeGUPfIDMDu39QFLOA/F1RojxVcBJAf/5XBBIABLqTqneu1TRRBjFpVPYBVx+rq/nJX6wPfl4kJlCVnyQBCcKFiEADzE71SRgAQAlUEmuMUDg6SYDo50TN4xxMTdSUJCnKefUUAJCNnGNggV/zqF8cdd/xNK+6kitg5ADlmN94BQCe1F7CAPyxojkkUMIBtyD0Kw1BAjYQEGQBX9yY9w8wMiEm8h2L+aq5jws3OzENMkQHvvGcmAGUJKgbHKWaoWs7MSBmuayaVKhmkcIA1kJSL3FI4AwABxLKoOAfnoICqPu7xj77huqumFm9/1xpQAMAh1DAQYDwnAxewgP8SkIGsSIt5mzUdFwpWSjpGALhpRdTq2pkhBAdATeZLkSLN5pN2JyG7YiEEAFw2jcOFLhwZYI7gQB4KOI8YE4OtzAzdfznC+u9++1v22eeQK65Zdcqb3/uUI4++c/VqBUCeHIOgCgOYHQLHZjBodYedoUDbtoiAMggKGJW781xbF9aiC/iDwUb0xtpJrY5DmALAgMBSd8oYxgaE2jlHBBBhZhCBob6lA3e1GoqkmcPYLpFAogLAEQOAKNQgJoDzAaaAZdFmEOsqAFCwoQhCYzDA6Q1/8ap99jn4zDPPO+5FJ9y3bv2GjWsNJl3VRg6tFJGu3nGG3zgDBep6AuzRSc+R2ggLOtAF/JdhyISAEKScGZJjBglzx04a8z13b/r4xz+7atWqnCMZFk1UrbTWLSJR2O+h76kKf6amATNAIFIgAZde8oszvn565XhiojIgSqc+BYFzSmAgDm6/7ZaLfnnpUUces2hqca8Ou+2222c/99k61EyhqirHbtGiRc96zrMQm5zz5MQiCgCQkqAwJimQh2zIAC1IvwX814LGJcIcrFCmNTKzqX3f+z/0jGc+c9ddd3YMADmadyFDyk7OhhvKh8KEQzUrvPfr77r7jNNOe8bTn377nfcAOOLIJ7VxcPJb36wxAyA3J5/Yew8AzFdcccXzjj32yCP3vfXWWw8//PDJycm3vOEtKSW1lFJSk3Yw+8Nzf4iqIqKU2+76IrAVD6epC1jAfx7mJGChSTEoOqFn8AYGMgxC7i1ve8db33ry4x53gFomNihCIAV3i01Dm5DHK+6oe0TkPDoM5F0FMJRW3XHnm970pk996m9vvPFGK9OA0Z+/4hVPPfqIz//jZ7PBRgoTAuecAUa2G2685cTj/2TRYnzr22fss+/SGGMe3n20LFYojESkqhwbssK5eVvULWxVF7CAPxiG9gMCCKqDBuZAsKGKXhGSMRBB6Vvf+e4+Bzx6v6W7xhaOkZs+1GDIAMHDVPp9DjAgynAR+wBbKwMI1Ma2aRoQ7f6IR3zzX878y7/8SyICewPAFZx7/nOfdv3yqy6//JZBU2rKMLCvHMDNdLzsimuPOeaIfh/3rL3riquuJARYkeOAgYYr6VuX33j0MX90w29/eeQRT5/dFFMSMDA0R3R2k5FaeIEJF/AHBhMIQLbY5zAJDf22WBfa3J8WABSgs/0Nq//hC1955rHHg1HXANT3AkhgSAYBw9T1JtoMAZhhRRXTaVTnMeJosxV83ev1AMAxTAEmIjDNCgCGKk/w0/7oqM9/7qvVmIGQVRLEejvscckVy3bYYWqyh59eePbXv/3Pk71eTYGhMDOBGQhw4L32O+iejZsGtvrG63+y3dZVCA4Ek84hgDozB8/tAReYcAF/KBiQDGIKbafX33vwbntOePf5L34lGr73rW/ut9dehz3xWTffdg9Yb7rpmshu96XbG6HpJ9W0fvWqA3fZdYnv/cM/fqGf0/e/dcauSxYfffRzVq5piYb2ic5saEOgHAIMYgJDDYOmBaisG6NoMtRFPjGAfPjhh15y8W9WryrtVQDM5OEqWAUFNAUGHNTg2DmAwGRjbi4AwhTgi+bFATFmMBDYwJ1m1TAnCxewgD8sMllZgy7Zfodly5c/5fCjdt519y995Z9T2//Hv//sytVrFm+zA/LgwvN/uOf+S1HDgMnJwIxtd91h+ZWXH37o47bdceczvv2dNNv/xtdOW7HyTi0OZQSwSYxExaxPNLTtE4GAYmNoklR1DUIcNKGqqroWUwViipAMGBFJG++8/W4FOnugJAFYsmVQ5UityWrsAZOOo8o9UbaUBAswOGDCgYCq8m3Ken+nAQCk893qFrCA/1wowKBkEQakfPvyZVdfftl1199cT0we9/KTrlu+bNdH7AVm5HTl5Zf5ycXiCk1rTAOo3HHbLddfu+yOO+9OGX/yspNuWr58732XTkyV/ZQAcLWHzpN+ChTjfRK0SevKFYVoNdkzs35/UPUmDKiDKwvEnXfedcniiXVr7hHAisu4C1WK6nreeQ9IRUyOjGAoQRNlm6ngDADqwBWMGCnFaZgAQKChlohHJlHt/mxRHbyABfxnQaBMHtHA4dJfXNjk/qq77z7uhOPQtDdet/yEl75kYhIIvcVTi9dt2KhAzBBNVQgw+e2ll/Tj9O13rHrJSS9B015/3XXPO/ZFiyYwiJlggH3/7LOdc84F57xznn3lXBW4rly9dOn+OUsbpSwd234jhqnFi2ZmWym+MtICvj/bVk6vX36NodttMoBQMeKArCUxgjegFRh5Yj/cZg6ddIiQBcxm1qumhNxsVCI3dDJ42B4wNn6hjZ8aP6djX4deP3N6Yb1f4QzLD8T589o474tiXiVqmzVvbkJ5sDnFoAZ9oAvH65/X7OEPm3ehdU9t0LHfHtakppvdbt75zcdL7/dh9HXzLn34oz28bP6Az29JBrKNd/68pxhVMK+R41UxIBrhHfrtxVdcu+Oue7/19W/YKuDe1XdddMmlO++8fXBAm1O02jsCKg/HLqcGIhdcctl22+/xhte8cknAunvX/fiCX+61954ETFbeLAN43rEvEFPVPDyiaszaJmlX3HLD5EToBWcKGOrJnqrGGBdNTrnSVO9gCKGufLV03/261rMyWJGm3/jSF27PvdpPVL1tAi2eqLfyfpJCr/LBOyJXUd0jcpPBT1S+ZlfxksVL9rz6xrVacbED0ojaTKLkYX9K6Z4UDUDWJJaLpdOG9pUhsY6xlhatkwqKZVQAlfIfBEjIKIYSsQzTsk2eTUPBKy0swcZobowNdO6mChEUxx8DTGFInS1WszVlgTFG9PMOA7KKaFnv6HD20GRRoQrkBGRAkJsBkAAZtP3hTCbQXCoVaFLpVjOAQrvek7n+EKgiYf6DoGP10XG/mUUBE2gCEqBtaspdS4cY1JBhVphcFNJNW2omVk4AMZWaSoBoGrGOAQrV0VyzRVaxokKEAWI6qh8mMmTolASWoBEGSdlkFmgypAWyjbGoCUzGTeSAFpqx4sBcHLEBQCfYIc0itr+86d6Xv/E9hx6wSx3z1cuvaxye+OTHAkBv8dKDHz+BvGi4d/Lg2Oovb1796re/5/CDHjkJXHHd7f0w9aTDDq2BCpnIBC6Rk82nj84UQKau6D9UoAYVRyAzaRsPREkggDhmnQiLd99lz24widkg8PyZT/714w/cqQdsM7X44suunckbZ3LTpKbNbdvMJkmpTWYy058epNlmZvoLf/cPlmXt9GwE1FABTEhtAzOwwRWp6EHOYgIQAqnBMxXzoQ29Feb2juNBFQQDKYY7XVCZ23ICQClLKZNS27m7EgFwowANLrrgB0ShGskZjkDQVCg9l0pUoRBHBDzYNtZgjh0zJGvwnR+sWa6ohGSCXUcsvqrMMqC9uqdAlOLMQMUZP0Ecd/bfAu86n3mg035HaaXEfwIlmHpenz04WJEjDLXvZXA/CQzSuWp1G/ViaiIiA0xAcASk1AJwoXvYh3KrBxahRXdRhEEGkQNSUgN8cKXjADh25AzIEUgAE3KSLTzQXKWlN+YhgCEJga+7+eZrb7nzac99YX/awLh6+XX7HHDghef/6MZbV8D1jjr6aatuvjlOw4BBM0AIV19z3fW3r37y054ZgDyY+fWVVx/w6EMv+NlP7rj17hJ8q7BByngAOIJphhaiMuTsPMUYSbIA3BnrTZPeufruR+y5c6FtATMhwLzfcecvf+P0PRZRu37V81/woqtvmlagyUqOXd0j+JxNVbmq4SapnnzVq17ylS/+TZs2CDBpoAwTDRMVSO+9++6PfPyjd65Z00YFeQo1VKOZUfHES4NmdjSFFMWVEYQYNNebCgLIAW44+Gza82ijOT8BSl/5/GeuuvJKBpvzSUBAj8FFN0vBXFVqoyKchyFeBmYgECQm5zxIzaKr2STDuShtjKUDSURd0YDNjXtXgxVfwSwESFbvGIbZmU1AZjNAS9RnYsADBDUQVVlMwWapcgHmIGxKBIRiS+0CWmCaHJJIY4RUQrIVlasdAoiKT1NxKS7toTm3jDER3enAhqsN7yEGQ4roBZdzieaEApm0jAsBBKfwNBwF57nwS0rGCICfI/553TI2aHN/h7CRMZm6+IISSaqoiQmIkpMInIcaTNBmGEeEDEAQ2MEAMMiBXPH4H4su8mV6dkUKDe+ZDBBefvOK3Xbd7pGP2HZqMeVBc82111195TWPOeiAg/faG8aPPuTQnsP111wfgInehPTbW29fudvOO+25x24AvPcrVqz4zW9+dcijDtp7r50BlqQATwSPeWGwwNjnlBKYJcbZjRsPf+IRx7/kxA0b1x984AGf/tRnpBM34Ufn/egpTz1qh527Nhu0qHaS6UZr71rx0zMP3moKWHLwk1+0fPXsrFmjeTb2YzI1UxM1ETVTs9TcdM2V5/7qsk1mFs2aZGnarLlz5ao3vfltv1127YwlNZNkeZBMNJupmamYppTabDI8U25vafQ1Z1PJZrnonNRMo0ljubG2KcH7JjK4b+0b/+I1Z5zx7WTWj6WomEmbmmQWu4rL5aZmuftobSOmZqKmkuJsTn1TMRO1OGpVSsk0m5i2w8uG/5dOUBMb1h+btjyXWcyz951/1hlvfPUrv/WD8zeZiZg0aprNkppkk2TSTwMTMzE1GySNltSGTbLUxhmzvllUMy0tF0uW+820qZnMtWP4hPMaZnNHMs1qMcvszy/80UH77uvBRxx25AUX/DqLDZJls2xNtFat+1J6yVL5L8Y0nXU42km6UeruWzph1ASbu6ml4WcrA27zy6l2d9ImR5VkopZyGlhMluKV53/3s5/64Aknv/3O0opBV1MejuDoXjr+VZNpKl0RLalF08ZUmmz9bLmjrWgWG7NG1XJj7eC0r3zrE5/8Qr8tFU6b9ZtsxQmzPKmItWat2aaN68xiNptNaexR5j1ZjI2ZmGZTsZwtRhNpmjgw22iWrDGb1v69b3zVq3918U39pnuiZIKBmZpYO2Ob7rV2zTmn/32PGbTouSe84da1MmPWmKiaZFOzRgaNDMzEBq0N5Owfn9+YmWSTGUt355l7XvqK/3nZsrtbM7FWx3is6yoRMxNJ40OoXVOGXZyyqZhFtTQskSz3LW/M991zzJOetvfeh6y59z7JMQ+m//Kdp/74osubQhKxb5rUrDHrl/HTwvOm4/UPSTQN+qbRrJmZXacWYy7zggxS7Gg9dxSvttnRcWDbth2HN41pamfWn/ya//HaY5+9vQ9f+s65d6ul4eOXZ4wq0Vo1sWzWmmqZZcRMREttpe39LLNmEpNMNymVATLR0ZjPJ+v5U0MaHlEtmsYf/fDcc845Z5AtpfY7//TpR0xNnfPTazeatWZqSa2vNmsmHcuoWTIZFEbsi+WYhhRc+q77UG7xuznQ1FRsM0iTy3iIxYEOWo2Fi/7t619684ufue0kjn3zO24uJB9tNHxtd7uO38Z4Ukwb01i6qAxizK2YZrNmrPEp9ueYJImJvewlf/7rX12RJJs1s/0NSS13j5Ry1hFlmknKg7nn1c2faO7Rchz0Z0zLtjeZ2casAzO1JrXrzv/x99/9jnfqwCx3vK0m6Jsky5aTpcb66yzd949/+0EPAFu9+R0fu2nD9EazpKapkJEkS/1m2pJZtJy1H1uzxvJ9JmvO+Orn3/+Jr24ySxLNZvqb7iuzVzsUQNmsn9RMchoMZ7JO7IyY0ERNk1mjFttO4kXL0xbvs9S0s5Z0SMUab7v5phP+7PWrN2RTM20sNWo2MBtsiQPT8KTEIRFbY3narDFtk8lAWrOomgfRpPBeKw/CgSkNZYKKSTRtLM72r716/222/9rZP19jNjBrmsbMRCybDVI0iyptaY1kS9lUNaW2oySLpn1r7zWbaXJqzTpiUstiSS3lIQdugQllPhNGtVYtXvTzC0uf5Bxt023/8yUvOOE177otWlsIxqJYa1o4MElSi2bR0mDGbGA2Nk3Ok72lOzcjxXEJPAedKyQ55+73mWxZs6VocThNR2vus/U3vOYlxz7tNafcZpbUbLabGuZzYCwcmDbnQMtm/dim8VWVWdu2qqpZzMTiwEQ0JmmjZbvnjlUnnvDSX/zykjb11SRGi9HULOZBaVQbc1ZRk6xJVeV+In3sMTWlZCaSo+RoJpbiUB5ITNM/Pu/f3nHqyTlK4aIRB3IAXNkiKKO3LfzU6173mvee8vopbPynT/31/znzvPsUSiBGjAqwwPm6B1KwOme90HmaN+viF758xhOPPLzNcKwwmZisISqAOeRGYBgIEhHADq5TfkIBHUbtlz2OgAwWoAEluotbtDMYCKQmh0zIBEEGaPfdHplj+tEPflB2LtopQcazFWy+WM8E8p3urNEWjtAYxCcYmKFCSpnQMMRAYV76G8LQURZo29Z7r4ac0tAzgqE2Qb5nLFkjAKCuHTp3IdQ+QFoye84fv+CGZauZizsFeQ6EZMhNVJCHRmgbnW8B0iZAlJAZSeBc5wWM+z3d2BPzMAMDGfiopzwZACscBbDts3RPwWAydCUzgqBCZiiA2UzTL3rBScuvXunrKcDpMMo1xuHurtvBd8GvhHG1II8dc/tAMhuZiEz0Rce+ePmVt6DnwKTGDEcGiQ1AqBiLKmd50dQ2DTCIQM0jChnb6RGI53IwjZSRAIAqVBi2KKV+Tv2q8lmFHKc2w1WWEjnPISAPdtxtx9NO+8qll/76nnWbEjh4iERA2XmFpZyqQI5gICZPRHOB5zZ2lDYRmRnA7ELhUHhnEJUUgGuuWXbbyjs/8L4POcfGIN/tAxVgDxXJqCtUrhUYgpta8r73vuvEY59KeeP7Tj7lX771k00RmVFVzIADwRgsoOJwAzGBr69atoL8xKGPP2jCl67Ri8/+10Xe1RPb/vqKWzbOzr73PR9YPLH9hz78yTZap7i0jlVsbABHp4f5qpDbnGb7T9hnn217tNs+T7jlLnGAL2nhvD/xuOMuOP+nIsjJiD3QKQ0Ic+k9aFh50VwnAhxymzzXa9ev32+XXbet6k986jMJdNb/+fojd9rxyKOfe+vdrTBK1p35NoCO3Ou6VgUzfBVUAWLJAvbaDIIVP6KivBeQStaiXAKZtc1EPVHmCkclCJoAmFmoao35A28/dYnb7pinP3vtdFx2zRUvftELJ6Z2+enPl7FHzkUBWBQtCtrMoMf3OwCilKwiQAU84evJJz7xkFJaRqYaBUwNjWJWJU/1pqCQbIXgRFDV3N2xo79x3c+QIh8I3YViSNCsiafqJVBkUSIGGCIuVFkyIEh9WE5JPFDVAGeQwtRB3eh2Q13RkFoA8ka+UwRlOKDsf6oQ2EEtF1219xXAFGozqCZU3lKs6/ptb3vLjjvtlMQABMcGA9hg3jNMNSYCDYpZxh7wOVU1hJBz0ag7GpJv5RwBj3vcoa961at7E1MA1FogO+sIkiHkyRmpQItuH5jCou3+/vP/+4QXPBXTa0999SvPv3jZLKDDeYYLdVEiZsAT9ZLQjy785Z777beo7hReyHzks4++8pfn7b77Hn5i8fs+/OEXHH/8a9948m233gUmgEFsOcOMbGijy0IGgxM4IzXq9HlUbx223vG3t9/y4Xf95UGHP2HJLi5nkDoQlBLy7M3XXduPRlUQZYI66Z/y5tdx8dxjR+yYyBExUeBwyjvfm4EIuIlgFrbfdpebbr7+0Mc+eukeB57+pW+opi999fO333mvWJ0AeDaLQIZmQCCxEIHknLISw4AsIOaUQb4GmNmxQXJWIMDaNADUeSaCpYjiTWgaCv0Ui1lRxZMjA4fwVx/7xEc/8u4D9lt6+223nn7aP3/845/Yeafd163dSID36AyeQ8MaqFsSjUhh+JEJjuCyoQoETdBGZ/S3y1acdPxzPKQY+BhwJcNmWVhYNhNVRbH9FLON5s4qSdoZ4xQwNhVARYbFMmCIMaOzupqJzrGfRSI1E1KnQiDk1BlsRQSkzjkQQaMPKiJD6SIwhSk0vvuUtwZyjp33FZFzzN45Jscc3vauv2oNWQEgOGhGBSreJGrEREQGAw3zGBGDHYGUqjBSwAdHIHUeNBSnnYuzDxi6fYKo0zOPe1waYF2gbIm2JXJFbU5Fnw8FiF0YUwaLCMggJiPLEo1qK6w7scuuH/3IXx3yyB2qPHjlq1/32+vXGSDSuOJiM9QOK6BwGW7ZDTcOmka7ICYPZuTmhz84a5999vnq10577Wtfu/fee19y6eWHPOYwU4AQ25a8hwE5pZwAsCOYmBJAJYrfM8yQAfga96793vd/cPgxR1NZm0Qpl+y31x53rrx93foNCSBHKUYgffqzn1JrbLQ1UlMVU8maPv7xDxlgDAWYeOa+wXVXX3PbiltvXbFSlY876cTLLvvN3vvuXy9GBiJaYoIZNFtsQQRTmHnvvWcAWZG1rCXYQNAskomo50JZ6NUhqHTeJOQZptY2k6HOKZX1JHuIdsxIxcCV7awzv7v9jjufdtrXPvHRv96w/r77Ns3s8og9O8o2QWCYgAxEKbdDJ+GO96gk9Sn0K9Zlnm03ge2b//qDk17x+h222raGAt2/bmXFApAqnHMhBCTUvSpFqKKqfBv7gJ77gx/stMNuv7r4qqEpSa9bvmzffZeed97PVbplzbq19x1yyGO//OUvd8RqAgIgRARkNXHsQ5hARq/nY0Q2uKrKsSE4JAGUuWSxRQRAClWQoZn96Mc+nDSK5KZNWSzFRiSpSdL0wY98IBGIkXMh5vLXBk3jXUDJc2tmc04CAlPr3BHMhv4h5WfrFvBiMAjBbFTyQY4tYN4lZEajaYUgzqFNVrIwMdgV49ucoZcDePIRey39zmn/uNsS9Ffe/s1vnSmA8764d8BqWD10BIGShh5NLulJhC+kkDNy+4tfXPjz83/y5COf9NiD91uzetWqu+4+6o+e7gNgqKoJAOd+/2xfTW6/7baeqWIXnPfBB18HN7HXXkvXrt3IDEaEtjfcuPK21euf9KQjclmGhI5wctvMbNp41z1rSrqMLuGOpXmGKdLxJVM/gwCxNGhl0VaLr77sqrUbN1x/082vePXLkfKdK1f90dOfsWQRADg4qF7w4/PqMLXtttt612OunStbgsBU7bnnvqoqilzYyHurfIJWzgNIGpMkZr7nnrt333m3iRAm3VZbbbPzd8/77qGHHRJC5Vxd1Vuf/7OLYEqgqBDRNStWXnXF8i+fdvpfvf+DYF61YsXSgx699ODd0NknFZrffsrJTJV3YauttiIiYvK+chyYwqmnvitnJQIUzpFDhjQI4barrpkWfcoz/jhpcAgq0QPCadXddxyw207b+Un2uy5Zssc5Pzx3nwP3qSYm6jC1ePHWP//5xQqpqwBoXdeLF29VVtQwEFlMjYjUdc3cOQ/0+30G9ao6xUjMZnbXXXfusfuuvWqxd9tutdXWZ//knH0O2mdiYmLSTy5evN0FF/46k/m6hpTIPSQR0WyjRJ/OISfUAc4BWkz7zIUUASApmEsOJniPnFGHatJT4LDdtjsQB6ZqqjfpPDvn2dccKue88zX7CXY1e+ecn/B1z1WBfXCVc65yLvjKuaoKofKheIIO/3oeHZ7Zs3NzZwvYO/bdaee8c5XnwC5wqDn4wFMVTxGHrZZs44Ah92oynVO2mZnlWcvTNrv2Y+985/P+7I3LN1rfrE2xU3OLFaV6MksWGxkcf9LLX/yyVza56PDV8sbZGy7ab2uc+KrX37K+saZ/1rf+ZckeT7z8jk6NnWPKaVCsNDEXla+YSFRLZnmeGWDGdPrv3vehfXbZ97I7N60pWrLYmMWUB5dd8qv99z7w5pXrG7OZYgvUjae+8c/9nH6CR0ZbgN/0zvfOmLVm2ZJYtja9/k9O2nfr3S5fdktjtuama3fdequvnv2bVWYbzQbWmEUbzJjGZvo+s2iW2rZTEm5BTTizabDsmoO33uGb37ngPiv6xr5ZFEkak2myuM5m1h731D9ZeeVqy9Y2koq+N0WTmMxM5Qdf+uJOIfztl7+x3sw23PP6F7/4+Fe/+16z1kxyLOZX09YsZmlmZm+Y6lEAABOKSURBVDaVWzdtZx6IQyNOzmommjeYTm+6/cZvffELg0Yas41qM50uNmaLpq3FZM1symvbvPG4577s1mvutcZiI5LLY6YoM2IzZqm/IZchT/1o1jdrchrabGRIOmKpzWNa02jWN9kgeY3E2eOe88pbr15vA5NBGqj1i446DSxFazfY7HWvPelpz3zdqbeaTZsV8jAZWH/de976Ot8t4XhkmgcYFN70rg/el60vQwW4mA1mTVPOxbggOQ1Mo6rGTofbmg3EYrLi3jk8L9kkq3ZUrRaL2U4si+VuOTXnFNodc0po0QLpzBGqxY43rLMxi6amsyaDzv6Q0lgoLYwMDiqAIYMIUVdct/qi317zsfe9dc8lYIB9yCjaUy2pmBTwyDXsMQcess3UdlXJtohoDivXNtOxft3rX7/rNjVYLvvFz5757KfvvjtihCU47533BjSSvfOdNLVOieI4qzYillMiQ5yZvXj5sqOe/cx9d1tMAiLA1YB6R63ojrs8Ytutt3JAr/ZZBBT+5tOfSdqqxtJHopo1Z1HV/IkPfyAAjeogRsZsnL73mlvuesv/+uAhB+1RYXD19St5YocnP/GxluABXzRwdQ1QPTVVHIxCqHPWkbZRM1KMMFFtaaLXh2oVclIHxKwZTkBZhcqc7Wsj771XyzCEmqnoe11oW/FogXTdilUHPe5Jb3jVSznFZqAX//bKZzzrjxmY7Su7oY8IKCdl8lNTi8vqtKo8gBRzcZGLbeucIQ2I8mDN3ad955znveSVvYo14sZb1/7s4isBhfRdilAPdfA974KmbNkkKxih4qKt7Q/6nj3Dq+nE4i7frO8FVTNTdjCGGdQMhJQEBB8cDJKzJYURxMCe3YSIiLaiEQSufIms6w+i8xUkgQwaqmrRVAhly6ZlL0YOvakPffLTbdvPIuMW+SzSpPjJj7530g0VMwSFoq4sqyjMkLM670EE6jLaghhwBOfgiIjIujQPTCWjrwNcp6gGGAQiGIg2O7r1f/GSGjvT5a4vm36j0SbPAQwzcmAHgSOQ96N4opFiSRwSIUNl/T3rXn/KO//XBz908L77TkA9ENNIbQmYDpX+Csjz/ujJty6/as36TW3nBxa+c+7PDnz8EQc/an8PxaZ7Ljr/vAP23+dzX/g+MahbqkKLf3O3PmaUHUCGQdmpdxY8wbB27fqfXnLxEcc8+Yyvf3PVzTeRAoy2PwPozSvuOOiQxy6ZZIeiJCSDh5/s8iOTlU4xcsZERD0myhqYe1UFTddfe/WyFXccetTRZk3Os5ddu3z/Aw+58Mc/ihtnnZlmAXxMmkVBzvkqxkxEZROYkpVVUlV5gjkApA2hAU9OTJig8pxUkqrzdcpiWYGiYiJfVUMv8G5nUE/0YINN967+3rnnP/9FJ0o7WBLohptuuuuedaLxe+f9YvEkAzArFBKIffG0zFnLIlDEqsqLJEDr2uXUwGPVtcv/4tWv+5+nvHPRVlsT05KtFx/2mMPYTQLeGYMrGOBLTLdj8zmDmcFo2xmQquXexGRUM7ApSQYIZgBpITYiTUlA5hyJSMl4m2IGgciRr4qYAnxRSWhu2WUEDFJTCGBqokJUeENugdAmprYJQBQoXMoKUEom5riqAUiOIhJjVAMzKgcWYzHPiCknFbEMYnM+BEcEZj+maFfuNiOO5rLaKs9tUu4X5trRqQ0tWvxgPsdbuJaH6pLuXlrMJwwYYoqjRvCQU5W0hWQM8ltPOfWdH3zPY554KCuRMJtMBHEdsygILsMbBBXIHnfgzq5Zs+LO1QnkUEtLV9x02yFHHjU1UXm0a9fcuvKOFcuvuuKkE44FAIKxCcBAL0wmIBZfUC0CEN2AxVmkvk5PTw+adTMb/+5zf3/Qfksfs/9+xBg00/VkL7fyw59c9LRnPbdtEkl2BGafECKCDaeJkUN9p3pTBGYgGzLavPrO1ZPbbbXPo/d15IKvLrvysquXXb3PI/fcfbspr1p5Z4CrKuerlGHgUFUGNG1SRQgU2wRA26aoCj/6/vftddBj7l6//vgXvuiYo/500ICpIq76uQ3Bka9ALgMzg34TU6i6ViVIpykgve++dStXrT7s8CMW1YGQb7np5unZmU2bNjzn2U9uYgSUyJdp2TkHQxY4x8UuopZFknOUUyPS+kBr77zr5Se+6nvn/IwtArMIyHnm0Y97whGPWeoMsEkoIAlQWDJjUe9drQoQ6l6IadCZrLgCnHPBeajATAAluCwKaAhGJEAmlhgbAKEqixqCwrIWlTuEWblyUE3GcHXVaqTyniP2kLz8ist33XbPr3/zrH/98td23Xbpb69YngAf6izgqgdfdW8mgjlHoaq6/EuaPYtngUgVvGMixxmUS/7MjCwlXACAOigVF00byZ5iYdJxIyvZaInbscVmiQ8fkAnHgybGUNhaoFKErXFJCFW7irIZd7FF5WUXGZpg9O5T3rv0kMe+5BUvY/ZBYQIO2SyB6uK2DmNkBsNcJgzQzPzozO/++q78plPfvAjQJAiu3M/rJsYsJMSwfQKCoHIwaNQcmAxuAA6AFysRCSC0mitnFBs4BrEaRddTYALIbQy1L5qUlavWvPFtHzzttNO3XwwggzijW6UGgJBhALGBdWilRgK8JhYgBxE0GqeWJGASLSwaFhdP5RxRVwrNyTx7BiBqgQlAShKCozKbFdVIjvDUxctwZRoyYASmbkTKIkdFnDNTkHoY+kmrSc5QD4bBEyD3wQXIIhVwlc1akgkQb3QgYApwlgyeiHJW71gMIhYCmUHVnCOV5BwBZqpU7E2tgT08lDUiKybV4A2VgamboYbeBmYWKAIEBGSZ8b7W4rHdWTgpRQuh6F0jMaMLmyCR7JwrizYTEPM8z4GiX4TCGMJgiMPA2kCBwUEBAXgGpGgU9dbCGJRXegEVQCXMSxEITAoVsDNwNjiAi8YVEGV2LiMzIGA3lvk6Z/Wex7jIDwUUQHn0qWMWLYxXNNTFptoCbAgjOQaAh6bmzTmwY2LIiOQMxiXaTBnqAVhn91MCbTKbALwAWRDKanrw+X/43Mq7++97/3t6rgWQtIYhOIVlo0qBJG3PBSQFMRyy9D3ldnrwpje85w2nvOOAJ+yvsAmQUxiDSnSZeaMgY84N1kUOdGLdDU8NH0QJoxT8nIcKlS64iE3a5j1/9f5nHfsnhx92xGTNZkLkFEYjazyGnTjuylD+76JyFMbGrJ3RRgE/NxpWhoHHenVLsOFozS1j2MaeZf61OrQzAfNzGhMAJIBgHhjqb80DyMNdBM2P6HoA6Ba+MQBI2bYDQPdqkK7EXDuHa7QRCY4ufvC7zGFLhYfWi07yDFOeYESjAJBBBiPAj37FMAvfOItg2Ak27wxGJ0cFtjRemy011SCjhIDdTxZgEFUXACRIBDGyy6GXDMzwUAYXrgaQrMvPNvYssC5ZN/ywocNfiiMRzz3PTNEC9WetzZYsD+QH537vpP/x0nUzMZm17UazJpvl4nqYm5TarElNmqa/Yc3a22+61aT4BDZmzYZb7/mzP33pzy6/ZL21Mc5zaH+I2IIT4tDvTkSKbk5Snp2e+dhHPnrWWWf1+301a1NsYucLrmOeiA9Y3QIW0DnTJrXURVdoMpExt9toNnP+eWc+/sBH9oDHHnLUTy+6atZsMAq+0c7jt9FR9M/I5Xieb+qDgGuAIegRXITlm5cv/8w/nPaRv/n0NlMut9OuWpJRQ7qXsZFj78mRkeW6qi741eWtm2wVBk5CUN5q9x2/+OXP/+oXFzabNvkwdKb8fTF+dTE6iykIIvLtb3/7SU960vOf//yJiYlSwHs/Z5beYhULWMDmKEGcHuRhHuKhXE7n3DfEn/3kgtlGLr1q2SAP3vHml/7p84764UW/nQYGXUoDsLYOqUYqDstdrQZAPbJDpgfeMw4Lm+XUN91o7fr7brrlGU986tU33DFrJtqU2I6ZZKpmaimXGIO+yYy1mwbTMy886bVX3b6hGfK6tNFiYxLFBtPNJhWT/HtMS1sWVznnzQpJymbWtq10DRz7XedfvSADF/AA0PGwtTgXD2XWDNr1l15ykZm1GlVnbPb217zs2OP/n1NXmG00mylEn/oWNxXTqFnqokykixc1i5tFitwfDBPnAW3QTL/jXe/9wIc/etDS3RkwCoZAACuUEBVqGTCRCLYrLv3V2095xx1r1m+z61YRaDNyAocAz6DEaovqCWCzt0A9DNxfdBW/uxLsA0KWXKRiVVWE4mupIl1SA1X9HdUtYAFjUHR2u9EeNWmuq0WPO/yoVsEUiACWxyzdKzYzhZR8p7jh0TuvOzxMSvMg00GfbfCh93/gG2ee8c9nnt3QABWQcsmGQGAKleaGSQ0KghNUQAs+9jWnFFt68PAjrV9RP8ZElU8Zwf+uJjw0EFGMsWQFb5qm1+vB0LZtXdcG66yfQ7i5pDELWMDvwCgCqiTvIIMjMNcKti5ExxATzHlXPf9Zx/TKytUBomAHzyrCbi4z9jB64yEZDhkQrutvf/NfP/m/vwpAEOEUkl01xVxCrVRTH5aD5+JlShWKknqHHbdDp2cf6R+dKoNAIQxmm/DwGeGBxJWZee/NLKXU6/VSSqJS17V1dvPOIcHMSoTIw6h6Af99oTRKvAfIKIZNkWOJH0LT9L1luNpm+Kpltz7vmKMWqdUKZxBjgxcEcT2Bt/F31hMLfO5e1fRgILM+AESBMXgShOghMCdUjUiWFFCJravqWSDAV6pmPOOgAGcsKjGBiphjVXlAYhurakoF/B8kA0XEOaeqPFzalmV0EX1EJCLMTETjZRawgAeFDlNSkoIBZYAKIxISIKw1lAazCL3Tv3j6nvvue8wzngJgZDbMQDQ4RufLNgpWoE4JE37XtO+LQxvYAw45qy9CmCoehq9YBrPG6GoWSEKtgCeGoQIMqEpAFWUwV6EqDiiurlEyk9l/jOQpC8tx1hpF5YwX2KzMAhbwEKAEdhCDEhisRSMaCAEJ0qKqbrj6uiYsOfyPnyoKxxmAiLJjx+MJ9X4fMOBFAQ4QRWB2zoA2qwq6sFQm7Wf2PUA3bNr09//0lXd+4OOZQA65bWooQ2B5LsWsIYM7lciDhE4vYAH/V4BGBnrqfDO5OHJaMwNNIKxZufKK6254/oknZofE2DRQNS5R1yWWADaWt9Tm6n0omzBW+JgMBASGtMuWL9v/UYemVBxFEixClatemRU+8em/fe/JJ0elTQMBMFV7yk0nJ8u75LvA5oe2Cd0iHsCzbosF7/fpP6TiBfz3ARs8EGAlD0aAeQMbKWhAdYbGdStuO+vc8553wvFTi5GAK1as/elvlidCLt7alh1SZdEju/lU7wxuvrvpFkGDpMGTpoTchjqAwiwxgKk4Cza4ANTIkCRuMg9Af/3Fb9x+26rPfeQ9PYCQoIIMBAJloIIEEPoMIE+ax7gT2kPEfAek313w4ZZ/OG1ZwP/vYWOuZEXBmBmE7NBHM7tx5aq3nvLur53zYziPegLJsPWu//b9855+2F414NqIYLCSApkBBxu9akU7zz7zD05zXHuCwocQJurT/+7TU+w+8dmvJAUgsAjUbQQIrnYNXAvX8+ykZSBLhjGoQih3HcbEUtmlonz+/TvmgQXWFn58uOUXsAAA4+zXfZ/7OLNh43NfeNy/fP/HAOAZcQaI+x6w/6MetVdXoqge9Pdf8KHEGmuJTxF9+cv/7PDDHv+Exz4ahhc+7anbV9t5Dr3eIh8qF+p/+uo/ExyrVJRgyTtO4ow4i4KdwY28fmnMSXYBC/i/HQQrh+v8+hmIg7xopz1/uezG2RxVdDCzyWI7GMxe/vPvbTsBByADJdwi9ABf4jTGKmUM8+o/OHxWCcFBI8yuv+n2O1ffc8iBj5hy8m8/uxj9FpNLSixVBJoipSVVlipSUZjnWUHPVyUtvuvUntqFXjwkR/4Hxf0Wjr+DqR9u+QX8d4cONf6+8/Ms1Gtc9bbNGeoQHEi1B0aMvVBRij5USOocA9xkCj50gUjjqpehbw3/roUge6Yu7x1w/c0rHnPo47eZ7OXYP+bIo7fbYZc6VM7V7EOvN/G1r309ALVjkwQwsWsSvIMA2cYUQFCe0y79uwT078QoDGkBC/j3Y+7tlIacQWEuWgtmcBWy1IGcZefQDvog1L3KgHb0jqcxr4+HSPpeU59DyDF7X539w3MPetTBM5vaXXbZ6YJfXEKeIQZPoKwmRBy1YUO2kBAABA8CPGDKXDQuBowyC/9+8u9BOWrLPz7wJQvsuYAHBQ+D4YtvGg/DCtmHzskSAIhR3C/d6EVXXE9OYvjmpkXjzl+dE0t37e+kQM8+QNRPTM5unL5rzT1iLkfRDA6sYuwAym1/tp7sxf6Gr57+jbe88WRwReQ//rG/7nkioOk3k5M9mrs9/3uMEQtYwB8Wc7G8bvh1qFIcgrC5PNlC7PXmvz7E2Z9SM+3rWlNiX5lBhd0wDVGoysvvMgjQDAbAGfUozDgLmBAYbZt6dXhod1zAAhYwBzJNXVRryTsHgNA0saoqZqTYhKqCKTSbiTmfzas57+YyTXSZ2v4LH2IBC/j/LBggsCvsZ1pe8I5er2KGqoaqAtC20YjJ16bMzKHLGYn+TN8thBwsYAH/DrAKhm9FhpiWIAMAJdSg5ACuez1i3zbROedAKYuJAVi0aLIkSP/32SQXsID/vvh/AQkygAlGfVdtAAAAAElFTkSuQmCC)\n",
        "The time complexity is O(n^2)."
      ],
      "metadata": {
        "id": "fzVkuQQ3HNk5"
      }
    },
    {
      "cell_type": "markdown",
      "source": [
        "3.Evaluate the time taken for each of your implementations to answer the query stored in the ApplicantsInfo.txt file and visualize them."
      ],
      "metadata": {
        "id": "fY8Z2vkUDlt2"
      }
    },
    {
      "cell_type": "code",
      "source": [
        "import matplotlib.pyplot as plt"
      ],
      "metadata": {
        "id": "M87YPfeD9ov1"
      },
      "execution_count": 15,
      "outputs": []
    },
    {
      "cell_type": "code",
      "source": [
        "algorithms = ['BubbleSort', 'MergeSort', 'QuickSort']\n",
        "times = [421.474, 0.382, 3.192]\n",
        "\n",
        "plt.bar(algorithms, times, color ='blue', width = 0.3)\n",
        "\n",
        "plt.xlabel(\"Algorithms\")\n",
        "plt.ylabel(\"Running Time (seconds)\")\n",
        "plt.title(\"Running Times for N=50000\")\n",
        "plt.show()"
      ],
      "metadata": {
        "id": "-ha30Jde9pvJ",
        "outputId": "d0b14b80-f935-4c73-cbe9-8f9d3505c4c2",
        "colab": {
          "base_uri": "https://localhost:8080/",
          "height": 295
        }
      },
      "execution_count": 37,
      "outputs": [
        {
          "output_type": "display_data",
          "data": {
            "text/plain": [
              "<Figure size 432x288 with 1 Axes>"
            ],
            "image/png": "[encoded data removed]"
          },
          "metadata": {
            "needs_background": "light"
          }
        }
      ]
    },
    {
      "cell_type": "markdown",
      "source": [
        "4.What is the most optimal algorithm, in your opinion, and why?"
      ],
      "metadata": {
        "id": "fUz-J3lAE4zS"
      }
    },
    {
      "cell_type": "markdown",
      "source": [
        "**MergeSort**\n",
        "\n",
        "Time complexity."
      ],
      "metadata": {
        "id": "BCM250apIBU9"
      }
    },
    {
      "cell_type": "markdown",
      "source": [
        "5.Implement a sorting algorithm using MapReduce and compare it against the three algorithms previously implemented using the ApplicantsInfo.txt file."
      ],
      "metadata": {
        "id": "TAE8ePswE8FA"
      }
    }
  ]
}