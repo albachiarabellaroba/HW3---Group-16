{
  "nbformat": 4,
  "nbformat_minor": 0,
  "metadata": {
    "colab": {
      "provenance": [],
      "authorship_tag": "ABX9TyMQC0sSF6i0tdnB6lLIMHTL",
      "include_colab_link": true
    },
    "kernelspec": {
      "name": "python3",
      "display_name": "Python 3"
    },
    "language_info": {
      "name": "python"
    }
  },
  "cells": [
    {
      "cell_type": "markdown",
      "metadata": {
        "id": "view-in-github",
        "colab_type": "text"
      },
      "source": [
        "<a href=\"https://colab.research.google.com/github/albachiarabellaroba/HW3---Group-16/blob/main/Copia_di_main_Albachiara.ipynb\" target=\"_parent\"><img src=\"https://colab.research.google.com/assets/colab-badge.svg\" alt=\"Open In Colab\"/></a>"
      ]
    },
    {
      "cell_type": "markdown",
      "source": [
        "#**Homework 3 - Places of the world**"
      ],
      "metadata": {
        "id": "RYt2rNxiJCnM"
      }
    },
    {
      "cell_type": "code",
      "source": [
        "from bs4 import BeautifulSoup\n",
        "import bs4\n",
        "import requests\n",
        "import os.path\n",
        "import lxml\n",
        "import re\n",
        "import codecs\n",
        "import csv\n",
        "import nltk\n",
        "from datetime import datetime\n",
        "from tqdm import tqdm\n",
        "import time\n",
        "import pandas as pd"
      ],
      "metadata": {
        "id": "Jl1MRtWrJN8M"
      },
      "execution_count": 1,
      "outputs": []
    },
    {
      "cell_type": "code",
      "source": [
        "from google.colab import drive\n",
        "drive.mount('/content/drive/') "
      ],
      "metadata": {
        "id": "ecIen976hOA6",
        "outputId": "8c8a8885-be30-4643-f11e-d089ba41e572",
        "colab": {
          "base_uri": "https://localhost:8080/"
        }
      },
      "execution_count": 2,
      "outputs": [
        {
          "output_type": "stream",
          "name": "stdout",
          "text": [
            "Mounted at /content/drive/\n"
          ]
        }
      ]
    },
    {
      "cell_type": "markdown",
      "source": [
        "## 1. Data collection"
      ],
      "metadata": {
        "id": "OlhC_Da0JO-1"
      }
    },
    {
      "cell_type": "markdown",
      "source": [
        "### 1.1. Get the list of places"
      ],
      "metadata": {
        "id": "DKEKM1gSJSez"
      }
    },
    {
      "cell_type": "code",
      "source": [
        "linklist = open('/content/drive/MyDrive/ADM_HW3/linklist.txt', 'w')\n",
        "\n",
        "for i in tqdm(range(1, 401)):\n",
        "    link = 'https://www.atlasobscura.com/places?page='+str(i)+'&sort=likes_count'\n",
        "    cont = requests.get(link)\n",
        "    soup = BeautifulSoup(cont.content, features='lxml')\n",
        "    for a in soup.find_all('a', class_='col-md-3 nav-card'):\n",
        "        linklist.write(a.get('href')+'\\n')\n",
        "        \n",
        "linklist.close()"
      ],
      "metadata": {
        "id": "3SQcCegJJX6c",
        "outputId": "591fe37e-c7be-4401-e1cf-71ac29c3fe08",
        "colab": {
          "base_uri": "https://localhost:8080/"
        }
      },
      "execution_count": null,
      "outputs": [
        {
          "output_type": "stream",
          "name": "stderr",
          "text": [
            "100%|██████████| 400/400 [04:17<00:00,  1.55it/s]\n"
          ]
        }
      ]
    },
    {
      "cell_type": "markdown",
      "source": [
        "### 1.2. Crawl places"
      ],
      "metadata": {
        "id": "NcdSFQLRJaGS"
      }
    },
    {
      "cell_type": "code",
      "source": [
        "def download(start, finish):\n",
        "    header = {'User-Agent': 'Mozilla/5.0 (Macintosh; Intel Mac OS X 10_10_1) AppleWebKit/537.36 (KHTML, like Gecko) Chrome/39.0.2171.95 Safari/537.36'}\n",
        "    for i in tqdm(range(start, finish)):\n",
        "      cart = '/content/drive/MyDrive/ADM_HW3/Html_page/page_{}'.format(i)\n",
        "      os.makedirs(cart)\n",
        "      \n",
        "      f = open('/content/drive/MyDrive/ADM_HW3/linklist.txt', 'r', encoding='utf8')\n",
        "      l = f.readlines()[(i-1)*18:(i)*18]\n",
        "      l = [k.rstrip() for k in l]\n",
        "      f.close\n",
        "\n",
        "      m = 1+18*(i-1)\n",
        "\n",
        "      for link in l:\n",
        "        link = 'https://www.atlasobscura.com' + link\n",
        "        html = requests.get(link, headers = header)\n",
        "        if html.status_code != 200:\n",
        "          time.sleep(200)\n",
        "          html = requests.get(link, headers = header)\n",
        "\n",
        "\n",
        "        name = '{}/{}.html'.format(cart, m)\n",
        "        text = open(name, 'w', encoding='utf8')\n",
        "        text.write(html.text)\n",
        "        text.close\n",
        "        m=m+1\n"
      ],
      "metadata": {
        "id": "Yj8pzW-eJeT-"
      },
      "execution_count": 9,
      "outputs": []
    },
    {
      "cell_type": "code",
      "source": [
        "download(1, 401)"
      ],
      "metadata": {
        "colab": {
          "base_uri": "https://localhost:8080/"
        },
        "id": "BeePTzBq9DaS",
        "outputId": "960cda48-36ab-40c7-bb59-6ae6c061aa7b"
      },
      "execution_count": 12,
      "outputs": [
        {
          "output_type": "stream",
          "name": "stderr",
          "text": [
            "100%|██████████| 400/400 [1:29:06<00:00, 13.37s/it]\n"
          ]
        }
      ]
    },
    {
      "cell_type": "markdown",
      "source": [
        "### 1.3 Parse downloaded pages"
      ],
      "metadata": {
        "id": "QLS9gAGtJgQ2"
      }
    },
    {
      "cell_type": "code",
      "source": [
        "#placeName\n",
        "placeName=[]\n",
        "for i in range(1:400):\n",
        "    for k in range(1, 18):\n",
        "      page_i = open('/content/drive/MyDrive/ADM_HW3/Html_page/page_='+str(i)+'/'+str(k)+'.html', 'r', encoding='utf8')\n",
        "      soup=bs4.BeautifulSoup(page_i)\n",
        "      try:\n",
        "        title=soup.find_all('h1', {'class':'DDPage__header-title'})[0].contents[0]\n",
        "        placeName.append(title)\n",
        "\n",
        "#placeTags\n",
        "placeTags=[]\n",
        "\n",
        "#numPeopleVisited\n",
        "\n",
        "#numPeopleWant\n",
        "\n",
        "#placeDesc\n",
        "\n",
        "#placeShortDesc\n",
        "\n",
        "#placeNearby\n",
        "\n",
        "#placeAddress\n",
        "\n",
        "#placeAlt and placeLong\n",
        "\n",
        "#placeEditors\n",
        "\n",
        "#placePubDate\n",
        "\n",
        "#placeRelatedLists\n",
        "\n",
        "#placeRelatedPlaces\n",
        "\n",
        "#placeURL\n"
      ],
      "metadata": {
        "id": "UkZqFGAJJli4"
      },
      "execution_count": null,
      "outputs": []
    },
    {
      "cell_type": "code",
      "source": [
        "dati={'Place Name':[placeName], 'Place Tags':[placeTags], 'Visitors':[numPeopleVisited], 'Want to visit':[numPeopleWant],\n",
        "      'Description':[placeDesc], 'Short Description':[placeShortDesc], 'Nearby Places':[placeNearby], 'Address':[placeAddress], \n",
        "      'Altitude':[placealt], 'Longitude':[placeLong], 'Editors':[placeEditors], 'Publishing Date':[placePubDate],\n",
        "      'Included':[placeRelatedLists], 'Related':[placeRelatedPlaces], 'URL':[placeURL]}\n",
        "features=pd.DataFrame(data=dati, columns=['Place Name', 'Place Tags', 'Visitors', 'Want to visit', 'Description', 'Short Dscription',\n",
        "                                          'Nearby Places', 'Address', 'Altitude', 'Longitude', 'Editors', 'Publishing Date', \n",
        "                                          'Included', 'Related', 'URL'])\n",
        "\n",
        "os.makedirs('/content/drive/MyDrive/ADM_HW3/tsv_file')\n",
        "placesfeatures = features.to_csv('content/drive/MyDrive/ADM_HW3/features.tsv', sep='\\t', index=False)"
      ],
      "metadata": {
        "id": "yMcG_QBv610O"
      },
      "execution_count": null,
      "outputs": []
    },
    {
      "cell_type": "markdown",
      "source": [
        "## 2. Search Engine"
      ],
      "metadata": {
        "id": "Yv8T-SFkJltX"
      }
    },
    {
      "cell_type": "code",
      "source": [
        "from nltk.corpus import stopwords\n",
        "from nltk.stem import PorterStemmer"
      ],
      "metadata": {
        "id": "0wjOsQ-gJoU6"
      },
      "execution_count": null,
      "outputs": []
    },
    {
      "cell_type": "code",
      "source": [
        "nltk.downloads('stopwords')\n",
        "nltk.download('punkt')"
      ],
      "metadata": {
        "id": "9dMBzBQ_xlSH"
      },
      "execution_count": null,
      "outputs": []
    },
    {
      "cell_type": "code",
      "source": [
        "stopwords = set(stopwords.words('english'))\n",
        "\n",
        "for line in placesfeatures['Description']:\n",
        "  tokens=nlkt.word_tokenize(line, language='english')\n",
        "  \n"
      ],
      "metadata": {
        "id": "XgxanMPo9TTc"
      },
      "execution_count": null,
      "outputs": []
    },
    {
      "cell_type": "code",
      "source": [
        "# usa freqdist per contare le frequenze delle parole"
      ],
      "metadata": {
        "id": "OUKWZuO7HQo_"
      },
      "execution_count": null,
      "outputs": []
    },
    {
      "cell_type": "markdown",
      "source": [
        "### 2.1.1 Create your index!"
      ],
      "metadata": {
        "id": "2xsBARBUJoeC"
      }
    },
    {
      "cell_type": "code",
      "source": [],
      "metadata": {
        "id": "3ntzFHr7JrRJ"
      },
      "execution_count": null,
      "outputs": []
    },
    {
      "cell_type": "markdown",
      "source": [
        "### 2.1.2 Execute the query"
      ],
      "metadata": {
        "id": "PnzEemrYJrbD"
      }
    },
    {
      "cell_type": "code",
      "source": [],
      "metadata": {
        "id": "3Dj8H7MJJuYF"
      },
      "execution_count": null,
      "outputs": []
    },
    {
      "cell_type": "markdown",
      "source": [
        "### 2.2 Conjunctive query & Ranking score"
      ],
      "metadata": {
        "id": "4sUYm1BvJuf4"
      }
    },
    {
      "cell_type": "code",
      "source": [],
      "metadata": {
        "id": "Skf6iJ7hJw2t"
      },
      "execution_count": null,
      "outputs": []
    },
    {
      "cell_type": "markdown",
      "source": [
        "### 2.2.1 Inverted index"
      ],
      "metadata": {
        "id": "JnJqLICZJxFB"
      }
    },
    {
      "cell_type": "code",
      "source": [],
      "metadata": {
        "id": "pSNTyrLvJzvT"
      },
      "execution_count": null,
      "outputs": []
    },
    {
      "cell_type": "markdown",
      "source": [
        "### 2.2.2 Execute the query"
      ],
      "metadata": {
        "id": "sRNXsyLNJz4K"
      }
    },
    {
      "cell_type": "code",
      "source": [],
      "metadata": {
        "id": "yOOV24BAJ2ex"
      },
      "execution_count": null,
      "outputs": []
    },
    {
      "cell_type": "markdown",
      "source": [
        "## 3. Define a new score!"
      ],
      "metadata": {
        "id": "NtdfZTIKJ2qf"
      }
    },
    {
      "cell_type": "code",
      "source": [],
      "metadata": {
        "id": "zGKEAK8ZJ7Dh"
      },
      "execution_count": null,
      "outputs": []
    },
    {
      "cell_type": "markdown",
      "source": [
        "## 4. Visualizing the most relevant places"
      ],
      "metadata": {
        "id": "yNNOCxL3J7K2"
      }
    },
    {
      "cell_type": "code",
      "source": [],
      "metadata": {
        "id": "e9M2ekJCJ9mt"
      },
      "execution_count": null,
      "outputs": []
    },
    {
      "cell_type": "markdown",
      "source": [
        "## 5. BONUS: More complex search engine"
      ],
      "metadata": {
        "id": "KK8ODKfZJ9v0"
      }
    },
    {
      "cell_type": "code",
      "source": [],
      "metadata": {
        "id": "2ZpfE-0QKAMG"
      },
      "execution_count": null,
      "outputs": []
    },
    {
      "cell_type": "markdown",
      "source": [
        "## 6. Command line question"
      ],
      "metadata": {
        "id": "HPuc4PmUKAWu"
      }
    },
    {
      "cell_type": "code",
      "source": [],
      "metadata": {
        "id": "kMtRVgc7KEwN"
      },
      "execution_count": null,
      "outputs": []
    },
    {
      "cell_type": "markdown",
      "source": [
        "## 7. Theoretical question"
      ],
      "metadata": {
        "id": "ks1Z654JKE--"
      }
    },
    {
      "cell_type": "code",
      "source": [],
      "metadata": {
        "id": "8vRwj8kPKHWg"
      },
      "execution_count": null,
      "outputs": []
    }
  ]
}