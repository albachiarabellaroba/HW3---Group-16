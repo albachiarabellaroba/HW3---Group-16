{
  "nbformat": 4,
  "nbformat_minor": 0,
  "metadata": {
    "colab": {
      "provenance": [],
      "authorship_tag": "ABX9TyO6GbT1EELwgxVw87GiqZ/4",
      "include_colab_link": true
    },
    "kernelspec": {
      "name": "python3",
      "display_name": "Python 3"
    },
    "language_info": {
      "name": "python"
    }
  },
  "cells": [
    {
      "cell_type": "markdown",
      "metadata": {
        "id": "view-in-github",
        "colab_type": "text"
      },
      "source": [
        "<a href=\"https://colab.research.google.com/github/albachiarabellaroba/HW3---Group-16/blob/main/Copia_di_main_Albachiara.ipynb\" target=\"_parent\"><img src=\"https://colab.research.google.com/assets/colab-badge.svg\" alt=\"Open In Colab\"/></a>"
      ]
    },
    {
      "cell_type": "markdown",
      "source": [
        "#**Homework 3 - Places of the world**"
      ],
      "metadata": {
        "id": "RYt2rNxiJCnM"
      }
    },
    {
      "cell_type": "code",
      "source": [
        "from bs4 import BeautifulSoup\n",
        "import bs4\n",
        "import requests\n",
        "import os.path\n",
        "import lxml\n",
        "import re\n",
        "import codecs\n",
        "import csv\n",
        "import nltk\n",
        "from datetime import datetime\n",
        "from tqdm import tqdm\n",
        "import time\n",
        "import pandas as pd"
      ],
      "metadata": {
        "id": "Jl1MRtWrJN8M"
      },
      "execution_count": 29,
      "outputs": []
    },
    {
      "cell_type": "code",
      "source": [
        "from google.colab import drive\n",
        "drive.mount('/content/drive/') "
      ],
      "metadata": {
        "id": "ecIen976hOA6",
        "outputId": "a4d3ddbb-9665-4343-b531-7b6e7e1bd10e",
        "colab": {
          "base_uri": "https://localhost:8080/"
        }
      },
      "execution_count": 30,
      "outputs": [
        {
          "output_type": "stream",
          "name": "stdout",
          "text": [
            "Drive already mounted at /content/drive/; to attempt to forcibly remount, call drive.mount(\"/content/drive/\", force_remount=True).\n"
          ]
        }
      ]
    },
    {
      "cell_type": "markdown",
      "source": [
        "## 1. Data collection"
      ],
      "metadata": {
        "id": "OlhC_Da0JO-1"
      }
    },
    {
      "cell_type": "markdown",
      "source": [
        "### 1.1. Get the list of places"
      ],
      "metadata": {
        "id": "DKEKM1gSJSez"
      }
    },
    {
      "cell_type": "code",
      "source": [
        "linklist = open('/content/drive/MyDrive/ADM_HW3/linklist.txt', 'w')\n",
        "\n",
        "for i in tqdm(range(1, 401)):\n",
        "    link = f'https://www.atlasobscura.com/places?page={i}&sort=likes_count'\n",
        "    cont = requests.get(link)\n",
        "    soup = BeautifulSoup(cont.content, features='lxml')\n",
        "    for a in soup.find_all('a', class_='content-card content-card-place'):\n",
        "        linklist.write(a.get('href')+'\\n')\n",
        "        \n",
        "linklist.close()"
      ],
      "metadata": {
        "id": "3SQcCegJJX6c",
        "outputId": "11fa961c-3618-497a-9f4a-d28b917b1e90",
        "colab": {
          "base_uri": "https://localhost:8080/"
        }
      },
      "execution_count": 15,
      "outputs": [
        {
          "output_type": "stream",
          "name": "stderr",
          "text": [
            "100%|██████████| 400/400 [02:05<00:00,  3.18it/s]\n"
          ]
        }
      ]
    },
    {
      "cell_type": "code",
      "source": [
        "file = open('/content/drive/MyDrive/ADM_HW3/linklist.txt', 'r')\n",
        "count=0\n",
        "for i in file:\n",
        "  if i != '\\n':\n",
        "    count += 1\n",
        "file.close\n",
        "print(count)"
      ],
      "metadata": {
        "id": "ICZrzWioN0zk",
        "outputId": "5879d676-7983-43ec-a6b3-102d8bd13ef8",
        "colab": {
          "base_uri": "https://localhost:8080/"
        }
      },
      "execution_count": 19,
      "outputs": [
        {
          "output_type": "stream",
          "name": "stdout",
          "text": [
            "7200\n"
          ]
        }
      ]
    },
    {
      "cell_type": "markdown",
      "source": [
        "### 1.2. Crawl places"
      ],
      "metadata": {
        "id": "NcdSFQLRJaGS"
      }
    },
    {
      "cell_type": "code",
      "source": [
        "def download(start, finish):\n",
        "    header = {'User-Agent': 'Mozilla/5.0 (Macintosh; Intel Mac OS X 10_10_1) AppleWebKit/537.36 (KHTML, like Gecko) Chrome/39.0.2171.95 Safari/537.36'}\n",
        "    for i in tqdm(range(start, finish)):\n",
        "      cart = '/content/drive/MyDrive/ADM_HW3/Html_page/page_{}'.format(i)\n",
        "      os.makedirs(cart)\n",
        "      \n",
        "      f = open('/content/drive/MyDrive/ADM_HW3/linklist.txt', 'r', encoding='utf8')\n",
        "      l = f.readlines()[(i-1)*18:(i)*18]\n",
        "      l = [k.rstrip() for k in l]\n",
        "      f.close\n",
        "\n",
        "      m = 1+18*(i-1)\n",
        "\n",
        "      for link in l:\n",
        "        link = 'https://www.atlasobscura.com' + link\n",
        "        html = requests.get(link, headers = header)\n",
        "        if html.status_code != 200:\n",
        "          time.sleep(200)\n",
        "          html = requests.get(link, headers = header)\n",
        "\n",
        "\n",
        "        name = '{}/{}.html'.format(cart, m)\n",
        "        text = open(name, 'w', encoding='utf8')\n",
        "        text.write(html.text)\n",
        "        text.close\n",
        "        m=m+1\n"
      ],
      "metadata": {
        "id": "Yj8pzW-eJeT-"
      },
      "execution_count": 20,
      "outputs": []
    },
    {
      "cell_type": "code",
      "source": [
        "download(301, 401)"
      ],
      "metadata": {
        "colab": {
          "base_uri": "https://localhost:8080/"
        },
        "id": "BeePTzBq9DaS",
        "outputId": "0ef67e92-87b7-4acd-b946-b6806a417532"
      },
      "execution_count": 21,
      "outputs": [
        {
          "metadata": {
            "tags": null
          },
          "name": "stderr",
          "output_type": "stream",
          "text": [
            "100%|██████████| 100/100 [26:07<00:00, 15.67s/it]\n"
          ]
        }
      ]
    },
    {
      "cell_type": "markdown",
      "source": [
        "### 1.3 Parse downloaded pages"
      ],
      "metadata": {
        "id": "QLS9gAGtJgQ2"
      }
    },
    {
      "cell_type": "code",
      "source": [
        "placeName=[]\n",
        "placeTags=[]\n",
        "numPeopleVisited=[]\n",
        "numPeopleWant=[]\n",
        "placeDesc=[]\n",
        "placeShortDesc=[]\n",
        "placeNearby=[]\n",
        "placeAddress=[]\n",
        "placeAlt=[]\n",
        "placeLong=[]\n",
        "placeEditors=[]\n",
        "placePubDate=[]\n",
        "placeRelatedLists=[]\n",
        "placeRelatedPlaces=[]\n",
        "placeURL=[]"
      ],
      "metadata": {
        "id": "Ow7FWh64OgIg"
      },
      "execution_count": 31,
      "outputs": []
    },
    {
      "cell_type": "code",
      "source": [
        " for i in tqdm(range(1,401)):\n",
        "   files = os.listdir('/content/drive/MyDrive/ADM_HW3/Html_page/page_'+str(i))\n",
        "   for k in range(((18*(int(i)-1))+1), (18*int(i)+1)):\n",
        "     file = open('/content/drive/MyDrive/ADM_HW3/Html_page/page_'+str(i)+'/'+str(k)+'.html', 'r', encoding='utf8')\n",
        "     soup=bs4.BeautifulSoup(file, 'lxml')\n",
        "\n",
        "     try:\n",
        "       Name=soup.find_all('h1', {'class':'DDPage__header-title'})['content']\n",
        "       placeName.append(Name)\n",
        "     except:\n",
        "         placeName.append('')\n",
        "         \n",
        "     try:\n",
        "       tag=soup.find_all('a', {'class':'itemTags__link js-item-tags-link'})\n",
        "       tag=[i.get('href').split('/categories/')[1] for i in tag]\n",
        "       placeTags.append(tag)\n",
        "     except:\n",
        "       placeTags.append('')\n",
        "       \n",
        "     try:\n",
        "       visitors=soup.find_all('div', {'class':'title-md item-action-count'})[0].text.strip()\n",
        "       numPeopleVisited.append(visitors)\n",
        "     except:\n",
        "       numPeopleVisited.append('')\n",
        "    \n",
        "     try:\n",
        "       want=soup.find_all('div', {'class':'title-md item-action-count'})[1].text.strip()\n",
        "       numPeopleWant.append(want)\n",
        "     except:\n",
        "       numPeopleWant.append('')\n",
        "\n",
        "     try:\n",
        "       desc=soup.find_all('div', {'class':'DDP__body-copy'}).text.strip()\n",
        "       placeDesc.append(desc)\n",
        "     except:\n",
        "       placeDesc.append('')\n",
        "\n",
        "     try:\n",
        "       shdesc=soup.find_all('h3', {'class':'DDPage__header-dek'})['content']\n",
        "       placeShortDesc.append(shdesc)\n",
        "     except:\n",
        "       placeShortDesc.append('')\n",
        "\n",
        "     try:\n",
        "       nearby=soup.find_all('div', {'class':'DDPageSiderailRecirc__item-title'})\n",
        "       nearby=[i.get_text() for i in nearby]\n",
        "       placeNearby.append(nearby)\n",
        "     except:\n",
        "       placeNearby.append('')\n",
        "\n",
        "     try:\n",
        "       address=soup.find_all('address', {'class':'DDPageSiderail__address'})[0]\n",
        "       address=address.find('div').get_text(separator=' ').split('\\n')[0]\n",
        "       placeAddress.append(address)\n",
        "     except:\n",
        "       placeAddress.append('')\n",
        "\n",
        "     try:\n",
        "       palt, plong=soup.find_all('div', {'class':'DDPageSiderail__coordinates js-copy-coordinates'})\n",
        "       placeAlt.append(palt)\n",
        "       placeLong.append(plong)\n",
        "     except:\n",
        "       placeAddress.append('')\n",
        "\n",
        "     try:\n",
        "       editors=soup.find_all('div', {'class':'ugc-editor-icons'})\n",
        "       editors=[i.findChildren('a')[0].get('href') for i in editors]\n",
        "       editors=[k.split('/users/')[1] for k in editors]\n",
        "       placeEditors.append(editors)\n",
        "     except:\n",
        "       placeEditors.append('')\n",
        "\n",
        "     try:\n",
        "       date=soup.find_all('div', {'class':'DDPContributor__name'}).text.strip()\n",
        "       placePubDate.append('')\n",
        "     except:\n",
        "       placePubDate.append('')\n",
        "\n",
        "     try:\n",
        "       rellist=soup.find_all('div', {'data-gtm-template':'DDP Footer Recirc Lists'})[0]\n",
        "       rellist=[i.text.strip() for i in rellist.find_all('h3')]\n",
        "       placeRelatedLists.append(rellist)\n",
        "     except:\n",
        "       placeRelatedLists.append('')\n",
        "\n",
        "     try:\n",
        "       relplaces=soup.find_all('div', {'class':'CardRecircSection__title'})\n",
        "       relplaces=[i for i in relplaces if i.text == 'Related Places'][0]\n",
        "       relplaces=relplaces.find_all_next('div', {'class':'Card__action-btns vue-js-been-there-everywhere-place'})\n",
        "       relplace=[k.get('data-place-title') for k in relplace]\n",
        "       placeRelatedPlaces.append(relplaces)\n",
        "     except:\n",
        "       placeRelatedPlaces.append('')\n",
        "\n",
        "     try:\n",
        "       url=soup.find('meta', attrs={'property':'og:url'})['content']\n",
        "       placeURL.append(url)\n",
        "     except:\n",
        "       placeURL.append('')"
      ],
      "metadata": {
        "id": "UkZqFGAJJli4",
        "outputId": "10827731-2a8d-45cb-b10e-cc3f0d542d84",
        "colab": {
          "base_uri": "https://localhost:8080/",
          "height": 397
        }
      },
      "execution_count": 39,
      "outputs": [
        {
          "output_type": "stream",
          "name": "stderr",
          "text": [
            " 10%|█         | 40/400 [01:40<15:07,  2.52s/it]\n"
          ]
        },
        {
          "output_type": "error",
          "ename": "KeyboardInterrupt",
          "evalue": "ignored",
          "traceback": [
            "\u001b[0;31m---------------------------------------------------------------------------\u001b[0m",
            "\u001b[0;31mKeyboardInterrupt\u001b[0m                         Traceback (most recent call last)",
            "\u001b[0;32m<ipython-input-39-adc5f3443b74>\u001b[0m in \u001b[0;36m<module>\u001b[0;34m\u001b[0m\n\u001b[1;32m      3\u001b[0m   \u001b[0;32mfor\u001b[0m \u001b[0mk\u001b[0m \u001b[0;32min\u001b[0m \u001b[0mrange\u001b[0m\u001b[0;34m(\u001b[0m\u001b[0;34m(\u001b[0m\u001b[0;34m(\u001b[0m\u001b[0;36m18\u001b[0m\u001b[0;34m*\u001b[0m\u001b[0;34m(\u001b[0m\u001b[0mint\u001b[0m\u001b[0;34m(\u001b[0m\u001b[0mi\u001b[0m\u001b[0;34m)\u001b[0m\u001b[0;34m-\u001b[0m\u001b[0;36m1\u001b[0m\u001b[0;34m)\u001b[0m\u001b[0;34m)\u001b[0m\u001b[0;34m+\u001b[0m\u001b[0;36m1\u001b[0m\u001b[0;34m)\u001b[0m\u001b[0;34m,\u001b[0m \u001b[0;34m(\u001b[0m\u001b[0;36m18\u001b[0m\u001b[0;34m*\u001b[0m\u001b[0mint\u001b[0m\u001b[0;34m(\u001b[0m\u001b[0mi\u001b[0m\u001b[0;34m)\u001b[0m\u001b[0;34m+\u001b[0m\u001b[0;36m1\u001b[0m\u001b[0;34m)\u001b[0m\u001b[0;34m)\u001b[0m\u001b[0;34m:\u001b[0m\u001b[0;34m\u001b[0m\u001b[0;34m\u001b[0m\u001b[0m\n\u001b[1;32m      4\u001b[0m     \u001b[0mfile\u001b[0m \u001b[0;34m=\u001b[0m \u001b[0mopen\u001b[0m\u001b[0;34m(\u001b[0m\u001b[0;34m'/content/drive/MyDrive/ADM_HW3/Html_page/page_'\u001b[0m\u001b[0;34m+\u001b[0m\u001b[0mstr\u001b[0m\u001b[0;34m(\u001b[0m\u001b[0mi\u001b[0m\u001b[0;34m)\u001b[0m\u001b[0;34m+\u001b[0m\u001b[0;34m'/'\u001b[0m\u001b[0;34m+\u001b[0m\u001b[0mstr\u001b[0m\u001b[0;34m(\u001b[0m\u001b[0mk\u001b[0m\u001b[0;34m)\u001b[0m\u001b[0;34m+\u001b[0m\u001b[0;34m'.html'\u001b[0m\u001b[0;34m,\u001b[0m \u001b[0;34m'r'\u001b[0m\u001b[0;34m,\u001b[0m \u001b[0mencoding\u001b[0m\u001b[0;34m=\u001b[0m\u001b[0;34m'utf8'\u001b[0m\u001b[0;34m)\u001b[0m\u001b[0;34m\u001b[0m\u001b[0;34m\u001b[0m\u001b[0m\n\u001b[0;32m----> 5\u001b[0;31m     \u001b[0msoup\u001b[0m\u001b[0;34m=\u001b[0m\u001b[0mbs4\u001b[0m\u001b[0;34m.\u001b[0m\u001b[0mBeautifulSoup\u001b[0m\u001b[0;34m(\u001b[0m\u001b[0mfile\u001b[0m\u001b[0;34m,\u001b[0m \u001b[0;34m'lxml'\u001b[0m\u001b[0;34m)\u001b[0m\u001b[0;34m\u001b[0m\u001b[0;34m\u001b[0m\u001b[0m\n\u001b[0m\u001b[1;32m      6\u001b[0m \u001b[0;34m\u001b[0m\u001b[0m\n\u001b[1;32m      7\u001b[0m     \u001b[0;32mtry\u001b[0m\u001b[0;34m:\u001b[0m\u001b[0;34m\u001b[0m\u001b[0;34m\u001b[0m\u001b[0m\n",
            "\u001b[0;32m/usr/local/lib/python3.7/dist-packages/bs4/__init__.py\u001b[0m in \u001b[0;36m__init__\u001b[0;34m(self, markup, features, builder, parse_only, from_encoding, exclude_encodings, **kwargs)\u001b[0m\n\u001b[1;32m    243\u001b[0m \u001b[0;34m\u001b[0m\u001b[0m\n\u001b[1;32m    244\u001b[0m         \u001b[0;32mif\u001b[0m \u001b[0mhasattr\u001b[0m\u001b[0;34m(\u001b[0m\u001b[0mmarkup\u001b[0m\u001b[0;34m,\u001b[0m \u001b[0;34m'read'\u001b[0m\u001b[0;34m)\u001b[0m\u001b[0;34m:\u001b[0m        \u001b[0;31m# It's a file-type object.\u001b[0m\u001b[0;34m\u001b[0m\u001b[0;34m\u001b[0m\u001b[0m\n\u001b[0;32m--> 245\u001b[0;31m             \u001b[0mmarkup\u001b[0m \u001b[0;34m=\u001b[0m \u001b[0mmarkup\u001b[0m\u001b[0;34m.\u001b[0m\u001b[0mread\u001b[0m\u001b[0;34m(\u001b[0m\u001b[0;34m)\u001b[0m\u001b[0;34m\u001b[0m\u001b[0;34m\u001b[0m\u001b[0m\n\u001b[0m\u001b[1;32m    246\u001b[0m         elif len(markup) <= 256 and (\n\u001b[1;32m    247\u001b[0m                 \u001b[0;34m(\u001b[0m\u001b[0misinstance\u001b[0m\u001b[0;34m(\u001b[0m\u001b[0mmarkup\u001b[0m\u001b[0;34m,\u001b[0m \u001b[0mbytes\u001b[0m\u001b[0;34m)\u001b[0m \u001b[0;32mand\u001b[0m \u001b[0;32mnot\u001b[0m \u001b[0;34mb'<'\u001b[0m \u001b[0;32min\u001b[0m \u001b[0mmarkup\u001b[0m\u001b[0;34m)\u001b[0m\u001b[0;34m\u001b[0m\u001b[0;34m\u001b[0m\u001b[0m\n",
            "\u001b[0;32m/usr/lib/python3.7/codecs.py\u001b[0m in \u001b[0;36mdecode\u001b[0;34m(self, input, final)\u001b[0m\n\u001b[1;32m    317\u001b[0m         \u001b[0;32mraise\u001b[0m \u001b[0mNotImplementedError\u001b[0m\u001b[0;34m\u001b[0m\u001b[0;34m\u001b[0m\u001b[0m\n\u001b[1;32m    318\u001b[0m \u001b[0;34m\u001b[0m\u001b[0m\n\u001b[0;32m--> 319\u001b[0;31m     \u001b[0;32mdef\u001b[0m \u001b[0mdecode\u001b[0m\u001b[0;34m(\u001b[0m\u001b[0mself\u001b[0m\u001b[0;34m,\u001b[0m \u001b[0minput\u001b[0m\u001b[0;34m,\u001b[0m \u001b[0mfinal\u001b[0m\u001b[0;34m=\u001b[0m\u001b[0;32mFalse\u001b[0m\u001b[0;34m)\u001b[0m\u001b[0;34m:\u001b[0m\u001b[0;34m\u001b[0m\u001b[0;34m\u001b[0m\u001b[0m\n\u001b[0m\u001b[1;32m    320\u001b[0m         \u001b[0;31m# decode input (taking the buffer into account)\u001b[0m\u001b[0;34m\u001b[0m\u001b[0;34m\u001b[0m\u001b[0;34m\u001b[0m\u001b[0m\n\u001b[1;32m    321\u001b[0m         \u001b[0mdata\u001b[0m \u001b[0;34m=\u001b[0m \u001b[0mself\u001b[0m\u001b[0;34m.\u001b[0m\u001b[0mbuffer\u001b[0m \u001b[0;34m+\u001b[0m \u001b[0minput\u001b[0m\u001b[0;34m\u001b[0m\u001b[0;34m\u001b[0m\u001b[0m\n",
            "\u001b[0;31mKeyboardInterrupt\u001b[0m: "
          ]
        }
      ]
    },
    {
      "cell_type": "code",
      "source": [
        "for i in tqdm(range(1,401)):\n",
        "  files = os.listdir('/content/drive/MyDrive/ADM_HW3/Html_page/page_'+str(i))\n",
        "        for k in range(((18*(int(i)-1))+1), (18*int(i)+1)):\n",
        "          file = open('/content/drive/MyDrive/ADM_HW3/Html_page/page_'+str(i)+'/'+str(k)+'.html', 'r', encoding='utf8')\n",
        "          soup=bs4.BeautifulSoup(file, 'lxml')"
      ],
      "metadata": {
        "id": "zudOBLWg94kd"
      },
      "execution_count": 14,
      "outputs": []
    },
    {
      "cell_type": "code",
      "source": [
        "  try:\n",
        "      title=soup.find_all('h1', {'class':'DDPage__header-title'})['contents']\n",
        "      Name.append(title)\n",
        "  except:\n",
        "      Name.append('')\n",
        "\n",
        "  try:\n",
        "      title=soup.find_all('h1', {'class':'DDPage__header-title'})['contents']\n",
        "      Name.append(title)\n",
        "  except:\n",
        "      Name.append('')\n",
        "  \n",
        "  try:\n",
        "      title=soup.find_all('h1', {'class':'DDPage__header-title'})['contents']\n",
        "      Name.append(title)\n",
        "  except:\n",
        "      Name.append('')\n",
        "  \n",
        "  try:\n",
        "      title=soup.find_all('h1', {'class':'DDPage__header-title'})['contents']\n",
        "      Name.append(title)\n",
        "  except:\n",
        "      Name.append('')\n",
        "  \n",
        "  try:\n",
        "      title=soup.find_all('h1', {'class':'DDPage__header-title'})['contents']\n",
        "      Name.append(title)\n",
        "  except:\n",
        "      Name.append('')\n",
        "        #inseriscri funzione per salvare file tsv\n",
        "\n",
        "    "
      ],
      "metadata": {
        "id": "QR4E9qt-8G_1"
      },
      "execution_count": null,
      "outputs": []
    },
    {
      "cell_type": "code",
      "source": [
        "for i in tqdm(range(1,401)):  #numero castella pagina     400 cart ognuna 18pg\n",
        "      for k in range(((18*(int(i)-1))+1), (18*int(i)+1)):   # k= 1-18 , 19-36 ....\n",
        "        file = open('/content/drive/MyDrive/ADM_HW3/Html_page/page_'+str(i)+'/'+str(k)+'.html', 'r', encoding='utf8')\n",
        "        placeName(file)\n",
        "        placeTags(file)\n"
      ],
      "metadata": {
        "id": "z_C6zYP40-3y"
      },
      "execution_count": null,
      "outputs": []
    },
    {
      "cell_type": "code",
      "source": [
        "#come salvare file tsv\n",
        "\n",
        "with open(\"percorso\") as fp:\n",
        "  csv.writer(fp, delimiter = \"\\t\").writerow([placeTag, placeName....])"
      ],
      "metadata": {
        "colab": {
          "base_uri": "https://localhost:8080/",
          "height": 571
        },
        "id": "yaUl36yqvMlx",
        "outputId": "7d9b242f-687c-4290-9704-28a65e058766"
      },
      "execution_count": 13,
      "outputs": [
        {
          "output_type": "stream",
          "name": "stderr",
          "text": [
            "  8%|▊         | 24/300 [00:51<09:50,  2.14s/it]\n"
          ]
        },
        {
          "output_type": "error",
          "ename": "KeyboardInterrupt",
          "evalue": "ignored",
          "traceback": [
            "\u001b[0;31m---------------------------------------------------------------------------\u001b[0m",
            "\u001b[0;31mKeyboardInterrupt\u001b[0m                         Traceback (most recent call last)",
            "\u001b[0;32m<ipython-input-13-1e9a50a3c97f>\u001b[0m in \u001b[0;36m<module>\u001b[0;34m\u001b[0m\n\u001b[0;32m----> 1\u001b[0;31m \u001b[0mplaceName\u001b[0m \u001b[0;34m=\u001b[0m \u001b[0mprova\u001b[0m\u001b[0;34m(\u001b[0m\u001b[0;34m)\u001b[0m\u001b[0;34m\u001b[0m\u001b[0;34m\u001b[0m\u001b[0m\n\u001b[0m",
            "\u001b[0;32m<ipython-input-12-69ce3d6b2219>\u001b[0m in \u001b[0;36mprova\u001b[0;34m()\u001b[0m\n\u001b[1;32m      8\u001b[0m       \u001b[0;32mfor\u001b[0m \u001b[0mk\u001b[0m \u001b[0;32min\u001b[0m \u001b[0mrange\u001b[0m\u001b[0;34m(\u001b[0m\u001b[0;34m(\u001b[0m\u001b[0;34m(\u001b[0m\u001b[0;36m18\u001b[0m\u001b[0;34m*\u001b[0m\u001b[0;34m(\u001b[0m\u001b[0mint\u001b[0m\u001b[0;34m(\u001b[0m\u001b[0mi\u001b[0m\u001b[0;34m)\u001b[0m\u001b[0;34m-\u001b[0m\u001b[0;36m1\u001b[0m\u001b[0;34m)\u001b[0m\u001b[0;34m)\u001b[0m\u001b[0;34m+\u001b[0m\u001b[0;36m1\u001b[0m\u001b[0;34m)\u001b[0m\u001b[0;34m,\u001b[0m \u001b[0;34m(\u001b[0m\u001b[0;36m18\u001b[0m\u001b[0;34m*\u001b[0m\u001b[0mint\u001b[0m\u001b[0;34m(\u001b[0m\u001b[0mi\u001b[0m\u001b[0;34m)\u001b[0m\u001b[0;34m+\u001b[0m\u001b[0;36m1\u001b[0m\u001b[0;34m)\u001b[0m\u001b[0;34m)\u001b[0m\u001b[0;34m:\u001b[0m   \u001b[0;31m# k= 1-18 , 19-36 ....\u001b[0m\u001b[0;34m\u001b[0m\u001b[0;34m\u001b[0m\u001b[0m\n\u001b[1;32m      9\u001b[0m         \u001b[0mfile\u001b[0m \u001b[0;34m=\u001b[0m \u001b[0mopen\u001b[0m\u001b[0;34m(\u001b[0m\u001b[0;34m'/content/drive/MyDrive/ADM_HW3/Html_page/page_'\u001b[0m\u001b[0;34m+\u001b[0m\u001b[0mstr\u001b[0m\u001b[0;34m(\u001b[0m\u001b[0mi\u001b[0m\u001b[0;34m)\u001b[0m\u001b[0;34m+\u001b[0m\u001b[0;34m'/'\u001b[0m\u001b[0;34m+\u001b[0m\u001b[0mstr\u001b[0m\u001b[0;34m(\u001b[0m\u001b[0mk\u001b[0m\u001b[0;34m)\u001b[0m\u001b[0;34m+\u001b[0m\u001b[0;34m'.html'\u001b[0m\u001b[0;34m,\u001b[0m \u001b[0;34m'r'\u001b[0m\u001b[0;34m,\u001b[0m \u001b[0mencoding\u001b[0m\u001b[0;34m=\u001b[0m\u001b[0;34m'utf8'\u001b[0m\u001b[0;34m)\u001b[0m\u001b[0;34m\u001b[0m\u001b[0;34m\u001b[0m\u001b[0m\n\u001b[0;32m---> 10\u001b[0;31m         \u001b[0msoup\u001b[0m\u001b[0;34m=\u001b[0m\u001b[0mbs4\u001b[0m\u001b[0;34m.\u001b[0m\u001b[0mBeautifulSoup\u001b[0m\u001b[0;34m(\u001b[0m\u001b[0mfile\u001b[0m\u001b[0;34m,\u001b[0m \u001b[0;34m'lxml'\u001b[0m\u001b[0;34m)\u001b[0m\u001b[0;34m\u001b[0m\u001b[0;34m\u001b[0m\u001b[0m\n\u001b[0m\u001b[1;32m     11\u001b[0m         \u001b[0;32mtry\u001b[0m\u001b[0;34m:\u001b[0m\u001b[0;34m\u001b[0m\u001b[0;34m\u001b[0m\u001b[0m\n\u001b[1;32m     12\u001b[0m           \u001b[0mtitle\u001b[0m\u001b[0;34m=\u001b[0m\u001b[0msoup\u001b[0m\u001b[0;34m.\u001b[0m\u001b[0mfind_all\u001b[0m\u001b[0;34m(\u001b[0m\u001b[0;34m'h1'\u001b[0m\u001b[0;34m,\u001b[0m \u001b[0;34m{\u001b[0m\u001b[0;34m'class'\u001b[0m\u001b[0;34m:\u001b[0m\u001b[0;34m'DDPage__header-title'\u001b[0m\u001b[0;34m}\u001b[0m\u001b[0;34m)\u001b[0m\u001b[0;34m[\u001b[0m\u001b[0;36m0\u001b[0m\u001b[0;34m]\u001b[0m\u001b[0;34m.\u001b[0m\u001b[0mcontents\u001b[0m\u001b[0;34m[\u001b[0m\u001b[0;36m0\u001b[0m\u001b[0;34m]\u001b[0m\u001b[0;34m\u001b[0m\u001b[0;34m\u001b[0m\u001b[0m\n",
            "\u001b[0;32m/usr/local/lib/python3.7/dist-packages/bs4/__init__.py\u001b[0m in \u001b[0;36m__init__\u001b[0;34m(self, markup, features, builder, parse_only, from_encoding, exclude_encodings, **kwargs)\u001b[0m\n\u001b[1;32m    280\u001b[0m             \u001b[0mself\u001b[0m\u001b[0;34m.\u001b[0m\u001b[0mreset\u001b[0m\u001b[0;34m(\u001b[0m\u001b[0;34m)\u001b[0m\u001b[0;34m\u001b[0m\u001b[0;34m\u001b[0m\u001b[0m\n\u001b[1;32m    281\u001b[0m             \u001b[0;32mtry\u001b[0m\u001b[0;34m:\u001b[0m\u001b[0;34m\u001b[0m\u001b[0;34m\u001b[0m\u001b[0m\n\u001b[0;32m--> 282\u001b[0;31m                 \u001b[0mself\u001b[0m\u001b[0;34m.\u001b[0m\u001b[0m_feed\u001b[0m\u001b[0;34m(\u001b[0m\u001b[0;34m)\u001b[0m\u001b[0;34m\u001b[0m\u001b[0;34m\u001b[0m\u001b[0m\n\u001b[0m\u001b[1;32m    283\u001b[0m                 \u001b[0;32mbreak\u001b[0m\u001b[0;34m\u001b[0m\u001b[0;34m\u001b[0m\u001b[0m\n\u001b[1;32m    284\u001b[0m             \u001b[0;32mexcept\u001b[0m \u001b[0mParserRejectedMarkup\u001b[0m\u001b[0;34m:\u001b[0m\u001b[0;34m\u001b[0m\u001b[0;34m\u001b[0m\u001b[0m\n",
            "\u001b[0;32m/usr/local/lib/python3.7/dist-packages/bs4/__init__.py\u001b[0m in \u001b[0;36m_feed\u001b[0;34m(self)\u001b[0m\n\u001b[1;32m    341\u001b[0m         \u001b[0mself\u001b[0m\u001b[0;34m.\u001b[0m\u001b[0mbuilder\u001b[0m\u001b[0;34m.\u001b[0m\u001b[0mreset\u001b[0m\u001b[0;34m(\u001b[0m\u001b[0;34m)\u001b[0m\u001b[0;34m\u001b[0m\u001b[0;34m\u001b[0m\u001b[0m\n\u001b[1;32m    342\u001b[0m \u001b[0;34m\u001b[0m\u001b[0m\n\u001b[0;32m--> 343\u001b[0;31m         \u001b[0mself\u001b[0m\u001b[0;34m.\u001b[0m\u001b[0mbuilder\u001b[0m\u001b[0;34m.\u001b[0m\u001b[0mfeed\u001b[0m\u001b[0;34m(\u001b[0m\u001b[0mself\u001b[0m\u001b[0;34m.\u001b[0m\u001b[0mmarkup\u001b[0m\u001b[0;34m)\u001b[0m\u001b[0;34m\u001b[0m\u001b[0;34m\u001b[0m\u001b[0m\n\u001b[0m\u001b[1;32m    344\u001b[0m         \u001b[0;31m# Close out any unfinished strings and close all the open tags.\u001b[0m\u001b[0;34m\u001b[0m\u001b[0;34m\u001b[0m\u001b[0;34m\u001b[0m\u001b[0m\n\u001b[1;32m    345\u001b[0m         \u001b[0mself\u001b[0m\u001b[0;34m.\u001b[0m\u001b[0mendData\u001b[0m\u001b[0;34m(\u001b[0m\u001b[0;34m)\u001b[0m\u001b[0;34m\u001b[0m\u001b[0;34m\u001b[0m\u001b[0m\n",
            "\u001b[0;32m/usr/local/lib/python3.7/dist-packages/bs4/builder/_lxml.py\u001b[0m in \u001b[0;36mfeed\u001b[0;34m(self, markup)\u001b[0m\n\u001b[1;32m    252\u001b[0m         \u001b[0;32mtry\u001b[0m\u001b[0;34m:\u001b[0m\u001b[0;34m\u001b[0m\u001b[0;34m\u001b[0m\u001b[0m\n\u001b[1;32m    253\u001b[0m             \u001b[0mself\u001b[0m\u001b[0;34m.\u001b[0m\u001b[0mparser\u001b[0m \u001b[0;34m=\u001b[0m \u001b[0mself\u001b[0m\u001b[0;34m.\u001b[0m\u001b[0mparser_for\u001b[0m\u001b[0;34m(\u001b[0m\u001b[0mencoding\u001b[0m\u001b[0;34m)\u001b[0m\u001b[0;34m\u001b[0m\u001b[0;34m\u001b[0m\u001b[0m\n\u001b[0;32m--> 254\u001b[0;31m             \u001b[0mself\u001b[0m\u001b[0;34m.\u001b[0m\u001b[0mparser\u001b[0m\u001b[0;34m.\u001b[0m\u001b[0mfeed\u001b[0m\u001b[0;34m(\u001b[0m\u001b[0mmarkup\u001b[0m\u001b[0;34m)\u001b[0m\u001b[0;34m\u001b[0m\u001b[0;34m\u001b[0m\u001b[0m\n\u001b[0m\u001b[1;32m    255\u001b[0m             \u001b[0mself\u001b[0m\u001b[0;34m.\u001b[0m\u001b[0mparser\u001b[0m\u001b[0;34m.\u001b[0m\u001b[0mclose\u001b[0m\u001b[0;34m(\u001b[0m\u001b[0;34m)\u001b[0m\u001b[0;34m\u001b[0m\u001b[0;34m\u001b[0m\u001b[0m\n\u001b[1;32m    256\u001b[0m         \u001b[0;32mexcept\u001b[0m \u001b[0;34m(\u001b[0m\u001b[0mUnicodeDecodeError\u001b[0m\u001b[0;34m,\u001b[0m \u001b[0mLookupError\u001b[0m\u001b[0;34m,\u001b[0m \u001b[0metree\u001b[0m\u001b[0;34m.\u001b[0m\u001b[0mParserError\u001b[0m\u001b[0;34m)\u001b[0m \u001b[0;32mas\u001b[0m \u001b[0me\u001b[0m\u001b[0;34m:\u001b[0m\u001b[0;34m\u001b[0m\u001b[0;34m\u001b[0m\u001b[0m\n",
            "\u001b[0;32msrc/lxml/parser.pxi\u001b[0m in \u001b[0;36mlxml.etree._FeedParser.feed\u001b[0;34m()\u001b[0m\n",
            "\u001b[0;32msrc/lxml/parser.pxi\u001b[0m in \u001b[0;36mlxml.etree._FeedParser.feed\u001b[0;34m()\u001b[0m\n",
            "\u001b[0;32msrc/lxml/parsertarget.pxi\u001b[0m in \u001b[0;36mlxml.etree._TargetParserContext._handleParseResult\u001b[0;34m()\u001b[0m\n",
            "\u001b[0;32msrc/lxml/parsertarget.pxi\u001b[0m in \u001b[0;36mlxml.etree._TargetParserContext._handleParseResult\u001b[0;34m()\u001b[0m\n",
            "\u001b[0;32msrc/lxml/etree.pyx\u001b[0m in \u001b[0;36mlxml.etree._ExceptionContext._raise_if_stored\u001b[0;34m()\u001b[0m\n",
            "\u001b[0;32msrc/lxml/saxparser.pxi\u001b[0m in \u001b[0;36mlxml.etree._handleSaxEndNoNs\u001b[0;34m()\u001b[0m\n",
            "\u001b[0;32msrc/lxml/parsertarget.pxi\u001b[0m in \u001b[0;36mlxml.etree._PythonSaxParserTarget._handleSaxEnd\u001b[0;34m()\u001b[0m\n",
            "\u001b[0;32m/usr/local/lib/python3.7/dist-packages/bs4/builder/_lxml.py\u001b[0m in \u001b[0;36mend\u001b[0;34m(self, name)\u001b[0m\n\u001b[1;32m    207\u001b[0m                     \u001b[0;32mbreak\u001b[0m\u001b[0;34m\u001b[0m\u001b[0;34m\u001b[0m\u001b[0m\n\u001b[1;32m    208\u001b[0m         \u001b[0mself\u001b[0m\u001b[0;34m.\u001b[0m\u001b[0msoup\u001b[0m\u001b[0;34m.\u001b[0m\u001b[0mhandle_endtag\u001b[0m\u001b[0;34m(\u001b[0m\u001b[0mname\u001b[0m\u001b[0;34m,\u001b[0m \u001b[0mnsprefix\u001b[0m\u001b[0;34m)\u001b[0m\u001b[0;34m\u001b[0m\u001b[0;34m\u001b[0m\u001b[0m\n\u001b[0;32m--> 209\u001b[0;31m         \u001b[0;32mif\u001b[0m \u001b[0mlen\u001b[0m\u001b[0;34m(\u001b[0m\u001b[0mself\u001b[0m\u001b[0;34m.\u001b[0m\u001b[0mnsmaps\u001b[0m\u001b[0;34m)\u001b[0m \u001b[0;34m>\u001b[0m \u001b[0;36m1\u001b[0m\u001b[0;34m:\u001b[0m\u001b[0;34m\u001b[0m\u001b[0;34m\u001b[0m\u001b[0m\n\u001b[0m\u001b[1;32m    210\u001b[0m             \u001b[0;31m# This tag, or one of its parents, introduced a namespace\u001b[0m\u001b[0;34m\u001b[0m\u001b[0;34m\u001b[0m\u001b[0;34m\u001b[0m\u001b[0m\n\u001b[1;32m    211\u001b[0m             \u001b[0;31m# mapping, so pop it off the stack.\u001b[0m\u001b[0;34m\u001b[0m\u001b[0;34m\u001b[0m\u001b[0;34m\u001b[0m\u001b[0m\n",
            "\u001b[0;31mKeyboardInterrupt\u001b[0m: "
          ]
        }
      ]
    },
    {
      "cell_type": "code",
      "source": [
        "print(placeName)\n",
        "print(len(placeName))"
      ],
      "metadata": {
        "id": "Klqxj9taZGAc",
        "outputId": "10cc506a-911d-41e5-a072-b73a2abc9ce9",
        "colab": {
          "base_uri": "https://localhost:8080/"
        }
      },
      "execution_count": null,
      "outputs": [
        {
          "output_type": "stream",
          "name": "stdout",
          "text": [
            "['77 Water Street', \"World's Largest Cowboy Boots \", 'The Lost Town of Newtown Jerpoint (Jerpoint Park)', 'American Museum of the House Cat', 'Titanic Memorial', 'Delaware Water Gap National Recreation Area', 'Kakslauttanen Arctic Resort', 'Prehistoric Gardens', 'The Recumbent Effigy of Victor Noir', \"F. Scott Fitzgerald's Boarding House\", 'The Plant', 'Thistle Ghost Town', 'Salem Village Parsonage', 'East Potomac Park Mini Golf', 'Interference Archive', \"Goatman's Bridge\", 'Nevadaville Ghost Town', 'Umschreibung', 'Buena Vista Park Tombstones', 'The DNA Discovery Center', 'Tenshou-Kyousha Shrine Mermaid Mummy', 'Paternoster Lift', 'Vanadu Art House', 'Sparky Park', 'Preston Castle', 'Miniature Garden of Whimsy ', 'The Faerie Playhouse', 'Mount Elbert', 'Saalfeld Fairy Grottoes', 'Pet Sematary Filming Sites', 'Blue Whale of Catoosa', 'Museum of Health and Medical Science', 'Beth Haim Cemetery', 'Tree Climbing Planet', 'Berliner Medizinhistorisches Museum', 'Gates of Hell Sculpture', \"St. Mark's Clock Tower (Torre dell'Orologio)\", 'Panorama of the City of New York ', 'Center for Puppetry Arts', 'Peacock Room', 'Dr. Seuss Sculpture Garden', 'Skrímslasetrið', ' John Rylands Research Institute and Library', 'Central Market', \"Sean's Bar\", 'The Smile Face Museum ', 'Dunino Den', 'R1 Nuclear Reactor', 'Zzyzx Mineral Springs and Healing Center', 'Wild Blueberry Land', 'Gaztelugatxe', \"Devil's Icebox\", 'Capela de Ossos Bone Chapel', \"Iona's Beach\", 'SkullStore Oddity Shop', 'The Deer Moat Pedestrian Tunnel', 'Pops', 'American Classic Arcade Museum', 'The Wigwam Village #6', 'Denver Zine Library', 'Santuario Madonna della Corona', 'Álfaskólinn (Elfschool)', 'Area 66', 'Freud Museum London', 'Kunsthofpassage Singing Drain Pipes', 'Wanamaker Building', 'Alex Raskin Antiques', 'Campo de Fiori', 'UFO Welcome Center', \"America's Oldest Operating Theater\", \"L'Anse Aux Meadows\", 'The Cleveland Arcade', \"Napoleon's Angels\", 'Pasaquan', 'The Mark Twain House & Museum', 'Skeleton Man Walking Skeleton Dinosaur', 'Monument Rocks', 'The Wieners Circle', 'Westcave Outdoor Discovery Center', 'Overgrown Ship Hulk', \"Abandoned Brach's Candy Factory\", \"Radio City Music Hall's Secret Apartment\", 'Kitchen Witch Cookbooks', 'Kintai Bridge', \"World's Largest Puffin Colony\", 'Forbes Pigment Collection', 'Natural Bridge State Park', 'Old Slave Mart', 'The Wreck of the King Philip', 'Wheeler Geologic Area', 'Albert Einstein Bronze Statue', 'Old Gold Camp Road Tunnels', 'Ann Arbor’s Fairy Doors', 'The Museum Of Wonder', 'Homewood Cemetery', 'Pool Park Asylum', \"Author's Ridge\", 'Bunny Man Bridge ', \"Kansas City Library's Giant Bookshelf\", 'Rynek Underground', 'Evergreen Memorial Park & Crematory', 'National World War II Museum', '309th Aerospace Maintenance and Regeneration Group', 'St. Beatus Cave', 'Fort Mifflin', 'La Belle Nouvelle Orleans Antiques', 'La Scarzuola', 'Old Sheldon Church Ruins', 'Hole in the Ground', 'The Thing', \"Bube's Brewery & Catacombs\", 'Private Passage', 'The Cheddar Man and Cannibals Museum', 'Hotel Alex Johnson', \"Hell's Backbone Scenic Road\", 'Mount Wood Castle and Cemetery', 'Athens Lunatic Asylum', 'Le Chabanais', 'The Old Ship Saloon', \"The 'Home Alone' House\", 'Karl Junker House', 'Shirakawa-go', 'Baldpate Inn Key Collection', 'Hollywood Heritage Museum', 'Lower Bay Station', 'Indian Pueblo Kitchen', 'Rock Garden Calhoun', 'Le Chat Noir Collection', 'Buzz-A-Rama', 'Myers House', 'Wat Thai Temple Food Market', \"Colorado's Airplane Restaurant\", 'Letterform Archive', 'The Reading Pagoda', 'Abney Park Cemetery', 'Church of St. Ursula', 'Northern State Hospital Farm', \"Waldo Farmer's and Flea Market\", 'The Root Bridges of Cherrapunji', 'Cascade Springs Nature Preserve', 'Craters of the Moon National Monument and Preserve', 'Black Veil Shoppe of Drear & Wonder ', 'Merlin’s Cave', 'Stan Mansion', \"The Eagle's Nest \", 'Mount Mitchell', 'Hoia-Baciu Forest', 'Aldeyjarfoss', 'Public Standards of Length', 'Rocky Statue', 'Musée Patamécanique ', 'Le Musee des Moulages', 'El Bordello Alexandra Apartments', 'Trona Pinnacles', 'Lindow Man ', 'Cherry Point Farm and Market Lavender Labyrinth', 'Mauna Kea', 'Gnome Road', 'Vasquez Rocks', 'Paronella Park', \"San Francisco's Cable Car Museum\", 'Rush Ghost Town', 'Backstreet Cultural Museum', \"Tio's Tacos\", 'Brooklyn Ice Cream Factory', 'Confusion Hill', 'The Tombstone House', 'Balloch Park Fairy Trail', \"Leslieville's Crazy Doll House\", 'Off the Rez Cafe', '8bit Cafe', 'Salt & Pepper Shaker Museum', 'Giant Ants', 'Tunnel Number 3', 'Stabler-Leadbeater Apothecary Museum', 'Barboursville Ruins', 'Spaceship House', \"Frank Lloyd Wright's Burnham Block\", 'Shangri-La Stone Village', \"Dooky Chase's Restaurant\", 'Transcendence ', \"'Stand By Me' Tree\", 'The Marine Building', 'Oz Museum', 'Crypt of Civilization', 'History Colorado Center', \"Colonel Sanders' Grave \", 'Hana Lava Tube ', 'Highland Park Bowl', 'Cheesman Park', 'Ludlow Massacre Site', 'Urbano Sundial', 'The Shady Dell', 'Wir Waren Nachbarn (We Were Neighbors) ', 'Iona Abbey', 'Lost City Museum', 'Wabash Arts Corridor', 'Elandan Gardens', 'Skeletons: Museum of Osteology', \"Barthman's Sidewalk Clock\", 'The Child Eater of Bern', 'Bancroft Tower', 'Dun Aonghasa', 'Columcille Megalith Park', 'Paul Bunyan Statue', 'Body Farm in Pennsylvania', 'Santarella', 'Painted Churches of Texas', \"Marvin's Marvelous Mechanical Museum\", 'Museum of the Holy Souls in Purgatory', 'Gullfoss (Golden Falls)', 'Hoover-Mason Trestle', 'Old North Church', 'Riot Grrrl Collection at NYU', 'Chloride Ghost Town', 'Spandauer Zitadelle (Spandau Citadel)', 'Warner and Swasey Observatory', 'Archie the Giant Squid', 'Two Bit Circus Micro-Amusement Park', \"King Arthur's Stone\", 'Hartman Rock Garden', 'The 1886 Crescent Hotel and Spa', 'Trift Bridge', 'Soap Plant / Wacko', \"J.R.R. Tolkien's Grave\", 'Eros Bendato', 'Dog Chapel ', 'Rhinoceros of Belem Tower', 'The U.S. Pizza Museum', 'Crow Canyon Petroglyphs', 'Cheaha Mountain', \"The Crow's Nest at the Old Faithful Inn\", \"Devil's Slide Trestles\", 'Abandoned Annie Lytle Elementary School', 'Ruins of the Cornish Estate', 'Morbid Anatomy Museum', 'Natural History building, National Museum of Ireland', 'Schwerbelastungskörper', 'Dark Matter Oddities & Artisan Collective', 'Hidden Cells of Newgate Prison', 'Nuttallburg', 'Red Beach ', 'Venice Cafe', 'Valley View Hot Springs', 'Seaside Sanatorium', \"'Treatment Rooms' Mosaic House\", 'Villa de Vecchi', 'The Last Resort Bar', 'East Corinth', 'Las Pozas', \"LaBeL RéCuP'\", 'Casa Diablo Vegan Strip Club', 'Bancroft Castle', 'Ladew Topiary Gardens', 'Echo Amphitheater', \"Hermitage Hotel Men's Bathroom\", 'Randsburg', 'Soumaya Museum', 'The Tree That Owns Itself', 'Montgomery Bell Tunnel', 'Festa Major de Gràcia', 'Hot Wells Hotel and Spa', 'Dittrick Medical Museum', 'The Georgetown Trailer Park Mall ', 'The Little Woodcutter', 'Navagio Beach', 'Presidio Pet Cemetery', 'The Berkeley Pit', 'Kyoto Botanical Garden', 'Painted Dunes ', 'Ruins of the McMillan Sand Filtration Site', 'Gillette Castle State Park', 'Faulkner House Books', 'Picture Canyon', 'Swannanoa Palace', 'Spring Grove Cemetery', 'Gungywamp', 'Mitsitam Native Foods Cafe', 'Grundtvig’s Church', 'Holloways of Dorset', 'Strataca, The Kansas Underground Salt Museum', 'Meramec Caverns', 'Detective Bar Progress', 'Carroll Avenue', 'Overtoun Bridge ', \"Johnson's Shut-Ins\", 'The Underground Home', 'Stained Glass at Navy Pier', 'Cruger-dePeyster Sugar Mill Ruins', 'Thunderhead Underground Falls', \"Leavenworth's Bavarian Village\", 'The Junk Castle', 'Red Ruin', \"The Hangman's Elm\", 'Vortex Spring', 'The Last Yogi Bear Honey Fried Chicken Restaurant', 'Austin Dam', 'The Sutro Egyptian Collection', 'Flamingo Habitat', 'Irish Hunger Memorial', 'Hampstead Pergola', 'Samuel Freeman House', 'Grotta', 'Franz Kafka Museum', 'Metolius Balancing Rocks', 'Fremont Bridge', 'Ptarmigan Tunnel', 'Ringing Rocks of Montana', 'Rubel Castle', 'Museum of Psychphonics', 'Mount Hood', \"Doc Holliday's Grave\", 'Beltane Fire Festival', 'Burke Ghost Town', 'Mile-High Steps at the Colorado State Capitol', 'Underground Railroad Experience Trail', 'Battery Steele', 'Six Mile Creek', 'The Hat Museum', 'B-17 Bomber Crash Site', \"World's Largest Air-Insulated Van de Graaff Generator\", 'Ruins of the Jumiège Abbey', \"The Thief's Arm at Kostel Sv. Jakuba Vetsiho\", 'Amsterdam Cheese Museum', \"Jungle Jim's International Market\", '54 Columns', 'The Bunny Museum', 'Grave of John Wilkes Booth', 'Montaña Mágica Lodge', 'International Independent Showmen’s Museum', 'The Daily News Building Globe', 'Fontanelle Cemetery Caves', 'Ellie Schiller Homosassa Springs Wildlife State Park', 'Bennets Bar', 'Bohnický Hřbitov Cemetery (Cemetery of Fools)', 'Duke Lemur Center', 'Lock & Co. ', 'Museum of Whimsy', 'Atlanta Rainbow Crosswalks ', 'The Bubble Room', 'The Little Mermaid', 'Jerpoint Abbey', 'Route 66 End of the Trail Sign', 'The Lost Garden of Schloss Schonbrunn', 'Caza das Vellas Loreto', 'Igreja de São Francisco', 'Exotic Feline Rescue Center ', 'The Carousel in Prospect Park', 'Etowah Indian Mounds', 'Letchworth Village', 'Hamtramck Disneyland', 'The Mysterious Witch Bonney', 'Spiaggia Rosa (Pink Beach)', 'McGill Rose Garden', 'Jack Kerouac House', 'Rattlesnake Bridge', 'Fort Matanzas National Monument', 'Le Cercueil (The Coffin)', 'Chinoike Jigoku', \"Hiroshima's Hypocenter\", 'Darth Vader Grotesque', 'Covão dos Conchos', 'Tonto National Monument Upper Cliff Dwelling', 'Tulane’s Mardi Gras Bead Tree', \"Gandini's Circus\", 'Nelson', 'Mildred E. Mathias Botanical Garden', 'Abandoned Menlo Castle', 'TWA Flight Center at JFK Airport', 'New York Academy of Medicine Rare Book Library', 'Aerojet Dade Rocket Facility', 'Abita Mystery House', 'Cambie Climbing Tree', 'Parowan Gap Petroglyphs', \"'Life Underground' Sculptures\", \"Jack Daniel's Distillery Tour\", 'Kasha-Katuwe Tent Rocks National Monument', 'Billingsgate Roman House and Baths', 'The Arctic Club', 'Camera Museum', 'Old Franklin Park Zoo Bear Pens', 'Museum of Ancient Life', 'Wieliczka Salt Mine', 'Wehrum', 'Shark Girl', 'Chamberí Ghost Station', 'Webb Gallery', ' Oklahoma City Underground', 'Sant Pau Recinte Modernista', 'Warm Springs Pools ', 'Roanoke Pinball Museum', 'Jack Rabbit Trading Post', 'Hindenburg Crash Site', 'Tobin House', 'Castle Hill', 'Cosmic Ray Detectors', \"The Cuban Embassy's Hemingway Bar\", 'Elephant Gate', 'Pine Creek Gorge', 'The Ghost Fleet of Mallows Bay', 'Berkeley Mystery Walls', 'Kilroy Was Here', 'Ballhaus Riviera', \"'Alien' Gargoyle\", 'Barbie Pond on Avenue Q', 'Atocha Station Tropical Garden', 'Avatar Hallelujah Mountain', 'Les Jardins de Quatre-Vents', 'Rotary Jail Museum', 'Paris Padlocks of Love', 'The Pink Lake of Torrevieja', 'Boblo Island Abandoned Amusement Park', 'Tinglewood Carvings', 'Global Effects, Inc.', 'Southernmost Point of the Continental U.S.', 'Luna Parc', 'Skunk Ape Research Headquarters', \"Pooh's House\", 'The Music Box Steps', 'The Lighthouse ', 'Site of the Woolworth Lunch Counter Sit-in', 'BackDoor 43', 'Abandoned Comet Diner', 'Fairy Lake Bonsai Tree', 'Poinsett Bridge', 'Monument to Hodge the Cat', 'The Edward Gorey House', 'Burke Museum Ichthyology Collection', 'Inside the Capitol Dome', 'Old Fort Road Gravity Hill', 'Kelburn Castle', 'Rose Island ', 'Fountains Abbey', 'Elfin Forest', \"Los Angeles' Museum of Broken Relationships\", \"Hitler's Olympic Village\", 'Duquesne Incline', \"'Akaka Falls\", 'Höllgrotten Caves', 'Giant Crystals of Naica', \"Leroy's Place \", 'No Name Lake', 'Dinosaur Tracks at Government Canyon ', 'Fenway Victory Gardens', 'Massacre Cave', 'Sidewalk Subway Map', 'H.P. Lovecraft House', 'Rathaus-Glockenspiel', \"Pep's Maison\", 'Metropolitan Waterworks Museum', \"Pyramid of Kukulcan at Chich'en Itza\", 'La Fábrica (The Factory)', 'Dargavs Village', 'Green-Wood Cemetery', 'Dungeon Rock', 'NIST-F1 Cesium Fountain Atomic Clock', 'Hackberry General Store', 'Millennium Biltmore Hotel ', \"The Pirates' House\", \"Doumar's Barbecue \", 'Manitou Springs Penny Arcade', 'Vashon Island Bike Tree', \"President Ulysses S. Grant's Tomb\", 'Connections Museum', 'Thanks-Giving Square', 'Elkhorn Ghost Town', 'The Jungle Room at Graceland', 'The Marconi Conference Center ', 'Steinert Hall', 'Calistoga Petrified Forest', 'Paxton Gate PDX', 'Free Gold Watch', \"Colorow's Cave\", 'Dearly Departed Museum', 'Hidden J.R.R. Tolkien Quote', 'Buckhorn Saloon and Museum', 'Elsewhere Collaborative', 'Zion–Mount Carmel Tunnel', 'Skinny House', 'American Museum of Magic', 'Lemp Mansion', 'Wind Harp', 'Mantle Rock', 'St. Ignace Mystery Spot', 'Hollywood Sculpture Garden', 'Truth or Consequences', 'Vista House at Crown Point', 'Gravensteen', 'Lennon Wall', 'Okanogan Highland Ghost Towns', \"Original Puppets from 'Mister Rogers' Neighborhood'\", \"Zion Evangelical Lutheran 'Ghost Church'\", 'The Monroe Moosnick Medical and Science Museum', 'Aurora Ice Museum', 'Tunnel of Love', 'Arcosanti', 'Hash Marijuana & Hemp Museum Barcelona', 'Porter Sculpture Park ', 'Old Tonopah Cemetery', 'Mission San Jose', 'Dismals Canyon', 'Papal Hearts at Santi Vincenzo e Anastasio a Trevi', \"Chinatown's Bloody Angle\", 'Philadelphia Insectarium and Butterfly Pavilion', \"Wild Bill's Nostalgia Store\", 'Wupatki Spirit Totem', 'The Day The Music Died Memorial', 'House of Broel', 'Blood Falls', 'Palace Diner', 'Musical Parking Garage', 'That Wanaka Tree', 'Sleeping Bear Dunes National Lakeshore', 'Temple of Valadier', \"Freeport McDonald's\", 'Diego Rivera and Frida Kahlo House Studio Museum', 'Fairfield Hills Hospital', 'Salada Tea Doors', 'Spoonbridge and Cherry', 'Denbigh Insane Asylum', 'Austin Moonlight Towers', 'Freedlyville Quarry', 'First Spiritualist Temple', 'Palau Dalmases', 'Gardens of the World', \"Starr Kempf's Kinetic Sculptures\", \"Father Paul Dobberstein's Grotto of the Redemption\", \"Lake Merritt's Bonsai Garden\", 'Victim of the Beast Gravestone', \"Raven's Grin Inn\", 'Curia Arcanum ', 'Maine Avenue Fish Market', 'Seljavallalaug', 'Koontz Coffee Pot', \"Phyllis' Musical Inn\", 'Devils Golf Course Landscape', 'Nickajack Cave', 'Tunnels of Traverse City State Hospital', 'Krämerbrücke', \"Devil's Hole\", \"Little A'Le'Inn\", 'Wildrose Charcoal Kilns ', 'Balmy Alley Murals', 'Maryland Gold Mine Ruins', \"Kyteler's Inn\", 'Cinder Lake Crater Field', 'Theodore Roosevelt Island', 'Paris Sewer Museum', 'The Atomium', \"Mat Bevel's Museum of Kinetic Art & Surrealistic Pop Science Theater\", 'Zombie Burger + Drink Lab', 'The Duplicative Forest', 'Labyrinth at Audubon Park', 'Dinosaur State Park', 'The Toy and Action Figure Museum', 'Popeye Village', 'Packrat Antiques', 'Prometheus Esoterica', 'A Trail Through Time', 'Kodachrome Basin Spires', 'Home of Truth', 'Ape Canyon', 'Grafarkirkja', 'Miami Circle', 'Mile High Comics Megastore', 'City of Waterfalls', 'Denali', 'Mars Cheese Castle', 'Twin Rocks', \"Dog's Roasted Sweet Potato Stand\", 'Gay City State Park', 'Septuagesimo Uno', 'Bowling Ball Beach', 'Remains of Dolly the Sheep', 'Great Stupa of Dharmakaya ', 'Columbia Road Shops and Flower Market', 'El Ateneo Grand Splendid', 'The Bird Cage Theater', 'Mesa Prieta Petroglyphs', 'Nara Dreamland', 'Cator Woolford Gardens', \"Quigley's Castle\", 'The Zenith', 'Piece of the Berlin Wall at Cafe Turko', 'The Old Headquarters of Murder, Inc. ', 'Pyramid Lake ', 'Spectacle Island Sea Glass Beaches', 'The Fort Sam Houston Quadrangle and Museum', 'Unmarked Grave of H.H. Holmes', 'Broadway Flea Market', 'Santa Justa Lift', 'St. Peter’s Spiritual Temple (Voodoo Village)', 'Gardens of Ninfa', 'Buzludzha Monument', 'Congressional Fallout Shelter at the Greenbrier Resort ', 'Treetop Tower of Rügen ', 'Dungeon Under the Stairs at the Oldest Wooden Schoolhouse', \"Randy's Donuts\", 'Labyrinthe des Dragons', 'Globe Museum', 'Eastern State Hospital', 'Houston Bowery Art Wall', 'Drowned Village of Vilarinho da Furna', 'The Great Buddha of Kamakura', \"Minerva's Shrine\", 'Clone Factory', 'Great Wall of Los Angeles', 'Atami Adult Museum', 'Castle Town Ghost Town', 'PennDOT Road Sign Sculpture Garden', \"Paste Eater's Grave\", 'Lycian Rock Tombs', 'Dimmuborgir', 'Mount Greylock', 'Portmeirion Village', 'Brushy Mountain State Penitentiary', \"Puck's Glen\", 'Basilica of Saint Lawrence, Asheville', 'Book Barn', 'Englewood Post Office', 'Jimi Hendrix Memorial ', \"Copp's Hill Burying Ground\", 'Chocolate Waterfall', 'Palace of Wonders', 'National Park Seminary', \"Hale's Palladium\", 'Predjama Castle ', 'Antelope Island on the Great Salt Lake', 'Winderbourne Mansion', 'Hohenzollern Crypt in the Berlin Cathedral', 'Glenn Dale Hospital', \"David Černý's Metalmorphosis \", 'Public School 972', 'Rubulad', 'Stiltsville', \"Backyard Terror's Dinosaur Park\", ' The Eiffel Tower of New Orleans', 'Gilroy Gardens', 'Lauriston Castle', 'Van Sant Crybaby Bridge', 'Byron Hot Springs Hotel', 'Atlanta White House', 'Library of Congress Card Catalog', 'Velveteria', 'Comic Strip Route', \"Chetham's Library\", 'Indianapolis Moon Tree', 'Linderhof Palace', 'Columns of the Temple of Augustus', 'Bran Castle', 'Lasco Project at Palais de Tokyo', 'Truckhenge ', 'The Anatomical Machines of Cappella Sansevero', 'Szimpla Kert', 'Scala Contarini del Bovolo', 'Cliff Dale Manor Ruins', 'Silfra', 'P.T. Barnum Museum', 'Cheltenham Badlands', 'No Scum Allowed Saloon', 'Uredd Rest Area (Ureddplassen)', 'Ouray Alchemist ', 'Boon Island Light', 'Garden of One Thousand Buddhas', 'Battersea Power Station', 'The Head of St. John the Baptist at San Silvestro in Capite', 'The Old Dutch Church of Sleepy Hollow', 'Antikythera Mechanism', 'Kalaloch Tree of Life', 'Hatch Sticker Museum', \"Keen's Steakhouse\", 'Palomar Observatory', 'Overseas Railroad and Pigeon Key', 'The Sword in the Stone at Montesiepi Chapel', 'Whales of Iceland', 'Oregon Vortex', \"George Boedecker's Sculpture Garden\", 'Picketwire Canyon Trackway', 'Kenka', 'Venice Beach House', 'Mai-Kai Restaurant', 'Pioneertown', 'Newnes Glow Worm Tunnel', \"Sybil's Cave\", 'The Moore Lab of Zoology ', 'Labyrint Drielandenpunt', 'Wild West Morningside', 'Badeschiff', 'Republic of Kugelmugel', 'Lionhead Natural Water Slides', 'Swing Park', 'U-Drop Inn', 'Frank Lloyd Wright-Rosenbaum House', 'Abbey Library of Saint Gall', 'Andres Institute of Art and Sculpture Garden', 'Tombées du Camion', 'Safe House', 'Korean Bell of Friendship', 'Dunure Labyrinth', 'House of Air', 'Hall of Records in Mount Rushmore', 'Istvántelek Train Yard', 'The Ahwahnee Hotel', \"Saint Victoria's Incorruptible Body\", 'The Wedding Cake House', 'Doullut Steamboat Houses', 'Bellows Falls Petroglyphs', 'Playtower', 'Nitt Witt Ridge', 'Floating Bridge of Brookfield, VT', 'Golden Gate Fortune Cookie Company', 'Tintern Abbey', 'Lost City Forest', 'Secret - Abandoned Brothel', 'Owakudani Black Eggs', 'Clock Tower Building', 'Old Warner Bros. Theatre Inside Downtown Jewelry Exchange', 'Sylvan Terrace', 'Make Way for Ducklings Statue ', 'Tom Mankiewicz Conservation Carousel', 'William Ricketts Sanctuary', 'Hood Milk Bottle', 'Burnt Hill Stone Circle', 'Cathedral of Learning ', 'New Mexico Mystery Stone', 'Paw Paw Tunnel', 'U.S. Navy DC-3 Wreckage', 'Pioneer Saloon', 'Bridge of Flowers', 'Hubertusbad', 'Treehouse Paradise', 'Oudekerksplein', 'Turtle Playground', \"Rehmeyer's Hollow\", 'Lanai Cat Sanctuary', 'Meguro Parasitological Museum', ' Prehistoric Trackways National Monument', 'Brouwerij’t IJ', 'United Record Pressing', '419.99 Mile Marker', \"St Bride's Church & Charnel House\", 'Pierre Bazalgues Macabre Antique Stand', 'Balestrino Ghost Village', 'Basilica di San Clemente', 'History of Pharmacy Museum', 'Glasgow City Center Mural Trail', 'Storkyrkobadet', 'Museo Nazionale delle Paste Alimentari', 'Candy Cane Lane', 'La Conciergerie', 'Mackinac Island', 'Mercer Caverns', 'Salt River Wild Horses', \"Kan'ei-ji Temple\", 'Snorralaug', 'The Orange Show', 'Potato Chip Rock', \"Kentucky's Stonehenge\", 'Old Charleston City Jail', 'Coronado Heights Castle', 'The Wolfsonian-FIU', 'Hanging Garden', 'Christ Cathedral (Crystal Cathedral)', 'Vowz', 'Monkey Massacre Memorial', 'Peleș Castle', 'Al Johnson’s Swedish Restaurant', 'Kjeragbolten', 'Crack in the Ground', 'The Wolf House - Jack London State Park', 'Chislehurst Caves', 'Site of the New Jersey Shark Attacks of 1916', 'Saline Valley Hot Springs', 'New Yorker Hotel', 'Green Animals Topiary Garden', 'The Haunted Bookshop', 'Poly Canyon - Experimental Structures Lab', \"Mooresville's Gravity Hill\", 'Lunch Box Museum', 'Brighton Bazaar', 'Bankhead Ghost Town', 'Houtouwan ', 'Pullman Historic District ', 'Opus 40', 'World Famous Crochet Museum', 'Jones Bar-B-Q Diner', 'Fort Armistead ', 'Tucson Mineral and Gem World', \"Ebenezer Floppen Slopper's Wonderful Abandoned Water Slides\", 'New Vrindaban Palace of Gold', 'Venice Beach Freakshow', 'Algerian Coffee Stores', 'Noir Arts & Oddities', \"Lawyer's Farm\", 'The Shameful Tiki Room', 'The Buffalo Bill Museum and Grave', 'The Big Well', 'Tsavo Man Eaters', 'The Museum of Everything (Moving Location)', 'The Mother Vine', 'Oriental Institute Museum', 'Hobbiton, USA', 'Walden Pond', 'Kindred Spirit Mailbox', 'Hang Son Doong', 'Externsteine', 'Clinton Tunnel', 'The Herbivorous Butcher', 'Sculptured House ', 'The Citadella', 'Gilgal Sculpture Garden', 'Skocjan Caves', \"Juliet's Balcony\", 'Sigmund Freud Museum', 'Eartha', 'Auerworld Palace', 'Rhododendron Species Botanical Garden', 'Old Tennessee State Prison', 'Mount Pleasant Cemetery', 'Bunker-42', \"Barney Smith's Toilet Seat Art Museum\", 'Glastonbury', 'Alki Flower Houses', 'Road Island Diner', 'Crystal Palace Subway', 'Caelum', 'Porter Creek Bridge Ruins', 'Cairngorm Reindeer Centre', 'Garden of Eden Trail', 'Pope Lick Trestle Bridge ', 'Merril Collection of Science Fiction, Speculation & Fantasy', 'The Little House', 'Kojo', 'Victoria & Albert Museum Dining Rooms', 'Palmenhaus ', 'Kingsland Wildflowers ', 'Guardian Lions of Route 66', \"World's Largest Rubber Stamp\", 'Viking Village Film Set', 'Fort DeRussy', \"Merchant's House Museum\", 'Majestic Bay Theatre', 'Mox Boarding House', 'Toynbee Tiles', 'Giant Van Gogh Painting', 'Science History Institute', 'Shakaden Reiyukai Temple', 'Legends Books, Antiques & Soda Fountain', 'Whistler Train Wreck', 'Drangsnes Hot Tubs', 'World Famous Giant Shoe Museum', 'Burro Schmidt Tunnel', 'Cabaret Mechanical Theatre', 'Cafe at the Swedish Church of New York', 'Hofskirkja', 'Galloping Ghost Arcade', '45 X 90 Geographical Marker', 'Green Mount Cemetery', 'Hampton Court Maze', \"The Witches' Tree\", 'Chattanooga Choo Choo Hotel', 'Theodore Roosevelt Birthplace Museum', \"Timothy Demonbreun's Cave\", 'Cahokia Mounds', 'Milwaukee Art Museum', 'Yuma Territorial Prison', 'Old Tunnel Bat Colony', 'Tempelhof Airport', 'Aifur', 'American Prohibition Museum', 'The Bunny Hutch', 'The Washhouse', 'Skeletons of Roopkund Lake ', 'Alabama Booksmith', 'Camac Street', 'Grave of Corinne Elliot Lawton', 'Crane Mansion on Castle Hill', 'Church of Two Worlds', 'Takeshima Fantasy Museum', \"Dead Children's Playground\", 'Amityville Horror House', 'Center for Lost Objects', 'University of Florida Bat Houses', 'All Saints Way', 'Marché Jean-Talon', 'Barker Ranch', 'The Avrocar ', 'Laburnum Arch', 'Fliegeberg', 'Stumphouse Tunnel', 'Portland Horse Rings', 'Broke Leg Falls', 'Icelandic Punk Museum', 'Old Man of Hoy', 'California Cactus Center', 'Vasa Museum', 'The Dove', 'UCLA Meteorite Collection', 'Flame of Liberty', 'SS Ayrfield', 'Pig Beach', 'Heidelberg Project', 'Museum of Art Fakes', 'L’importuno di Michelangelo', 'Greenwood Cemetery', 'Ospedale delle Bambole (Doll Hospital)', 'Laurel Dinosaur Park', 'Rudolph Grotto Gardens', 'Mammoth Site', 'Statue of King Wenceslas Riding an Upside-Down Dead Horse', 'Tallest Filing Cabinet on Earth', 'Point Reyes Lighthouse', 'General Laundry Building', 'Paisley Park', \"Squire's Castle\", 'Endor Iron Furnace', 'Loretto Chapel', 'Redwood Forest Tree Art', \"Dr Neil's Garden \", \"Burn O'Vat \", 'Gold King Mine Ghost Town', 'Lion of Lucerne', 'Splendid China', 'Mars Bluff Crater', 'Boothill Graveyard', 'Early Television Museum', 'Gravity Hill in Wisconsin ', 'Sidewalk Harp', 'The Pinnacles', 'Statue of Oscar Wilde', 'Kaumana Lava Tubes', 'The Traveling Man', 'Museo de las Brujas (Witches Museum)', 'Lemon Grove Mummies', \"Catacombs of Old St. Patrick's Cathedral\", 'Archbald Pothole', 'Maxwell Blade’s Odditorium and Curiosities Museum', 'The Stones of Stenness', 'Carrie Furnaces', 'Spanish Monastery Stones', 'Cave of Lascaux', 'Passetto di Borgo', 'Thain Family Forest', 'Museum of Mourning Art', 'Kelso Ghost Town', 'Tovrea Castle', 'Tourlitis Lighthouse', 'Camp No-Be-Bo-Sco', 'The Lucifernum', 'Doodletown', 'Portlandia', 'Gatorland', 'The Very Large Array', \"McDonald's Imperial \", \"Maggie Wall's Memorial\", 'Beverly Cleary Sculpture Garden', 'Erie Street, Historic Lowell', 'Deutsches Currywurst Museum', 'Mines Museum of Earth Science', 'Asahi Plaza Capsule Hotel', 'St. Augustine Airplane Graveyard', 'International Banana Museum', 'London Underground Labyrinths', 'The Coffee Pot', \"St. Govan's Chapel\", 'Kennicott Ghost Town', \"David Bowie's Childhood Home\", \"Mr. Small's Funhouse\", 'Loch Lomond ', 'Christ of the Abyss', 'Curtis Creek Ship Graveyard', 'Stadsbiblioteket (Stockholm Public Library)', 'Scottish Dark Sky Observatory', 'The Forbidden City', 'Clear Lake', \"Nancy Forrester's Secret Garden\", 'Soviet Graffiti in the Reichstag', 'The Grove Park Inn', 'Jimmy Carter Smiling Peanut', 'Piatt Castles', 'The Love Trees of St. Augustine', \"Heinold's First and Last Chance Saloon\", 'The Upside-Down Forest of Glacier Gardens', 'Weiße Rose Pavement Memorial', \"Devil's Bridge, Ceredigion\", \"Witch's Hat Pavilion\", 'The Hydrangea Train', 'Iron Goat Trail', \"Bob's Java Jive\", 'Ark Encounter', '\"Singing Runway\" at the Abandoned Disney World Airport', 'Hotel Majestic', 'Brooklyn Army Terminal Building B ', 'Harry P. Leu Gardens', 'Drayton Hall', 'Big Rock Nature Preserve', 'Old Newgate Prison', 'Fantastic Caverns', 'Big Island Lava Flow', 'Vizcaya Museum and Gardens', 'Scarecrow Video', 'Pabst Mansion', 'Tri-State Peak', 'Captain James T. Kirk Future Birthplace', 'Yoho National Park', 'The Pyramid of North Dakota', 'Photo Antiquities Museum', 'Mystic Falls Park', 'The Genetically Modified Little Mermaid', 'Custer Ghost Town', 'Outer Banks Futuro House', 'Philadelphia City Hall', 'Bamahenge', 'Tiny Town and Railroad', 'Beelitz Heilstätten', 'Marian Coffin Gardens', 'Chapel In The Hills', 'Frozen Dead Guy Days', 'Viking Ship Museum', 'Wall Street Bombing Scars', 'Elephant Rocks State Park', 'Forbidden Gardens', 'Cincinnati Observatory', 'Fort Tilden', 'Petersen Rock Garden', 'American Museum of Western Art', 'Sputnik IV Crash Site', 'The Museum of the Alphabet ', \"Bolivia's Witch Market\", 'Petoskey State Park', 'Church of Sant Miquel del Fai', 'Georgetown Castle', \"Toronto's Half House\", 'Pottawattamie Squirrel Cage Jail', 'BAPS Shri Swaminarayan Sanstha Mandir Chicago', 'Haines Shoe House', 'Corryvreckan Whirlpool ', 'Beechview-Seldom Seen Greenway', 'Bennesse Art Site Naoshima', 'Wyndcliffe Mansion', 'Parc Garrell', 'The Montague Book Mill', 'Rungis International Market', 'Toledo Art Station', 'Crystal Worlds', 'Egasse-Braasch House', 'The Burlington Arcade Beadles', 'New York City Police Museum', 'Lucy the Elephant', 'The Church by the Sea', 'Texas Eiffel Tower', 'The Flintstone House', 'F. Scott and Zelda Fitzgerald Museum', \"Creedmoor Psychiatric Center's Building 25\", \"Barcelona's Baby Drop-off\", 'Berlin Wall Urinal', 'Fiddaun Castle', 'Dogpatch USA', 'Carl S. English Jr. Botanical Gardens', 'Motown Museum', 'New York Marble Cemetery', 'The Dorn Pyramid', \"Schimpff's Confectionery\", 'Ballarat Ghost Town', 'Papakōlea Beach', 'Going-to-the-Sun Road', 'John and Mable Ringling Museum of Art', 'Christon Café', 'Cass Scenic Railroad', \"Sir Richard Burton's Tent-Tomb \", 'Lime Kiln Trail', 'Gjáin', 'Pivot Rock Park', 'Quincy Quarries', 'Knapp’s Castle', 'Sphinx Observatory', 'Fountain of the Fallen Angel', 'European Museum of Modern Art', 'Desertron: The Superconducting Super Collider ', 'Lake Chargoggagoggmanchauggagoggchaubunagungamaugg', 'The Pitié-Salpêtrière Hospital', \"Grande Galerie de l'Évolution\", 'Okishima Island', 'Plum Island Pink House', 'Historic Street Lighting Museum', 'St. Omer Cemetery Witch Grave', 'Rockmen Guardians ', 'Il Porcellino ', 'Ministry of Brewing', 'St. Elizabeths Hospital', 'The Rainbow Tunnel', 'Aogashima Volcano', 'Tianmen Shan', 'Mount Olive Cemetery', 'Kissing Rock', \"Kidd's Toy Museum\", 'Berlin Radio Tower', 'Bourbon Tunnel', 'Teakettle Junction', 'The Sea Hagg', 'Forgotten Giants', 'The National Museum of Toys and Miniatures', 'Unofficial Lego Toy and Plastic Brick Museum ', \"Hundertwasser's Odd Architecture\", 'The Houdini Estate', 'Witch’s Dungeon', 'Tiger & Turtle Magic Mountain', 'Braswell Mountain Rail Tunnel', 'Urnes Stave Church', 'Cat Alley', 'Galleta Meadows Estate', 'Bop Street Records', 'Délirium Café ', \"Poe's Tavern\", 'Real Jardin Botanico', 'The Golden Fire Hydrant', 'Ramones Museum', 'Idaho Potato Museum', 'Crestone Ziggurat', 'Grave of Mercy Brown', 'The A. D. White Library', 'H.P. Lovecraft’s Grave', 'Allies Sculpture', 'Museum of Eroticism', 'Friend Ghost Town', 'Tenderloin National Forest', 'River Country', 'The Town Of Witches', 'Convento de San Francisco Ossuary', 'Beer Can House', 'Cattedrale Vegetale (Tree Cathedral)', \"Musée d'Anatomie Delmas-Orfila-Rouvière\", 'Longplayer', 'Rock Quarry Cave', \"Earnestine & Hazel's\", 'Homomonument', 'Henn-Na Hotel', 'Leighton House Museum', 'Fort Pickens ', 'Becket Land Trust Historic Quarry and Forest', 'Jubiläumswarte', 'Turtle Island', \"Howard Finster's Paradise Gardens\", 'Spadena House', 'Melník Chapel of Bones', 'Mole Hill', 'Torwood Blue Pool', 'Jurustic Park', \"Disneyland's Club 33\", 'Fiume', 'Restormel Castle', 'Lone Star Geyser', 'Crypt at Center Church-on-the-Green', 'Michigan Central Station', \"Duffy's Cut\", 'Aria Antiques', 'Oregon Caves National Monument & Preserve', 'Alderson Academy', \"World's Largest Potted Plant\", 'Sidaway Bridge', 'Frying Pan Tower', \"Devil's Gulch\", 'Matsuo Mine', \"World's Largest Plant Maze\", 'West Norwood Cemetery', \"Grant's Farm\", 'American Gothic House', 'Oddities of Christ Church Cathedral', 'The 747 Experience', 'Fleetwood’s', 'Cenote Ik-Kil', 'Hollensbury Spite House', 'Power Station', 'Proudy', 'Nike Missile Site SF-51', 'Hotel Inntel Zaandam', 'Elf Door at Demings Height Park', 'Lackawanna Coal Mine', 'Giant Hands of Venice’s Grand Canal', 'Huanglong Travertine Pools', 'The Empty Bottle', 'Bohemian Club ', 'Ave Maria Grotto', \"St. Bernard's Well\", 'Donut Hole', 'High Point Chest of Drawers', 'Balmorhea State Park Pool', \"Conolly's Folly\", \"'Les Spécialistes' Fake Door\", 'World Artifacts on the Tribune Tower Walls', 'Wilson Castle', 'Space Acorn', 'The Merry Cemetery', 'Pripyat Amusement Park', 'Tillamook Rock Lighthouse Columbarium', 'The Baked Potato Jazz Club', 'The White Horse Tavern', 'Gulliver Airship', 'Jerónimos Monastery', 'Jolly Green Giant Statue', 'Old Forge Pub', 'Museum of Unnatural History', 'Julien Aurouze and Co.', 'Kawazu Sakura Festival', 'Castelo dos Mouros (Castle of the Moors)', 'Musical Legends Park', 'Hogpen Hills Farms', 'Kam Wah Chung & Co. Museum', 'Sergeant Stubby', \"El Caminito del Rey (The King's Little Pathway)\", 'Ye Olde Trip to Jerusalem', 'Tregothnan', 'Rockhaven Sanitarium', 'Adare Manor', 'Plaque of Nikola Tesla on Radio Wave Building', 'Spam Museum', '\"El Gigante\" and the Stone Moai of Easter Island', 'Mitchell Park Domes', 'Riverside Roundabout', 'The Temple of Tolerance', 'Egg Vending Machine at Glaum Ranch', 'Fallen Star', 'Falmouth Springs', 'Forney Transportation Museum', 'Gallery in the Sun', 'Museum of Exotica', 'Ozymandias on the Plains', 'The Peace Fountain at Cathedral of St. John the Divine', 'Red Light Secrets', \"Jacob's Ladder\", 'Blair Street Underground Vaults', 'Oratory of the Sacred Heart', 'The Strange Procession Which Never Moves', 'Bonsai Rock, Lake Tahoe', 'McKittrick Canyon', 'Paul Bunyan Statue, Bangor', 'Snagov Monastery ', 'Rousakis Plaza Echo Square', 'The Percy Skuy Collection on the History of Contraception', 'Cafe Royal', 'Tuberculosis Huts', 'Schloss Hellbrunn', 'Bayernhof Music Museum', 'Hekla', 'Aviarios del Caribe: Sloth Sanctuary', 'Sunken Forests of Rye', 'Shimanami Kaido Bikeway', 'Missouri State Penitentiary', 'Darlingtonia State Natural Site', \"Louis XIV's Globes\", 'Rebecca Nurse Homestead and Graveyard', 'Tanah Lot', 'Chimney Rock', 'Oakland Cemetery', \"Saint Michael's Church\", 'Lac Blanc', 'Bordeaux, Washington', 'Meadowcroft Rockshelter', 'Le Passe-Muraille', \"God's Acre Healing Springs\", 'Old Wardour Castle', 'Girard Wing', 'Large Binocular Telescope', \"Frederick Douglass's House, Cedar Hill\", 'Flooded Crypt of San Francesco', '1895 Looff Carousel', \"Green Man's Tunnel \", 'Grand Central Oyster Bar', 'Smither Park', 'Museum of Outdated Technology', \"California's Old Faithful\", 'Dining Table at Villa Lante', 'Boca do Inferno', 'Gibsonton, Florida', 'Old Man of the Lake', 'Magicum', 'Orchid Trail Greenhouses', 'Cementiscope', \"Fawcett's Antique Toy and Art Museum\", 'Adventure Playground', 'Museum of Russian Culture', 'Weaver Historical Dental Museum', 'Traboules Secret Passages', 'Pizzeria San Marco', 'Dublinia', 'Two Princes Staircase', 'Palace of Depression', 'Starship Enterprise NCC-1701', 'The Athenian Agora', 'Secret Swing', 'Wakulla Springs', 'Frontier Town', 'Kewpee Hamburgers', 'Tomb of the Mather Family', \"Château d'If\", 'Santuario Nacional del Angel de la Santa Muerte', 'Barnton Quarry Nuclear Bunker', 'Redpath Museum', 'Giant Pink Bunny', \"Michael Faraday's Laboratory\", 'Royal Peacock Black Fire Opal Mine', 'Widow Jane Mine', 'Intermittent Spring', 'Tunnelvision', 'U.S. Route 50 ', 'Fairbanks Museum and Planetarium', 'DEVIL-ish Little Things Museum', 'La Carbonería', 'Goldie 1971 - The Fallen Robot', 'Isa Lake', 'The Duluc Detective Agency', \"Nervous Nellie's Jams and Jellies\", 'Blythe Intaglios', 'Cosmos Mystery Area', 'Kelleys Island Winery Ruins', 'Metropoliz Museum of the Other and the Elsewhere ', \"New York Chinese Scholar's Garden\", 'Glen Jean School', 'Eastlake Zoo Tavern', 'Hoosac Tunnel', 'Curwood Castle', 'Lazzaretto Nuovo', 'Wotruba Church', \"Lud's Church\", 'Avebury', 'California City: The Unbuilt Suburb', 'Li Po Cocktail Lounge', \"Servian Wall at McDonald's\", 'Bernheim Forest Giants', 'Taum Sauk Mountain', \"Hell's Half Acre, Wyoming\", 'TNT Area', 'Three Rivers Petroglyph Site', 'Shambles of York', 'Pensacola Futuro House', 'Dymaxion House', 'Salin Aigues-Mortes', 'The Tree Church', \"Devil's Bridge\", 'Fossil Grove', 'Nautilus Antiques and Old Oddities', 'Newspaper Rock', 'Temple Bar Memorial Dragon', 'Ghost Palace Hotel', 'Fairmont San Francisco Penthouse Suite', \"St. Brigid's Well\", 'Untermyer Park', 'Treehotel', 'CERN', 'Boston Bricks ', 'Site of Execution Dock', 'The Bones of the Wawel Dragon', 'The Devil Heads', 'Honey Mushroom: The Humongous Fungus', 'Ota Tofu', 'National Corvette Museum Sinkhole', 'Grave of Walter White', 'Copper Creek Falls and Mine', 'Kostel Svatého Jiří Ghost Church', 'Twin Sisters', \"'The Awaking Muse'\", 'Cameron Barnstormer Murals', 'Mosquito Bay', 'Mars Desert Research Station', 'Last Remaining Boundary Marker for the Republic of Texas', 'The Boiling River of the Amazon', 'Bloemen Route', 'Renwick Gallery', 'Mound of the Hostages', 'Louisiana’s Civil War Museum at Confederate Memorial Hall', 'The Monroe Institute', \"'Ohe'o Gulch Pools (Seven Sacred Pools)\", 'Mima Mounds', 'Pekin Noodle Parlor', 'The Hippie Tree', 'Bolton Strid', 'Into The Glacier', 'Jal Mahal', 'Brno Ossuary', 'Bordallo Pinheiro Garden', 'Mojave Megaphone', \"Seattle's Giant Sequoia Tree\", 'Stoosbahn Funicular', 'The Eagle and Child', 'Wave Rock', 'Statue of Elizabeth Montgomery', 'The Wizard of Park Avenue', 'Museum Tot Zover', 'Thom Reed UFO Monument Park', 'Old Bluffton Underwater Ghost Town', 'Windsor Ruins', 'Bettie Page House', 'Screaming Tunnel', 'The President John F. Kennedy Bunker', 'The Musical Instrument Museum', 'Sea Organ', \"'Twisted House' \", 'Babae Wine Window', 'Pygmy Forest Trail', 'Internet Archive Headquarters', 'Gastown Steam Clock', 'Preikestolen', 'Bend Blockbuster Video', 'Bridge of Glass', \"Satsuki and Mei's House\", 'The Scarpetta House', 'The Sunsphere', 'Hồ Thuỷ Tiên', 'Brevard White Squirrels', 'Colour by Numbers', 'The First Public Drinking Fountain', 'Hunter S. Thompson Shrine', \"Minnesota's Largest Candy Store\", 'The Earl of Sandwich', 'Labrouste Reading Room', 'VW Slug Bug Ranch', 'U-505', 'Timewheel', \"Dead Man's Hole\", 'Norwich State Hospital ', 'Freetown Christiania', 'Sanspareil Rock Garden', 'Difference Engine #2', 'Mazzariello Labyrinth ', 'Ulele Fairyland Figures', 'The Flying “V” Cabin', 'Bunhill Fields', 'Kagaya', \"Last Woolworth's Lunch Counter\", 'Humboldthain Flak Tower', 'Monument of States', 'Arch of Gallienus', 'Meridian Line of the Basilica of St. Mary of the Angels and the Martyrs', 'Emily’s Bridge', 'Minack Theatre', 'Berkeley Springs Castle', 'Abandoned Girl Scout Camp at Beechwood State Park', 'Chutters Candy Store', 'Eastern Cemetery', 'Río Celeste ', 'Cemetery of the Nameless', 'Pont Valentre', 'Reynisdrangar', 'Atlantic Avenue Tunnel', 'Elberton Ghost Town', 'Lewis Spring House', 'Guadalupe-Nipomo Dunes', 'Wojtek the Soldier Bear Memorial', 'The Black Cliffs', 'Fernald State School', 'Worcester State Hospital', 'Treasure Island', 'Hidden Heart of Music Row', 'Tampa Theatre', 'Colorado Mental Health Institute at Pueblo Museum', 'Shibazakura Park', 'The Heart of Midlothian', 'Jonas Caves ', 'The Mummies at Museo de El Carmen', 'Wamego LSD Missile Silo', 'Cacao Prieto', 'John Hay Library', 'Moqui Cave', 'Terra Cotta Row', 'Arboretum & Botanical Gardens', \"Dorchester - South Carolina's Abandoned Town\", 'Ghost Ranch', 'Claude Monet House and Gardens', 'Skyline Drive', 'The Witch of Pungo Statue', 'Lamp House', 'Dee Wright Observatory', 'The Theatre', 'V. C. Morris Gift Shop', 'Semmelweis Medical Museum ', 'Nigardsbreen Ice Cave', 'The Renaissance Society', 'Rue du Chat-qui-Pêche', 'Palace of the Golden Orbs', 'White Sulfur Springs Ruins', 'Paley Park', 'One Times Square', 'Hudson River State Hospital', 'Fenelon Place Elevator', \"Shaker's Cigar Bar\", 'Fossil Falls', 'Au Roi de la Bière', 'Gold Butte National Monument', 'Wind Telephone', \"Grave of Stonewall Jackson's Arm\", 'California Carnivores', 'Under', 'Roger La Grenouille', 'State Street', 'Providence Home Geode Grotto', 'Pittaki Street', 'The Big Edge', 'Verdenskortet', 'Mycenae', \"Florida's Volkswagen graveyard \", 'Dummett Sugar Mill Ruins', 'The Mutilated Currency Division', 'Balto the Sled Dog', 'Glen Echo Amusement Park ', 'The Spotted Lake (Kliluk)', 'Calumet Fisheries', 'The Shawshank Trail ', 'Division Street Russian and Turkish Baths', 'Fort Rock', 'Mechanical Riverfront Kingdom on Druid Hill', 'The Attendant, Fitzrovia', 'Yongma Land Abandoned Theme Park', 'Tatami-ishi (Tatami Rocks)', 'World Records of Casey, Illinois ', \"Annie Oakley's Grave\", 'Gravity Research Foundation Monument', \"Harrisburg's Mini Statue of Liberty\", \"John Dillinger's Grave\", 'Old Spanish Trail Zero Milestone', 'Sakagura', 'The Lost Town of Proctor', 'Estufa Fria', 'Factory Butte', 'Five Hundred Acre Wood', 'Par-King Skill Golf', 'Viscardigasse', 'Kelso Dunes', 'Super-Kamiokande', 'Modica Way', 'Yester Castle ', 'Pleasure Beach', 'The Ozark Spooklight', 'Buckle Island', 'The Bells ', 'The Rosegate House', \"Nagano's Darkroom\", 'Neutaconkanut Hill Park', 'Dachau Concentration Camp', 'Falkirk Wheel', 'Cedars of Lebanon State Park', 'Dinosaur Footprints of Holyoke ', \"Scott's View\", 'Holland Island', 'Kolmanskop Ghost Town', 'Rolling Bridge ', 'Þrídrangaviti Lighthouse', 'Dark Star Park', 'Mow Cop Castle', 'Largest Virgin Mary Mosaic in the World', 'Vinegar Hill', 'Caño Cristales', 'Shade Swamp Sanctuary', 'The Tree Goats of Morocco ', 'Battle of Atlanta Cyclorama', 'Burlington Bunker', 'Tail of the Yak', 'Vigna Randanini', 'Holt House', 'Rockefeller Mansion in Rock Creek Park', 'Zhangye National Geopark', 'The Etched Mirror Salons of Laperouse Restaurant ', 'La Posada del Sol', 'Old Carbonton Dam', 'Miamisburg Mound', 'Gilman', 'Beachy Head', \"The Ruins of St. Peter's Seminary\", 'Bulk Candy Store Museum', 'Museums at Old City Cemetery', 'Evel Pie', 'Huis te Vraag Cemetery', 'Three Sisters Sanctuary', 'Submerged Gondola', 'Flipper Muzeum', \"Diego Rivera's Detroit Industry\", 'Sri Sri Radha Krishna Temple', 'Littledean Jail and Museum of Crime ', 'Lofoten Islands', \"Marsh's Library\", 'Museum of Osteology and Skulls Unlimited', 'Victoriahuset (Victoria House)', \"Dunbar's Close\", 'Crescent Beach', 'The Reichenbach Falls', 'The Blue Planet', 'Playground of the Gods', 'Enchanted Forest', 'Calvert Vaux Cove', 'Pravčická brána (Pravčice Gate)', 'William Wallace Memorial', 'Toadstool Geologic Park', 'Meoto Iwa ', 'Weather Machine', 'Houseboats of Regents Canal', 'Temple of Damanhur', 'Big Bend Power Plant Manatee Viewing Area', 'Grave of Ed Gein', 'Isola San Giulio', 'Jigokudani (Hell Valley)', 'Killiansburg Cave', 'Wharton Esherick Museum', 'Dragon Escalator', 'The Republic of Molossia', 'The Tenderloin Museum', 'Kanamara Matsuri Festival', 'The Viking', \"The Great Smoky Mountains' 'Missing Link' \", 'Fort Knox State Historic Site', \"Knight's Spider Web Farm\", \"Chuck Berry's House\", 'House of Mews', 'Curious Rock', 'Poenari Castle', 'Big Four Ice Caves', 'Marjorie McNeely Conservatory (Como Park)', 'Ashizuri Underwater Observation Tower', \"World's Largest Slinky\", 'Batalion Comic Book Museum and Club', 'Crowley Mausoleum ', \"Geppi's Entertainment Museum\", 'The Golden Eagle Pharmacy Museum', \"L'Atelier des Lumières (Workshop of Light)\", 'Bloodroot Feminist Vegetarian Restaurant', 'Ellis Island Immigrant Hospital', 'Broch of Mousa', 'The Stravinsky Fountain', 'Nature Friends Tourist Club', 'The Titanic Museum', 'Basilica of the National Shrine of the Immaculate Conception', 'Bled Island and Castle', \"Polcari's Coffee\", \"Museo Storico Nazionale Dell' Arte Sanitaria\", 'Paternoster Lift', 'Epreskert Garden ', 'Odd Fellows Rest', 'Búri', 'Stonehenge Replica', 'Fortress of Faith (Greenback Castle)', 'The Drovers Inn', 'Izmailovo Kremlin', \"G-Cans: the World's Largest Drain \", 'Old Jail Museum', 'Tree of 40 Fruit', 'Trifot', 'Carousel of Happiness', 'Coney Art Walls', 'Lincoln Tomb', 'Enchanted Highway Sculptures', 'Winnekenni Castle', 'Air Crash', 'Humphreys Peak', 'Historic Haile Homestead', 'The \"Center\" of San Francisco Monument', 'Championship Vinyl in \"High Fidelity\"', 'Sierra Madre Wistaria Vine', 'Fish Bowl Spring', 'Gypsy Gold Horse Farm ', \"Devil's Swimming Pool \", 'The Superstition Mountain Museum', 'New Slains Castle Ruins', 'Roosevelt Island Octagon Tower', 'Buford, Wyoming: Population 0', 'The Baker Hotel', 'Wash Woods Settlement', 'Golden Bridge', 'Yeoman Warders Club', 'Organ Stop Pizza', 'Ruins of The Hampton Springs Hotel ', 'Clausland Mountain Tunnels', 'Purgatory Chasm', 'National Mustard Museum', 'Old New Synagogue', 'Hindu Temple of Atlanta', 'Trap Music Museum', 'Tent Graves of Mt. Gilead Cemetery', 'Key West Cemetery', 'The Forgotten Entrance to Clinton Hall', 'Hand of Faith Gold Nugget', 'Mount Washington', 'Birthplace of H.H. Holmes', 'Big Idaho Potato Hotel', 'Frankford Avenue Bridge', 'Delaware River Viaduct', 'Forest of Borth ', 'The Doomed City of Doel', 'Ars Obscura', 'Desierto de los Leones (Desert of the Lions)', \"Portland's Windows of Wonders\", 'Spectacle Theater', 'Luna Café', 'Hansa Studios', \"Jerome's Sliding Jail\", 'Carrick-a-Rede Rope Bridge ', 'Vasari Corridor', 'Asamkirche', 'Wizard Quest', 'Mather Home', 'The Wonderful Barn', \"St. Leonard's Church Basement Ossuary\", 'KGB Muzeum', \"World's Largest Fork\", 'Trick Eye Museum', 'Vatican Necropolis', 'The House of Automata', \"The Wishbones of McSorley's Old Ale House\", 'Bloedel Conservatory ', 'Wolf Conservation Center', 'Dolbadarn Castle Ruins', 'Capela do Senhor da Pedra', 'REM Eiland', 'St. Nicholas Church Memento Mori', 'Kleine Trippenhuis', 'Monumental Kitty', 'Machrie Moor Standing Stones', 'The Black Mailbox', 'Skull Cave', 'Unto These Hills Cherokee Theatre', 'Guyot Glacier Ice Caves', 'Abandoned Iraqi Embassy ', 'The Garden of Eden', 'Café in the Crypt', 'Convent of the Capuchos', \"King's Chapel Crypt\", 'Molly the Mollusk', 'Supercharged', 'Edo-Tokyo Open Air Architectural Museum', \"Heald Square Monument's Statue of Liberty\", 'The First Sea-Punk Mural', 'Arthur Conan Doyle Room', 'Grave of Andy Warhol', 'Ax-Man Surplus', 'The Rock in the House', 'Memento Park', 'Holler House', 'The Giant Stairway', 'Jewett City Vampires', 'Dry Falls', 'True Treats', 'Grasshopper Glacier', 'Leap-The-Dips', 'Sweden Solar System', \"Wolf's Museum of Mystery\", 'Tikaboo Peak', 'Umbrella Alley', 'Manitou Mineral Springs', 'Arion Press and M & H Type', 'Les Escaules', 'The Churchill Arms', 'La Ventana Arch', 'Potash Evaporation Ponds', 'Kungsträdgården Metro Station', \"Taller d'Oleguer Junyent (Oleguer Junyent's Workshop)\", 'The Totalitarian Art Gallery', 'Art Alley', 'Tempietto at San Pietro in Montorio', 'Knossos', 'Brooklyn Grange Farms and Apiary', 'ATLAS-I', 'Summum Pyramid', \"David's Brisket House\", 'Roswell UFO Spacewalk', 'Ekibenya Matsuri', 'Tchai-Ovna House of Tea ', 'Kanmangafuchi Abyss', 'Biblioteca Ets Haim', 'The Garden of Philosophers', 'Oldest Manhole Cover', 'House Attack ', 'Banff Springs Hotel', 'Paved Trail', 'Miniature Museum of Greater St. Louis', 'Museum at Eldridge Street ', \"Aleister Crowley's Magickal Retirement\", 'House of the Temple', 'Longhorn Grill and Saloon', 'Hotel del Coronado', 'Russian and Turkish Baths Cafe', 'House on Fire Ruin', 'The RMS Queen Mary', 'Moss Lady', 'Allison Mansion', 'Poetry Foundation Library', 'Medicine Rocks State Park', 'Windover Archeological Site', 'Gold Bug', \"O'Malley's Pub\", 'Red Mountain', 'Little Beaver Town', \"Ball's Pyramid\", 'Krafla', 'Atlanta Botanical Garden', 'Healer', 'Cave Vineyard', 'Lake Pontchartrain Causeway', 'Dare Stones', 'City Hall Urinal', 'Playa de las Catedrales', 'Bucket of Blood Street', 'Ouija 7-Eleven', 'Castlewood Canyon Dam Ruins']\n",
            "1800\n"
          ]
        }
      ]
    },
    {
      "cell_type": "code",
      "source": [
        "dati={'Place Name':[placeName], 'Place Tags':[placeTags], 'Visitors':[numPeopleVisited], 'Want to visit':[numPeopleWant],\n",
        "      'Description':[placeDesc], 'Short Description':[placeShortDesc], 'Nearby Places':[placeNearby], 'Address':[placeAddress], \n",
        "      'Altitude':[placealt], 'Longitude':[placeLong], 'Editors':[placeEditors], 'Publishing Date':[placePubDate],\n",
        "      'Included':[placeRelatedLists], 'Related':[placeRelatedPlaces], 'URL':[placeURL]}\n",
        "features=pd.DataFrame(data=dati, columns=['Place Name', 'Place Tags', 'Visitors', 'Want to visit', 'Description', 'Short Dscription',\n",
        "                                          'Nearby Places', 'Address', 'Altitude', 'Longitude', 'Editors', 'Publishing Date', \n",
        "                                          'Included', 'Related', 'URL'])\n",
        "\n",
        "os.makedirs('/content/drive/MyDrive/ADM_HW3/tsv_file')\n",
        "placesfeatures = features.to_csv('content/drive/MyDrive/ADM_HW3/features.tsv', sep='\\t', index=False)"
      ],
      "metadata": {
        "id": "yMcG_QBv610O"
      },
      "execution_count": null,
      "outputs": []
    },
    {
      "cell_type": "markdown",
      "source": [
        "## 2. Search Engine"
      ],
      "metadata": {
        "id": "Yv8T-SFkJltX"
      }
    },
    {
      "cell_type": "code",
      "source": [
        "from nltk.corpus import stopwords\n",
        "from nltk.stem import PorterStemmer"
      ],
      "metadata": {
        "id": "0wjOsQ-gJoU6"
      },
      "execution_count": null,
      "outputs": []
    },
    {
      "cell_type": "code",
      "source": [
        "nltk.downloads('stopwords')\n",
        "nltk.download('punkt')"
      ],
      "metadata": {
        "id": "9dMBzBQ_xlSH"
      },
      "execution_count": null,
      "outputs": []
    },
    {
      "cell_type": "code",
      "source": [
        "stopwords = set(stopwords.words('english'))\n",
        "\n",
        "for line in placesfeatures['Description']:\n",
        "  tokens=nlkt.word_tokenize(line, language='english')\n",
        "  \n"
      ],
      "metadata": {
        "id": "XgxanMPo9TTc"
      },
      "execution_count": null,
      "outputs": []
    },
    {
      "cell_type": "code",
      "source": [
        "# usa freqdist per contare le frequenze delle parole"
      ],
      "metadata": {
        "id": "OUKWZuO7HQo_"
      },
      "execution_count": null,
      "outputs": []
    },
    {
      "cell_type": "markdown",
      "source": [
        "### 2.1.1 Create your index!"
      ],
      "metadata": {
        "id": "2xsBARBUJoeC"
      }
    },
    {
      "cell_type": "code",
      "source": [],
      "metadata": {
        "id": "3ntzFHr7JrRJ"
      },
      "execution_count": null,
      "outputs": []
    },
    {
      "cell_type": "markdown",
      "source": [
        "### 2.1.2 Execute the query"
      ],
      "metadata": {
        "id": "PnzEemrYJrbD"
      }
    },
    {
      "cell_type": "code",
      "source": [],
      "metadata": {
        "id": "3Dj8H7MJJuYF"
      },
      "execution_count": null,
      "outputs": []
    },
    {
      "cell_type": "markdown",
      "source": [
        "### 2.2 Conjunctive query & Ranking score"
      ],
      "metadata": {
        "id": "4sUYm1BvJuf4"
      }
    },
    {
      "cell_type": "code",
      "source": [],
      "metadata": {
        "id": "Skf6iJ7hJw2t"
      },
      "execution_count": null,
      "outputs": []
    },
    {
      "cell_type": "markdown",
      "source": [
        "### 2.2.1 Inverted index"
      ],
      "metadata": {
        "id": "JnJqLICZJxFB"
      }
    },
    {
      "cell_type": "code",
      "source": [],
      "metadata": {
        "id": "pSNTyrLvJzvT"
      },
      "execution_count": null,
      "outputs": []
    },
    {
      "cell_type": "markdown",
      "source": [
        "### 2.2.2 Execute the query"
      ],
      "metadata": {
        "id": "sRNXsyLNJz4K"
      }
    },
    {
      "cell_type": "code",
      "source": [],
      "metadata": {
        "id": "yOOV24BAJ2ex"
      },
      "execution_count": null,
      "outputs": []
    },
    {
      "cell_type": "markdown",
      "source": [
        "## 3. Define a new score!"
      ],
      "metadata": {
        "id": "NtdfZTIKJ2qf"
      }
    },
    {
      "cell_type": "code",
      "source": [],
      "metadata": {
        "id": "zGKEAK8ZJ7Dh"
      },
      "execution_count": null,
      "outputs": []
    },
    {
      "cell_type": "markdown",
      "source": [
        "## 4. Visualizing the most relevant places"
      ],
      "metadata": {
        "id": "yNNOCxL3J7K2"
      }
    },
    {
      "cell_type": "code",
      "source": [],
      "metadata": {
        "id": "e9M2ekJCJ9mt"
      },
      "execution_count": null,
      "outputs": []
    },
    {
      "cell_type": "markdown",
      "source": [
        "## 5. BONUS: More complex search engine"
      ],
      "metadata": {
        "id": "KK8ODKfZJ9v0"
      }
    },
    {
      "cell_type": "code",
      "source": [],
      "metadata": {
        "id": "2ZpfE-0QKAMG"
      },
      "execution_count": null,
      "outputs": []
    },
    {
      "cell_type": "markdown",
      "source": [
        "## 6. Command line question"
      ],
      "metadata": {
        "id": "HPuc4PmUKAWu"
      }
    },
    {
      "cell_type": "code",
      "source": [],
      "metadata": {
        "id": "kMtRVgc7KEwN"
      },
      "execution_count": null,
      "outputs": []
    },
    {
      "cell_type": "markdown",
      "source": [
        "## 7. Theoretical question"
      ],
      "metadata": {
        "id": "ks1Z654JKE--"
      }
    },
    {
      "cell_type": "code",
      "source": [],
      "metadata": {
        "id": "8vRwj8kPKHWg"
      },
      "execution_count": null,
      "outputs": []
    }
  ]
}