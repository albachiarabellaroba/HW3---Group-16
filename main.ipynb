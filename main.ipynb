{
  "nbformat": 4,
  "nbformat_minor": 0,
  "metadata": {
    "colab": {
      "provenance": [],
      "authorship_tag": "ABX9TyNSM+iFIuok499OE0wwiM3H",
      "include_colab_link": true
    },
    "kernelspec": {
      "name": "python3",
      "display_name": "Python 3"
    },
    "language_info": {
      "name": "python"
    }
  },
  "cells": [
    {
      "cell_type": "markdown",
      "metadata": {
        "id": "view-in-github",
        "colab_type": "text"
      },
      "source": [
        "<a href=\"https://colab.research.google.com/github/albachiarabellaroba/HW3---Group-16/blob/main/main.ipynb\" target=\"_parent\"><img src=\"https://colab.research.google.com/assets/colab-badge.svg\" alt=\"Open In Colab\"/></a>"
      ]
    },
    {
      "cell_type": "markdown",
      "source": [
        "#**Homework 3 - Places of the world**"
      ],
      "metadata": {
        "id": "RYt2rNxiJCnM"
      }
    },
    {
      "cell_type": "code",
      "source": [
        "from bs4 import BeautifulSoup\n",
        "import bs4\n",
        "import requests\n",
        "import os.path\n",
        "import re\n",
        "import csv\n",
        "from datetime import datetime\n",
        "from tqdm import tqdm\n",
        "import time"
      ],
      "metadata": {
        "id": "Jl1MRtWrJN8M"
      },
      "execution_count": null,
      "outputs": []
    },
    {
      "cell_type": "markdown",
      "source": [
        "## 1. Data collection"
      ],
      "metadata": {
        "id": "OlhC_Da0JO-1"
      }
    },
    {
      "cell_type": "markdown",
      "source": [
        "### 1.1. Get the list of places"
      ],
      "metadata": {
        "id": "DKEKM1gSJSez"
      }
    },
    {
      "cell_type": "code",
      "source": [
        "linklist = open('linklist.txt', 'w')\n",
        "\n",
        "for i in tqdm(range(1, 401)):\n",
        "    link = 'https://www.atlasobscura.com/places?page='+str(i)+'&sort=likes_count'\n",
        "    cont = requests.get(link)\n",
        "    soup = BeautifulSoup(cont.content, features='lxml')\n",
        "    for a in soup.find_all('a', c='content-card content-card-place'):\n",
        "        linklist.write(a.get('href')+'\\n')\n",
        "        \n",
        "linklist.close()"
      ],
      "metadata": {
        "id": "3SQcCegJJX6c"
      },
      "execution_count": null,
      "outputs": []
    },
    {
      "cell_type": "markdown",
      "source": [
        "### 1.2. Crawl places"
      ],
      "metadata": {
        "id": "NcdSFQLRJaGS"
      }
    },
    {
      "cell_type": "code",
      "source": [
        "for i in tqdm(range(1, 10)):\n",
        "    cart = 'Html_page/page{}'.format(i)\n",
        "    os.makedirs(cart)\n",
        "    \n",
        "    file = open('linklist.txt', 'r', encoding='utf8')\n",
        "    l = file.readlines()[(page-1)*18:(page)*18]\n",
        "    l = [l.rstrip() for i in l]\n",
        "    file.close()"
      ],
      "metadata": {
        "id": "Yj8pzW-eJeT-"
      },
      "execution_count": null,
      "outputs": []
    },
    {
      "cell_type": "code",
      "source": [],
      "metadata": {
        "id": "i_z8QI20JgCc"
      },
      "execution_count": null,
      "outputs": []
    },
    {
      "cell_type": "markdown",
      "source": [
        "### 1.3 Parse downloaded pages"
      ],
      "metadata": {
        "id": "QLS9gAGtJgQ2"
      }
    },
    {
      "cell_type": "code",
      "source": [],
      "metadata": {
        "id": "UkZqFGAJJli4"
      },
      "execution_count": null,
      "outputs": []
    },
    {
      "cell_type": "markdown",
      "source": [
        "## 2. Search Engine"
      ],
      "metadata": {
        "id": "Yv8T-SFkJltX"
      }
    },
    {
      "cell_type": "code",
      "source": [],
      "metadata": {
        "id": "0wjOsQ-gJoU6"
      },
      "execution_count": null,
      "outputs": []
    },
    {
      "cell_type": "markdown",
      "source": [
        "### 2.1.1 Create your index!"
      ],
      "metadata": {
        "id": "2xsBARBUJoeC"
      }
    },
    {
      "cell_type": "code",
      "source": [],
      "metadata": {
        "id": "3ntzFHr7JrRJ"
      },
      "execution_count": null,
      "outputs": []
    },
    {
      "cell_type": "markdown",
      "source": [
        "### 2.1.2 Execute the query"
      ],
      "metadata": {
        "id": "PnzEemrYJrbD"
      }
    },
    {
      "cell_type": "code",
      "source": [],
      "metadata": {
        "id": "3Dj8H7MJJuYF"
      },
      "execution_count": null,
      "outputs": []
    },
    {
      "cell_type": "markdown",
      "source": [
        "### 2.2 Conjunctive query & Ranking score"
      ],
      "metadata": {
        "id": "4sUYm1BvJuf4"
      }
    },
    {
      "cell_type": "code",
      "source": [],
      "metadata": {
        "id": "Skf6iJ7hJw2t"
      },
      "execution_count": null,
      "outputs": []
    },
    {
      "cell_type": "markdown",
      "source": [
        "### 2.2.1 Inverted index"
      ],
      "metadata": {
        "id": "JnJqLICZJxFB"
      }
    },
    {
      "cell_type": "code",
      "source": [],
      "metadata": {
        "id": "pSNTyrLvJzvT"
      },
      "execution_count": null,
      "outputs": []
    },
    {
      "cell_type": "markdown",
      "source": [
        "### 2.2.2 Execute the query"
      ],
      "metadata": {
        "id": "sRNXsyLNJz4K"
      }
    },
    {
      "cell_type": "code",
      "source": [],
      "metadata": {
        "id": "yOOV24BAJ2ex"
      },
      "execution_count": null,
      "outputs": []
    },
    {
      "cell_type": "markdown",
      "source": [
        "## 3. Define a new score!"
      ],
      "metadata": {
        "id": "NtdfZTIKJ2qf"
      }
    },
    {
      "cell_type": "code",
      "source": [],
      "metadata": {
        "id": "zGKEAK8ZJ7Dh"
      },
      "execution_count": null,
      "outputs": []
    },
    {
      "cell_type": "markdown",
      "source": [
        "## 4. Visualizing the most relevant places"
      ],
      "metadata": {
        "id": "yNNOCxL3J7K2"
      }
    },
    {
      "cell_type": "code",
      "source": [],
      "metadata": {
        "id": "e9M2ekJCJ9mt"
      },
      "execution_count": null,
      "outputs": []
    },
    {
      "cell_type": "markdown",
      "source": [
        "## 5. BONUS: More complex search engine"
      ],
      "metadata": {
        "id": "KK8ODKfZJ9v0"
      }
    },
    {
      "cell_type": "code",
      "source": [],
      "metadata": {
        "id": "2ZpfE-0QKAMG"
      },
      "execution_count": null,
      "outputs": []
    },
    {
      "cell_type": "markdown",
      "source": [
        "## 6. Command line question"
      ],
      "metadata": {
        "id": "HPuc4PmUKAWu"
      }
    },
    {
      "cell_type": "code",
      "source": [],
      "metadata": {
        "id": "kMtRVgc7KEwN"
      },
      "execution_count": null,
      "outputs": []
    },
    {
      "cell_type": "markdown",
      "source": [
        "## 7. Theoretical question"
      ],
      "metadata": {
        "id": "ks1Z654JKE--"
      }
    },
    {
      "cell_type": "code",
      "source": [],
      "metadata": {
        "id": "8vRwj8kPKHWg"
      },
      "execution_count": null,
      "outputs": []
    }
  ]
}