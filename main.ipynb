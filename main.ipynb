{
  "nbformat": 4,
  "nbformat_minor": 0,
  "metadata": {
    "colab": {
      "provenance": [],
      "include_colab_link": true
    },
    "kernelspec": {
      "name": "python3",
      "display_name": "Python 3"
    },
    "language_info": {
      "name": "python"
    }
  },
  "cells": [
    {
      "cell_type": "markdown",
      "metadata": {
        "id": "view-in-github",
        "colab_type": "text"
      },
      "source": [
        "<a href=\"https://colab.research.google.com/github/albachiarabellaroba/HW3---Group-16/blob/main/main.ipynb\" target=\"_parent\"><img src=\"https://colab.research.google.com/assets/colab-badge.svg\" alt=\"Open In Colab\"/></a>"
      ]
    },
    {
      "cell_type": "markdown",
      "source": [
        "#**Homework 3 - Places of the world**"
      ],
      "metadata": {
        "id": "RYt2rNxiJCnM"
      }
    },
    {
      "cell_type": "markdown",
      "source": [
        "*Authors: Bellaroba Albachiara, Mazza Ludovica, Jinjia Qian*"
      ],
      "metadata": {
        "id": "-9rFaYLiJeq0"
      }
    },
    {
      "cell_type": "markdown",
      "source": [
        "To get started, let's import all the libraries we will need."
      ],
      "metadata": {
        "id": "MumLyAdkJU2Y"
      }
    },
    {
      "cell_type": "code",
      "source": [
        "from bs4 import BeautifulSoup\n",
        "import bs4\n",
        "import requests\n",
        "import os.path\n",
        "import lxml\n",
        "import re\n",
        "import codecs\n",
        "import csv\n",
        "import nltk\n",
        "import pickle\n",
        "import heapq\n",
        "import numpy as np\n",
        "from datetime import datetime\n",
        "from tqdm import tqdm\n",
        "import time\n",
        "import pandas as pd\n",
        "import spacy"
      ],
      "metadata": {
        "id": "Jl1MRtWrJN8M"
      },
      "execution_count": 3,
      "outputs": []
    },
    {
      "cell_type": "markdown",
      "source": [
        "In order to work in a faster environment, we link our work to a shared drive folder."
      ],
      "metadata": {
        "id": "2IUoMbH6JGJv"
      }
    },
    {
      "cell_type": "code",
      "source": [
        "from google.colab import drive\n",
        "drive.mount('/content/drive/') "
      ],
      "metadata": {
        "id": "ecIen976hOA6",
        "outputId": "c05f52fd-fe62-41a3-ba20-5f1ce647a33c",
        "colab": {
          "base_uri": "https://localhost:8080/"
        }
      },
      "execution_count": 4,
      "outputs": [
        {
          "output_type": "stream",
          "name": "stdout",
          "text": [
            "Mounted at /content/drive/\n"
          ]
        }
      ]
    },
    {
      "cell_type": "markdown",
      "source": [
        "## 1. Data collection"
      ],
      "metadata": {
        "id": "OlhC_Da0JO-1"
      }
    },
    {
      "cell_type": "markdown",
      "source": [
        "### 1.1. Get the list of places"
      ],
      "metadata": {
        "id": "DKEKM1gSJSez"
      }
    },
    {
      "cell_type": "markdown",
      "source": [
        "At this point we're creating a text file with all the link related to the 7200 places we will analyze."
      ],
      "metadata": {
        "id": "h8GejFPsJu7W"
      }
    },
    {
      "cell_type": "code",
      "source": [
        "# NON runnare\n",
        "\n",
        "linklist = open('/content/drive/MyDrive/ADM_HW3/linklist.txt', 'w')\n",
        "\n",
        "for i in tqdm(range(1, 401)):\n",
        "    link = f'https://www.atlasobscura.com/places?page={i}&sort=likes_count'\n",
        "    cont = requests.get(link)\n",
        "    soup = BeautifulSoup(cont.content, features='lxml')\n",
        "    for a in soup.find_all('a', class_='content-card content-card-place'):\n",
        "        linklist.write(a.get('href')+'\\n')\n",
        "        \n",
        "linklist.close()"
      ],
      "metadata": {
        "id": "3SQcCegJJX6c",
        "outputId": "11fa961c-3618-497a-9f4a-d28b917b1e90",
        "colab": {
          "base_uri": "https://localhost:8080/"
        }
      },
      "execution_count": null,
      "outputs": [
        {
          "output_type": "stream",
          "name": "stderr",
          "text": [
            "100%|██████████| 400/400 [02:05<00:00,  3.18it/s]\n"
          ]
        }
      ]
    },
    {
      "cell_type": "markdown",
      "source": [
        "Control that we have all the link."
      ],
      "metadata": {
        "id": "-LIORHMzJ92_"
      }
    },
    {
      "cell_type": "code",
      "source": [
        "file = open('/content/drive/MyDrive/ADM_HW3/linklist.txt', 'r')\n",
        "count=0\n",
        "for i in file:\n",
        "  if i != '\\n':\n",
        "    count += 1\n",
        "file.close\n",
        "print(count)"
      ],
      "metadata": {
        "id": "ICZrzWioN0zk",
        "outputId": "4a398838-9ac1-478d-a65c-cb0cd5adc9c8",
        "colab": {
          "base_uri": "https://localhost:8080/"
        }
      },
      "execution_count": 5,
      "outputs": [
        {
          "output_type": "stream",
          "name": "stdout",
          "text": [
            "7200\n"
          ]
        }
      ]
    },
    {
      "cell_type": "markdown",
      "source": [
        "Perfect, we have all the 7200 links we need to work so let's get started!"
      ],
      "metadata": {
        "id": "86JeHtYDJW2t"
      }
    },
    {
      "cell_type": "markdown",
      "source": [
        "### 1.2. Crawl places"
      ],
      "metadata": {
        "id": "NcdSFQLRJaGS"
      }
    },
    {
      "cell_type": "markdown",
      "source": [
        "What we'll do in the following steps is necessary to store our data in correct way. "
      ],
      "metadata": {
        "id": "AmLViHbtKFAX"
      }
    },
    {
      "cell_type": "code",
      "source": [
        "# NON runnare\n",
        "\n",
        "def download(start, finish):\n",
        "    header = {'User-Agent': 'Mozilla/5.0 (Macintosh; Intel Mac OS X 10_10_1) AppleWebKit/537.36 (KHTML, like Gecko) Chrome/39.0.2171.95 Safari/537.36'}\n",
        "    for i in tqdm(range(start, finish)):\n",
        "      cart = '/content/drive/MyDrive/ADM_HW3/Html_page/page_{}'.format(i)\n",
        "      os.makedirs(cart)\n",
        "      \n",
        "      f = open('/content/drive/MyDrive/ADM_HW3/linklist.txt', 'r', encoding='utf8')\n",
        "      l = f.readlines()[(i-1)*18:(i)*18]\n",
        "      l = [k.rstrip() for k in l]\n",
        "      f.close\n",
        "\n",
        "      m = 1+18*(i-1)\n",
        "\n",
        "      for link in l:\n",
        "        link = 'https://www.atlasobscura.com' + link\n",
        "        html = requests.get(link, headers = header)\n",
        "        if html.status_code != 200:\n",
        "          time.sleep(200)\n",
        "          html = requests.get(link, headers = header)\n",
        "\n",
        "\n",
        "        name = '{}/{}.html'.format(cart, m)\n",
        "        text = open(name, 'w', encoding='utf8')\n",
        "        text.write(html.text)\n",
        "        text.close\n",
        "        m=m+1\n"
      ],
      "metadata": {
        "id": "Yj8pzW-eJeT-"
      },
      "execution_count": null,
      "outputs": []
    },
    {
      "cell_type": "code",
      "source": [
        "# NON runnare\n",
        "\n",
        "download(1, 401)"
      ],
      "metadata": {
        "colab": {
          "base_uri": "https://localhost:8080/"
        },
        "id": "BeePTzBq9DaS",
        "outputId": "0ef67e92-87b7-4acd-b946-b6806a417532"
      },
      "execution_count": null,
      "outputs": [
        {
          "metadata": {
            "tags": null
          },
          "name": "stderr",
          "output_type": "stream",
          "text": [
            "100%|██████████| 100/100 [26:07<00:00, 15.67s/it]\n"
          ]
        }
      ]
    },
    {
      "cell_type": "markdown",
      "source": [
        "### 1.3 Parse downloaded pages"
      ],
      "metadata": {
        "id": "QLS9gAGtJgQ2"
      }
    },
    {
      "cell_type": "code",
      "source": [
        "# NON runnare\n",
        "\n",
        "placeName=[]\n",
        "placeTags=[]\n",
        "numPeopleVisited=[]\n",
        "numPeopleWant=[]\n",
        "placeDesc=[]\n",
        "placeShortDesc=[]\n",
        "placeNearby=[]\n",
        "placeAddress=[]\n",
        "placeAlt=[]\n",
        "placeLong=[]\n",
        "placeEditors=[]\n",
        "placePubDate=[]\n",
        "placeRelatedLists=[]\n",
        "placeRelatedPlaces=[]\n",
        "placeURL=[]"
      ],
      "metadata": {
        "id": "9KzN7u5u9z8x"
      },
      "execution_count": null,
      "outputs": []
    },
    {
      "cell_type": "code",
      "source": [
        "# NON runnare\n",
        "\n",
        " for i in tqdm(range(1,401)):\n",
        "   files = os.listdir('/content/drive/MyDrive/ADM_HW3/Html_page/page_'+str(i))\n",
        "   for k in range(((18*(int(i)-1))+1), (18*int(i)+1)):\n",
        "     file = open('/content/drive/MyDrive/ADM_HW3/Html_page/page_'+str(i)+'/'+str(k)+'.html', 'r', encoding='utf8')\n",
        "     soup=bs4.BeautifulSoup(file, 'lxml')\n",
        "\n",
        "     try:\n",
        "       name=soup.find('h1', {'class':'DDPage__header-title'}).text\n",
        "       placeName.append(name)\n",
        "     except:\n",
        "       placeName.append('')\n",
        "         \n",
        "     try:\n",
        "       tag=soup.find_all('a', {'class':'itemTags__link js-item-tags-link'})\n",
        "       tag=[i.get('href').split('/categories/')[1] for i in tag]\n",
        "       placeTags.append(tag)\n",
        "     except:\n",
        "       placeTags.append('')\n",
        "       \n",
        "     try:\n",
        "       visitors=soup.find_all('div', {'class':'title-md item-action-count'})[0].text.strip()\n",
        "       numPeopleVisited.append(visitors)\n",
        "     except:\n",
        "       numPeopleVisited.append('')\n",
        "    \n",
        "     try:\n",
        "       want=soup.find_all('div', {'class':'title-md item-action-count'})[1].text.strip()\n",
        "       numPeopleWant.append(want)\n",
        "     except:\n",
        "       numPeopleWant.append('')\n",
        "\n",
        "     try:\n",
        "       desc=soup.find('div', {'class':'DDP__body-copy'}).text.strip()\n",
        "       placeDesc.append(desc)\n",
        "     except:\n",
        "       placeDesc.append('')\n",
        "\n",
        "     try:\n",
        "       shdesc=soup.find('h3', {'class':'DDPage__header-dek'}).text.strip()\n",
        "       placeShortDesc.append(shdesc)\n",
        "     except:\n",
        "       placeShortDesc.append('')\n",
        "\n",
        "     try:\n",
        "       nearby=soup.find_all('div', {'class':'DDPageSiderailRecirc__item-title'})\n",
        "       nearby=[i.get_text() for i in nearby]\n",
        "       placeNearby.append(nearby)\n",
        "     except:\n",
        "       placeNearby.append('')\n",
        "\n",
        "     try:\n",
        "       address=soup.find_all('address', {'class':'DDPageSiderail__address'})[0]\n",
        "       address=address.find('div').get_text(separator=' ').split('\\n')[0]\n",
        "       placeAddress.append(address)\n",
        "     except:\n",
        "       placeAddress.append('')\n",
        "\n",
        "     try:\n",
        "       coordinates=soup.find_all('div', {'class':'DDPageSiderail__coordinates js-copy-coordinates'})[0].text.strip()\n",
        "       p=coordinates.split(', ')\n",
        "       placeAlt.append(p[0])\n",
        "       placeLong.append(p[1])\n",
        "     except:\n",
        "       placeAlt.append('')\n",
        "       placeLong.append('')\n",
        "\n",
        "     try:\n",
        "       editors=soup.find_all('div', {'class':'ugc-editor-icons'})\n",
        "       editors=[i.findChildren('a')[0].get('href') for i in editors]\n",
        "       editors=[k.split('/users/')[1] for k in editors]\n",
        "       placeEditors.append(editors)\n",
        "     except:\n",
        "       placeEditors.append('')\n",
        "\n",
        "     try:\n",
        "       date=soup.find('div', {'class':'DDPContributor__name'}).text.strip()\n",
        "       placePubDate.append(date)\n",
        "     except:\n",
        "       placePubDate.append('')\n",
        "\n",
        "     try:\n",
        "       rellist=soup.find_all('div', {'data-gtm-template':'DDP Footer Recirc Lists'})[0]\n",
        "       rellist=[i.text.strip() for i in rellist.find_all('h3')]\n",
        "       placeRelatedLists.append(rellist)\n",
        "     except:\n",
        "       placeRelatedLists.append('')\n",
        "\n",
        "     try:\n",
        "       relplaces=soup.find_all('div', {'class':'CardRecircSection__title'})\n",
        "       relplaces=[i for i in relplaces if i.text == 'Related Places'][0]\n",
        "       relplaces=relplaces.find_all_next('div', {'class':'Card__action-btns vue-js-been-there-everywhere-place'})\n",
        "       relplaces=[k.get('data-place-title') for k in relplaces]\n",
        "       placeRelatedPlaces.append(relplaces)\n",
        "     except:\n",
        "       placeRelatedPlaces.append('')\n",
        "\n",
        "     try:\n",
        "       url=soup.find('meta', attrs={'property':'og:url'})['content']\n",
        "       placeURL.append(url)\n",
        "     except:\n",
        "       placeURL.append('')"
      ],
      "metadata": {
        "id": "UkZqFGAJJli4",
        "outputId": "8c0ffb3e-bcae-4e2e-bc39-c6a975022009",
        "colab": {
          "base_uri": "https://localhost:8080/"
        }
      },
      "execution_count": null,
      "outputs": [
        {
          "output_type": "stream",
          "name": "stderr",
          "text": [
            "100%|██████████| 400/400 [48:41<00:00,  7.30s/it]\n"
          ]
        }
      ]
    },
    {
      "cell_type": "code",
      "source": [
        "# NON runnare\n",
        "\n",
        "features=pd.DataFrame(columns=['placeName', 'placeTags', 'numPeopleVisited', 'numPeopleWant', 'placeDesc', 'placeShortDesc',\n",
        "                                            'placeNearby', 'placeAddress', 'placeAlt', 'placeLong', 'placeEditors', 'placePubDate', \n",
        "                                            'placeRelatedLists', 'placeRelatedPlaces', 'placeURL'], index=[1,7200])\n",
        "\n",
        "for i in tqdm(range(0, 7200)):\n",
        "  features.at[i, 'placeName'] = placeName[i]\n",
        "  features.at[i, 'placeTags'] = placeTags[i]\n",
        "  features.at[i, 'numPeopleVisited']= numPeopleVisited[i]\n",
        "  features.at[i, 'numPeopleWant']= numPeopleWant[i]\n",
        "  features.at[i, 'placeDesc']= placeDesc[i]\n",
        "  features.at[i, 'placeShortDesc']= placeShortDesc[i]\n",
        "  features.at[i, 'placeNearby']= placeNearby[i]\n",
        "  features.at[i, 'placeAddress']= placeAddress[i]\n",
        "  features.at[i, 'placeAlt']= placeAlt[i]\n",
        "  features.at[i, 'placeLong']= placeLong[i]\n",
        "  features.at[i, 'placeEditors']= placeEditors[i]\n",
        "  features.at[i, 'placePubDate']= placePubDate[i]\n",
        "  features.at[i, 'placeRelatedLists']= placeRelatedLists[i]\n",
        "  features.at[i, 'placeRelatedPlaces']= placeRelatedPlaces[i]\n",
        "  features.at[i, 'placeURL']= placeURL[i]\n",
        "  "
      ],
      "metadata": {
        "id": "yMcG_QBv610O",
        "outputId": "5988d6f6-7629-49da-99cc-ac10e4717e8e",
        "colab": {
          "base_uri": "https://localhost:8080/"
        }
      },
      "execution_count": null,
      "outputs": [
        {
          "output_type": "stream",
          "name": "stderr",
          "text": [
            "100%|██████████| 7200/7200 [00:23<00:00, 303.84it/s]\n"
          ]
        }
      ]
    },
    {
      "cell_type": "code",
      "source": [
        "# NON runnare\n",
        "placesfeatures = features.to_csv('/content/drive/MyDrive/ADM_HW3/features.tsv', sep='\\t', index=False)"
      ],
      "metadata": {
        "id": "10nwlBePW0aX"
      },
      "execution_count": null,
      "outputs": []
    },
    {
      "cell_type": "markdown",
      "source": [
        "Finally we have our dataframe."
      ],
      "metadata": {
        "id": "rS0_7vZ1Kdgd"
      }
    },
    {
      "cell_type": "code",
      "source": [
        "visual=pd.read_csv('/content/drive/MyDrive/ADM_HW3/features.tsv', sep='\\t')\n",
        "visual = visual.drop(labels=[1], axis=0)\n",
        "visual.head(5)"
      ],
      "metadata": {
        "id": "uabEyeo-BtSy",
        "outputId": "80dfc3ad-3478-430f-b9a0-264fdf4ef978",
        "colab": {
          "base_uri": "https://localhost:8080/",
          "height": 687
        }
      },
      "execution_count": 6,
      "outputs": [
        {
          "output_type": "execute_result",
          "data": {
            "text/plain": [
              "             placeName                                          placeTags  \\\n",
              "0    Highgate Cemetery  ['rivals-week', 'vampires', 'hoaxes', 'occult'...   \n",
              "2    City Hall Station  ['subways', 'subterranean', 'infrastructure', ...   \n",
              "3    Leadenhall Market              ['markets', 'film-locations', 'film']   \n",
              "4       The Wave Organ  ['sea-organ', 'aletrail', 'sounds', 'music', '...   \n",
              "5  Catacombes de Paris  ['ossuaries', 'memento-mori', 'catacombs-and-c...   \n",
              "\n",
              "   numPeopleVisited  numPeopleWant  \\\n",
              "0            2625.0         8208.0   \n",
              "2            1834.0         8606.0   \n",
              "3            3142.0         7595.0   \n",
              "4            2430.0         7425.0   \n",
              "5            4456.0         7057.0   \n",
              "\n",
              "                                           placeDesc  \\\n",
              "0  Opened in 1839, Highgate is one of London’s mo...   \n",
              "2  The first New York City subway was built and o...   \n",
              "3  The ornate 19th-century painted roof and cobbl...   \n",
              "4  Located on a jetty in the San Francisco Bay, t...   \n",
              "5  In 2004, Parisian police were assigned to do a...   \n",
              "\n",
              "                                      placeShortDesc  \\\n",
              "0  London's creepiest cemetery was once the site ...   \n",
              "2  A beautiful and abandoned New York subway stat...   \n",
              "3  This ornate Victorian marketplace was the sett...   \n",
              "4     A huge musical instrument played by the ocean.   \n",
              "5  The vast, legendary catacombs hold secrets muc...   \n",
              "\n",
              "                                         placeNearby  \\\n",
              "0  [\"World's Largest Potted Plant\", 'Dick Whittin...   \n",
              "2  ['African Burial Ground National Monument', 'T...   \n",
              "3  ['The Cornhill Devils ', \"London's Original an...   \n",
              "4  ['Long Now Orrery', 'The Stern of the Briganti...   \n",
              "5  ['Sculptures de Décure', 'Arago Medallions', \"...   \n",
              "\n",
              "                                        placeAddress  placeAlt  placeLong  \\\n",
              "0  Swain's Lane, Highgate London, England, N6 Uni...   51.5675    -0.1483   \n",
              "2  31 Centre St New York, New York, 10007 United ...   40.7134   -74.0046   \n",
              "3               London, England, EC3V United Kingdom   51.5126    -0.0834   \n",
              "4  83 Marina Green Dr San Francisco, California, ...   37.8085  -122.4401   \n",
              "5      1 Place Denfert-Rochereau Paris, 75014 France   48.8343     2.3322   \n",
              "\n",
              "                        placeEditors       placePubDate  \\\n",
              "0                    ['anthonyhogg']     August 9, 2014   \n",
              "2  ['rebekah-otto', 'annetta-black']        May 8, 2010   \n",
              "3     ['meghanneal', 'gavin-292130']     August 1, 2016   \n",
              "4             ['mbison', 'bylow1md']  November 21, 2008   \n",
              "5             ['cpilgrim', 'akazem']  February 13, 2009   \n",
              "\n",
              "                                   placeRelatedLists  \\\n",
              "0  [\"The World's Top 100 Wonders in 2018\", \"Londo...   \n",
              "2  ['30 Unexpected Places to Have a Joyful Advent...   \n",
              "3  ['The Ultimate Guide to Stunning, Surprising, ...   \n",
              "4  [\"Leonardo Nam's 16 Quirky Roadside Attraction...   \n",
              "5  ['19 Catacombs Sure to Tingle Your Spine', \"Th...   \n",
              "\n",
              "                                  placeRelatedPlaces  \\\n",
              "0  ['Jewett City Vampires', 'Tomb of the Mather F...   \n",
              "2  ['Crystal Palace Subway', 'Moscow Metro Statio...   \n",
              "3  ['Rivendell', 'Bagdad Cafe', 'Gare de la Ciota...   \n",
              "4  ['Sea Organ', 'Silent Green Kulturquartier', \"...   \n",
              "5  ['Ossario di San Martino', 'Leuk Charnel House...   \n",
              "\n",
              "                                            placeURL  \n",
              "0  http://www.atlasobscura.com/places/highgate-ce...  \n",
              "2  http://www.atlasobscura.com/places/city-hall-s...  \n",
              "3  http://www.atlasobscura.com/places/leadenhall-...  \n",
              "4      http://www.atlasobscura.com/places/wave-organ  \n",
              "5  http://www.atlasobscura.com/places/catacombes-...  "
            ],
            "text/html": [
              "\n",
              "  <div id=\"df-5598bd3d-b83b-4ff7-8300-45b1df98b077\">\n",
              "    <div class=\"colab-df-container\">\n",
              "      <div>\n",
              "<style scoped>\n",
              "    .dataframe tbody tr th:only-of-type {\n",
              "        vertical-align: middle;\n",
              "    }\n",
              "\n",
              "    .dataframe tbody tr th {\n",
              "        vertical-align: top;\n",
              "    }\n",
              "\n",
              "    .dataframe thead th {\n",
              "        text-align: right;\n",
              "    }\n",
              "</style>\n",
              "<table border=\"1\" class=\"dataframe\">\n",
              "  <thead>\n",
              "    <tr style=\"text-align: right;\">\n",
              "      <th></th>\n",
              "      <th>placeName</th>\n",
              "      <th>placeTags</th>\n",
              "      <th>numPeopleVisited</th>\n",
              "      <th>numPeopleWant</th>\n",
              "      <th>placeDesc</th>\n",
              "      <th>placeShortDesc</th>\n",
              "      <th>placeNearby</th>\n",
              "      <th>placeAddress</th>\n",
              "      <th>placeAlt</th>\n",
              "      <th>placeLong</th>\n",
              "      <th>placeEditors</th>\n",
              "      <th>placePubDate</th>\n",
              "      <th>placeRelatedLists</th>\n",
              "      <th>placeRelatedPlaces</th>\n",
              "      <th>placeURL</th>\n",
              "    </tr>\n",
              "  </thead>\n",
              "  <tbody>\n",
              "    <tr>\n",
              "      <th>0</th>\n",
              "      <td>Highgate Cemetery</td>\n",
              "      <td>['rivals-week', 'vampires', 'hoaxes', 'occult'...</td>\n",
              "      <td>2625.0</td>\n",
              "      <td>8208.0</td>\n",
              "      <td>Opened in 1839, Highgate is one of London’s mo...</td>\n",
              "      <td>London's creepiest cemetery was once the site ...</td>\n",
              "      <td>[\"World's Largest Potted Plant\", 'Dick Whittin...</td>\n",
              "      <td>Swain's Lane, Highgate London, England, N6 Uni...</td>\n",
              "      <td>51.5675</td>\n",
              "      <td>-0.1483</td>\n",
              "      <td>['anthonyhogg']</td>\n",
              "      <td>August 9, 2014</td>\n",
              "      <td>[\"The World's Top 100 Wonders in 2018\", \"Londo...</td>\n",
              "      <td>['Jewett City Vampires', 'Tomb of the Mather F...</td>\n",
              "      <td>http://www.atlasobscura.com/places/highgate-ce...</td>\n",
              "    </tr>\n",
              "    <tr>\n",
              "      <th>2</th>\n",
              "      <td>City Hall Station</td>\n",
              "      <td>['subways', 'subterranean', 'infrastructure', ...</td>\n",
              "      <td>1834.0</td>\n",
              "      <td>8606.0</td>\n",
              "      <td>The first New York City subway was built and o...</td>\n",
              "      <td>A beautiful and abandoned New York subway stat...</td>\n",
              "      <td>['African Burial Ground National Monument', 'T...</td>\n",
              "      <td>31 Centre St New York, New York, 10007 United ...</td>\n",
              "      <td>40.7134</td>\n",
              "      <td>-74.0046</td>\n",
              "      <td>['rebekah-otto', 'annetta-black']</td>\n",
              "      <td>May 8, 2010</td>\n",
              "      <td>['30 Unexpected Places to Have a Joyful Advent...</td>\n",
              "      <td>['Crystal Palace Subway', 'Moscow Metro Statio...</td>\n",
              "      <td>http://www.atlasobscura.com/places/city-hall-s...</td>\n",
              "    </tr>\n",
              "    <tr>\n",
              "      <th>3</th>\n",
              "      <td>Leadenhall Market</td>\n",
              "      <td>['markets', 'film-locations', 'film']</td>\n",
              "      <td>3142.0</td>\n",
              "      <td>7595.0</td>\n",
              "      <td>The ornate 19th-century painted roof and cobbl...</td>\n",
              "      <td>This ornate Victorian marketplace was the sett...</td>\n",
              "      <td>['The Cornhill Devils ', \"London's Original an...</td>\n",
              "      <td>London, England, EC3V United Kingdom</td>\n",
              "      <td>51.5126</td>\n",
              "      <td>-0.0834</td>\n",
              "      <td>['meghanneal', 'gavin-292130']</td>\n",
              "      <td>August 1, 2016</td>\n",
              "      <td>['The Ultimate Guide to Stunning, Surprising, ...</td>\n",
              "      <td>['Rivendell', 'Bagdad Cafe', 'Gare de la Ciota...</td>\n",
              "      <td>http://www.atlasobscura.com/places/leadenhall-...</td>\n",
              "    </tr>\n",
              "    <tr>\n",
              "      <th>4</th>\n",
              "      <td>The Wave Organ</td>\n",
              "      <td>['sea-organ', 'aletrail', 'sounds', 'music', '...</td>\n",
              "      <td>2430.0</td>\n",
              "      <td>7425.0</td>\n",
              "      <td>Located on a jetty in the San Francisco Bay, t...</td>\n",
              "      <td>A huge musical instrument played by the ocean.</td>\n",
              "      <td>['Long Now Orrery', 'The Stern of the Briganti...</td>\n",
              "      <td>83 Marina Green Dr San Francisco, California, ...</td>\n",
              "      <td>37.8085</td>\n",
              "      <td>-122.4401</td>\n",
              "      <td>['mbison', 'bylow1md']</td>\n",
              "      <td>November 21, 2008</td>\n",
              "      <td>[\"Leonardo Nam's 16 Quirky Roadside Attraction...</td>\n",
              "      <td>['Sea Organ', 'Silent Green Kulturquartier', \"...</td>\n",
              "      <td>http://www.atlasobscura.com/places/wave-organ</td>\n",
              "    </tr>\n",
              "    <tr>\n",
              "      <th>5</th>\n",
              "      <td>Catacombes de Paris</td>\n",
              "      <td>['ossuaries', 'memento-mori', 'catacombs-and-c...</td>\n",
              "      <td>4456.0</td>\n",
              "      <td>7057.0</td>\n",
              "      <td>In 2004, Parisian police were assigned to do a...</td>\n",
              "      <td>The vast, legendary catacombs hold secrets muc...</td>\n",
              "      <td>['Sculptures de Décure', 'Arago Medallions', \"...</td>\n",
              "      <td>1 Place Denfert-Rochereau Paris, 75014 France</td>\n",
              "      <td>48.8343</td>\n",
              "      <td>2.3322</td>\n",
              "      <td>['cpilgrim', 'akazem']</td>\n",
              "      <td>February 13, 2009</td>\n",
              "      <td>['19 Catacombs Sure to Tingle Your Spine', \"Th...</td>\n",
              "      <td>['Ossario di San Martino', 'Leuk Charnel House...</td>\n",
              "      <td>http://www.atlasobscura.com/places/catacombes-...</td>\n",
              "    </tr>\n",
              "  </tbody>\n",
              "</table>\n",
              "</div>\n",
              "      <button class=\"colab-df-convert\" onclick=\"convertToInteractive('df-5598bd3d-b83b-4ff7-8300-45b1df98b077')\"\n",
              "              title=\"Convert this dataframe to an interactive table.\"\n",
              "              style=\"display:none;\">\n",
              "        \n",
              "  <svg xmlns=\"http://www.w3.org/2000/svg\" height=\"24px\"viewBox=\"0 0 24 24\"\n",
              "       width=\"24px\">\n",
              "    <path d=\"M0 0h24v24H0V0z\" fill=\"none\"/>\n",
              "    <path d=\"M18.56 5.44l.94 2.06.94-2.06 2.06-.94-2.06-.94-.94-2.06-.94 2.06-2.06.94zm-11 1L8.5 8.5l.94-2.06 2.06-.94-2.06-.94L8.5 2.5l-.94 2.06-2.06.94zm10 10l.94 2.06.94-2.06 2.06-.94-2.06-.94-.94-2.06-.94 2.06-2.06.94z\"/><path d=\"M17.41 7.96l-1.37-1.37c-.4-.4-.92-.59-1.43-.59-.52 0-1.04.2-1.43.59L10.3 9.45l-7.72 7.72c-.78.78-.78 2.05 0 2.83L4 21.41c.39.39.9.59 1.41.59.51 0 1.02-.2 1.41-.59l7.78-7.78 2.81-2.81c.8-.78.8-2.07 0-2.86zM5.41 20L4 18.59l7.72-7.72 1.47 1.35L5.41 20z\"/>\n",
              "  </svg>\n",
              "      </button>\n",
              "      \n",
              "  <style>\n",
              "    .colab-df-container {\n",
              "      display:flex;\n",
              "      flex-wrap:wrap;\n",
              "      gap: 12px;\n",
              "    }\n",
              "\n",
              "    .colab-df-convert {\n",
              "      background-color: #E8F0FE;\n",
              "      border: none;\n",
              "      border-radius: 50%;\n",
              "      cursor: pointer;\n",
              "      display: none;\n",
              "      fill: #1967D2;\n",
              "      height: 32px;\n",
              "      padding: 0 0 0 0;\n",
              "      width: 32px;\n",
              "    }\n",
              "\n",
              "    .colab-df-convert:hover {\n",
              "      background-color: #E2EBFA;\n",
              "      box-shadow: 0px 1px 2px rgba(60, 64, 67, 0.3), 0px 1px 3px 1px rgba(60, 64, 67, 0.15);\n",
              "      fill: #174EA6;\n",
              "    }\n",
              "\n",
              "    [theme=dark] .colab-df-convert {\n",
              "      background-color: #3B4455;\n",
              "      fill: #D2E3FC;\n",
              "    }\n",
              "\n",
              "    [theme=dark] .colab-df-convert:hover {\n",
              "      background-color: #434B5C;\n",
              "      box-shadow: 0px 1px 3px 1px rgba(0, 0, 0, 0.15);\n",
              "      filter: drop-shadow(0px 1px 2px rgba(0, 0, 0, 0.3));\n",
              "      fill: #FFFFFF;\n",
              "    }\n",
              "  </style>\n",
              "\n",
              "      <script>\n",
              "        const buttonEl =\n",
              "          document.querySelector('#df-5598bd3d-b83b-4ff7-8300-45b1df98b077 button.colab-df-convert');\n",
              "        buttonEl.style.display =\n",
              "          google.colab.kernel.accessAllowed ? 'block' : 'none';\n",
              "\n",
              "        async function convertToInteractive(key) {\n",
              "          const element = document.querySelector('#df-5598bd3d-b83b-4ff7-8300-45b1df98b077');\n",
              "          const dataTable =\n",
              "            await google.colab.kernel.invokeFunction('convertToInteractive',\n",
              "                                                     [key], {});\n",
              "          if (!dataTable) return;\n",
              "\n",
              "          const docLinkHtml = 'Like what you see? Visit the ' +\n",
              "            '<a target=\"_blank\" href=https://colab.research.google.com/notebooks/data_table.ipynb>data table notebook</a>'\n",
              "            + ' to learn more about interactive tables.';\n",
              "          element.innerHTML = '';\n",
              "          dataTable['output_type'] = 'display_data';\n",
              "          await google.colab.output.renderOutput(dataTable, element);\n",
              "          const docLink = document.createElement('div');\n",
              "          docLink.innerHTML = docLinkHtml;\n",
              "          element.appendChild(docLink);\n",
              "        }\n",
              "      </script>\n",
              "    </div>\n",
              "  </div>\n",
              "  "
            ]
          },
          "metadata": {},
          "execution_count": 6
        }
      ]
    },
    {
      "cell_type": "markdown",
      "source": [
        "## 2. Search Engine"
      ],
      "metadata": {
        "id": "Yv8T-SFkJltX"
      }
    },
    {
      "cell_type": "code",
      "source": [
        "from nltk.corpus import stopwords\n",
        "from nltk.stem import PorterStemmer\n",
        "from nltk.tokenize import RegexpTokenizer\n",
        "from nltk.tokenize import word_tokenize\n",
        "import string\n",
        "\n",
        "nltk.download('stopwords')\n",
        "nltk.download('punkt')"
      ],
      "metadata": {
        "id": "0wjOsQ-gJoU6",
        "outputId": "3a64e72b-f716-45f1-e0aa-c642d24d80a0",
        "colab": {
          "base_uri": "https://localhost:8080/"
        }
      },
      "execution_count": 7,
      "outputs": [
        {
          "output_type": "stream",
          "name": "stderr",
          "text": [
            "[nltk_data] Downloading package stopwords to /root/nltk_data...\n",
            "[nltk_data]   Unzipping corpora/stopwords.zip.\n",
            "[nltk_data] Downloading package punkt to /root/nltk_data...\n",
            "[nltk_data]   Unzipping tokenizers/punkt.zip.\n"
          ]
        },
        {
          "output_type": "execute_result",
          "data": {
            "text/plain": [
              "True"
            ]
          },
          "metadata": {},
          "execution_count": 7
        }
      ]
    },
    {
      "cell_type": "markdown",
      "source": [
        "Let's define a function that allows us to clean our descriptions"
      ],
      "metadata": {
        "id": "he1bcMAtkv82"
      }
    },
    {
      "cell_type": "code",
      "source": [
        "def clean(line):\n",
        "  #split into token\n",
        "  tokens = word_tokenize(line)\n",
        "  #convert to lowercase\n",
        "  tokens = [w.lower() for w in tokens]\n",
        "  #remove punctuation\n",
        "  table = str.maketrans('', '', string.punctuation)\n",
        "  stripped = [w.translate(table) for w in tokens]\n",
        "  # remove remaining tokens that are not alphabetic or numeric (e.g. date or years can be usefull)\n",
        "  words = [word for word in stripped if word.isalnum()]\n",
        "  #filterout stopwords\n",
        "  stop_words = set(stopwords.words('english'))\n",
        "  words = [w for w in words if not w in stop_words]\n",
        "  #stemming\n",
        "  ps = PorterStemmer()\n",
        "  stem_sentence=[]\n",
        "\n",
        "  for word in words:\n",
        "    stem_sentence.append(ps.stem(word))\n",
        "\n",
        "  return stem_sentence"
      ],
      "metadata": {
        "id": "HmnYC9vx0cz0"
      },
      "execution_count": 8,
      "outputs": []
    },
    {
      "cell_type": "markdown",
      "source": [
        "Now to make things easier let's isolate the column we want to work on: DESCRIPTIONS"
      ],
      "metadata": {
        "id": "jr7iUD4pk6Xm"
      }
    },
    {
      "cell_type": "code",
      "source": [
        "def vocabulary(visual):\n",
        "    dic = {}\n",
        "    contatore = 1\n",
        "    for desc in tqdm(visual[\"placeDesc\"]):\n",
        "        #Cleaning the data\n",
        "        desc = clean(str(desc))\n",
        "        for word in desc:\n",
        "            if word not in dic.keys():\n",
        "              dic[word]=contatore\n",
        "              contatore+=1\n",
        "    return dic"
      ],
      "metadata": {
        "id": "ZzIIVbYPn063"
      },
      "execution_count": 9,
      "outputs": []
    },
    {
      "cell_type": "code",
      "source": [
        "vocabulary = vocabulary(visual)"
      ],
      "metadata": {
        "id": "KKNEqorvkxeC",
        "outputId": "aba2f4d1-ca80-4575-d3a0-68be8acda592",
        "colab": {
          "base_uri": "https://localhost:8080/"
        }
      },
      "execution_count": 11,
      "outputs": [
        {
          "output_type": "stream",
          "name": "stderr",
          "text": [
            "100%|██████████| 7200/7200 [01:03<00:00, 113.04it/s]\n"
          ]
        }
      ]
    },
    {
      "cell_type": "code",
      "source": [
        "# NON runnare\n",
        "with open('/content/drive/MyDrive/ADM_HW3/vocabulary.pkl', 'wb') as f:\n",
        "  pickle.dump(vocabulary, f)"
      ],
      "metadata": {
        "id": "gMfnuV1QjJ4I"
      },
      "execution_count": null,
      "outputs": []
    },
    {
      "cell_type": "code",
      "source": [
        "# NON runnare\n",
        "del vocabulary"
      ],
      "metadata": {
        "id": "NoFQ7PpuiFI_"
      },
      "execution_count": null,
      "outputs": []
    },
    {
      "cell_type": "code",
      "source": [
        "with open('/content/drive/MyDrive/ADM_HW3/vocabulary.pkl', 'rb') as f:\n",
        "  vocabulary=pickle.load(f)"
      ],
      "metadata": {
        "id": "bxEuSuiViG2g"
      },
      "execution_count": 12,
      "outputs": []
    },
    {
      "cell_type": "code",
      "source": [
        "print('In our vocabulary there are '+str(len(vocabulary))+' words.')"
      ],
      "metadata": {
        "id": "E8-V2xGvUkFI",
        "outputId": "034d748e-d497-476e-cfd8-8d6f60f862a5",
        "colab": {
          "base_uri": "https://localhost:8080/"
        }
      },
      "execution_count": 13,
      "outputs": [
        {
          "output_type": "stream",
          "name": "stdout",
          "text": [
            "In our vocabulary there are 48986 words.\n"
          ]
        }
      ]
    },
    {
      "cell_type": "markdown",
      "source": [
        "### 2.1.1 Create your index!"
      ],
      "metadata": {
        "id": "t2ZBRXU_n66n"
      }
    },
    {
      "cell_type": "markdown",
      "source": [
        "We have already created the vocabulary file as a dictionary in the last point of the exercise, now we need to invert the index and match the words in the dict with the words in the place's description."
      ],
      "metadata": {
        "id": "WNwMxjBPn69a"
      }
    },
    {
      "cell_type": "code",
      "source": [
        "import json\n",
        "path='/content/drive/MyDrive/ADM_HW3'\n",
        "with open (path+'vocabulary.json', 'w',encoding = 'utf-8') as j:\n",
        "    j.write(json.dumps(vocabulary))"
      ],
      "metadata": {
        "id": "ZTDC8sIC1BGw"
      },
      "execution_count": 14,
      "outputs": []
    },
    {
      "cell_type": "markdown",
      "source": [
        "Here we create a list of all the cleaned description and we put it into the tsv file as a new column. That will help us when we will have to execute the query and return the place title and the url in the output."
      ],
      "metadata": {
        "id": "sQaBSxsJai2G"
      }
    },
    {
      "cell_type": "code",
      "source": [
        "list_clean_desc=[]\n",
        "\n",
        "for i in visual.placeDesc:\n",
        "  clean_desc=clean(str(i))\n",
        "  list_clean_desc.append(clean_desc)"
      ],
      "metadata": {
        "id": "_BlCd43KCDUe"
      },
      "execution_count": 15,
      "outputs": []
    },
    {
      "cell_type": "code",
      "source": [
        "visual_copy=visual.copy()\n",
        "visual_copy[\"list_clean_desc\"]=list_clean_desc\n",
        "\n",
        "visual_copy.head(3)"
      ],
      "metadata": {
        "id": "9pP7X-fDDCYm",
        "outputId": "49a72ebb-bb9e-4a04-dc61-57f7713a1177",
        "colab": {
          "base_uri": "https://localhost:8080/",
          "height": 468
        }
      },
      "execution_count": 16,
      "outputs": [
        {
          "output_type": "execute_result",
          "data": {
            "text/plain": [
              "           placeName                                          placeTags  \\\n",
              "0  Highgate Cemetery  ['rivals-week', 'vampires', 'hoaxes', 'occult'...   \n",
              "2  City Hall Station  ['subways', 'subterranean', 'infrastructure', ...   \n",
              "3  Leadenhall Market              ['markets', 'film-locations', 'film']   \n",
              "\n",
              "   numPeopleVisited  numPeopleWant  \\\n",
              "0            2625.0         8208.0   \n",
              "2            1834.0         8606.0   \n",
              "3            3142.0         7595.0   \n",
              "\n",
              "                                           placeDesc  \\\n",
              "0  Opened in 1839, Highgate is one of London’s mo...   \n",
              "2  The first New York City subway was built and o...   \n",
              "3  The ornate 19th-century painted roof and cobbl...   \n",
              "\n",
              "                                      placeShortDesc  \\\n",
              "0  London's creepiest cemetery was once the site ...   \n",
              "2  A beautiful and abandoned New York subway stat...   \n",
              "3  This ornate Victorian marketplace was the sett...   \n",
              "\n",
              "                                         placeNearby  \\\n",
              "0  [\"World's Largest Potted Plant\", 'Dick Whittin...   \n",
              "2  ['African Burial Ground National Monument', 'T...   \n",
              "3  ['The Cornhill Devils ', \"London's Original an...   \n",
              "\n",
              "                                        placeAddress  placeAlt  placeLong  \\\n",
              "0  Swain's Lane, Highgate London, England, N6 Uni...   51.5675    -0.1483   \n",
              "2  31 Centre St New York, New York, 10007 United ...   40.7134   -74.0046   \n",
              "3               London, England, EC3V United Kingdom   51.5126    -0.0834   \n",
              "\n",
              "                        placeEditors    placePubDate  \\\n",
              "0                    ['anthonyhogg']  August 9, 2014   \n",
              "2  ['rebekah-otto', 'annetta-black']     May 8, 2010   \n",
              "3     ['meghanneal', 'gavin-292130']  August 1, 2016   \n",
              "\n",
              "                                   placeRelatedLists  \\\n",
              "0  [\"The World's Top 100 Wonders in 2018\", \"Londo...   \n",
              "2  ['30 Unexpected Places to Have a Joyful Advent...   \n",
              "3  ['The Ultimate Guide to Stunning, Surprising, ...   \n",
              "\n",
              "                                  placeRelatedPlaces  \\\n",
              "0  ['Jewett City Vampires', 'Tomb of the Mather F...   \n",
              "2  ['Crystal Palace Subway', 'Moscow Metro Statio...   \n",
              "3  ['Rivendell', 'Bagdad Cafe', 'Gare de la Ciota...   \n",
              "\n",
              "                                            placeURL  \\\n",
              "0  http://www.atlasobscura.com/places/highgate-ce...   \n",
              "2  http://www.atlasobscura.com/places/city-hall-s...   \n",
              "3  http://www.atlasobscura.com/places/leadenhall-...   \n",
              "\n",
              "                                     list_clean_desc  \n",
              "0  [open, 1839, highgat, one, london, infam, ceme...  \n",
              "2  [first, new, york, citi, subway, built, oper, ...  \n",
              "3  [ornat, 19thcenturi, paint, roof, cobbl, floor...  "
            ],
            "text/html": [
              "\n",
              "  <div id=\"df-02e09981-e120-40d5-9940-c2846be4ba6a\">\n",
              "    <div class=\"colab-df-container\">\n",
              "      <div>\n",
              "<style scoped>\n",
              "    .dataframe tbody tr th:only-of-type {\n",
              "        vertical-align: middle;\n",
              "    }\n",
              "\n",
              "    .dataframe tbody tr th {\n",
              "        vertical-align: top;\n",
              "    }\n",
              "\n",
              "    .dataframe thead th {\n",
              "        text-align: right;\n",
              "    }\n",
              "</style>\n",
              "<table border=\"1\" class=\"dataframe\">\n",
              "  <thead>\n",
              "    <tr style=\"text-align: right;\">\n",
              "      <th></th>\n",
              "      <th>placeName</th>\n",
              "      <th>placeTags</th>\n",
              "      <th>numPeopleVisited</th>\n",
              "      <th>numPeopleWant</th>\n",
              "      <th>placeDesc</th>\n",
              "      <th>placeShortDesc</th>\n",
              "      <th>placeNearby</th>\n",
              "      <th>placeAddress</th>\n",
              "      <th>placeAlt</th>\n",
              "      <th>placeLong</th>\n",
              "      <th>placeEditors</th>\n",
              "      <th>placePubDate</th>\n",
              "      <th>placeRelatedLists</th>\n",
              "      <th>placeRelatedPlaces</th>\n",
              "      <th>placeURL</th>\n",
              "      <th>list_clean_desc</th>\n",
              "    </tr>\n",
              "  </thead>\n",
              "  <tbody>\n",
              "    <tr>\n",
              "      <th>0</th>\n",
              "      <td>Highgate Cemetery</td>\n",
              "      <td>['rivals-week', 'vampires', 'hoaxes', 'occult'...</td>\n",
              "      <td>2625.0</td>\n",
              "      <td>8208.0</td>\n",
              "      <td>Opened in 1839, Highgate is one of London’s mo...</td>\n",
              "      <td>London's creepiest cemetery was once the site ...</td>\n",
              "      <td>[\"World's Largest Potted Plant\", 'Dick Whittin...</td>\n",
              "      <td>Swain's Lane, Highgate London, England, N6 Uni...</td>\n",
              "      <td>51.5675</td>\n",
              "      <td>-0.1483</td>\n",
              "      <td>['anthonyhogg']</td>\n",
              "      <td>August 9, 2014</td>\n",
              "      <td>[\"The World's Top 100 Wonders in 2018\", \"Londo...</td>\n",
              "      <td>['Jewett City Vampires', 'Tomb of the Mather F...</td>\n",
              "      <td>http://www.atlasobscura.com/places/highgate-ce...</td>\n",
              "      <td>[open, 1839, highgat, one, london, infam, ceme...</td>\n",
              "    </tr>\n",
              "    <tr>\n",
              "      <th>2</th>\n",
              "      <td>City Hall Station</td>\n",
              "      <td>['subways', 'subterranean', 'infrastructure', ...</td>\n",
              "      <td>1834.0</td>\n",
              "      <td>8606.0</td>\n",
              "      <td>The first New York City subway was built and o...</td>\n",
              "      <td>A beautiful and abandoned New York subway stat...</td>\n",
              "      <td>['African Burial Ground National Monument', 'T...</td>\n",
              "      <td>31 Centre St New York, New York, 10007 United ...</td>\n",
              "      <td>40.7134</td>\n",
              "      <td>-74.0046</td>\n",
              "      <td>['rebekah-otto', 'annetta-black']</td>\n",
              "      <td>May 8, 2010</td>\n",
              "      <td>['30 Unexpected Places to Have a Joyful Advent...</td>\n",
              "      <td>['Crystal Palace Subway', 'Moscow Metro Statio...</td>\n",
              "      <td>http://www.atlasobscura.com/places/city-hall-s...</td>\n",
              "      <td>[first, new, york, citi, subway, built, oper, ...</td>\n",
              "    </tr>\n",
              "    <tr>\n",
              "      <th>3</th>\n",
              "      <td>Leadenhall Market</td>\n",
              "      <td>['markets', 'film-locations', 'film']</td>\n",
              "      <td>3142.0</td>\n",
              "      <td>7595.0</td>\n",
              "      <td>The ornate 19th-century painted roof and cobbl...</td>\n",
              "      <td>This ornate Victorian marketplace was the sett...</td>\n",
              "      <td>['The Cornhill Devils ', \"London's Original an...</td>\n",
              "      <td>London, England, EC3V United Kingdom</td>\n",
              "      <td>51.5126</td>\n",
              "      <td>-0.0834</td>\n",
              "      <td>['meghanneal', 'gavin-292130']</td>\n",
              "      <td>August 1, 2016</td>\n",
              "      <td>['The Ultimate Guide to Stunning, Surprising, ...</td>\n",
              "      <td>['Rivendell', 'Bagdad Cafe', 'Gare de la Ciota...</td>\n",
              "      <td>http://www.atlasobscura.com/places/leadenhall-...</td>\n",
              "      <td>[ornat, 19thcenturi, paint, roof, cobbl, floor...</td>\n",
              "    </tr>\n",
              "  </tbody>\n",
              "</table>\n",
              "</div>\n",
              "      <button class=\"colab-df-convert\" onclick=\"convertToInteractive('df-02e09981-e120-40d5-9940-c2846be4ba6a')\"\n",
              "              title=\"Convert this dataframe to an interactive table.\"\n",
              "              style=\"display:none;\">\n",
              "        \n",
              "  <svg xmlns=\"http://www.w3.org/2000/svg\" height=\"24px\"viewBox=\"0 0 24 24\"\n",
              "       width=\"24px\">\n",
              "    <path d=\"M0 0h24v24H0V0z\" fill=\"none\"/>\n",
              "    <path d=\"M18.56 5.44l.94 2.06.94-2.06 2.06-.94-2.06-.94-.94-2.06-.94 2.06-2.06.94zm-11 1L8.5 8.5l.94-2.06 2.06-.94-2.06-.94L8.5 2.5l-.94 2.06-2.06.94zm10 10l.94 2.06.94-2.06 2.06-.94-2.06-.94-.94-2.06-.94 2.06-2.06.94z\"/><path d=\"M17.41 7.96l-1.37-1.37c-.4-.4-.92-.59-1.43-.59-.52 0-1.04.2-1.43.59L10.3 9.45l-7.72 7.72c-.78.78-.78 2.05 0 2.83L4 21.41c.39.39.9.59 1.41.59.51 0 1.02-.2 1.41-.59l7.78-7.78 2.81-2.81c.8-.78.8-2.07 0-2.86zM5.41 20L4 18.59l7.72-7.72 1.47 1.35L5.41 20z\"/>\n",
              "  </svg>\n",
              "      </button>\n",
              "      \n",
              "  <style>\n",
              "    .colab-df-container {\n",
              "      display:flex;\n",
              "      flex-wrap:wrap;\n",
              "      gap: 12px;\n",
              "    }\n",
              "\n",
              "    .colab-df-convert {\n",
              "      background-color: #E8F0FE;\n",
              "      border: none;\n",
              "      border-radius: 50%;\n",
              "      cursor: pointer;\n",
              "      display: none;\n",
              "      fill: #1967D2;\n",
              "      height: 32px;\n",
              "      padding: 0 0 0 0;\n",
              "      width: 32px;\n",
              "    }\n",
              "\n",
              "    .colab-df-convert:hover {\n",
              "      background-color: #E2EBFA;\n",
              "      box-shadow: 0px 1px 2px rgba(60, 64, 67, 0.3), 0px 1px 3px 1px rgba(60, 64, 67, 0.15);\n",
              "      fill: #174EA6;\n",
              "    }\n",
              "\n",
              "    [theme=dark] .colab-df-convert {\n",
              "      background-color: #3B4455;\n",
              "      fill: #D2E3FC;\n",
              "    }\n",
              "\n",
              "    [theme=dark] .colab-df-convert:hover {\n",
              "      background-color: #434B5C;\n",
              "      box-shadow: 0px 1px 3px 1px rgba(0, 0, 0, 0.15);\n",
              "      filter: drop-shadow(0px 1px 2px rgba(0, 0, 0, 0.3));\n",
              "      fill: #FFFFFF;\n",
              "    }\n",
              "  </style>\n",
              "\n",
              "      <script>\n",
              "        const buttonEl =\n",
              "          document.querySelector('#df-02e09981-e120-40d5-9940-c2846be4ba6a button.colab-df-convert');\n",
              "        buttonEl.style.display =\n",
              "          google.colab.kernel.accessAllowed ? 'block' : 'none';\n",
              "\n",
              "        async function convertToInteractive(key) {\n",
              "          const element = document.querySelector('#df-02e09981-e120-40d5-9940-c2846be4ba6a');\n",
              "          const dataTable =\n",
              "            await google.colab.kernel.invokeFunction('convertToInteractive',\n",
              "                                                     [key], {});\n",
              "          if (!dataTable) return;\n",
              "\n",
              "          const docLinkHtml = 'Like what you see? Visit the ' +\n",
              "            '<a target=\"_blank\" href=https://colab.research.google.com/notebooks/data_table.ipynb>data table notebook</a>'\n",
              "            + ' to learn more about interactive tables.';\n",
              "          element.innerHTML = '';\n",
              "          dataTable['output_type'] = 'display_data';\n",
              "          await google.colab.output.renderOutput(dataTable, element);\n",
              "          const docLink = document.createElement('div');\n",
              "          docLink.innerHTML = docLinkHtml;\n",
              "          element.appendChild(docLink);\n",
              "        }\n",
              "      </script>\n",
              "    </div>\n",
              "  </div>\n",
              "  "
            ]
          },
          "metadata": {},
          "execution_count": 16
        }
      ]
    },
    {
      "cell_type": "code",
      "source": [
        "#NON RUNNARE\n",
        "\n",
        "inverted_idx = {}\n",
        "\n",
        "for word, item_id in vocabulary.items():\n",
        "    inverted_idx[item_id] = list(visual_copy[visual_copy.list_clean_desc.apply(lambda row: word in row)].index)\n",
        "  "
      ],
      "metadata": {
        "id": "cwkP5YxGBhrD"
      },
      "execution_count": null,
      "outputs": []
    },
    {
      "cell_type": "code",
      "source": [
        "# NON runnare\n",
        "with open('/content/drive/MyDrive/ADM_HW3/invertedidx.pkl', 'wb') as f:\n",
        "  pickle.dump(inverted_idx, f)"
      ],
      "metadata": {
        "id": "96NFGaWoj2ez"
      },
      "execution_count": null,
      "outputs": []
    },
    {
      "cell_type": "code",
      "source": [
        "# NON runnare\n",
        "del inverted_idx"
      ],
      "metadata": {
        "id": "4J5DzJsBhx2m"
      },
      "execution_count": null,
      "outputs": []
    },
    {
      "cell_type": "code",
      "source": [
        "with open('/content/drive/MyDrive/ADM_HW3/invertedidx.pkl', 'rb') as f:\n",
        "  inverted_idx = pickle.load(f)"
      ],
      "metadata": {
        "id": "DD3UrvFchhrj"
      },
      "execution_count": 17,
      "outputs": []
    },
    {
      "cell_type": "markdown",
      "source": [
        "### 2.1.2 Execute the query"
      ],
      "metadata": {
        "id": "PnzEemrYJrbD"
      }
    },
    {
      "cell_type": "markdown",
      "source": [
        "We are now defining a function that clean the query as we have cleaned the descriptions and then saves the index of the document that contains all the words of the given query in a list. We will then use this list to retrieve the final output of the search engine."
      ],
      "metadata": {
        "id": "wi1SHJ7QKueJ"
      }
    },
    {
      "cell_type": "code",
      "source": [
        "def output_id(query):\n",
        "  c=query.split(' ')\n",
        "\n",
        "  new_parole=[]\n",
        "  for i in c:\n",
        "    p = clean(i)\n",
        "    new_parole.append(p[0])\n",
        "\n",
        "  documents=[]\n",
        "  for parola in new_parole:\n",
        "    index_word= vocabulary[parola]\n",
        "    docs= inverted_idx[index_word]\n",
        "    documents.append(docs)\n",
        "\n",
        "  fla_documents=[]\n",
        "  for elem in documents:\n",
        "    for num in elem:\n",
        "      fla_documents.append(num)\n",
        "\n",
        "  w=len(new_parole) #2\n",
        "  output_places=[]\n",
        "\n",
        "  for i in fla_documents:\n",
        "    c = fla_documents.count(i)\n",
        "    if c == w and i not in output_places:\n",
        "      output_places.append(i)\n",
        "  \n",
        "  return output_places"
      ],
      "metadata": {
        "id": "3Dj8H7MJJuYF"
      },
      "execution_count": 18,
      "outputs": []
    },
    {
      "cell_type": "markdown",
      "source": [
        "Let's try the function and see if it works"
      ],
      "metadata": {
        "id": "T1qBuulLKbSu"
      }
    },
    {
      "cell_type": "code",
      "source": [
        "query = 'American Museum'\n",
        "print(output_id(query))\n",
        "print(len(output_id(query)))"
      ],
      "metadata": {
        "id": "UrEOujnfKGL1",
        "outputId": "0c2017d2-cd97-4c36-dae2-1713bd0cf9b1",
        "colab": {
          "base_uri": "https://localhost:8080/"
        }
      },
      "execution_count": 19,
      "outputs": [
        {
          "output_type": "stream",
          "name": "stdout",
          "text": [
            "[60, 141, 174, 225, 321, 329, 358, 361, 417, 692, 785, 789, 893, 894, 961, 972, 974, 1007, 1039, 1052, 1075, 1091, 1101, 1110, 1123, 1126, 1163, 1199, 1204, 1234, 1249, 1261, 1331, 1355, 1365, 1387, 1401, 1414, 1418, 1485, 1541, 1544, 1554, 1557, 1582, 1588, 1626, 1701, 1738, 1766, 1777, 1802, 1804, 1805, 1858, 1859, 1888, 1902, 1970, 1996, 1999, 2058, 2072, 2078, 2088, 2110, 2138, 2167, 2191, 2221, 2223, 2236, 2276, 2280, 2286, 2364, 2418, 2468, 2559, 2561, 2579, 2596, 2653, 2662, 2665, 2670, 2726, 2737, 2744, 2795, 2826, 2956, 3009, 3053, 3081, 3089, 3168, 3170, 3217, 3263, 3274, 3354, 3369, 3375, 3397, 3410, 3417, 3418, 3420, 3517, 3615, 3687, 3698, 3713, 3722, 3757, 3775, 3795, 3811, 3827, 3832, 3896, 3969, 4011, 4044, 4057, 4098, 4099, 4104, 4269, 4295, 4297, 4320, 4376, 4393, 4396, 4405, 4416, 4423, 4430, 4449, 4459, 4473, 4490, 4500, 4512, 4533, 4542, 4546, 4548, 4554, 4563, 4634, 4676, 4691, 4735, 4766, 4778, 4784, 4787, 4864, 4933, 4948, 4952, 4965, 4987, 4995, 5066, 5070, 5075, 5078, 5090, 5105, 5120, 5162, 5190, 5270, 5313, 5355, 5442, 5478, 5496, 5561, 5576, 5595, 5613, 5661, 5708, 5714, 5811, 5860, 5864, 5881, 5954, 5964, 5991, 6017, 6032, 6036, 6049, 6059, 6110, 6151, 6175, 6210, 6212, 6221, 6222, 6227, 6249, 6251, 6266, 6269, 6280, 6313, 6331, 6345, 6365, 6375, 6401, 6444, 6447, 6611, 6618, 6642, 6691, 6703, 6746, 6798, 6803, 6816, 6893, 6922, 6964, 6978, 7010, 7038, 7053, 7055, 7112, 7132, 7143, 7178]\n",
            "243\n"
          ]
        }
      ]
    },
    {
      "cell_type": "markdown",
      "source": [
        "Now that we have the place_id that we want to print, let's find in the tsv file all the information we want to give in output."
      ],
      "metadata": {
        "id": "Tq6JVOFP5o0K"
      }
    },
    {
      "cell_type": "code",
      "source": [
        "def SearchEngine(query):\n",
        "  pl = output_id(query)\n",
        "  col = ['placeName', 'placeDesc', 'placeURL']\n",
        "  df = pd.DataFrame(columns=col)\n",
        "  df.placeName = [visual.placeName[i] for i in pl]\n",
        "  df.placeDesc = [visual.placeDesc[i] for i in pl]\n",
        "  df.placeURL = [visual.placeURL[i] for i in pl]\n",
        "  return df"
      ],
      "metadata": {
        "id": "0FHr8BXo5y0z"
      },
      "execution_count": 21,
      "outputs": []
    },
    {
      "cell_type": "markdown",
      "source": [
        "Give it a try!"
      ],
      "metadata": {
        "id": "ZckePzJ9X2g5"
      }
    },
    {
      "cell_type": "code",
      "source": [
        "frs = 'American Museum'\n",
        "SearchEngine(frs)"
      ],
      "metadata": {
        "id": "T58KkKIwWKZb",
        "outputId": "67a54026-9218-4199-9246-37df7c476b4f",
        "colab": {
          "base_uri": "https://localhost:8080/",
          "height": 424
        }
      },
      "execution_count": 22,
      "outputs": [
        {
          "output_type": "execute_result",
          "data": {
            "text/plain": [
              "                          placeName  \\\n",
              "0          The Witch House of Salem   \n",
              "1               Museum of the Weird   \n",
              "2    National Atomic Testing Museum   \n",
              "3           Canyons of the Ancients   \n",
              "4                The Natural Bridge   \n",
              "..                              ...   \n",
              "238          De Vargas Street House   \n",
              "239   The Liberty Bell Hiding Place   \n",
              "240                 Friendship Park   \n",
              "241        American Computer Museum   \n",
              "242               Akin Free Library   \n",
              "\n",
              "                                             placeDesc  \\\n",
              "0    The Salem witchcraft trials took place between...   \n",
              "1    The dime or dime store museum is by all accoun...   \n",
              "2    Las Vegas is an oasis in the desert where no o...   \n",
              "3    Ripe for quiet reflection and simply awe-inspi...   \n",
              "4    Often cited as having a place among the great ...   \n",
              "..                                                 ...   \n",
              "238  Located in Santa Fe, New Mexico, the De Vargas...   \n",
              "239  In September of 1777, the British defeated Geo...   \n",
              "240  On most days, San Diego’s Friendship Park is a...   \n",
              "241  “To collect, preserve, interpret, and display ...   \n",
              "242  The Akin Free Library, a gracious stone struct...   \n",
              "\n",
              "                                              placeURL  \n",
              "0    http://www.atlasobscura.com/places/witch-house...  \n",
              "1      http://www.atlasobscura.com/places/museum-weird  \n",
              "2    http://www.atlasobscura.com/places/national-at...  \n",
              "3    http://www.atlasobscura.com/places/canyons-of-...  \n",
              "4    http://www.atlasobscura.com/places/the-natural...  \n",
              "..                                                 ...  \n",
              "238  http://www.atlasobscura.com/places/de-vargas-s...  \n",
              "239  http://www.atlasobscura.com/places/liberty-bel...  \n",
              "240  http://www.atlasobscura.com/places/friendship-...  \n",
              "241  http://www.atlasobscura.com/places/american-co...  \n",
              "242  http://www.atlasobscura.com/places/akin-free-l...  \n",
              "\n",
              "[243 rows x 3 columns]"
            ],
            "text/html": [
              "\n",
              "  <div id=\"df-7808db77-cad1-4952-91dd-c0f667c39adc\">\n",
              "    <div class=\"colab-df-container\">\n",
              "      <div>\n",
              "<style scoped>\n",
              "    .dataframe tbody tr th:only-of-type {\n",
              "        vertical-align: middle;\n",
              "    }\n",
              "\n",
              "    .dataframe tbody tr th {\n",
              "        vertical-align: top;\n",
              "    }\n",
              "\n",
              "    .dataframe thead th {\n",
              "        text-align: right;\n",
              "    }\n",
              "</style>\n",
              "<table border=\"1\" class=\"dataframe\">\n",
              "  <thead>\n",
              "    <tr style=\"text-align: right;\">\n",
              "      <th></th>\n",
              "      <th>placeName</th>\n",
              "      <th>placeDesc</th>\n",
              "      <th>placeURL</th>\n",
              "    </tr>\n",
              "  </thead>\n",
              "  <tbody>\n",
              "    <tr>\n",
              "      <th>0</th>\n",
              "      <td>The Witch House of Salem</td>\n",
              "      <td>The Salem witchcraft trials took place between...</td>\n",
              "      <td>http://www.atlasobscura.com/places/witch-house...</td>\n",
              "    </tr>\n",
              "    <tr>\n",
              "      <th>1</th>\n",
              "      <td>Museum of the Weird</td>\n",
              "      <td>The dime or dime store museum is by all accoun...</td>\n",
              "      <td>http://www.atlasobscura.com/places/museum-weird</td>\n",
              "    </tr>\n",
              "    <tr>\n",
              "      <th>2</th>\n",
              "      <td>National Atomic Testing Museum</td>\n",
              "      <td>Las Vegas is an oasis in the desert where no o...</td>\n",
              "      <td>http://www.atlasobscura.com/places/national-at...</td>\n",
              "    </tr>\n",
              "    <tr>\n",
              "      <th>3</th>\n",
              "      <td>Canyons of the Ancients</td>\n",
              "      <td>Ripe for quiet reflection and simply awe-inspi...</td>\n",
              "      <td>http://www.atlasobscura.com/places/canyons-of-...</td>\n",
              "    </tr>\n",
              "    <tr>\n",
              "      <th>4</th>\n",
              "      <td>The Natural Bridge</td>\n",
              "      <td>Often cited as having a place among the great ...</td>\n",
              "      <td>http://www.atlasobscura.com/places/the-natural...</td>\n",
              "    </tr>\n",
              "    <tr>\n",
              "      <th>...</th>\n",
              "      <td>...</td>\n",
              "      <td>...</td>\n",
              "      <td>...</td>\n",
              "    </tr>\n",
              "    <tr>\n",
              "      <th>238</th>\n",
              "      <td>De Vargas Street House</td>\n",
              "      <td>Located in Santa Fe, New Mexico, the De Vargas...</td>\n",
              "      <td>http://www.atlasobscura.com/places/de-vargas-s...</td>\n",
              "    </tr>\n",
              "    <tr>\n",
              "      <th>239</th>\n",
              "      <td>The Liberty Bell Hiding Place</td>\n",
              "      <td>In September of 1777, the British defeated Geo...</td>\n",
              "      <td>http://www.atlasobscura.com/places/liberty-bel...</td>\n",
              "    </tr>\n",
              "    <tr>\n",
              "      <th>240</th>\n",
              "      <td>Friendship Park</td>\n",
              "      <td>On most days, San Diego’s Friendship Park is a...</td>\n",
              "      <td>http://www.atlasobscura.com/places/friendship-...</td>\n",
              "    </tr>\n",
              "    <tr>\n",
              "      <th>241</th>\n",
              "      <td>American Computer Museum</td>\n",
              "      <td>“To collect, preserve, interpret, and display ...</td>\n",
              "      <td>http://www.atlasobscura.com/places/american-co...</td>\n",
              "    </tr>\n",
              "    <tr>\n",
              "      <th>242</th>\n",
              "      <td>Akin Free Library</td>\n",
              "      <td>The Akin Free Library, a gracious stone struct...</td>\n",
              "      <td>http://www.atlasobscura.com/places/akin-free-l...</td>\n",
              "    </tr>\n",
              "  </tbody>\n",
              "</table>\n",
              "<p>243 rows × 3 columns</p>\n",
              "</div>\n",
              "      <button class=\"colab-df-convert\" onclick=\"convertToInteractive('df-7808db77-cad1-4952-91dd-c0f667c39adc')\"\n",
              "              title=\"Convert this dataframe to an interactive table.\"\n",
              "              style=\"display:none;\">\n",
              "        \n",
              "  <svg xmlns=\"http://www.w3.org/2000/svg\" height=\"24px\"viewBox=\"0 0 24 24\"\n",
              "       width=\"24px\">\n",
              "    <path d=\"M0 0h24v24H0V0z\" fill=\"none\"/>\n",
              "    <path d=\"M18.56 5.44l.94 2.06.94-2.06 2.06-.94-2.06-.94-.94-2.06-.94 2.06-2.06.94zm-11 1L8.5 8.5l.94-2.06 2.06-.94-2.06-.94L8.5 2.5l-.94 2.06-2.06.94zm10 10l.94 2.06.94-2.06 2.06-.94-2.06-.94-.94-2.06-.94 2.06-2.06.94z\"/><path d=\"M17.41 7.96l-1.37-1.37c-.4-.4-.92-.59-1.43-.59-.52 0-1.04.2-1.43.59L10.3 9.45l-7.72 7.72c-.78.78-.78 2.05 0 2.83L4 21.41c.39.39.9.59 1.41.59.51 0 1.02-.2 1.41-.59l7.78-7.78 2.81-2.81c.8-.78.8-2.07 0-2.86zM5.41 20L4 18.59l7.72-7.72 1.47 1.35L5.41 20z\"/>\n",
              "  </svg>\n",
              "      </button>\n",
              "      \n",
              "  <style>\n",
              "    .colab-df-container {\n",
              "      display:flex;\n",
              "      flex-wrap:wrap;\n",
              "      gap: 12px;\n",
              "    }\n",
              "\n",
              "    .colab-df-convert {\n",
              "      background-color: #E8F0FE;\n",
              "      border: none;\n",
              "      border-radius: 50%;\n",
              "      cursor: pointer;\n",
              "      display: none;\n",
              "      fill: #1967D2;\n",
              "      height: 32px;\n",
              "      padding: 0 0 0 0;\n",
              "      width: 32px;\n",
              "    }\n",
              "\n",
              "    .colab-df-convert:hover {\n",
              "      background-color: #E2EBFA;\n",
              "      box-shadow: 0px 1px 2px rgba(60, 64, 67, 0.3), 0px 1px 3px 1px rgba(60, 64, 67, 0.15);\n",
              "      fill: #174EA6;\n",
              "    }\n",
              "\n",
              "    [theme=dark] .colab-df-convert {\n",
              "      background-color: #3B4455;\n",
              "      fill: #D2E3FC;\n",
              "    }\n",
              "\n",
              "    [theme=dark] .colab-df-convert:hover {\n",
              "      background-color: #434B5C;\n",
              "      box-shadow: 0px 1px 3px 1px rgba(0, 0, 0, 0.15);\n",
              "      filter: drop-shadow(0px 1px 2px rgba(0, 0, 0, 0.3));\n",
              "      fill: #FFFFFF;\n",
              "    }\n",
              "  </style>\n",
              "\n",
              "      <script>\n",
              "        const buttonEl =\n",
              "          document.querySelector('#df-7808db77-cad1-4952-91dd-c0f667c39adc button.colab-df-convert');\n",
              "        buttonEl.style.display =\n",
              "          google.colab.kernel.accessAllowed ? 'block' : 'none';\n",
              "\n",
              "        async function convertToInteractive(key) {\n",
              "          const element = document.querySelector('#df-7808db77-cad1-4952-91dd-c0f667c39adc');\n",
              "          const dataTable =\n",
              "            await google.colab.kernel.invokeFunction('convertToInteractive',\n",
              "                                                     [key], {});\n",
              "          if (!dataTable) return;\n",
              "\n",
              "          const docLinkHtml = 'Like what you see? Visit the ' +\n",
              "            '<a target=\"_blank\" href=https://colab.research.google.com/notebooks/data_table.ipynb>data table notebook</a>'\n",
              "            + ' to learn more about interactive tables.';\n",
              "          element.innerHTML = '';\n",
              "          dataTable['output_type'] = 'display_data';\n",
              "          await google.colab.output.renderOutput(dataTable, element);\n",
              "          const docLink = document.createElement('div');\n",
              "          docLink.innerHTML = docLinkHtml;\n",
              "          element.appendChild(docLink);\n",
              "        }\n",
              "      </script>\n",
              "    </div>\n",
              "  </div>\n",
              "  "
            ]
          },
          "metadata": {},
          "execution_count": 22
        }
      ]
    },
    {
      "cell_type": "markdown",
      "source": [
        "## 2.2 Conjunctive query & Ranking score"
      ],
      "metadata": {
        "id": "4sUYm1BvJuf4"
      }
    },
    {
      "cell_type": "markdown",
      "source": [
        "### 2.2.1 Inverted index 2.0"
      ],
      "metadata": {
        "id": "JnJqLICZJxFB"
      }
    },
    {
      "cell_type": "code",
      "source": [
        "#tf-ij = # occorrenze del termine i nel documento j / lunghezza documento (num parole)\n",
        "\n",
        "#idf-i = log10 ( #documenti in totale (7200) / #documenti che contengono il termine i (len(inverted_idx[parola])))"
      ],
      "metadata": {
        "id": "ePc5pN-VuDsV"
      },
      "execution_count": null,
      "outputs": []
    },
    {
      "cell_type": "code",
      "source": [
        "# 1 : 2, 5 ,7   ----> 1 : {2 : 0,6} {5 : 0,012} {7 : 0,09}"
      ],
      "metadata": {
        "id": "1gVCdmm-zYcM"
      },
      "execution_count": null,
      "outputs": []
    },
    {
      "cell_type": "code",
      "source": [
        "# NON runnare\n",
        "from nltk.corpus.reader.ycoe import defaultdict\n",
        "D=7200\n",
        "inverted_idx_2 = defaultdict(dict)\n",
        "for k, i in tqdm(vocabulary.items()):\n",
        "  idf_i = np.log(D/len(inverted_idx[i]))\n",
        "  for j in range(D):\n",
        "    if k in list_clean_desc[j]:\n",
        "      lung = len(list_clean_desc[j])\n",
        "      freq = list_clean_desc[j].count(k)\n",
        "      tf_ij = freq/lung\n",
        "      tf_idf= tf_ij * idf_i\n",
        "      inverted_idx_2[i].update({ j : tf_idf})"
      ],
      "metadata": {
        "id": "_omWBAqf2_nG",
        "outputId": "b1a73343-15ad-4ef3-9011-0ad630f40a0f",
        "colab": {
          "base_uri": "https://localhost:8080/"
        }
      },
      "execution_count": null,
      "outputs": [
        {
          "output_type": "stream",
          "name": "stderr",
          "text": [
            "100%|██████████| 48986/48986 [25:12<00:00, 32.39it/s]\n"
          ]
        }
      ]
    },
    {
      "cell_type": "code",
      "source": [
        "# NON runnare\n",
        "with open('/content/drive/MyDrive/ADM_HW3/invertedidx2.pkl', 'wb') as f:\n",
        "  pickle.dump(inverted_idx_2, f)\n",
        "\n",
        "del inverted_idx_2"
      ],
      "metadata": {
        "id": "yNwLGngJD1rZ"
      },
      "execution_count": null,
      "outputs": []
    },
    {
      "cell_type": "code",
      "source": [
        "with open('/content/drive/MyDrive/ADM_HW3/invertedidx2.pkl', 'rb') as f:\n",
        "  inverted_idx_2 = pickle.load(f)"
      ],
      "metadata": {
        "id": "J9e8YdFcK1KB"
      },
      "execution_count": 23,
      "outputs": []
    },
    {
      "cell_type": "markdown",
      "source": [
        "### 2.2.2 Execute the query"
      ],
      "metadata": {
        "id": "sRNXsyLNJz4K"
      }
    },
    {
      "cell_type": "markdown",
      "source": [
        "This function is an adaptation of the previous one. In this new version we use the inverted index 2.0 with the tfidf associated to each document for each word, and the output will be a list of index that corresponds to the document that compete for the last output."
      ],
      "metadata": {
        "id": "FTBN-Cx8JK0l"
      }
    },
    {
      "cell_type": "code",
      "source": [
        "def output_id2(query):\n",
        "  c=query.split(' ')\n",
        "\n",
        "  new_parole=[]\n",
        "  for i in c:\n",
        "    p = clean(i)\n",
        "    new_parole.append(p[0])\n",
        "  \n",
        "  #add also the tfidf of the words in the query\n",
        "  documents={}\n",
        "  tf_idf_q={}\n",
        "  N=visual.shape[0]\n",
        "  for parola in new_parole:\n",
        "    index_word= vocabulary[parola]\n",
        "    docs= inverted_idx_2[index_word]\n",
        "    documents[index_word]=docs\n",
        "    tf_ij_q = new_parole.count(parola)\n",
        "    idf_i_q = len(inverted_idx_2[index_word])\n",
        "    tf_idf_q[index_word] = tf_ij_q * np.log(N/idf_i_q)\n",
        "\n",
        "  fla_documents=list(documents.values())\n",
        "  all_documents=[list(fla_documents[x].keys()) for x in range(len(fla_documents))]\n",
        "  \n",
        "  final_documents=[]\n",
        "  for elem in all_documents:\n",
        "    for num in elem:\n",
        "      final_documents.append(num)\n",
        "\n",
        "  w=len(new_parole) #2\n",
        "  output_places2=[]\n",
        "\n",
        "  for i in final_documents:\n",
        "    c = final_documents.count(i)\n",
        "    if c == w and i not in output_places2:\n",
        "      output_places2.append(i)\n",
        "  \n",
        "  return output_places2, tf_idf_q"
      ],
      "metadata": {
        "id": "rl6EZJOhZsbj"
      },
      "execution_count": 24,
      "outputs": []
    },
    {
      "cell_type": "markdown",
      "source": [
        "Let's give a try to see if the function actually works:"
      ],
      "metadata": {
        "id": "FgbQHZ49PcoR"
      }
    },
    {
      "cell_type": "code",
      "source": [
        "frase = 'American museum'\n",
        "output_id2(frase)"
      ],
      "metadata": {
        "id": "FyF-gB8-d1uI"
      },
      "execution_count": 27,
      "outputs": []
    },
    {
      "cell_type": "code",
      "source": [
        "def getNorm(id_desc, doc):\n",
        "  word=doc[id_desc]\n",
        "  total_tfidf=[]\n",
        "  for par in word:\n",
        "    idx = vocabulary[par]\n",
        "    position = inverted_idx_2[idx]\n",
        "    tfidf_par_doc = position[id_desc]\n",
        "    total_tfidf.append(tfidf_par_doc)\n",
        "  \n",
        "  desc_norm = np.linalg.norm(total_tfidf)\n",
        "\n",
        "  return desc_norm"
      ],
      "metadata": {
        "id": "pTMzH8pBigQQ"
      },
      "execution_count": 28,
      "outputs": []
    },
    {
      "cell_type": "markdown",
      "source": [
        "Now we apply this function to all the description we have cleaned and stored in a list, and then create a new list which contains the ordered norm of each description."
      ],
      "metadata": {
        "id": "12U421wKNube"
      }
    },
    {
      "cell_type": "code",
      "source": [
        "norme = []\n",
        "for descrizione in range(len(list_clean_desc)):\n",
        "  norme.append(getNorm(descrizione, list_clean_desc))"
      ],
      "metadata": {
        "id": "QQxHxkaRMBrc"
      },
      "execution_count": 29,
      "outputs": []
    },
    {
      "cell_type": "markdown",
      "source": [
        "An example to see if it works."
      ],
      "metadata": {
        "id": "srmicmpcJGNd"
      }
    },
    {
      "cell_type": "code",
      "source": [
        "getNorm(69,list_clean_desc)"
      ],
      "metadata": {
        "id": "bsvB2SaLk3cD",
        "outputId": "17ef8a22-1282-4e30-ea7a-43acfc01cd39",
        "colab": {
          "base_uri": "https://localhost:8080/"
        }
      },
      "execution_count": 30,
      "outputs": [
        {
          "output_type": "execute_result",
          "data": {
            "text/plain": [
              "0.7665270630310047"
            ]
          },
          "metadata": {},
          "execution_count": 30
        }
      ]
    },
    {
      "cell_type": "code",
      "source": [
        "def Classifica(query, k):\n",
        "  candidati, tfidfquery = output_id2(query)\n",
        "  classifica = []\n",
        "  heapq.heapify(classifica)\n",
        "  #per ogni documento candidato\n",
        "  for doc in candidati:\n",
        "    prodotti=[]\n",
        "    #per ogni parola della query\n",
        "    for parola in list(tfidfquery.keys()):\n",
        "      tfidf_p = inverted_idx_2[parola]\n",
        "      tfidf_pd = tfidf_p[doc]\n",
        "      prodotti.append(tfidf_pd * tfidfquery[parola])\n",
        "    #cosine similarity\n",
        "    somma = sum(prodotti)\n",
        "    cosine = somma/norme[doc]\n",
        "    heapq.heappush(classifica, (cosine, doc))\n",
        "    if len(classifica)==(k+1):\n",
        "      heapq.heappop(classifica)\n",
        "\n",
        "  return classifica"
      ],
      "metadata": {
        "id": "WDXKY5RVyZMl"
      },
      "execution_count": 31,
      "outputs": []
    },
    {
      "cell_type": "code",
      "source": [
        "frase = 'american museum'\n",
        "\n",
        "Classifica(frase, 5)"
      ],
      "metadata": {
        "id": "yRDlqyEhzUhw",
        "outputId": "9ceed3cd-1c9b-452d-e5fb-82fe14557a37",
        "colab": {
          "base_uri": "https://localhost:8080/"
        }
      },
      "execution_count": 32,
      "outputs": [
        {
          "output_type": "execute_result",
          "data": {
            "text/plain": [
              "[(0.3377358950850909, 5269),\n",
              " (0.37954223152103844, 2664),\n",
              " (0.36005560482222176, 6209),\n",
              " (0.39238307158521707, 4472),\n",
              " (0.3964233975611651, 4994)]"
            ]
          },
          "metadata": {},
          "execution_count": 32
        }
      ]
    },
    {
      "cell_type": "markdown",
      "source": [
        "Now let's try our search engine:"
      ],
      "metadata": {
        "id": "_FKre6q-LRri"
      }
    },
    {
      "cell_type": "code",
      "source": [
        "def searchEngine2(query, k):\n",
        "  out=Classifica(query, k)\n",
        "\n",
        "  col = ['placeName', 'placeDesc', 'placeURL', 'cosineSimilarity']\n",
        "  df = pd.DataFrame(columns=col)\n",
        "  \n",
        "  i=0\n",
        "  for cos, ind in out:\n",
        "    df.at[i, 'placeName'] = visual.placeName[ind]\n",
        "    df.at[i, 'placeDesc'] = visual.placeDesc[ind]\n",
        "    df.at[i, 'placeURL'] = visual.placeURL[ind]\n",
        "    df.at[i, 'cosineSimilarity'] = cos\n",
        "    i+=1\n",
        "\n",
        "  finito = df.sort_values(by=['cosineSimilarity'], ascending=False)\n",
        "\n",
        "  return finito"
      ],
      "metadata": {
        "id": "ZwQP7vLp7rQw"
      },
      "execution_count": 33,
      "outputs": []
    },
    {
      "cell_type": "code",
      "source": [
        "frase = 'american museum'\n",
        "\n",
        "searchEngine2(frase, 10)"
      ],
      "metadata": {
        "id": "S3oQ5jfI9hnW",
        "outputId": "d97f5d0f-f59f-462d-cacd-31e3a086d0f6",
        "colab": {
          "base_uri": "https://localhost:8080/",
          "height": 363
        }
      },
      "execution_count": 34,
      "outputs": [
        {
          "output_type": "execute_result",
          "data": {
            "text/plain": [
              "                             placeName  \\\n",
              "9           The Czech's Capuchin Crypt   \n",
              "8                      Hill of Witches   \n",
              "7                       Cahokia Mounds   \n",
              "3                         Sea of Stars   \n",
              "4                          Slope Point   \n",
              "1  Evergreen Memorial Park & Crematory   \n",
              "5                   Crowley Mausoleum    \n",
              "6       Ladder Creek Falls and Gardens   \n",
              "2                  The Miller Building   \n",
              "0                  Thain Family Forest   \n",
              "\n",
              "                                           placeDesc  \\\n",
              "9  The rosy pink facade of Brno’s Capuchin Church...   \n",
              "8  Just off the main street in Juodkrante, Lithua...   \n",
              "7  The largest pre-Columbian settlement in the Ne...   \n",
              "3  The “Sea of Stars” is a beautiful phenomenon t...   \n",
              "4  Slope Point, the most southerly spot on New Ze...   \n",
              "1  Established in 1877, Evergreen Memorial Park a...   \n",
              "5  For over a century, the Crowley family owned t...   \n",
              "6  Ladder Creek Falls and Gardens in North Cascad...   \n",
              "2  There’s no way to know how many reporters were...   \n",
              "0  This small forest in the Bronx could be the mo...   \n",
              "\n",
              "                                            placeURL cosineSimilarity  \n",
              "9  http://www.atlasobscura.com/places/czechs-capu...         0.396423  \n",
              "8  http://www.atlasobscura.com/places/hill-of-wit...         0.392383  \n",
              "7  http://www.atlasobscura.com/places/cahokia-mounds         0.379542  \n",
              "3    http://www.atlasobscura.com/places/sea-of-stars         0.360056  \n",
              "4     http://www.atlasobscura.com/places/slope-point         0.337736  \n",
              "1  http://www.atlasobscura.com/places/evergreen-m...          0.32864  \n",
              "5  http://www.atlasobscura.com/places/crowley-mau...         0.308192  \n",
              "6  http://www.atlasobscura.com/places/ladder-cree...         0.299304  \n",
              "2  http://www.atlasobscura.com/places/the-miller-...         0.281186  \n",
              "0  http://www.atlasobscura.com/places/thain-famil...         0.278352  "
            ],
            "text/html": [
              "\n",
              "  <div id=\"df-83d2c46c-df76-4ae6-b777-b39e438e6f30\">\n",
              "    <div class=\"colab-df-container\">\n",
              "      <div>\n",
              "<style scoped>\n",
              "    .dataframe tbody tr th:only-of-type {\n",
              "        vertical-align: middle;\n",
              "    }\n",
              "\n",
              "    .dataframe tbody tr th {\n",
              "        vertical-align: top;\n",
              "    }\n",
              "\n",
              "    .dataframe thead th {\n",
              "        text-align: right;\n",
              "    }\n",
              "</style>\n",
              "<table border=\"1\" class=\"dataframe\">\n",
              "  <thead>\n",
              "    <tr style=\"text-align: right;\">\n",
              "      <th></th>\n",
              "      <th>placeName</th>\n",
              "      <th>placeDesc</th>\n",
              "      <th>placeURL</th>\n",
              "      <th>cosineSimilarity</th>\n",
              "    </tr>\n",
              "  </thead>\n",
              "  <tbody>\n",
              "    <tr>\n",
              "      <th>9</th>\n",
              "      <td>The Czech's Capuchin Crypt</td>\n",
              "      <td>The rosy pink facade of Brno’s Capuchin Church...</td>\n",
              "      <td>http://www.atlasobscura.com/places/czechs-capu...</td>\n",
              "      <td>0.396423</td>\n",
              "    </tr>\n",
              "    <tr>\n",
              "      <th>8</th>\n",
              "      <td>Hill of Witches</td>\n",
              "      <td>Just off the main street in Juodkrante, Lithua...</td>\n",
              "      <td>http://www.atlasobscura.com/places/hill-of-wit...</td>\n",
              "      <td>0.392383</td>\n",
              "    </tr>\n",
              "    <tr>\n",
              "      <th>7</th>\n",
              "      <td>Cahokia Mounds</td>\n",
              "      <td>The largest pre-Columbian settlement in the Ne...</td>\n",
              "      <td>http://www.atlasobscura.com/places/cahokia-mounds</td>\n",
              "      <td>0.379542</td>\n",
              "    </tr>\n",
              "    <tr>\n",
              "      <th>3</th>\n",
              "      <td>Sea of Stars</td>\n",
              "      <td>The “Sea of Stars” is a beautiful phenomenon t...</td>\n",
              "      <td>http://www.atlasobscura.com/places/sea-of-stars</td>\n",
              "      <td>0.360056</td>\n",
              "    </tr>\n",
              "    <tr>\n",
              "      <th>4</th>\n",
              "      <td>Slope Point</td>\n",
              "      <td>Slope Point, the most southerly spot on New Ze...</td>\n",
              "      <td>http://www.atlasobscura.com/places/slope-point</td>\n",
              "      <td>0.337736</td>\n",
              "    </tr>\n",
              "    <tr>\n",
              "      <th>1</th>\n",
              "      <td>Evergreen Memorial Park &amp; Crematory</td>\n",
              "      <td>Established in 1877, Evergreen Memorial Park a...</td>\n",
              "      <td>http://www.atlasobscura.com/places/evergreen-m...</td>\n",
              "      <td>0.32864</td>\n",
              "    </tr>\n",
              "    <tr>\n",
              "      <th>5</th>\n",
              "      <td>Crowley Mausoleum</td>\n",
              "      <td>For over a century, the Crowley family owned t...</td>\n",
              "      <td>http://www.atlasobscura.com/places/crowley-mau...</td>\n",
              "      <td>0.308192</td>\n",
              "    </tr>\n",
              "    <tr>\n",
              "      <th>6</th>\n",
              "      <td>Ladder Creek Falls and Gardens</td>\n",
              "      <td>Ladder Creek Falls and Gardens in North Cascad...</td>\n",
              "      <td>http://www.atlasobscura.com/places/ladder-cree...</td>\n",
              "      <td>0.299304</td>\n",
              "    </tr>\n",
              "    <tr>\n",
              "      <th>2</th>\n",
              "      <td>The Miller Building</td>\n",
              "      <td>There’s no way to know how many reporters were...</td>\n",
              "      <td>http://www.atlasobscura.com/places/the-miller-...</td>\n",
              "      <td>0.281186</td>\n",
              "    </tr>\n",
              "    <tr>\n",
              "      <th>0</th>\n",
              "      <td>Thain Family Forest</td>\n",
              "      <td>This small forest in the Bronx could be the mo...</td>\n",
              "      <td>http://www.atlasobscura.com/places/thain-famil...</td>\n",
              "      <td>0.278352</td>\n",
              "    </tr>\n",
              "  </tbody>\n",
              "</table>\n",
              "</div>\n",
              "      <button class=\"colab-df-convert\" onclick=\"convertToInteractive('df-83d2c46c-df76-4ae6-b777-b39e438e6f30')\"\n",
              "              title=\"Convert this dataframe to an interactive table.\"\n",
              "              style=\"display:none;\">\n",
              "        \n",
              "  <svg xmlns=\"http://www.w3.org/2000/svg\" height=\"24px\"viewBox=\"0 0 24 24\"\n",
              "       width=\"24px\">\n",
              "    <path d=\"M0 0h24v24H0V0z\" fill=\"none\"/>\n",
              "    <path d=\"M18.56 5.44l.94 2.06.94-2.06 2.06-.94-2.06-.94-.94-2.06-.94 2.06-2.06.94zm-11 1L8.5 8.5l.94-2.06 2.06-.94-2.06-.94L8.5 2.5l-.94 2.06-2.06.94zm10 10l.94 2.06.94-2.06 2.06-.94-2.06-.94-.94-2.06-.94 2.06-2.06.94z\"/><path d=\"M17.41 7.96l-1.37-1.37c-.4-.4-.92-.59-1.43-.59-.52 0-1.04.2-1.43.59L10.3 9.45l-7.72 7.72c-.78.78-.78 2.05 0 2.83L4 21.41c.39.39.9.59 1.41.59.51 0 1.02-.2 1.41-.59l7.78-7.78 2.81-2.81c.8-.78.8-2.07 0-2.86zM5.41 20L4 18.59l7.72-7.72 1.47 1.35L5.41 20z\"/>\n",
              "  </svg>\n",
              "      </button>\n",
              "      \n",
              "  <style>\n",
              "    .colab-df-container {\n",
              "      display:flex;\n",
              "      flex-wrap:wrap;\n",
              "      gap: 12px;\n",
              "    }\n",
              "\n",
              "    .colab-df-convert {\n",
              "      background-color: #E8F0FE;\n",
              "      border: none;\n",
              "      border-radius: 50%;\n",
              "      cursor: pointer;\n",
              "      display: none;\n",
              "      fill: #1967D2;\n",
              "      height: 32px;\n",
              "      padding: 0 0 0 0;\n",
              "      width: 32px;\n",
              "    }\n",
              "\n",
              "    .colab-df-convert:hover {\n",
              "      background-color: #E2EBFA;\n",
              "      box-shadow: 0px 1px 2px rgba(60, 64, 67, 0.3), 0px 1px 3px 1px rgba(60, 64, 67, 0.15);\n",
              "      fill: #174EA6;\n",
              "    }\n",
              "\n",
              "    [theme=dark] .colab-df-convert {\n",
              "      background-color: #3B4455;\n",
              "      fill: #D2E3FC;\n",
              "    }\n",
              "\n",
              "    [theme=dark] .colab-df-convert:hover {\n",
              "      background-color: #434B5C;\n",
              "      box-shadow: 0px 1px 3px 1px rgba(0, 0, 0, 0.15);\n",
              "      filter: drop-shadow(0px 1px 2px rgba(0, 0, 0, 0.3));\n",
              "      fill: #FFFFFF;\n",
              "    }\n",
              "  </style>\n",
              "\n",
              "      <script>\n",
              "        const buttonEl =\n",
              "          document.querySelector('#df-83d2c46c-df76-4ae6-b777-b39e438e6f30 button.colab-df-convert');\n",
              "        buttonEl.style.display =\n",
              "          google.colab.kernel.accessAllowed ? 'block' : 'none';\n",
              "\n",
              "        async function convertToInteractive(key) {\n",
              "          const element = document.querySelector('#df-83d2c46c-df76-4ae6-b777-b39e438e6f30');\n",
              "          const dataTable =\n",
              "            await google.colab.kernel.invokeFunction('convertToInteractive',\n",
              "                                                     [key], {});\n",
              "          if (!dataTable) return;\n",
              "\n",
              "          const docLinkHtml = 'Like what you see? Visit the ' +\n",
              "            '<a target=\"_blank\" href=https://colab.research.google.com/notebooks/data_table.ipynb>data table notebook</a>'\n",
              "            + ' to learn more about interactive tables.';\n",
              "          element.innerHTML = '';\n",
              "          dataTable['output_type'] = 'display_data';\n",
              "          await google.colab.output.renderOutput(dataTable, element);\n",
              "          const docLink = document.createElement('div');\n",
              "          docLink.innerHTML = docLinkHtml;\n",
              "          element.appendChild(docLink);\n",
              "        }\n",
              "      </script>\n",
              "    </div>\n",
              "  </div>\n",
              "  "
            ]
          },
          "metadata": {},
          "execution_count": 34
        }
      ]
    },
    {
      "cell_type": "markdown",
      "source": [
        "## 3. Define a new score!"
      ],
      "metadata": {
        "id": "NtdfZTIKJ2qf"
      }
    },
    {
      "cell_type": "markdown",
      "source": [
        "The new score we will use is based on adding some extra point to each document, starting from the cosine similarity score, based on this calculation:\n",
        "\n",
        "*   +1 point if the city selected by the user (asked together with the query) is the same of the place.\n",
        "*   +1 point for each tag contained in the placeTags that match a word of the query."
      ],
      "metadata": {
        "id": "SlZguxpDKVUz"
      }
    },
    {
      "cell_type": "markdown",
      "source": [
        "First of all we are going to clean the column placeAddress of our data frame in order to extract only the city name."
      ],
      "metadata": {
        "id": "_TvKZLPOpYxP"
      }
    },
    {
      "cell_type": "code",
      "source": [
        "nlp = spacy.load('en_core_web_sm')\n",
        "\n",
        "def city(indirizzi):\n",
        "  doc = nlp(indirizzi)\n",
        "  for ent in doc.ents:\n",
        "    if ent.label_ == \"GPE\":\n",
        "      return[''.join(ent.text)]"
      ],
      "metadata": {
        "id": "KwRRoSeuLRWh"
      },
      "execution_count": 35,
      "outputs": []
    },
    {
      "cell_type": "code",
      "source": [
        "visual_copy.placeAddress = visual_copy.placeAddress.fillna('')\n",
        "visual_copy.placeAddress.isnull().sum()"
      ],
      "metadata": {
        "colab": {
          "base_uri": "https://localhost:8080/"
        },
        "id": "wMX1-u4uVdxf",
        "outputId": "1ad9970c-a3ee-47e4-8dbe-db98ad64130b"
      },
      "execution_count": 36,
      "outputs": [
        {
          "output_type": "execute_result",
          "data": {
            "text/plain": [
              "0"
            ]
          },
          "metadata": {},
          "execution_count": 36
        }
      ]
    },
    {
      "cell_type": "code",
      "source": [
        "cities=[]\n",
        "for i in visual_copy.placeAddress:\n",
        "  citta=str(city(i)).lower()\n",
        "  cities.append(citta)"
      ],
      "metadata": {
        "id": "cw1MTeVjV_yg"
      },
      "execution_count": 37,
      "outputs": []
    },
    {
      "cell_type": "markdown",
      "source": [
        "Now for praticity we add a column to the data frame containing the cities."
      ],
      "metadata": {
        "id": "1gtQl4RSpf2f"
      }
    },
    {
      "cell_type": "code",
      "source": [
        "visual_copy['Cities'] = cities"
      ],
      "metadata": {
        "id": "aQml79A0JxzM"
      },
      "execution_count": 38,
      "outputs": []
    },
    {
      "cell_type": "code",
      "source": [
        "visual_copy.head(5)"
      ],
      "metadata": {
        "colab": {
          "base_uri": "https://localhost:8080/",
          "height": 687
        },
        "id": "05PoVQ8EZ1vO",
        "outputId": "828f013f-2e02-48c2-8eb7-387e245e72d3"
      },
      "execution_count": 39,
      "outputs": [
        {
          "data": {
            "text/html": [
              "\n",
              "  <div id=\"df-bb4d890e-225d-4a6f-9654-e67b49e83d08\">\n",
              "    <div class=\"colab-df-container\">\n",
              "      <div>\n",
              "<style scoped>\n",
              "    .dataframe tbody tr th:only-of-type {\n",
              "        vertical-align: middle;\n",
              "    }\n",
              "\n",
              "    .dataframe tbody tr th {\n",
              "        vertical-align: top;\n",
              "    }\n",
              "\n",
              "    .dataframe thead th {\n",
              "        text-align: right;\n",
              "    }\n",
              "</style>\n",
              "<table border=\"1\" class=\"dataframe\">\n",
              "  <thead>\n",
              "    <tr style=\"text-align: right;\">\n",
              "      <th></th>\n",
              "      <th>placeName</th>\n",
              "      <th>placeTags</th>\n",
              "      <th>numPeopleVisited</th>\n",
              "      <th>numPeopleWant</th>\n",
              "      <th>placeDesc</th>\n",
              "      <th>placeShortDesc</th>\n",
              "      <th>placeNearby</th>\n",
              "      <th>placeAddress</th>\n",
              "      <th>placeAlt</th>\n",
              "      <th>placeLong</th>\n",
              "      <th>placeEditors</th>\n",
              "      <th>placePubDate</th>\n",
              "      <th>placeRelatedLists</th>\n",
              "      <th>placeRelatedPlaces</th>\n",
              "      <th>placeURL</th>\n",
              "      <th>list_clean_desc</th>\n",
              "      <th>Cities</th>\n",
              "    </tr>\n",
              "  </thead>\n",
              "  <tbody>\n",
              "    <tr>\n",
              "      <th>0</th>\n",
              "      <td>Highgate Cemetery</td>\n",
              "      <td>['rivals-week', 'vampires', 'hoaxes', 'occult'...</td>\n",
              "      <td>2625.0</td>\n",
              "      <td>8208.0</td>\n",
              "      <td>Opened in 1839, Highgate is one of London’s mo...</td>\n",
              "      <td>London's creepiest cemetery was once the site ...</td>\n",
              "      <td>[\"World's Largest Potted Plant\", 'Dick Whittin...</td>\n",
              "      <td>Swain's Lane, Highgate London, England, N6 Uni...</td>\n",
              "      <td>51.5675</td>\n",
              "      <td>-0.1483</td>\n",
              "      <td>['anthonyhogg']</td>\n",
              "      <td>August 9, 2014</td>\n",
              "      <td>[\"The World's Top 100 Wonders in 2018\", \"Londo...</td>\n",
              "      <td>['Jewett City Vampires', 'Tomb of the Mather F...</td>\n",
              "      <td>http://www.atlasobscura.com/places/highgate-ce...</td>\n",
              "      <td>[open, 1839, highgat, one, london, infam, ceme...</td>\n",
              "      <td>['england']</td>\n",
              "    </tr>\n",
              "    <tr>\n",
              "      <th>2</th>\n",
              "      <td>City Hall Station</td>\n",
              "      <td>['subways', 'subterranean', 'infrastructure', ...</td>\n",
              "      <td>1834.0</td>\n",
              "      <td>8606.0</td>\n",
              "      <td>The first New York City subway was built and o...</td>\n",
              "      <td>A beautiful and abandoned New York subway stat...</td>\n",
              "      <td>['African Burial Ground National Monument', 'T...</td>\n",
              "      <td>31 Centre St New York, New York, 10007 United ...</td>\n",
              "      <td>40.7134</td>\n",
              "      <td>-74.0046</td>\n",
              "      <td>['rebekah-otto', 'annetta-black']</td>\n",
              "      <td>May 8, 2010</td>\n",
              "      <td>['30 Unexpected Places to Have a Joyful Advent...</td>\n",
              "      <td>['Crystal Palace Subway', 'Moscow Metro Statio...</td>\n",
              "      <td>http://www.atlasobscura.com/places/city-hall-s...</td>\n",
              "      <td>[first, new, york, citi, subway, built, oper, ...</td>\n",
              "      <td>['new york']</td>\n",
              "    </tr>\n",
              "    <tr>\n",
              "      <th>3</th>\n",
              "      <td>Leadenhall Market</td>\n",
              "      <td>['markets', 'film-locations', 'film']</td>\n",
              "      <td>3142.0</td>\n",
              "      <td>7595.0</td>\n",
              "      <td>The ornate 19th-century painted roof and cobbl...</td>\n",
              "      <td>This ornate Victorian marketplace was the sett...</td>\n",
              "      <td>['The Cornhill Devils ', \"London's Original an...</td>\n",
              "      <td>London, England, EC3V United Kingdom</td>\n",
              "      <td>51.5126</td>\n",
              "      <td>-0.0834</td>\n",
              "      <td>['meghanneal', 'gavin-292130']</td>\n",
              "      <td>August 1, 2016</td>\n",
              "      <td>['The Ultimate Guide to Stunning, Surprising, ...</td>\n",
              "      <td>['Rivendell', 'Bagdad Cafe', 'Gare de la Ciota...</td>\n",
              "      <td>http://www.atlasobscura.com/places/leadenhall-...</td>\n",
              "      <td>[ornat, 19thcenturi, paint, roof, cobbl, floor...</td>\n",
              "      <td>['london']</td>\n",
              "    </tr>\n",
              "    <tr>\n",
              "      <th>4</th>\n",
              "      <td>The Wave Organ</td>\n",
              "      <td>['sea-organ', 'aletrail', 'sounds', 'music', '...</td>\n",
              "      <td>2430.0</td>\n",
              "      <td>7425.0</td>\n",
              "      <td>Located on a jetty in the San Francisco Bay, t...</td>\n",
              "      <td>A huge musical instrument played by the ocean.</td>\n",
              "      <td>['Long Now Orrery', 'The Stern of the Briganti...</td>\n",
              "      <td>83 Marina Green Dr San Francisco, California, ...</td>\n",
              "      <td>37.8085</td>\n",
              "      <td>-122.4401</td>\n",
              "      <td>['mbison', 'bylow1md']</td>\n",
              "      <td>November 21, 2008</td>\n",
              "      <td>[\"Leonardo Nam's 16 Quirky Roadside Attraction...</td>\n",
              "      <td>['Sea Organ', 'Silent Green Kulturquartier', \"...</td>\n",
              "      <td>http://www.atlasobscura.com/places/wave-organ</td>\n",
              "      <td>[locat, jetti, san, francisco, bay, wave, orga...</td>\n",
              "      <td>['san francisco']</td>\n",
              "    </tr>\n",
              "    <tr>\n",
              "      <th>5</th>\n",
              "      <td>Catacombes de Paris</td>\n",
              "      <td>['ossuaries', 'memento-mori', 'catacombs-and-c...</td>\n",
              "      <td>4456.0</td>\n",
              "      <td>7057.0</td>\n",
              "      <td>In 2004, Parisian police were assigned to do a...</td>\n",
              "      <td>The vast, legendary catacombs hold secrets muc...</td>\n",
              "      <td>['Sculptures de Décure', 'Arago Medallions', \"...</td>\n",
              "      <td>1 Place Denfert-Rochereau Paris, 75014 France</td>\n",
              "      <td>48.8343</td>\n",
              "      <td>2.3322</td>\n",
              "      <td>['cpilgrim', 'akazem']</td>\n",
              "      <td>February 13, 2009</td>\n",
              "      <td>['19 Catacombs Sure to Tingle Your Spine', \"Th...</td>\n",
              "      <td>['Ossario di San Martino', 'Leuk Charnel House...</td>\n",
              "      <td>http://www.atlasobscura.com/places/catacombes-...</td>\n",
              "      <td>[2004, parisian, polic, assign, train, exercis...</td>\n",
              "      <td>['paris']</td>\n",
              "    </tr>\n",
              "  </tbody>\n",
              "</table>\n",
              "</div>\n",
              "      <button class=\"colab-df-convert\" onclick=\"convertToInteractive('df-bb4d890e-225d-4a6f-9654-e67b49e83d08')\"\n",
              "              title=\"Convert this dataframe to an interactive table.\"\n",
              "              style=\"display:none;\">\n",
              "        \n",
              "  <svg xmlns=\"http://www.w3.org/2000/svg\" height=\"24px\"viewBox=\"0 0 24 24\"\n",
              "       width=\"24px\">\n",
              "    <path d=\"M0 0h24v24H0V0z\" fill=\"none\"/>\n",
              "    <path d=\"M18.56 5.44l.94 2.06.94-2.06 2.06-.94-2.06-.94-.94-2.06-.94 2.06-2.06.94zm-11 1L8.5 8.5l.94-2.06 2.06-.94-2.06-.94L8.5 2.5l-.94 2.06-2.06.94zm10 10l.94 2.06.94-2.06 2.06-.94-2.06-.94-.94-2.06-.94 2.06-2.06.94z\"/><path d=\"M17.41 7.96l-1.37-1.37c-.4-.4-.92-.59-1.43-.59-.52 0-1.04.2-1.43.59L10.3 9.45l-7.72 7.72c-.78.78-.78 2.05 0 2.83L4 21.41c.39.39.9.59 1.41.59.51 0 1.02-.2 1.41-.59l7.78-7.78 2.81-2.81c.8-.78.8-2.07 0-2.86zM5.41 20L4 18.59l7.72-7.72 1.47 1.35L5.41 20z\"/>\n",
              "  </svg>\n",
              "      </button>\n",
              "      \n",
              "  <style>\n",
              "    .colab-df-container {\n",
              "      display:flex;\n",
              "      flex-wrap:wrap;\n",
              "      gap: 12px;\n",
              "    }\n",
              "\n",
              "    .colab-df-convert {\n",
              "      background-color: #E8F0FE;\n",
              "      border: none;\n",
              "      border-radius: 50%;\n",
              "      cursor: pointer;\n",
              "      display: none;\n",
              "      fill: #1967D2;\n",
              "      height: 32px;\n",
              "      padding: 0 0 0 0;\n",
              "      width: 32px;\n",
              "    }\n",
              "\n",
              "    .colab-df-convert:hover {\n",
              "      background-color: #E2EBFA;\n",
              "      box-shadow: 0px 1px 2px rgba(60, 64, 67, 0.3), 0px 1px 3px 1px rgba(60, 64, 67, 0.15);\n",
              "      fill: #174EA6;\n",
              "    }\n",
              "\n",
              "    [theme=dark] .colab-df-convert {\n",
              "      background-color: #3B4455;\n",
              "      fill: #D2E3FC;\n",
              "    }\n",
              "\n",
              "    [theme=dark] .colab-df-convert:hover {\n",
              "      background-color: #434B5C;\n",
              "      box-shadow: 0px 1px 3px 1px rgba(0, 0, 0, 0.15);\n",
              "      filter: drop-shadow(0px 1px 2px rgba(0, 0, 0, 0.3));\n",
              "      fill: #FFFFFF;\n",
              "    }\n",
              "  </style>\n",
              "\n",
              "      <script>\n",
              "        const buttonEl =\n",
              "          document.querySelector('#df-bb4d890e-225d-4a6f-9654-e67b49e83d08 button.colab-df-convert');\n",
              "        buttonEl.style.display =\n",
              "          google.colab.kernel.accessAllowed ? 'block' : 'none';\n",
              "\n",
              "        async function convertToInteractive(key) {\n",
              "          const element = document.querySelector('#df-bb4d890e-225d-4a6f-9654-e67b49e83d08');\n",
              "          const dataTable =\n",
              "            await google.colab.kernel.invokeFunction('convertToInteractive',\n",
              "                                                     [key], {});\n",
              "          if (!dataTable) return;\n",
              "\n",
              "          const docLinkHtml = 'Like what you see? Visit the ' +\n",
              "            '<a target=\"_blank\" href=https://colab.research.google.com/notebooks/data_table.ipynb>data table notebook</a>'\n",
              "            + ' to learn more about interactive tables.';\n",
              "          element.innerHTML = '';\n",
              "          dataTable['output_type'] = 'display_data';\n",
              "          await google.colab.output.renderOutput(dataTable, element);\n",
              "          const docLink = document.createElement('div');\n",
              "          docLink.innerHTML = docLinkHtml;\n",
              "          element.appendChild(docLink);\n",
              "        }\n",
              "      </script>\n",
              "    </div>\n",
              "  </div>\n",
              "  "
            ],
            "text/plain": [
              "             placeName                                          placeTags  \\\n",
              "0    Highgate Cemetery  ['rivals-week', 'vampires', 'hoaxes', 'occult'...   \n",
              "2    City Hall Station  ['subways', 'subterranean', 'infrastructure', ...   \n",
              "3    Leadenhall Market              ['markets', 'film-locations', 'film']   \n",
              "4       The Wave Organ  ['sea-organ', 'aletrail', 'sounds', 'music', '...   \n",
              "5  Catacombes de Paris  ['ossuaries', 'memento-mori', 'catacombs-and-c...   \n",
              "\n",
              "   numPeopleVisited  numPeopleWant  \\\n",
              "0            2625.0         8208.0   \n",
              "2            1834.0         8606.0   \n",
              "3            3142.0         7595.0   \n",
              "4            2430.0         7425.0   \n",
              "5            4456.0         7057.0   \n",
              "\n",
              "                                           placeDesc  \\\n",
              "0  Opened in 1839, Highgate is one of London’s mo...   \n",
              "2  The first New York City subway was built and o...   \n",
              "3  The ornate 19th-century painted roof and cobbl...   \n",
              "4  Located on a jetty in the San Francisco Bay, t...   \n",
              "5  In 2004, Parisian police were assigned to do a...   \n",
              "\n",
              "                                      placeShortDesc  \\\n",
              "0  London's creepiest cemetery was once the site ...   \n",
              "2  A beautiful and abandoned New York subway stat...   \n",
              "3  This ornate Victorian marketplace was the sett...   \n",
              "4     A huge musical instrument played by the ocean.   \n",
              "5  The vast, legendary catacombs hold secrets muc...   \n",
              "\n",
              "                                         placeNearby  \\\n",
              "0  [\"World's Largest Potted Plant\", 'Dick Whittin...   \n",
              "2  ['African Burial Ground National Monument', 'T...   \n",
              "3  ['The Cornhill Devils ', \"London's Original an...   \n",
              "4  ['Long Now Orrery', 'The Stern of the Briganti...   \n",
              "5  ['Sculptures de Décure', 'Arago Medallions', \"...   \n",
              "\n",
              "                                        placeAddress  placeAlt  placeLong  \\\n",
              "0  Swain's Lane, Highgate London, England, N6 Uni...   51.5675    -0.1483   \n",
              "2  31 Centre St New York, New York, 10007 United ...   40.7134   -74.0046   \n",
              "3               London, England, EC3V United Kingdom   51.5126    -0.0834   \n",
              "4  83 Marina Green Dr San Francisco, California, ...   37.8085  -122.4401   \n",
              "5      1 Place Denfert-Rochereau Paris, 75014 France   48.8343     2.3322   \n",
              "\n",
              "                        placeEditors       placePubDate  \\\n",
              "0                    ['anthonyhogg']     August 9, 2014   \n",
              "2  ['rebekah-otto', 'annetta-black']        May 8, 2010   \n",
              "3     ['meghanneal', 'gavin-292130']     August 1, 2016   \n",
              "4             ['mbison', 'bylow1md']  November 21, 2008   \n",
              "5             ['cpilgrim', 'akazem']  February 13, 2009   \n",
              "\n",
              "                                   placeRelatedLists  \\\n",
              "0  [\"The World's Top 100 Wonders in 2018\", \"Londo...   \n",
              "2  ['30 Unexpected Places to Have a Joyful Advent...   \n",
              "3  ['The Ultimate Guide to Stunning, Surprising, ...   \n",
              "4  [\"Leonardo Nam's 16 Quirky Roadside Attraction...   \n",
              "5  ['19 Catacombs Sure to Tingle Your Spine', \"Th...   \n",
              "\n",
              "                                  placeRelatedPlaces  \\\n",
              "0  ['Jewett City Vampires', 'Tomb of the Mather F...   \n",
              "2  ['Crystal Palace Subway', 'Moscow Metro Statio...   \n",
              "3  ['Rivendell', 'Bagdad Cafe', 'Gare de la Ciota...   \n",
              "4  ['Sea Organ', 'Silent Green Kulturquartier', \"...   \n",
              "5  ['Ossario di San Martino', 'Leuk Charnel House...   \n",
              "\n",
              "                                            placeURL  \\\n",
              "0  http://www.atlasobscura.com/places/highgate-ce...   \n",
              "2  http://www.atlasobscura.com/places/city-hall-s...   \n",
              "3  http://www.atlasobscura.com/places/leadenhall-...   \n",
              "4      http://www.atlasobscura.com/places/wave-organ   \n",
              "5  http://www.atlasobscura.com/places/catacombes-...   \n",
              "\n",
              "                                     list_clean_desc             Cities  \n",
              "0  [open, 1839, highgat, one, london, infam, ceme...        ['england']  \n",
              "2  [first, new, york, citi, subway, built, oper, ...       ['new york']  \n",
              "3  [ornat, 19thcenturi, paint, roof, cobbl, floor...         ['london']  \n",
              "4  [locat, jetti, san, francisco, bay, wave, orga...  ['san francisco']  \n",
              "5  [2004, parisian, polic, assign, train, exercis...          ['paris']  "
            ]
          },
          "execution_count": 39,
          "metadata": {},
          "output_type": "execute_result"
        }
      ]
    },
    {
      "cell_type": "code",
      "source": [
        "def output_id3(query):\n",
        "  c=query.split(' ')\n",
        "\n",
        "  new_parole=[]\n",
        "  for i in c:\n",
        "    p = clean(i)\n",
        "    new_parole.append(p[0])\n",
        "  \n",
        "  #add also the tfidf of the words in the query\n",
        "  documents={}\n",
        "  tf_idf_q={}\n",
        "  N=visual.shape[0]\n",
        "  for parola in new_parole:\n",
        "    index_word= vocabulary[parola]\n",
        "    docs= inverted_idx_2[index_word]\n",
        "    documents[index_word]=docs\n",
        "    tf_ij_q = new_parole.count(parola)\n",
        "    idf_i_q = len(inverted_idx_2[index_word])\n",
        "    tf_idf_q[index_word] = tf_ij_q * np.log(N/idf_i_q)\n",
        "\n",
        "  fla_documents=list(documents.values())\n",
        "  all_documents=[list(fla_documents[x].keys()) for x in range(len(fla_documents))]\n",
        "  \n",
        "  final_documents=[]\n",
        "  for elem in all_documents:\n",
        "    for num in elem:\n",
        "      final_documents.append(num)\n",
        "\n",
        "  w=len(new_parole) #2\n",
        "  output_places2=[]\n",
        "\n",
        "  for i in final_documents:\n",
        "    c = final_documents.count(i)\n",
        "    if c == w and i not in output_places2:\n",
        "      output_places2.append(i)\n",
        "  \n",
        "  return output_places2, tf_idf_q"
      ],
      "metadata": {
        "id": "wadhcJuJVUAz"
      },
      "execution_count": 40,
      "outputs": []
    },
    {
      "cell_type": "markdown",
      "source": [
        "We will use the same function as before, but now after have calculated the cosine similarity we add other points based on our new ranking score."
      ],
      "metadata": {
        "id": "cNoWJBekcsSK"
      }
    },
    {
      "cell_type": "code",
      "source": [
        "def Classifica2(query, citta, k):\n",
        "  candidati, tfidfquery = output_id3(query)\n",
        "  classifica = []\n",
        "  heapq.heapify(classifica)\n",
        "  #per ogni documento candidato\n",
        "  for doc in candidati:\n",
        "    prodotti=[]\n",
        "    #per ogni parola della query\n",
        "    for parola in list(tfidfquery.keys()):\n",
        "      tfidf_p = inverted_idx_2[parola]\n",
        "      tfidf_pd = tfidf_p[doc]\n",
        "      prodotti.append(tfidf_pd * tfidfquery[parola])\n",
        "    #cosine similarity\n",
        "    somma = sum(prodotti)\n",
        "    cosine = somma/norme[doc]\n",
        "\n",
        "    #add new points for the city\n",
        "    citta=citta.lower()\n",
        "    if visual_copy.Cities[doc] == citta:\n",
        "      cosine = cosine + 1\n",
        "\n",
        "    #add new points for the tags matching the query\n",
        "    for parola in query:\n",
        "      c = clean(parola)\n",
        "      for t in visual_copy.placeTags[doc]:\n",
        "        if c == t:\n",
        "          cosine = cosine + 1\n",
        "\n",
        "    heapq.heappush(classifica, (cosine, doc))\n",
        "    if len(classifica)==(k+1):\n",
        "      heapq.heappop(classifica)\n",
        "\n",
        "  return classifica"
      ],
      "metadata": {
        "id": "e93XIcYvVseH"
      },
      "execution_count": 41,
      "outputs": []
    },
    {
      "cell_type": "code",
      "source": [
        "def searchEngine3(query, citta, k):\n",
        "  out=Classifica2(query, citta, k)\n",
        "\n",
        "  col = ['placeName', 'placeDesc', 'placeURL', 'new_score']\n",
        "  df = pd.DataFrame(columns=col)\n",
        "  \n",
        "  i=0\n",
        "  for cos, ind in out:\n",
        "    df.at[i, 'placeName'] = visual.placeName[ind]\n",
        "    df.at[i, 'placeDesc'] = visual.placeDesc[ind]\n",
        "    df.at[i, 'placeURL'] = visual.placeURL[ind]\n",
        "    df.at[i, 'new_score'] = cos\n",
        "    i+=1\n",
        "\n",
        "  finito = df.sort_values(by=['new_score'], ascending=False)\n",
        "\n",
        "  return finito"
      ],
      "metadata": {
        "id": "pYVQmmpoVtTc"
      },
      "execution_count": 44,
      "outputs": []
    },
    {
      "cell_type": "code",
      "source": [
        "frase='bar pub'\n",
        "citta='new york'\n",
        "\n",
        "results = searchEngine3(frase, citta, 10)\n",
        "results"
      ],
      "metadata": {
        "id": "dmHFkFndjU7o",
        "outputId": "6528aec9-dafc-4e7b-cad6-ea325bea84a2",
        "colab": {
          "base_uri": "https://localhost:8080/",
          "height": 363
        }
      },
      "execution_count": 45,
      "outputs": [
        {
          "output_type": "execute_result",
          "data": {
            "text/plain": [
              "                                      placeName  \\\n",
              "7                                Central Market   \n",
              "8                      Waverly Hills Sanatorium   \n",
              "3                      Jolly Green Giant Statue   \n",
              "9                       The Dominator Shipwreck   \n",
              "6             Louis Valentino Jr. Park and Pier   \n",
              "4                          Saint Audoen's Gate    \n",
              "1                               Nan Madol Ruins   \n",
              "5                                   Bellocq Tea   \n",
              "2  Grand Staircase-Escalante National Monument    \n",
              "0                               The Junk Castle   \n",
              "\n",
              "                                           placeDesc  \\\n",
              "7  The oldest continuously operating farmers mark...   \n",
              "8  Nestled on the top of a placid hill, the old W...   \n",
              "3  Blue Earth may claim to be the birthplace of t...   \n",
              "9  On March 13, 1961, a Greek freighter called Th...   \n",
              "6  The Louis Valentino Jr. Park-and-Pier in Red H...   \n",
              "4  A great stone wall once hugged the edges of me...   \n",
              "1  Off the coast of a remote Micronesian island l...   \n",
              "5  You may not realize it was there even after ha...   \n",
              "2  Named after its unique topography and impressi...   \n",
              "0  For a lot of artists, the 60s was a time of ex...   \n",
              "\n",
              "                                            placeURL new_score  \n",
              "7  http://www.atlasobscura.com/places/central-market  1.742138  \n",
              "8  http://www.atlasobscura.com/places/waverly-hil...  1.502303  \n",
              "3  http://www.atlasobscura.com/places/jolly-green...  1.411338  \n",
              "9  http://www.atlasobscura.com/places/the-dominat...  1.134015  \n",
              "6  http://www.atlasobscura.com/places/louis-valen...  1.116645  \n",
              "4  http://www.atlasobscura.com/places/st-audoens-...  1.097795  \n",
              "1       http://www.atlasobscura.com/places/nan-madol  1.068428  \n",
              "5     http://www.atlasobscura.com/places/bellocq-tea  1.054383  \n",
              "2  http://www.atlasobscura.com/places/grand-stair...  1.037517  \n",
              "0  http://www.atlasobscura.com/places/the-junk-ca...  0.742223  "
            ],
            "text/html": [
              "\n",
              "  <div id=\"df-b1c8b2cb-2d61-4144-ba08-21724b7781b8\">\n",
              "    <div class=\"colab-df-container\">\n",
              "      <div>\n",
              "<style scoped>\n",
              "    .dataframe tbody tr th:only-of-type {\n",
              "        vertical-align: middle;\n",
              "    }\n",
              "\n",
              "    .dataframe tbody tr th {\n",
              "        vertical-align: top;\n",
              "    }\n",
              "\n",
              "    .dataframe thead th {\n",
              "        text-align: right;\n",
              "    }\n",
              "</style>\n",
              "<table border=\"1\" class=\"dataframe\">\n",
              "  <thead>\n",
              "    <tr style=\"text-align: right;\">\n",
              "      <th></th>\n",
              "      <th>placeName</th>\n",
              "      <th>placeDesc</th>\n",
              "      <th>placeURL</th>\n",
              "      <th>new_score</th>\n",
              "    </tr>\n",
              "  </thead>\n",
              "  <tbody>\n",
              "    <tr>\n",
              "      <th>7</th>\n",
              "      <td>Central Market</td>\n",
              "      <td>The oldest continuously operating farmers mark...</td>\n",
              "      <td>http://www.atlasobscura.com/places/central-market</td>\n",
              "      <td>1.742138</td>\n",
              "    </tr>\n",
              "    <tr>\n",
              "      <th>8</th>\n",
              "      <td>Waverly Hills Sanatorium</td>\n",
              "      <td>Nestled on the top of a placid hill, the old W...</td>\n",
              "      <td>http://www.atlasobscura.com/places/waverly-hil...</td>\n",
              "      <td>1.502303</td>\n",
              "    </tr>\n",
              "    <tr>\n",
              "      <th>3</th>\n",
              "      <td>Jolly Green Giant Statue</td>\n",
              "      <td>Blue Earth may claim to be the birthplace of t...</td>\n",
              "      <td>http://www.atlasobscura.com/places/jolly-green...</td>\n",
              "      <td>1.411338</td>\n",
              "    </tr>\n",
              "    <tr>\n",
              "      <th>9</th>\n",
              "      <td>The Dominator Shipwreck</td>\n",
              "      <td>On March 13, 1961, a Greek freighter called Th...</td>\n",
              "      <td>http://www.atlasobscura.com/places/the-dominat...</td>\n",
              "      <td>1.134015</td>\n",
              "    </tr>\n",
              "    <tr>\n",
              "      <th>6</th>\n",
              "      <td>Louis Valentino Jr. Park and Pier</td>\n",
              "      <td>The Louis Valentino Jr. Park-and-Pier in Red H...</td>\n",
              "      <td>http://www.atlasobscura.com/places/louis-valen...</td>\n",
              "      <td>1.116645</td>\n",
              "    </tr>\n",
              "    <tr>\n",
              "      <th>4</th>\n",
              "      <td>Saint Audoen's Gate</td>\n",
              "      <td>A great stone wall once hugged the edges of me...</td>\n",
              "      <td>http://www.atlasobscura.com/places/st-audoens-...</td>\n",
              "      <td>1.097795</td>\n",
              "    </tr>\n",
              "    <tr>\n",
              "      <th>1</th>\n",
              "      <td>Nan Madol Ruins</td>\n",
              "      <td>Off the coast of a remote Micronesian island l...</td>\n",
              "      <td>http://www.atlasobscura.com/places/nan-madol</td>\n",
              "      <td>1.068428</td>\n",
              "    </tr>\n",
              "    <tr>\n",
              "      <th>5</th>\n",
              "      <td>Bellocq Tea</td>\n",
              "      <td>You may not realize it was there even after ha...</td>\n",
              "      <td>http://www.atlasobscura.com/places/bellocq-tea</td>\n",
              "      <td>1.054383</td>\n",
              "    </tr>\n",
              "    <tr>\n",
              "      <th>2</th>\n",
              "      <td>Grand Staircase-Escalante National Monument</td>\n",
              "      <td>Named after its unique topography and impressi...</td>\n",
              "      <td>http://www.atlasobscura.com/places/grand-stair...</td>\n",
              "      <td>1.037517</td>\n",
              "    </tr>\n",
              "    <tr>\n",
              "      <th>0</th>\n",
              "      <td>The Junk Castle</td>\n",
              "      <td>For a lot of artists, the 60s was a time of ex...</td>\n",
              "      <td>http://www.atlasobscura.com/places/the-junk-ca...</td>\n",
              "      <td>0.742223</td>\n",
              "    </tr>\n",
              "  </tbody>\n",
              "</table>\n",
              "</div>\n",
              "      <button class=\"colab-df-convert\" onclick=\"convertToInteractive('df-b1c8b2cb-2d61-4144-ba08-21724b7781b8')\"\n",
              "              title=\"Convert this dataframe to an interactive table.\"\n",
              "              style=\"display:none;\">\n",
              "        \n",
              "  <svg xmlns=\"http://www.w3.org/2000/svg\" height=\"24px\"viewBox=\"0 0 24 24\"\n",
              "       width=\"24px\">\n",
              "    <path d=\"M0 0h24v24H0V0z\" fill=\"none\"/>\n",
              "    <path d=\"M18.56 5.44l.94 2.06.94-2.06 2.06-.94-2.06-.94-.94-2.06-.94 2.06-2.06.94zm-11 1L8.5 8.5l.94-2.06 2.06-.94-2.06-.94L8.5 2.5l-.94 2.06-2.06.94zm10 10l.94 2.06.94-2.06 2.06-.94-2.06-.94-.94-2.06-.94 2.06-2.06.94z\"/><path d=\"M17.41 7.96l-1.37-1.37c-.4-.4-.92-.59-1.43-.59-.52 0-1.04.2-1.43.59L10.3 9.45l-7.72 7.72c-.78.78-.78 2.05 0 2.83L4 21.41c.39.39.9.59 1.41.59.51 0 1.02-.2 1.41-.59l7.78-7.78 2.81-2.81c.8-.78.8-2.07 0-2.86zM5.41 20L4 18.59l7.72-7.72 1.47 1.35L5.41 20z\"/>\n",
              "  </svg>\n",
              "      </button>\n",
              "      \n",
              "  <style>\n",
              "    .colab-df-container {\n",
              "      display:flex;\n",
              "      flex-wrap:wrap;\n",
              "      gap: 12px;\n",
              "    }\n",
              "\n",
              "    .colab-df-convert {\n",
              "      background-color: #E8F0FE;\n",
              "      border: none;\n",
              "      border-radius: 50%;\n",
              "      cursor: pointer;\n",
              "      display: none;\n",
              "      fill: #1967D2;\n",
              "      height: 32px;\n",
              "      padding: 0 0 0 0;\n",
              "      width: 32px;\n",
              "    }\n",
              "\n",
              "    .colab-df-convert:hover {\n",
              "      background-color: #E2EBFA;\n",
              "      box-shadow: 0px 1px 2px rgba(60, 64, 67, 0.3), 0px 1px 3px 1px rgba(60, 64, 67, 0.15);\n",
              "      fill: #174EA6;\n",
              "    }\n",
              "\n",
              "    [theme=dark] .colab-df-convert {\n",
              "      background-color: #3B4455;\n",
              "      fill: #D2E3FC;\n",
              "    }\n",
              "\n",
              "    [theme=dark] .colab-df-convert:hover {\n",
              "      background-color: #434B5C;\n",
              "      box-shadow: 0px 1px 3px 1px rgba(0, 0, 0, 0.15);\n",
              "      filter: drop-shadow(0px 1px 2px rgba(0, 0, 0, 0.3));\n",
              "      fill: #FFFFFF;\n",
              "    }\n",
              "  </style>\n",
              "\n",
              "      <script>\n",
              "        const buttonEl =\n",
              "          document.querySelector('#df-b1c8b2cb-2d61-4144-ba08-21724b7781b8 button.colab-df-convert');\n",
              "        buttonEl.style.display =\n",
              "          google.colab.kernel.accessAllowed ? 'block' : 'none';\n",
              "\n",
              "        async function convertToInteractive(key) {\n",
              "          const element = document.querySelector('#df-b1c8b2cb-2d61-4144-ba08-21724b7781b8');\n",
              "          const dataTable =\n",
              "            await google.colab.kernel.invokeFunction('convertToInteractive',\n",
              "                                                     [key], {});\n",
              "          if (!dataTable) return;\n",
              "\n",
              "          const docLinkHtml = 'Like what you see? Visit the ' +\n",
              "            '<a target=\"_blank\" href=https://colab.research.google.com/notebooks/data_table.ipynb>data table notebook</a>'\n",
              "            + ' to learn more about interactive tables.';\n",
              "          element.innerHTML = '';\n",
              "          dataTable['output_type'] = 'display_data';\n",
              "          await google.colab.output.renderOutput(dataTable, element);\n",
              "          const docLink = document.createElement('div');\n",
              "          docLink.innerHTML = docLinkHtml;\n",
              "          element.appendChild(docLink);\n",
              "        }\n",
              "      </script>\n",
              "    </div>\n",
              "  </div>\n",
              "  "
            ]
          },
          "metadata": {},
          "execution_count": 45
        }
      ]
    },
    {
      "cell_type": "markdown",
      "source": [
        "## 4. Visualizing the most relevant places"
      ],
      "metadata": {
        "id": "yNNOCxL3J7K2"
      }
    },
    {
      "cell_type": "code",
      "source": [
        "import plotly.express as px"
      ],
      "metadata": {
        "id": "e9M2ekJCJ9mt"
      },
      "execution_count": 47,
      "outputs": []
    },
    {
      "cell_type": "code",
      "source": [
        "def searchEngine_tovisualize(query, citta, k):\n",
        "  out=Classifica2(query, citta, k)\n",
        "\n",
        "  col = ['placeName', 'placeDesc', 'placeURL', 'new_score','placeAlt','placeLong', 'numPeopleVisited','placeAddress']\n",
        "  df = pd.DataFrame(columns=col)\n",
        "  \n",
        "  i=0\n",
        "  for cos, ind in out:\n",
        "    df.at[i, 'placeName'] = visual.placeName[ind]\n",
        "    df.at[i, 'placeDesc'] = visual.placeDesc[ind]\n",
        "    df.at[i, 'placeURL'] = visual.placeURL[ind]\n",
        "    df.at[i, 'new_score'] = cos\n",
        "    df.at[i, 'placeAlt'] = visual.placeAlt[ind]\n",
        "    df.at[i, 'placeLong'] = visual.placeLong[ind]\n",
        "    df.at[i, 'placeLong'] = visual.placeLong[ind]\n",
        "    df.at[i, 'numPeopleVisited'] = visual.numPeopleVisited[ind]\n",
        "    df.at[i, 'placeAddress'] = visual.placeAddress[ind]\n",
        "\n",
        "    i+=1\n",
        "\n",
        "  finito = df.sort_values(by=['new_score'], ascending=False)\n",
        "\n",
        "  return finito"
      ],
      "metadata": {
        "id": "tWxB9QWsUYC4"
      },
      "execution_count": 54,
      "outputs": []
    },
    {
      "cell_type": "code",
      "source": [
        "frase='bar pub'\n",
        "citta='new york'\n",
        "\n",
        "results_tovisualize = searchEngine_tovisualize(frase, citta, 10)\n",
        "results_tovisualize"
      ],
      "metadata": {
        "id": "TUOaJVHfUd19",
        "outputId": "34e96108-3ac1-4d84-b4e2-b522f457e375",
        "colab": {
          "base_uri": "https://localhost:8080/",
          "height": 598
        }
      },
      "execution_count": 56,
      "outputs": [
        {
          "output_type": "execute_result",
          "data": {
            "text/plain": [
              "                                      placeName  \\\n",
              "7                                Central Market   \n",
              "8                      Waverly Hills Sanatorium   \n",
              "3                      Jolly Green Giant Statue   \n",
              "9                       The Dominator Shipwreck   \n",
              "6             Louis Valentino Jr. Park and Pier   \n",
              "4                          Saint Audoen's Gate    \n",
              "1                               Nan Madol Ruins   \n",
              "5                                   Bellocq Tea   \n",
              "2  Grand Staircase-Escalante National Monument    \n",
              "0                               The Junk Castle   \n",
              "\n",
              "                                           placeDesc  \\\n",
              "7  The oldest continuously operating farmers mark...   \n",
              "8  Nestled on the top of a placid hill, the old W...   \n",
              "3  Blue Earth may claim to be the birthplace of t...   \n",
              "9  On March 13, 1961, a Greek freighter called Th...   \n",
              "6  The Louis Valentino Jr. Park-and-Pier in Red H...   \n",
              "4  A great stone wall once hugged the edges of me...   \n",
              "1  Off the coast of a remote Micronesian island l...   \n",
              "5  You may not realize it was there even after ha...   \n",
              "2  Named after its unique topography and impressi...   \n",
              "0  For a lot of artists, the 60s was a time of ex...   \n",
              "\n",
              "                                            placeURL new_score placeAlt  \\\n",
              "7  http://www.atlasobscura.com/places/central-market  1.742138  40.0386   \n",
              "8  http://www.atlasobscura.com/places/waverly-hil...  1.502303  38.1307   \n",
              "3  http://www.atlasobscura.com/places/jolly-green...  1.411338  43.6513   \n",
              "9  http://www.atlasobscura.com/places/the-dominat...  1.134015  33.7751   \n",
              "6  http://www.atlasobscura.com/places/louis-valen...  1.116645  40.6781   \n",
              "4  http://www.atlasobscura.com/places/st-audoens-...  1.097795   53.344   \n",
              "1       http://www.atlasobscura.com/places/nan-madol  1.068428   6.8404   \n",
              "5     http://www.atlasobscura.com/places/bellocq-tea  1.054383  40.7303   \n",
              "2  http://www.atlasobscura.com/places/grand-stair...  1.037517     37.4   \n",
              "0  http://www.atlasobscura.com/places/the-junk-ca...  0.742223  46.7577   \n",
              "\n",
              "  placeLong numPeopleVisited  \\\n",
              "7  -76.3068            765.0   \n",
              "8  -85.8414            573.0   \n",
              "3  -94.0951            789.0   \n",
              "9 -118.4251            156.0   \n",
              "6  -74.0169            205.0   \n",
              "4    -6.274            302.0   \n",
              "1  158.3317             51.0   \n",
              "5  -73.9593            187.0   \n",
              "2 -111.6833            938.0   \n",
              "0 -117.2321            125.0   \n",
              "\n",
              "                                        placeAddress  \n",
              "7  23 North Market Street Lancaster, Pennsylvania...  \n",
              "8  4400 Paralee Lane Louisville, Kentucky, 40272 ...  \n",
              "3         Blue Earth, Minnesota, 56013 United States  \n",
              "9  Rocky Point Palos Verdes Estates, California, ...  \n",
              "6  Coffey Street and Ferris Street Brooklyn, New ...  \n",
              "4                       71-75 Cook St Dublin Ireland  \n",
              "1                                         Micronesia  \n",
              "5  104 West Street Brooklyn, New York, 11222 Unit...  \n",
              "2  Kane County Garfield County Kane, Utah United ...  \n",
              "0  500-658 Armstrong Rd Pullman, Washington, 9916...  "
            ],
            "text/html": [
              "\n",
              "  <div id=\"df-661cf219-2bbd-4b58-a6d8-93f9acb10c3a\">\n",
              "    <div class=\"colab-df-container\">\n",
              "      <div>\n",
              "<style scoped>\n",
              "    .dataframe tbody tr th:only-of-type {\n",
              "        vertical-align: middle;\n",
              "    }\n",
              "\n",
              "    .dataframe tbody tr th {\n",
              "        vertical-align: top;\n",
              "    }\n",
              "\n",
              "    .dataframe thead th {\n",
              "        text-align: right;\n",
              "    }\n",
              "</style>\n",
              "<table border=\"1\" class=\"dataframe\">\n",
              "  <thead>\n",
              "    <tr style=\"text-align: right;\">\n",
              "      <th></th>\n",
              "      <th>placeName</th>\n",
              "      <th>placeDesc</th>\n",
              "      <th>placeURL</th>\n",
              "      <th>new_score</th>\n",
              "      <th>placeAlt</th>\n",
              "      <th>placeLong</th>\n",
              "      <th>numPeopleVisited</th>\n",
              "      <th>placeAddress</th>\n",
              "    </tr>\n",
              "  </thead>\n",
              "  <tbody>\n",
              "    <tr>\n",
              "      <th>7</th>\n",
              "      <td>Central Market</td>\n",
              "      <td>The oldest continuously operating farmers mark...</td>\n",
              "      <td>http://www.atlasobscura.com/places/central-market</td>\n",
              "      <td>1.742138</td>\n",
              "      <td>40.0386</td>\n",
              "      <td>-76.3068</td>\n",
              "      <td>765.0</td>\n",
              "      <td>23 North Market Street Lancaster, Pennsylvania...</td>\n",
              "    </tr>\n",
              "    <tr>\n",
              "      <th>8</th>\n",
              "      <td>Waverly Hills Sanatorium</td>\n",
              "      <td>Nestled on the top of a placid hill, the old W...</td>\n",
              "      <td>http://www.atlasobscura.com/places/waverly-hil...</td>\n",
              "      <td>1.502303</td>\n",
              "      <td>38.1307</td>\n",
              "      <td>-85.8414</td>\n",
              "      <td>573.0</td>\n",
              "      <td>4400 Paralee Lane Louisville, Kentucky, 40272 ...</td>\n",
              "    </tr>\n",
              "    <tr>\n",
              "      <th>3</th>\n",
              "      <td>Jolly Green Giant Statue</td>\n",
              "      <td>Blue Earth may claim to be the birthplace of t...</td>\n",
              "      <td>http://www.atlasobscura.com/places/jolly-green...</td>\n",
              "      <td>1.411338</td>\n",
              "      <td>43.6513</td>\n",
              "      <td>-94.0951</td>\n",
              "      <td>789.0</td>\n",
              "      <td>Blue Earth, Minnesota, 56013 United States</td>\n",
              "    </tr>\n",
              "    <tr>\n",
              "      <th>9</th>\n",
              "      <td>The Dominator Shipwreck</td>\n",
              "      <td>On March 13, 1961, a Greek freighter called Th...</td>\n",
              "      <td>http://www.atlasobscura.com/places/the-dominat...</td>\n",
              "      <td>1.134015</td>\n",
              "      <td>33.7751</td>\n",
              "      <td>-118.4251</td>\n",
              "      <td>156.0</td>\n",
              "      <td>Rocky Point Palos Verdes Estates, California, ...</td>\n",
              "    </tr>\n",
              "    <tr>\n",
              "      <th>6</th>\n",
              "      <td>Louis Valentino Jr. Park and Pier</td>\n",
              "      <td>The Louis Valentino Jr. Park-and-Pier in Red H...</td>\n",
              "      <td>http://www.atlasobscura.com/places/louis-valen...</td>\n",
              "      <td>1.116645</td>\n",
              "      <td>40.6781</td>\n",
              "      <td>-74.0169</td>\n",
              "      <td>205.0</td>\n",
              "      <td>Coffey Street and Ferris Street Brooklyn, New ...</td>\n",
              "    </tr>\n",
              "    <tr>\n",
              "      <th>4</th>\n",
              "      <td>Saint Audoen's Gate</td>\n",
              "      <td>A great stone wall once hugged the edges of me...</td>\n",
              "      <td>http://www.atlasobscura.com/places/st-audoens-...</td>\n",
              "      <td>1.097795</td>\n",
              "      <td>53.344</td>\n",
              "      <td>-6.274</td>\n",
              "      <td>302.0</td>\n",
              "      <td>71-75 Cook St Dublin Ireland</td>\n",
              "    </tr>\n",
              "    <tr>\n",
              "      <th>1</th>\n",
              "      <td>Nan Madol Ruins</td>\n",
              "      <td>Off the coast of a remote Micronesian island l...</td>\n",
              "      <td>http://www.atlasobscura.com/places/nan-madol</td>\n",
              "      <td>1.068428</td>\n",
              "      <td>6.8404</td>\n",
              "      <td>158.3317</td>\n",
              "      <td>51.0</td>\n",
              "      <td>Micronesia</td>\n",
              "    </tr>\n",
              "    <tr>\n",
              "      <th>5</th>\n",
              "      <td>Bellocq Tea</td>\n",
              "      <td>You may not realize it was there even after ha...</td>\n",
              "      <td>http://www.atlasobscura.com/places/bellocq-tea</td>\n",
              "      <td>1.054383</td>\n",
              "      <td>40.7303</td>\n",
              "      <td>-73.9593</td>\n",
              "      <td>187.0</td>\n",
              "      <td>104 West Street Brooklyn, New York, 11222 Unit...</td>\n",
              "    </tr>\n",
              "    <tr>\n",
              "      <th>2</th>\n",
              "      <td>Grand Staircase-Escalante National Monument</td>\n",
              "      <td>Named after its unique topography and impressi...</td>\n",
              "      <td>http://www.atlasobscura.com/places/grand-stair...</td>\n",
              "      <td>1.037517</td>\n",
              "      <td>37.4</td>\n",
              "      <td>-111.6833</td>\n",
              "      <td>938.0</td>\n",
              "      <td>Kane County Garfield County Kane, Utah United ...</td>\n",
              "    </tr>\n",
              "    <tr>\n",
              "      <th>0</th>\n",
              "      <td>The Junk Castle</td>\n",
              "      <td>For a lot of artists, the 60s was a time of ex...</td>\n",
              "      <td>http://www.atlasobscura.com/places/the-junk-ca...</td>\n",
              "      <td>0.742223</td>\n",
              "      <td>46.7577</td>\n",
              "      <td>-117.2321</td>\n",
              "      <td>125.0</td>\n",
              "      <td>500-658 Armstrong Rd Pullman, Washington, 9916...</td>\n",
              "    </tr>\n",
              "  </tbody>\n",
              "</table>\n",
              "</div>\n",
              "      <button class=\"colab-df-convert\" onclick=\"convertToInteractive('df-661cf219-2bbd-4b58-a6d8-93f9acb10c3a')\"\n",
              "              title=\"Convert this dataframe to an interactive table.\"\n",
              "              style=\"display:none;\">\n",
              "        \n",
              "  <svg xmlns=\"http://www.w3.org/2000/svg\" height=\"24px\"viewBox=\"0 0 24 24\"\n",
              "       width=\"24px\">\n",
              "    <path d=\"M0 0h24v24H0V0z\" fill=\"none\"/>\n",
              "    <path d=\"M18.56 5.44l.94 2.06.94-2.06 2.06-.94-2.06-.94-.94-2.06-.94 2.06-2.06.94zm-11 1L8.5 8.5l.94-2.06 2.06-.94-2.06-.94L8.5 2.5l-.94 2.06-2.06.94zm10 10l.94 2.06.94-2.06 2.06-.94-2.06-.94-.94-2.06-.94 2.06-2.06.94z\"/><path d=\"M17.41 7.96l-1.37-1.37c-.4-.4-.92-.59-1.43-.59-.52 0-1.04.2-1.43.59L10.3 9.45l-7.72 7.72c-.78.78-.78 2.05 0 2.83L4 21.41c.39.39.9.59 1.41.59.51 0 1.02-.2 1.41-.59l7.78-7.78 2.81-2.81c.8-.78.8-2.07 0-2.86zM5.41 20L4 18.59l7.72-7.72 1.47 1.35L5.41 20z\"/>\n",
              "  </svg>\n",
              "      </button>\n",
              "      \n",
              "  <style>\n",
              "    .colab-df-container {\n",
              "      display:flex;\n",
              "      flex-wrap:wrap;\n",
              "      gap: 12px;\n",
              "    }\n",
              "\n",
              "    .colab-df-convert {\n",
              "      background-color: #E8F0FE;\n",
              "      border: none;\n",
              "      border-radius: 50%;\n",
              "      cursor: pointer;\n",
              "      display: none;\n",
              "      fill: #1967D2;\n",
              "      height: 32px;\n",
              "      padding: 0 0 0 0;\n",
              "      width: 32px;\n",
              "    }\n",
              "\n",
              "    .colab-df-convert:hover {\n",
              "      background-color: #E2EBFA;\n",
              "      box-shadow: 0px 1px 2px rgba(60, 64, 67, 0.3), 0px 1px 3px 1px rgba(60, 64, 67, 0.15);\n",
              "      fill: #174EA6;\n",
              "    }\n",
              "\n",
              "    [theme=dark] .colab-df-convert {\n",
              "      background-color: #3B4455;\n",
              "      fill: #D2E3FC;\n",
              "    }\n",
              "\n",
              "    [theme=dark] .colab-df-convert:hover {\n",
              "      background-color: #434B5C;\n",
              "      box-shadow: 0px 1px 3px 1px rgba(0, 0, 0, 0.15);\n",
              "      filter: drop-shadow(0px 1px 2px rgba(0, 0, 0, 0.3));\n",
              "      fill: #FFFFFF;\n",
              "    }\n",
              "  </style>\n",
              "\n",
              "      <script>\n",
              "        const buttonEl =\n",
              "          document.querySelector('#df-661cf219-2bbd-4b58-a6d8-93f9acb10c3a button.colab-df-convert');\n",
              "        buttonEl.style.display =\n",
              "          google.colab.kernel.accessAllowed ? 'block' : 'none';\n",
              "\n",
              "        async function convertToInteractive(key) {\n",
              "          const element = document.querySelector('#df-661cf219-2bbd-4b58-a6d8-93f9acb10c3a');\n",
              "          const dataTable =\n",
              "            await google.colab.kernel.invokeFunction('convertToInteractive',\n",
              "                                                     [key], {});\n",
              "          if (!dataTable) return;\n",
              "\n",
              "          const docLinkHtml = 'Like what you see? Visit the ' +\n",
              "            '<a target=\"_blank\" href=https://colab.research.google.com/notebooks/data_table.ipynb>data table notebook</a>'\n",
              "            + ' to learn more about interactive tables.';\n",
              "          element.innerHTML = '';\n",
              "          dataTable['output_type'] = 'display_data';\n",
              "          await google.colab.output.renderOutput(dataTable, element);\n",
              "          const docLink = document.createElement('div');\n",
              "          docLink.innerHTML = docLinkHtml;\n",
              "          element.appendChild(docLink);\n",
              "        }\n",
              "      </script>\n",
              "    </div>\n",
              "  </div>\n",
              "  "
            ]
          },
          "metadata": {},
          "execution_count": 56
        }
      ]
    },
    {
      "cell_type": "code",
      "source": [
        "dis = px.scatter_mapbox( results_tovisualize , lat='placeAlt', lon='placeLong', hover_name='placeName', \n",
        "                        hover_data=['numPeopleVisited', 'placeAddress'], color='numPeopleVisited', \n",
        "                        color_continuous_scale='algae', zoom=2, height=300)\n",
        "\n",
        "dis.update_layout(mapbox_style='open-street-map')\n",
        "dis.update_layout(margin={'r': 0 , 't' : 0 , 'l' : 0 , 'b' : 0})\n",
        "\n",
        "dis.show()"
      ],
      "metadata": {
        "id": "M8qw5eyuo_LX",
        "outputId": "4802374a-2a42-4e8c-f263-adf0ba7169ad",
        "colab": {
          "base_uri": "https://localhost:8080/",
          "height": 317
        }
      },
      "execution_count": 57,
      "outputs": [
        {
          "output_type": "display_data",
          "data": {
            "text/html": [
              "<html>\n",
              "<head><meta charset=\"utf-8\" /></head>\n",
              "<body>\n",
              "    <div>            <script src=\"https://cdnjs.cloudflare.com/ajax/libs/mathjax/2.7.5/MathJax.js?config=TeX-AMS-MML_SVG\"></script><script type=\"text/javascript\">if (window.MathJax) {MathJax.Hub.Config({SVG: {font: \"STIX-Web\"}});}</script>                <script type=\"text/javascript\">window.PlotlyConfig = {MathJaxConfig: 'local'};</script>\n",
              "        <script src=\"https://cdn.plot.ly/plotly-2.8.3.min.js\"></script>                <div id=\"5e2e9ba7-ca51-450a-a298-b5980c1dbe41\" class=\"plotly-graph-div\" style=\"height:300px; width:100%;\"></div>            <script type=\"text/javascript\">                                    window.PLOTLYENV=window.PLOTLYENV || {};                                    if (document.getElementById(\"5e2e9ba7-ca51-450a-a298-b5980c1dbe41\")) {                    Plotly.newPlot(                        \"5e2e9ba7-ca51-450a-a298-b5980c1dbe41\",                        [{\"customdata\":[[765.0,\"23 North Market Street Lancaster, Pennsylvania, 17603 United States\"]],\"hovertemplate\":\"<b>%{hovertext}</b><br><br>numPeopleVisited=%{customdata[0]}<br>placeAlt=%{lat}<br>placeLong=%{lon}<br>placeAddress=%{customdata[1]}<extra></extra>\",\"hovertext\":[\"Central Market\"],\"lat\":[40.0386],\"legendgroup\":\"765.0\",\"lon\":[-76.3068],\"marker\":{\"color\":\"#636efa\"},\"mode\":\"markers\",\"name\":\"765.0\",\"showlegend\":true,\"subplot\":\"mapbox\",\"type\":\"scattermapbox\"},{\"customdata\":[[573.0,\"4400 Paralee Lane Louisville, Kentucky, 40272 United States\"]],\"hovertemplate\":\"<b>%{hovertext}</b><br><br>numPeopleVisited=%{customdata[0]}<br>placeAlt=%{lat}<br>placeLong=%{lon}<br>placeAddress=%{customdata[1]}<extra></extra>\",\"hovertext\":[\"Waverly Hills Sanatorium\"],\"lat\":[38.1307],\"legendgroup\":\"573.0\",\"lon\":[-85.8414],\"marker\":{\"color\":\"#EF553B\"},\"mode\":\"markers\",\"name\":\"573.0\",\"showlegend\":true,\"subplot\":\"mapbox\",\"type\":\"scattermapbox\"},{\"customdata\":[[789.0,\"Blue Earth, Minnesota, 56013 United States\"]],\"hovertemplate\":\"<b>%{hovertext}</b><br><br>numPeopleVisited=%{customdata[0]}<br>placeAlt=%{lat}<br>placeLong=%{lon}<br>placeAddress=%{customdata[1]}<extra></extra>\",\"hovertext\":[\"Jolly Green Giant Statue\"],\"lat\":[43.6513],\"legendgroup\":\"789.0\",\"lon\":[-94.0951],\"marker\":{\"color\":\"#00cc96\"},\"mode\":\"markers\",\"name\":\"789.0\",\"showlegend\":true,\"subplot\":\"mapbox\",\"type\":\"scattermapbox\"},{\"customdata\":[[156.0,\"Rocky Point Palos Verdes Estates, California, 90274 United States\"]],\"hovertemplate\":\"<b>%{hovertext}</b><br><br>numPeopleVisited=%{customdata[0]}<br>placeAlt=%{lat}<br>placeLong=%{lon}<br>placeAddress=%{customdata[1]}<extra></extra>\",\"hovertext\":[\"The Dominator Shipwreck\"],\"lat\":[33.7751],\"legendgroup\":\"156.0\",\"lon\":[-118.4251],\"marker\":{\"color\":\"#ab63fa\"},\"mode\":\"markers\",\"name\":\"156.0\",\"showlegend\":true,\"subplot\":\"mapbox\",\"type\":\"scattermapbox\"},{\"customdata\":[[205.0,\"Coffey Street and Ferris Street Brooklyn, New York, 11231 United States\"]],\"hovertemplate\":\"<b>%{hovertext}</b><br><br>numPeopleVisited=%{customdata[0]}<br>placeAlt=%{lat}<br>placeLong=%{lon}<br>placeAddress=%{customdata[1]}<extra></extra>\",\"hovertext\":[\"Louis Valentino Jr. Park and Pier\"],\"lat\":[40.6781],\"legendgroup\":\"205.0\",\"lon\":[-74.0169],\"marker\":{\"color\":\"#FFA15A\"},\"mode\":\"markers\",\"name\":\"205.0\",\"showlegend\":true,\"subplot\":\"mapbox\",\"type\":\"scattermapbox\"},{\"customdata\":[[302.0,\"71-75 Cook St Dublin Ireland\"]],\"hovertemplate\":\"<b>%{hovertext}</b><br><br>numPeopleVisited=%{customdata[0]}<br>placeAlt=%{lat}<br>placeLong=%{lon}<br>placeAddress=%{customdata[1]}<extra></extra>\",\"hovertext\":[\"Saint Audoen's Gate \"],\"lat\":[53.344],\"legendgroup\":\"302.0\",\"lon\":[-6.274],\"marker\":{\"color\":\"#19d3f3\"},\"mode\":\"markers\",\"name\":\"302.0\",\"showlegend\":true,\"subplot\":\"mapbox\",\"type\":\"scattermapbox\"},{\"customdata\":[[51.0,\"Micronesia\"]],\"hovertemplate\":\"<b>%{hovertext}</b><br><br>numPeopleVisited=%{customdata[0]}<br>placeAlt=%{lat}<br>placeLong=%{lon}<br>placeAddress=%{customdata[1]}<extra></extra>\",\"hovertext\":[\"Nan Madol Ruins\"],\"lat\":[6.8404],\"legendgroup\":\"51.0\",\"lon\":[158.3317],\"marker\":{\"color\":\"#FF6692\"},\"mode\":\"markers\",\"name\":\"51.0\",\"showlegend\":true,\"subplot\":\"mapbox\",\"type\":\"scattermapbox\"},{\"customdata\":[[187.0,\"104 West Street Brooklyn, New York, 11222 United States\"]],\"hovertemplate\":\"<b>%{hovertext}</b><br><br>numPeopleVisited=%{customdata[0]}<br>placeAlt=%{lat}<br>placeLong=%{lon}<br>placeAddress=%{customdata[1]}<extra></extra>\",\"hovertext\":[\"Bellocq Tea\"],\"lat\":[40.7303],\"legendgroup\":\"187.0\",\"lon\":[-73.9593],\"marker\":{\"color\":\"#B6E880\"},\"mode\":\"markers\",\"name\":\"187.0\",\"showlegend\":true,\"subplot\":\"mapbox\",\"type\":\"scattermapbox\"},{\"customdata\":[[938.0,\"Kane County Garfield County Kane, Utah United States\"]],\"hovertemplate\":\"<b>%{hovertext}</b><br><br>numPeopleVisited=%{customdata[0]}<br>placeAlt=%{lat}<br>placeLong=%{lon}<br>placeAddress=%{customdata[1]}<extra></extra>\",\"hovertext\":[\"Grand Staircase-Escalante National Monument \"],\"lat\":[37.4],\"legendgroup\":\"938.0\",\"lon\":[-111.6833],\"marker\":{\"color\":\"#FF97FF\"},\"mode\":\"markers\",\"name\":\"938.0\",\"showlegend\":true,\"subplot\":\"mapbox\",\"type\":\"scattermapbox\"},{\"customdata\":[[125.0,\"500-658 Armstrong Rd Pullman, Washington, 99163 United States\"]],\"hovertemplate\":\"<b>%{hovertext}</b><br><br>numPeopleVisited=%{customdata[0]}<br>placeAlt=%{lat}<br>placeLong=%{lon}<br>placeAddress=%{customdata[1]}<extra></extra>\",\"hovertext\":[\"The Junk Castle\"],\"lat\":[46.7577],\"legendgroup\":\"125.0\",\"lon\":[-117.2321],\"marker\":{\"color\":\"#FECB52\"},\"mode\":\"markers\",\"name\":\"125.0\",\"showlegend\":true,\"subplot\":\"mapbox\",\"type\":\"scattermapbox\"}],                        {\"template\":{\"data\":{\"bar\":[{\"error_x\":{\"color\":\"#2a3f5f\"},\"error_y\":{\"color\":\"#2a3f5f\"},\"marker\":{\"line\":{\"color\":\"#E5ECF6\",\"width\":0.5},\"pattern\":{\"fillmode\":\"overlay\",\"size\":10,\"solidity\":0.2}},\"type\":\"bar\"}],\"barpolar\":[{\"marker\":{\"line\":{\"color\":\"#E5ECF6\",\"width\":0.5},\"pattern\":{\"fillmode\":\"overlay\",\"size\":10,\"solidity\":0.2}},\"type\":\"barpolar\"}],\"carpet\":[{\"aaxis\":{\"endlinecolor\":\"#2a3f5f\",\"gridcolor\":\"white\",\"linecolor\":\"white\",\"minorgridcolor\":\"white\",\"startlinecolor\":\"#2a3f5f\"},\"baxis\":{\"endlinecolor\":\"#2a3f5f\",\"gridcolor\":\"white\",\"linecolor\":\"white\",\"minorgridcolor\":\"white\",\"startlinecolor\":\"#2a3f5f\"},\"type\":\"carpet\"}],\"choropleth\":[{\"colorbar\":{\"outlinewidth\":0,\"ticks\":\"\"},\"type\":\"choropleth\"}],\"contour\":[{\"colorbar\":{\"outlinewidth\":0,\"ticks\":\"\"},\"colorscale\":[[0.0,\"#0d0887\"],[0.1111111111111111,\"#46039f\"],[0.2222222222222222,\"#7201a8\"],[0.3333333333333333,\"#9c179e\"],[0.4444444444444444,\"#bd3786\"],[0.5555555555555556,\"#d8576b\"],[0.6666666666666666,\"#ed7953\"],[0.7777777777777778,\"#fb9f3a\"],[0.8888888888888888,\"#fdca26\"],[1.0,\"#f0f921\"]],\"type\":\"contour\"}],\"contourcarpet\":[{\"colorbar\":{\"outlinewidth\":0,\"ticks\":\"\"},\"type\":\"contourcarpet\"}],\"heatmap\":[{\"colorbar\":{\"outlinewidth\":0,\"ticks\":\"\"},\"colorscale\":[[0.0,\"#0d0887\"],[0.1111111111111111,\"#46039f\"],[0.2222222222222222,\"#7201a8\"],[0.3333333333333333,\"#9c179e\"],[0.4444444444444444,\"#bd3786\"],[0.5555555555555556,\"#d8576b\"],[0.6666666666666666,\"#ed7953\"],[0.7777777777777778,\"#fb9f3a\"],[0.8888888888888888,\"#fdca26\"],[1.0,\"#f0f921\"]],\"type\":\"heatmap\"}],\"heatmapgl\":[{\"colorbar\":{\"outlinewidth\":0,\"ticks\":\"\"},\"colorscale\":[[0.0,\"#0d0887\"],[0.1111111111111111,\"#46039f\"],[0.2222222222222222,\"#7201a8\"],[0.3333333333333333,\"#9c179e\"],[0.4444444444444444,\"#bd3786\"],[0.5555555555555556,\"#d8576b\"],[0.6666666666666666,\"#ed7953\"],[0.7777777777777778,\"#fb9f3a\"],[0.8888888888888888,\"#fdca26\"],[1.0,\"#f0f921\"]],\"type\":\"heatmapgl\"}],\"histogram\":[{\"marker\":{\"pattern\":{\"fillmode\":\"overlay\",\"size\":10,\"solidity\":0.2}},\"type\":\"histogram\"}],\"histogram2d\":[{\"colorbar\":{\"outlinewidth\":0,\"ticks\":\"\"},\"colorscale\":[[0.0,\"#0d0887\"],[0.1111111111111111,\"#46039f\"],[0.2222222222222222,\"#7201a8\"],[0.3333333333333333,\"#9c179e\"],[0.4444444444444444,\"#bd3786\"],[0.5555555555555556,\"#d8576b\"],[0.6666666666666666,\"#ed7953\"],[0.7777777777777778,\"#fb9f3a\"],[0.8888888888888888,\"#fdca26\"],[1.0,\"#f0f921\"]],\"type\":\"histogram2d\"}],\"histogram2dcontour\":[{\"colorbar\":{\"outlinewidth\":0,\"ticks\":\"\"},\"colorscale\":[[0.0,\"#0d0887\"],[0.1111111111111111,\"#46039f\"],[0.2222222222222222,\"#7201a8\"],[0.3333333333333333,\"#9c179e\"],[0.4444444444444444,\"#bd3786\"],[0.5555555555555556,\"#d8576b\"],[0.6666666666666666,\"#ed7953\"],[0.7777777777777778,\"#fb9f3a\"],[0.8888888888888888,\"#fdca26\"],[1.0,\"#f0f921\"]],\"type\":\"histogram2dcontour\"}],\"mesh3d\":[{\"colorbar\":{\"outlinewidth\":0,\"ticks\":\"\"},\"type\":\"mesh3d\"}],\"parcoords\":[{\"line\":{\"colorbar\":{\"outlinewidth\":0,\"ticks\":\"\"}},\"type\":\"parcoords\"}],\"pie\":[{\"automargin\":true,\"type\":\"pie\"}],\"scatter\":[{\"marker\":{\"colorbar\":{\"outlinewidth\":0,\"ticks\":\"\"}},\"type\":\"scatter\"}],\"scatter3d\":[{\"line\":{\"colorbar\":{\"outlinewidth\":0,\"ticks\":\"\"}},\"marker\":{\"colorbar\":{\"outlinewidth\":0,\"ticks\":\"\"}},\"type\":\"scatter3d\"}],\"scattercarpet\":[{\"marker\":{\"colorbar\":{\"outlinewidth\":0,\"ticks\":\"\"}},\"type\":\"scattercarpet\"}],\"scattergeo\":[{\"marker\":{\"colorbar\":{\"outlinewidth\":0,\"ticks\":\"\"}},\"type\":\"scattergeo\"}],\"scattergl\":[{\"marker\":{\"colorbar\":{\"outlinewidth\":0,\"ticks\":\"\"}},\"type\":\"scattergl\"}],\"scattermapbox\":[{\"marker\":{\"colorbar\":{\"outlinewidth\":0,\"ticks\":\"\"}},\"type\":\"scattermapbox\"}],\"scatterpolar\":[{\"marker\":{\"colorbar\":{\"outlinewidth\":0,\"ticks\":\"\"}},\"type\":\"scatterpolar\"}],\"scatterpolargl\":[{\"marker\":{\"colorbar\":{\"outlinewidth\":0,\"ticks\":\"\"}},\"type\":\"scatterpolargl\"}],\"scatterternary\":[{\"marker\":{\"colorbar\":{\"outlinewidth\":0,\"ticks\":\"\"}},\"type\":\"scatterternary\"}],\"surface\":[{\"colorbar\":{\"outlinewidth\":0,\"ticks\":\"\"},\"colorscale\":[[0.0,\"#0d0887\"],[0.1111111111111111,\"#46039f\"],[0.2222222222222222,\"#7201a8\"],[0.3333333333333333,\"#9c179e\"],[0.4444444444444444,\"#bd3786\"],[0.5555555555555556,\"#d8576b\"],[0.6666666666666666,\"#ed7953\"],[0.7777777777777778,\"#fb9f3a\"],[0.8888888888888888,\"#fdca26\"],[1.0,\"#f0f921\"]],\"type\":\"surface\"}],\"table\":[{\"cells\":{\"fill\":{\"color\":\"#EBF0F8\"},\"line\":{\"color\":\"white\"}},\"header\":{\"fill\":{\"color\":\"#C8D4E3\"},\"line\":{\"color\":\"white\"}},\"type\":\"table\"}]},\"layout\":{\"annotationdefaults\":{\"arrowcolor\":\"#2a3f5f\",\"arrowhead\":0,\"arrowwidth\":1},\"autotypenumbers\":\"strict\",\"coloraxis\":{\"colorbar\":{\"outlinewidth\":0,\"ticks\":\"\"}},\"colorscale\":{\"diverging\":[[0,\"#8e0152\"],[0.1,\"#c51b7d\"],[0.2,\"#de77ae\"],[0.3,\"#f1b6da\"],[0.4,\"#fde0ef\"],[0.5,\"#f7f7f7\"],[0.6,\"#e6f5d0\"],[0.7,\"#b8e186\"],[0.8,\"#7fbc41\"],[0.9,\"#4d9221\"],[1,\"#276419\"]],\"sequential\":[[0.0,\"#0d0887\"],[0.1111111111111111,\"#46039f\"],[0.2222222222222222,\"#7201a8\"],[0.3333333333333333,\"#9c179e\"],[0.4444444444444444,\"#bd3786\"],[0.5555555555555556,\"#d8576b\"],[0.6666666666666666,\"#ed7953\"],[0.7777777777777778,\"#fb9f3a\"],[0.8888888888888888,\"#fdca26\"],[1.0,\"#f0f921\"]],\"sequentialminus\":[[0.0,\"#0d0887\"],[0.1111111111111111,\"#46039f\"],[0.2222222222222222,\"#7201a8\"],[0.3333333333333333,\"#9c179e\"],[0.4444444444444444,\"#bd3786\"],[0.5555555555555556,\"#d8576b\"],[0.6666666666666666,\"#ed7953\"],[0.7777777777777778,\"#fb9f3a\"],[0.8888888888888888,\"#fdca26\"],[1.0,\"#f0f921\"]]},\"colorway\":[\"#636efa\",\"#EF553B\",\"#00cc96\",\"#ab63fa\",\"#FFA15A\",\"#19d3f3\",\"#FF6692\",\"#B6E880\",\"#FF97FF\",\"#FECB52\"],\"font\":{\"color\":\"#2a3f5f\"},\"geo\":{\"bgcolor\":\"white\",\"lakecolor\":\"white\",\"landcolor\":\"#E5ECF6\",\"showlakes\":true,\"showland\":true,\"subunitcolor\":\"white\"},\"hoverlabel\":{\"align\":\"left\"},\"hovermode\":\"closest\",\"mapbox\":{\"style\":\"light\"},\"paper_bgcolor\":\"white\",\"plot_bgcolor\":\"#E5ECF6\",\"polar\":{\"angularaxis\":{\"gridcolor\":\"white\",\"linecolor\":\"white\",\"ticks\":\"\"},\"bgcolor\":\"#E5ECF6\",\"radialaxis\":{\"gridcolor\":\"white\",\"linecolor\":\"white\",\"ticks\":\"\"}},\"scene\":{\"xaxis\":{\"backgroundcolor\":\"#E5ECF6\",\"gridcolor\":\"white\",\"gridwidth\":2,\"linecolor\":\"white\",\"showbackground\":true,\"ticks\":\"\",\"zerolinecolor\":\"white\"},\"yaxis\":{\"backgroundcolor\":\"#E5ECF6\",\"gridcolor\":\"white\",\"gridwidth\":2,\"linecolor\":\"white\",\"showbackground\":true,\"ticks\":\"\",\"zerolinecolor\":\"white\"},\"zaxis\":{\"backgroundcolor\":\"#E5ECF6\",\"gridcolor\":\"white\",\"gridwidth\":2,\"linecolor\":\"white\",\"showbackground\":true,\"ticks\":\"\",\"zerolinecolor\":\"white\"}},\"shapedefaults\":{\"line\":{\"color\":\"#2a3f5f\"}},\"ternary\":{\"aaxis\":{\"gridcolor\":\"white\",\"linecolor\":\"white\",\"ticks\":\"\"},\"baxis\":{\"gridcolor\":\"white\",\"linecolor\":\"white\",\"ticks\":\"\"},\"bgcolor\":\"#E5ECF6\",\"caxis\":{\"gridcolor\":\"white\",\"linecolor\":\"white\",\"ticks\":\"\"}},\"title\":{\"x\":0.05},\"xaxis\":{\"automargin\":true,\"gridcolor\":\"white\",\"linecolor\":\"white\",\"ticks\":\"\",\"title\":{\"standoff\":15},\"zerolinecolor\":\"white\",\"zerolinewidth\":2},\"yaxis\":{\"automargin\":true,\"gridcolor\":\"white\",\"linecolor\":\"white\",\"ticks\":\"\",\"title\":{\"standoff\":15},\"zerolinecolor\":\"white\",\"zerolinewidth\":2}}},\"mapbox\":{\"domain\":{\"x\":[0.0,1.0],\"y\":[0.0,1.0]},\"center\":{\"lat\":38.13462,\"lon\":-59.95022999999999},\"zoom\":2,\"style\":\"open-street-map\"},\"legend\":{\"title\":{\"text\":\"numPeopleVisited\"},\"tracegroupgap\":0},\"margin\":{\"t\":0,\"r\":0,\"l\":0,\"b\":0},\"height\":300},                        {\"responsive\": true}                    ).then(function(){\n",
              "                            \n",
              "var gd = document.getElementById('5e2e9ba7-ca51-450a-a298-b5980c1dbe41');\n",
              "var x = new MutationObserver(function (mutations, observer) {{\n",
              "        var display = window.getComputedStyle(gd).display;\n",
              "        if (!display || display === 'none') {{\n",
              "            console.log([gd, 'removed!']);\n",
              "            Plotly.purge(gd);\n",
              "            observer.disconnect();\n",
              "        }}\n",
              "}});\n",
              "\n",
              "// Listen for the removal of the full notebook cells\n",
              "var notebookContainer = gd.closest('#notebook-container');\n",
              "if (notebookContainer) {{\n",
              "    x.observe(notebookContainer, {childList: true});\n",
              "}}\n",
              "\n",
              "// Listen for the clearing of the current output cell\n",
              "var outputEl = gd.closest('.output');\n",
              "if (outputEl) {{\n",
              "    x.observe(outputEl, {childList: true});\n",
              "}}\n",
              "\n",
              "                        })                };                            </script>        </div>\n",
              "</body>\n",
              "</html>"
            ]
          },
          "metadata": {}
        }
      ]
    },
    {
      "cell_type": "markdown",
      "source": [
        "## 5. BONUS: More complex search engine"
      ],
      "metadata": {
        "id": "KK8ODKfZJ9v0"
      }
    },
    {
      "cell_type": "code",
      "source": [],
      "metadata": {
        "id": "2ZpfE-0QKAMG"
      },
      "execution_count": null,
      "outputs": []
    },
    {
      "cell_type": "markdown",
      "source": [
        "## 7. Theoretical question"
      ],
      "metadata": {
        "id": "DsHZt-f8S7Wk"
      }
    },
    {
      "cell_type": "markdown",
      "source": [
        "1. Try solving the problem mentioned above using three different sorting algorithms (do not use any MapReduce algorithm). (Note: Built-in Python functions (like .mean, .sort, etc.) are not allowed to be used. You must implement the algorithms from scratch)."
      ],
      "metadata": {
        "id": "jy1q-EUWAgxB"
      }
    },
    {
      "cell_type": "code",
      "source": [
        "with open('ApplicantsInfo.txt', 'x') as f:\n",
        "    url = f'https://adm2022.s3.amazonaws.com/ApplicantsInfo.txt'\n",
        "    result = requests.get(url)\n",
        "    soup = bs(result.text)\n",
        "    s = soup.find_all('body')\n",
        "    f.write(str(s))"
      ],
      "metadata": {
        "id": "8vRwj8kPKHWg"
      },
      "execution_count": null,
      "outputs": []
    },
    {
      "cell_type": "code",
      "source": [
        "Application = pd.read_csv('ApplicantsInfo.txt', header=None)"
      ],
      "metadata": {
        "id": "sTlqVRwdBW_v"
      },
      "execution_count": null,
      "outputs": []
    },
    {
      "cell_type": "code",
      "source": [
        "n =Application.iloc[0]\n",
        "Application.drop(0, inplace=True)\n",
        "N= int(n[0][10:15])\n",
        "M= int(n[0][16:20])"
      ],
      "metadata": {
        "id": "DfbHr3UDBbI4"
      },
      "execution_count": null,
      "outputs": []
    },
    {
      "cell_type": "code",
      "source": [
        "newlist = []\n",
        "students = []\n",
        "average = []\n",
        "for i in tqdm(range(N)):\n",
        "    name = Application.iloc[i][0].split(' ')[0]\n",
        "    surname = Application.iloc[i][0].split(' ')[1]\n",
        "    grades = Application.iloc[i][0].split(' ')[2:]\n",
        "    totalgrades = 0\n",
        "    for i in grades:\n",
        "        s = int(i)\n",
        "        totalgrades += s\n",
        "    avg = round(totalgrades/M,2)\n",
        "    newlist.append((name, surname, avg))\n",
        "    students.append((name, surname))\n",
        "    average.append(avg)"
      ],
      "metadata": {
        "id": "Tn8wJ6aEBggO",
        "outputId": "38842375-dce5-4df9-8229-9cc9eaa92941",
        "colab": {
          "base_uri": "https://localhost:8080/"
        }
      },
      "execution_count": null,
      "outputs": [
        {
          "output_type": "stream",
          "name": "stderr",
          "text": [
            "100%|██████████| 50000/50000 [00:31<00:00, 1580.69it/s]\n"
          ]
        }
      ]
    },
    {
      "cell_type": "code",
      "source": [
        "newlist[1]"
      ],
      "metadata": {
        "colab": {
          "base_uri": "https://localhost:8080/"
        },
        "id": "jVZuTCC6oAwf",
        "outputId": "2dcb35cd-403b-4761-9862-e422efba2b89"
      },
      "execution_count": null,
      "outputs": [
        {
          "output_type": "execute_result",
          "data": {
            "text/plain": [
              "('Paula', 'Ahmadi', 24.02)"
            ]
          },
          "metadata": {},
          "execution_count": 17
        }
      ]
    },
    {
      "cell_type": "code",
      "source": [
        "students[1]"
      ],
      "metadata": {
        "colab": {
          "base_uri": "https://localhost:8080/"
        },
        "id": "kIFBvfzyoE97",
        "outputId": "64e8d1fc-1959-4e92-f19a-e0ff5e96b525"
      },
      "execution_count": null,
      "outputs": [
        {
          "output_type": "execute_result",
          "data": {
            "text/plain": [
              "('Paula', 'Ahmadi')"
            ]
          },
          "metadata": {},
          "execution_count": 18
        }
      ]
    },
    {
      "cell_type": "code",
      "source": [
        "average[1]"
      ],
      "metadata": {
        "colab": {
          "base_uri": "https://localhost:8080/"
        },
        "id": "gjhHqE_FpCLK",
        "outputId": "b8dee74b-cc6e-4049-d5ba-88d7ec3b31c0"
      },
      "execution_count": null,
      "outputs": [
        {
          "output_type": "execute_result",
          "data": {
            "text/plain": [
              "24.02"
            ]
          },
          "metadata": {},
          "execution_count": 19
        }
      ]
    },
    {
      "cell_type": "markdown",
      "source": [
        "bubbleSort( )"
      ],
      "metadata": {
        "id": "kt04SKHBBjKb"
      }
    },
    {
      "cell_type": "code",
      "source": [
        "def bubbleSort1(average, students):\n",
        "    n = len(average)\n",
        "\n",
        "    swap = False\n",
        "    \n",
        "    for i in range(N):\n",
        "        \n",
        "        for j in range(0, n-i-1):\n",
        " \n",
        "            if average[j] > average[j + 1]:\n",
        "                swap = True\n",
        "                average[j], average[j + 1] = average[j + 1], average[j]\n",
        "                students[j], students[j + 1] = students[j + 1], students[j]\n",
        "         \n",
        "        if not swap: \n",
        "\n",
        "            return"
      ],
      "metadata": {
        "id": "gDUwmbKTkQq-"
      },
      "execution_count": null,
      "outputs": []
    },
    {
      "cell_type": "code",
      "source": [
        "bubbleSort1(average, students)"
      ],
      "metadata": {
        "id": "N_2dkrh-qBuz"
      },
      "execution_count": null,
      "outputs": []
    },
    {
      "cell_type": "markdown",
      "source": [
        "421.474s"
      ],
      "metadata": {
        "id": "Db7q-fiNwjg7"
      }
    },
    {
      "cell_type": "code",
      "source": [
        "students[1]"
      ],
      "metadata": {
        "colab": {
          "base_uri": "https://localhost:8080/"
        },
        "outputId": "4a0b8d46-9d38-41c0-b4b5-249ac6620b0c",
        "id": "0iH1BSgBAGA5"
      },
      "execution_count": null,
      "outputs": [
        {
          "output_type": "execute_result",
          "data": {
            "text/plain": [
              "('Bruce', 'Murphy')"
            ]
          },
          "metadata": {},
          "execution_count": 22
        }
      ]
    },
    {
      "cell_type": "code",
      "source": [
        "average[1]"
      ],
      "metadata": {
        "colab": {
          "base_uri": "https://localhost:8080/"
        },
        "outputId": "2bc95515-b2fc-4bcc-bdc3-3c5c1590d02a",
        "id": "rkn3kIHAAGA6"
      },
      "execution_count": null,
      "outputs": [
        {
          "output_type": "execute_result",
          "data": {
            "text/plain": [
              "23.54"
            ]
          },
          "metadata": {},
          "execution_count": 23
        }
      ]
    },
    {
      "cell_type": "code",
      "source": [
        "def bubbleSort2(newlist, average):\n",
        "  n = len(average)\n",
        "  \n",
        "  swap = False\n",
        "  \n",
        "  for i in tqdm(range(n)):\n",
        "    for j in range(0, n-i-1):\n",
        "      if average[j] > average[j+1]:\n",
        "        swap = True\n",
        "        newlist[j], newlist[j+1] = newlist[j+1], newlist[j]\n",
        "\n",
        "    if not swap: \n",
        "      \n",
        "      return"
      ],
      "metadata": {
        "id": "Cq33KSI-Blnm"
      },
      "execution_count": null,
      "outputs": []
    },
    {
      "cell_type": "code",
      "source": [
        "bubbleSort2(newlist, average)"
      ],
      "metadata": {
        "colab": {
          "base_uri": "https://localhost:8080/"
        },
        "id": "X-l2S9eni9yS",
        "outputId": "f452cc66-9206-472e-e8ef-d0e4af3aeea9"
      },
      "execution_count": null,
      "outputs": [
        {
          "output_type": "stream",
          "name": "stderr",
          "text": [
            "100%|██████████| 50000/50000 [06:33<00:00, 127.21it/s] \n"
          ]
        }
      ]
    },
    {
      "cell_type": "code",
      "source": [
        "newlist[1]"
      ],
      "metadata": {
        "colab": {
          "base_uri": "https://localhost:8080/"
        },
        "outputId": "c57d4893-277f-4d1f-ae53-98676c9dc868",
        "id": "sbVNfQRV_wHQ"
      },
      "execution_count": null,
      "outputs": [
        {
          "output_type": "execute_result",
          "data": {
            "text/plain": [
              "('Paula', 'Ahmadi', 24.02)"
            ]
          },
          "metadata": {},
          "execution_count": 14
        }
      ]
    },
    {
      "cell_type": "code",
      "source": [
        "average[1]"
      ],
      "metadata": {
        "colab": {
          "base_uri": "https://localhost:8080/"
        },
        "outputId": "205d4061-3b84-42c8-98ff-7296731e007f",
        "id": "n44YfZyO_wHR"
      },
      "execution_count": null,
      "outputs": [
        {
          "output_type": "execute_result",
          "data": {
            "text/plain": [
              "24.02"
            ]
          },
          "metadata": {},
          "execution_count": 15
        }
      ]
    },
    {
      "cell_type": "markdown",
      "source": [
        "393.41s"
      ],
      "metadata": {
        "id": "i6Pow-F8xYY7"
      }
    },
    {
      "cell_type": "markdown",
      "source": [
        "MergeSort( )"
      ],
      "metadata": {
        "id": "rvhka9ZZBoha"
      }
    },
    {
      "cell_type": "code",
      "source": [
        "newlist[1]"
      ],
      "metadata": {
        "colab": {
          "base_uri": "https://localhost:8080/"
        },
        "id": "6u9OmEkMyonA",
        "outputId": "3e617dd4-3015-4cc2-a299-f8da568b3457"
      },
      "execution_count": null,
      "outputs": [
        {
          "output_type": "execute_result",
          "data": {
            "text/plain": [
              "('Paula', 'Ahmadi', 24.02)"
            ]
          },
          "metadata": {},
          "execution_count": 7
        }
      ]
    },
    {
      "cell_type": "code",
      "source": [
        "students[1]"
      ],
      "metadata": {
        "id": "kod48efWyqXw"
      },
      "execution_count": null,
      "outputs": []
    },
    {
      "cell_type": "code",
      "source": [
        "average[1]"
      ],
      "metadata": {
        "colab": {
          "base_uri": "https://localhost:8080/"
        },
        "id": "WynKtysXyg2V",
        "outputId": "ffe1b37c-2ef1-4c5c-8d83-b99084074837"
      },
      "execution_count": null,
      "outputs": [
        {
          "output_type": "execute_result",
          "data": {
            "text/plain": [
              "24.02"
            ]
          },
          "metadata": {},
          "execution_count": 9
        }
      ]
    },
    {
      "cell_type": "code",
      "source": [
        "def merge(nam, arr, l, m, r): \n",
        "    n1 = m - l + 1\n",
        "    n2 = r- m \n",
        "  \n",
        "    L1 = L2 = [0] * (n1)\n",
        "    R1 = R2 = [0] * (n2)\n",
        "  \n",
        "    for i in range(0 , n1): \n",
        "        L1[i] = arr[l + i] \n",
        "        L2[i] = nam[l + i] \n",
        "  \n",
        "    for j in range(0 , n2): \n",
        "        R1[j] = arr[m + 1 + j] \n",
        "        R2[j] = nam[m + 1 + j] \n",
        "  \n",
        "    i = 0\n",
        "    j = 0\n",
        "    k = l\n",
        "  \n",
        "    while i < n1 and j < n2 : \n",
        "        if L1[i] <= R1[j]: \n",
        "            arr[k] = L1[i]\n",
        "            nam[k] = L2[i]  \n",
        "            i += 1\n",
        "        else: \n",
        "            arr[k] = R1[j]\n",
        "            nam[k] = R2[j] \n",
        "            j += 1\n",
        "        k += 1\n",
        "  \n",
        "    while i < n1: \n",
        "        arr[k] = L1[i]\n",
        "        nam[k] = L2[i] \n",
        "        i += 1\n",
        "        k += 1\n",
        "  \n",
        "    while j < n2: \n",
        "        arr[k] = R1[j]\n",
        "        nam[k] = R2[j] \n",
        "        j += 1\n",
        "        k += 1\n",
        "\n",
        "        return"
      ],
      "metadata": {
        "id": "TwiDzQSKP_Dd"
      },
      "execution_count": null,
      "outputs": []
    },
    {
      "cell_type": "code",
      "source": [
        "def MergeSort1(nam, arr,l,r): \n",
        "    if l < r: \n",
        "\n",
        "        m = int((l+(r-1))/2)\n",
        "\n",
        "        MergeSort1(nam, arr, l, m) \n",
        "        MergeSort1(nam, arr, m+1, r) \n",
        "        merge(nam, arr, l, m, r)\n",
        "        \n",
        "        return"
      ],
      "metadata": {
        "id": "p8hp4ItrQLrD"
      },
      "execution_count": null,
      "outputs": []
    },
    {
      "cell_type": "code",
      "source": [
        "n = len(average)\n",
        "\n",
        "MergeSort1(students, average, 0, n-1)"
      ],
      "metadata": {
        "id": "TzuPwZZ5RlOI"
      },
      "execution_count": null,
      "outputs": []
    },
    {
      "cell_type": "code",
      "source": [
        "students[1]"
      ],
      "metadata": {
        "id": "J-qDWakiR9FN",
        "outputId": "923df28a-c93c-4a23-8ea9-4438b9ba790b",
        "colab": {
          "base_uri": "https://localhost:8080/"
        }
      },
      "execution_count": null,
      "outputs": [
        {
          "output_type": "execute_result",
          "data": {
            "text/plain": [
              "('Aaron', 'Aste')"
            ]
          },
          "metadata": {},
          "execution_count": 58
        }
      ]
    },
    {
      "cell_type": "code",
      "source": [
        "average[1]"
      ],
      "metadata": {
        "id": "K-rzi8ecR_T5",
        "outputId": "541a4fa4-5264-4c46-b6dd-19cd11c0da62",
        "colab": {
          "base_uri": "https://localhost:8080/"
        }
      },
      "execution_count": null,
      "outputs": [
        {
          "output_type": "execute_result",
          "data": {
            "text/plain": [
              "23.63"
            ]
          },
          "metadata": {},
          "execution_count": 66
        }
      ]
    },
    {
      "cell_type": "code",
      "source": [
        "def MergeSort2(newlist, average):\n",
        "    if len(average) > 1:\n",
        " \n",
        "        mid = len(average)//2\n",
        " \n",
        "        left_avg = average[:mid]\n",
        "        left_list = newlist[:mid]\n",
        " \n",
        "        right_avg = average[mid:]\n",
        "        right_list = newlist[mid:]\n",
        " \n",
        "        MergeSort2(left_avg, left_list)\n",
        " \n",
        "        MergeSort2(right_avg, right_list)\n",
        " \n",
        "        i = j = k = 0\n",
        " \n",
        "        while i < len(left_avg) and j < len(right_avg):\n",
        "            if left_avg[i] <= right_avg[j]:\n",
        "                average[k] = left_avg[i]\n",
        "                newlist[k] = left_list[i]\n",
        "                i += 1\n",
        "            else:\n",
        "                average[k] = right_avg[j]\n",
        "                newlist[k] = right_list[j]\n",
        "                j += 1\n",
        "            k += 1\n",
        " \n",
        "        while i < len(left_avg):\n",
        "            average[k] = left_avg[i]\n",
        "            newlist[k] = left_list[i]\n",
        "            i += 1\n",
        "            k += 1\n",
        " \n",
        "        while j < len(right_avg):\n",
        "            average[k] = right_avg[j]\n",
        "            \n",
        "            newlist[k] = right_list[j]\n",
        "            j += 1\n",
        "            k += 1\n",
        "\n",
        "            return"
      ],
      "metadata": {
        "id": "H3IqqpvPgZH0"
      },
      "execution_count": null,
      "outputs": []
    },
    {
      "cell_type": "code",
      "source": [
        "MergeSort2(newlist, average)"
      ],
      "metadata": {
        "id": "2XryXlglCMkZ"
      },
      "execution_count": null,
      "outputs": []
    },
    {
      "cell_type": "code",
      "source": [
        "from heapq import merge"
      ],
      "metadata": {
        "id": "OdXYxELgS3Mx"
      },
      "execution_count": null,
      "outputs": []
    },
    {
      "cell_type": "code",
      "source": [
        "def mergesort(arr1, arr2):\n",
        "    if len(arr2) > 1:\n",
        "        mid = len(arr2)//2\n",
        "\n",
        "        leftarr1 = arr1[:mid]\n",
        "        leftarr2 = arr2[:mid]\n",
        "\n",
        "        rightarr1 = arr1[mid:]\n",
        "        rightarr2 = arr2[mid:]\n",
        "\n",
        "        mergesort(leftarr1, leftarr2)\n",
        "        mergesort(rightarr1, rightarr2)\n",
        "        \n",
        "        i = 0\n",
        "        k = 0\n",
        "        j = 0\n",
        "        while i < len(leftarr2) and j < len(rightarr2):\n",
        "            if leftarr2[i] <= rightarr2[j]:\n",
        "                arr2[k] = leftarr2[i]\n",
        "                arr1[k] = leftarr1[i]\n",
        "                i += 1\n",
        "            else:\n",
        "                arr2[k] = rightarr2[j]\n",
        "                arr1[k] = rightarr1[j]\n",
        "                j+=1\n",
        "            k += 1\n",
        "        \n",
        "        while i < len(leftarr2):\n",
        "            arr2[k] = leftarr2[i]\n",
        "            arr1[k] = leftarr1[i]\n",
        "            i += 1\n",
        "            k += 1\n",
        "        \n",
        "        while j < len(rightarr2):\n",
        "            arr2[k] = rightarr2[j]\n",
        "            arr1[k] = rightarr1[j]\n",
        "            \n",
        "            j += 1\n",
        "            k += 1\n",
        "        \n",
        "    return"
      ],
      "metadata": {
        "id": "GN1kEf7vS3KU"
      },
      "execution_count": null,
      "outputs": []
    },
    {
      "cell_type": "code",
      "source": [
        "mergesort(students, average)"
      ],
      "metadata": {
        "id": "djlvf-t0S3H8"
      },
      "execution_count": null,
      "outputs": []
    },
    {
      "cell_type": "code",
      "source": [
        "students[1]"
      ],
      "metadata": {
        "id": "ucjwAmGqWt62",
        "outputId": "fa1120ec-3d37-4146-f98c-c2c32f7d16e3",
        "colab": {
          "base_uri": "https://localhost:8080/"
        }
      },
      "execution_count": null,
      "outputs": [
        {
          "output_type": "execute_result",
          "data": {
            "text/plain": [
              "('Bruce', 'Murphy')"
            ]
          },
          "metadata": {},
          "execution_count": 12
        }
      ]
    },
    {
      "cell_type": "code",
      "source": [
        "average[1]"
      ],
      "metadata": {
        "id": "GBRUG0g8S3Fa",
        "outputId": "8b04a2ac-7ce8-4b56-8dd7-104cb5f520c5",
        "colab": {
          "base_uri": "https://localhost:8080/"
        }
      },
      "execution_count": null,
      "outputs": [
        {
          "output_type": "execute_result",
          "data": {
            "text/plain": [
              "23.54"
            ]
          },
          "metadata": {},
          "execution_count": 13
        }
      ]
    },
    {
      "cell_type": "code",
      "source": [],
      "metadata": {
        "id": "Ook_HvbSS3Ci"
      },
      "execution_count": null,
      "outputs": []
    },
    {
      "cell_type": "code",
      "source": [],
      "metadata": {
        "id": "J8woVdGDS2_l"
      },
      "execution_count": null,
      "outputs": []
    },
    {
      "cell_type": "code",
      "source": [],
      "metadata": {
        "id": "yNKgHxG0S24f"
      },
      "execution_count": null,
      "outputs": []
    },
    {
      "cell_type": "markdown",
      "source": [
        "QuickSort( )"
      ],
      "metadata": {
        "id": "pKB5BUdxBpJw"
      }
    },
    {
      "cell_type": "code",
      "source": [
        "newlist[1]"
      ],
      "metadata": {
        "colab": {
          "base_uri": "https://localhost:8080/"
        },
        "id": "leRG7Nvl8WGf",
        "outputId": "4e972321-f20d-44b1-9775-8d350991c0df"
      },
      "execution_count": null,
      "outputs": [
        {
          "output_type": "execute_result",
          "data": {
            "text/plain": [
              "('Paula', 'Ahmadi', 24.02)"
            ]
          },
          "metadata": {},
          "execution_count": 27
        }
      ]
    },
    {
      "cell_type": "code",
      "source": [
        "students[1]"
      ],
      "metadata": {
        "id": "5KAiDCCYOEA7",
        "outputId": "be0f946b-63d6-4caf-dcf0-3656d94d27fc",
        "colab": {
          "base_uri": "https://localhost:8080/"
        }
      },
      "execution_count": null,
      "outputs": [
        {
          "output_type": "execute_result",
          "data": {
            "text/plain": [
              "('Paula', 'Ahmadi')"
            ]
          },
          "metadata": {},
          "execution_count": 28
        }
      ]
    },
    {
      "cell_type": "code",
      "source": [
        "average[1]"
      ],
      "metadata": {
        "colab": {
          "base_uri": "https://localhost:8080/"
        },
        "id": "nwRGyJEP8V72",
        "outputId": "5935cc10-509b-43f1-c42d-a6c40ccfa2c2"
      },
      "execution_count": null,
      "outputs": [
        {
          "output_type": "execute_result",
          "data": {
            "text/plain": [
              "24.02"
            ]
          },
          "metadata": {},
          "execution_count": 29
        }
      ]
    },
    {
      "cell_type": "code",
      "source": [
        "def QuickSort1(newlist, students, average, start, end):\n",
        "    if start >= end:\n",
        "        return\n",
        "    mid = average[start]\n",
        "    left = start\n",
        "    right = end\n",
        "    while left < right:\n",
        "        while left < right and average[right] >= mid:\n",
        "            right -= 1\n",
        "        average[left] = average[right]\n",
        "        newlist[left] = newlist[right]\n",
        "\n",
        "        while left < right and average[left] < mid:\n",
        "            left += 1\n",
        "\n",
        "        average[right] = average[left]\n",
        "        newlist[left] = newlist[right]\n",
        "\n",
        "    average[left] = mid\n",
        "\n",
        "    QuickSort1(average, start, left-1)\n",
        "\n",
        "    QuickSort1(average, left+1, end)"
      ],
      "metadata": {
        "id": "4inNcRfI31QO"
      },
      "execution_count": null,
      "outputs": []
    },
    {
      "cell_type": "code",
      "source": [
        "def partition(arr,li,left,right):  \n",
        "    tmp = li[left]\n",
        "    while left < right:\n",
        "        while left < right and li[right] >= tmp:\n",
        "            right -= 1\n",
        "        li[left] = li[right]\n",
        "        arr[left] = arr[right]\n",
        "        \n",
        "        while left < right and li[left] <= tmp:\n",
        "            left += 1\n",
        "        li[right] = li[left]\n",
        "        arr[left] = arr[right]\n",
        "\n",
        "    li[left] = tmp\n",
        "    return  left"
      ],
      "metadata": {
        "id": "xRynvk7r5aXT"
      },
      "execution_count": null,
      "outputs": []
    },
    {
      "cell_type": "code",
      "source": [
        "def QuickSort2(arr,li,left,right):  \n",
        "    if left < right :\n",
        "        mid = partition(arr,li,left,right)\n",
        "        QuickSort2(arr,li,left,mid-1)\n",
        "        QuickSort2(arr,li,mid+1,right)"
      ],
      "metadata": {
        "id": "z4MOehBe6Gff"
      },
      "execution_count": null,
      "outputs": []
    },
    {
      "cell_type": "code",
      "source": [
        "import sys\n",
        "sys.setrecursionlimit(1000000)\n"
      ],
      "metadata": {
        "id": "mjs3Ko9T6l8N"
      },
      "execution_count": null,
      "outputs": []
    },
    {
      "cell_type": "code",
      "source": [
        "sys.getrecursionlimit()"
      ],
      "metadata": {
        "colab": {
          "base_uri": "https://localhost:8080/"
        },
        "id": "kvWBwlkk6zdq",
        "outputId": "401fbcbd-0a46-461e-e6d5-80e33b313d9a"
      },
      "execution_count": null,
      "outputs": [
        {
          "output_type": "execute_result",
          "data": {
            "text/plain": [
              "1000000"
            ]
          },
          "metadata": {},
          "execution_count": 33
        }
      ]
    },
    {
      "cell_type": "code",
      "source": [
        "QuickSort2(students,average,0,len(average)-1)"
      ],
      "metadata": {
        "id": "afJBHTYv6KCq"
      },
      "execution_count": null,
      "outputs": []
    },
    {
      "cell_type": "code",
      "source": [
        "students[1]"
      ],
      "metadata": {
        "id": "kg2suL6nPAcc",
        "outputId": "5462cce9-cc09-433c-a83f-ece61b492c75",
        "colab": {
          "base_uri": "https://localhost:8080/"
        }
      },
      "execution_count": null,
      "outputs": [
        {
          "output_type": "execute_result",
          "data": {
            "text/plain": [
              "('Mary', 'Thompson')"
            ]
          },
          "metadata": {},
          "execution_count": 35
        }
      ]
    },
    {
      "cell_type": "code",
      "source": [
        "average[1]"
      ],
      "metadata": {
        "id": "RLElY-wHPDFF",
        "outputId": "785b99a3-d4e4-4171-f216-77fc2028e474",
        "colab": {
          "base_uri": "https://localhost:8080/"
        }
      },
      "execution_count": null,
      "outputs": [
        {
          "output_type": "execute_result",
          "data": {
            "text/plain": [
              "23.54"
            ]
          },
          "metadata": {},
          "execution_count": 36
        }
      ]
    },
    {
      "cell_type": "markdown",
      "source": [
        "2. What is the time complexity of each algorithm you have used?"
      ],
      "metadata": {
        "id": "c-xbmf_rCeEq"
      }
    },
    {
      "cell_type": "markdown",
      "source": [
        "BubbleSort"
      ],
      "metadata": {
        "id": "QD_bxKJ_Cfqm"
      }
    },
    {
      "cell_type": "markdown",
      "source": [
        "Bubble sort has a total of (n-1) cycles, and each cycle requires the current n-1 comparisons, so the total number of comparisons is:\n",
        "(n-1) + (n-2) + (n-3) + … + 1 = n*(n-1)/2;\n",
        "So the time complexity of bubble sort is O(n2)"
      ],
      "metadata": {
        "id": "cSdFi5mICs27"
      }
    },
    {
      "cell_type": "markdown",
      "source": [
        "MergeSort"
      ],
      "metadata": {
        "id": "_u4OtcIwCyN8"
      }
    },
    {
      "cell_type": "markdown",
      "source": [
        "Merge sort on n elements can be seen as merge sort on two sets of n/2 elements and call the Merge function once, so:\n",
        "\n",
        "T(n)=2T(n/2)+an=4T(n/4)+2an=…=2kT(n/2k)+k\n",
        "\n",
        "until n/2k=1\n",
        "\n",
        "Then T(n)=2kT(1)+k=n+a*(log2n)n\n",
        "\n",
        "The time complexity is O(nlogn)"
      ],
      "metadata": {
        "id": "Qoq1CHoZCz-1"
      }
    },
    {
      "cell_type": "markdown",
      "source": [
        "QuickSort"
      ],
      "metadata": {
        "id": "g02NBTa2C0WD"
      }
    },
    {
      "cell_type": "markdown",
      "source": [
        "in the best case\n",
        "\n",
        "Partition is divided evenly every time. If n keywords are sorted, the depth of the recursive tree is log ⁡ 2 ( 2 n + 1 ) , the number of nodes is n \\log_2(2n+1), and the number of nodes is nlog2(2n+1), the number of nodes is n\n",
        "\n",
        "For example 2 nodes with a depth of 2.\n",
        "\n",
        "The first Partiation should be to scan the entire array and do n comparisons.\n",
        "\n",
        "The obtained pivot divides the array into two, then each requires T(n/2) time (note that it is the best case, so the two halves are equally divided) into 2 pieces: T ( n ) ≤ 2 T ( n / 2 ) + n , T ( 1 ) = 0 , where n = ( log ⁡ 2 2 ) × n is divided into 2 blocks: T(n) ≤ 2T(n/2) +n, T(1)=0, where n= (\\log_22)\\times n\n",
        "Divided into 2 blocks: T(n)≤2T(n/2)+n, T(1)=0, where\n",
        "n=(log2/2)×n\n",
        "\n",
        "Continuing to divide, we have the following inequality inference\n",
        "Divide into 4 pieces: T ( n ) ≤ 2 ( 2 T ( n / 4 ) + n / 2 ) + n = 4 T ( n / 4 ) + 2 n , where 2 n = ( log ⁡ 2 4 ) × n divide 4 blocks: T(n)≤2(2T(n/4)+n/2) +n=4T(n/4)+2n, where 2n=(\\log_24)\\times n\n",
        "Divided into 4 blocks: T(n)≤2(2T(n/4)+n/2)+n=4T(n/4)+2n,\n",
        "where 2n=(log2/4)×n\n",
        "\n",
        "Divided into 8 pieces: T(n) ≤ 4 ( 2 T(n/8) + n/4) + 2 n = 8 T(n/8) + 3 n... Divided into 8 pieces: T(n) ≤ 4( 2T(n/8)+n/4)+2n=8T(n/8)+3n  …\n",
        "Divided into 8 blocks: T(n)≤4(2T(n/8)+n/4)+2n=8T(n/8)+3n…\n",
        "\n",
        "Divide into n pieces: T ( n ) ≤ n T ( 1 ) + ( log ⁡ 2 n ) × n = O ( n log ⁡ 2 n ) Divide into n pieces: T(n)≤nT(1)+(\\log_2n) ×n= O(n\\log_2n)\n",
        "Divided into n blocks: T(n)≤nT(1)+(log\n",
        "2\n",
        "​\n",
        " n)×n=O(nlog\n",
        "2\n",
        "​\n",
        " n)\n",
        "\n",
        "That is to say, in the optimal case, the time complexity of the quicksort algorithm is O(nlogn)."
      ],
      "metadata": {
        "id": "3uzjOI4aHLw0"
      }
    },
    {
      "cell_type": "markdown",
      "source": [
        "The sequence to be sorted is in positive or reverse order. Each division only gets a subsequence with one record less than the previous division. Note that the other is empty. If the recursion tree is drawn, it is a sloping tree.\n",
        "\n",
        "At this time, n-1 recursive calls need to be performed, and the i-th division requires n-i keyword comparisons to find the i-th record, which is the position of the pivot, so the number of comparisons is\n",
        "![image.png](data:image/png;base64,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)\n",
        "The time complexity is O(n^2)."
      ],
      "metadata": {
        "id": "fzVkuQQ3HNk5"
      }
    },
    {
      "cell_type": "markdown",
      "source": [
        "3.Evaluate the time taken for each of your implementations to answer the query stored in the ApplicantsInfo.txt file and visualize them."
      ],
      "metadata": {
        "id": "fY8Z2vkUDlt2"
      }
    },
    {
      "cell_type": "code",
      "source": [
        "import matplotlib.pyplot as plt"
      ],
      "metadata": {
        "id": "M87YPfeD9ov1"
      },
      "execution_count": null,
      "outputs": []
    },
    {
      "cell_type": "code",
      "source": [
        "algorithms = ['BubbleSort', 'MergeSort', 'QuickSort']\n",
        "times = [421.474, 0.382, 3.192]\n",
        "\n",
        "plt.bar(algorithms, times, color ='blue', width = 0.3)\n",
        "\n",
        "plt.xlabel(\"Algorithms\")\n",
        "plt.ylabel(\"Running Time (seconds)\")\n",
        "plt.title(\"Running Times for N=50000\")\n",
        "plt.show()"
      ],
      "metadata": {
        "id": "-ha30Jde9pvJ",
        "outputId": "d0b14b80-f935-4c73-cbe9-8f9d3505c4c2",
        "colab": {
          "base_uri": "https://localhost:8080/",
          "height": 295
        }
      },
      "execution_count": null,
      "outputs": [
        {
          "output_type": "display_data",
          "data": {
            "text/plain": [
              "<Figure size 432x288 with 1 Axes>"
            ],
            "image/png": "[encoded data removed]"
          },
          "metadata": {
            "needs_background": "light"
          }
        }
      ]
    },
    {
      "cell_type": "markdown",
      "source": [
        "4.What is the most optimal algorithm, in your opinion, and why?"
      ],
      "metadata": {
        "id": "fUz-J3lAE4zS"
      }
    },
    {
      "cell_type": "markdown",
      "source": [
        "**MergeSort**\n",
        "\n",
        "Time complexity."
      ],
      "metadata": {
        "id": "BCM250apIBU9"
      }
    },
    {
      "cell_type": "markdown",
      "source": [
        "5.Implement a sorting algorithm using MapReduce and compare it against the three algorithms previously implemented using the ApplicantsInfo.txt file."
      ],
      "metadata": {
        "id": "TAE8ePswE8FA"
      }
    },
    {
      "cell_type": "code",
      "source": [],
      "metadata": {
        "id": "tIXqKP5Eq88G"
      },
      "execution_count": null,
      "outputs": []
    }
  ]
}